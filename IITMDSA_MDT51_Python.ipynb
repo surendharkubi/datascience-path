{
  "cells": [
    {
      "cell_type": "markdown",
      "metadata": {
        "id": "view-in-github",
        "colab_type": "text"
      },
      "source": [
        "<a href=\"https://colab.research.google.com/github/surendharkubi/datascience-path/blob/main/IITMDSA_MDT51_Python.ipynb\" target=\"_parent\"><img src=\"https://colab.research.google.com/assets/colab-badge.svg\" alt=\"Open In Colab\"/></a>"
      ]
    },
    {
      "cell_type": "markdown",
      "source": [
        "# [Google Drive](https://drive.google.com/drive/folders/1NHhnn7pOeeyVHtrOZyieid13ms9eDOxC?usp=drive_link) | [Document](https://drive.google.com/file/d/1caBV-bXcA5cWF734stZHha5NsVpNVlcC/view?usp=sharing)\n"
      ],
      "metadata": {
        "id": "UZQ53espWHqI"
      },
      "id": "UZQ53espWHqI"
    },
    {
      "cell_type": "markdown",
      "source": [
        "# Module-1 Python Basics"
      ],
      "metadata": {
        "id": "0UJCfIa9XM3A"
      },
      "id": "0UJCfIa9XM3A"
    },
    {
      "cell_type": "markdown",
      "id": "6aab2a26",
      "metadata": {
        "id": "6aab2a26"
      },
      "source": [
        "## Variable"
      ]
    },
    {
      "cell_type": "code",
      "execution_count": null,
      "id": "ba64b8b6",
      "metadata": {
        "id": "ba64b8b6"
      },
      "outputs": [],
      "source": [
        "A=10\n",
        "B=\"Hello Guvi\"\n",
        "C=[1,2,3,4]"
      ]
    },
    {
      "cell_type": "code",
      "execution_count": null,
      "id": "f8c17849",
      "metadata": {
        "colab": {
          "base_uri": "https://localhost:8080/"
        },
        "id": "f8c17849",
        "outputId": "a67e52e9-d516-444d-eedd-47d40d459cb3"
      },
      "outputs": [
        {
          "output_type": "stream",
          "name": "stdout",
          "text": [
            "10\n"
          ]
        }
      ],
      "source": [
        "print(A)"
      ]
    },
    {
      "cell_type": "code",
      "execution_count": null,
      "id": "b22d2d5d",
      "metadata": {
        "id": "b22d2d5d"
      },
      "outputs": [],
      "source": [
        "user_name=\"Aravind\""
      ]
    },
    {
      "cell_type": "code",
      "execution_count": null,
      "id": "8851fac3",
      "metadata": {
        "id": "8851fac3"
      },
      "outputs": [],
      "source": [
        "user_1=\"Aravind\""
      ]
    },
    {
      "cell_type": "code",
      "execution_count": null,
      "id": "57ece54f",
      "metadata": {
        "id": "57ece54f"
      },
      "outputs": [],
      "source": [
        "User=\"Aravind\""
      ]
    },
    {
      "cell_type": "code",
      "execution_count": null,
      "id": "987442f2",
      "metadata": {
        "colab": {
          "base_uri": "https://localhost:8080/"
        },
        "id": "987442f2",
        "outputId": "38d962e5-065b-495a-e6e8-078b8105f020"
      },
      "outputs": [
        {
          "output_type": "stream",
          "name": "stdout",
          "text": [
            "40\n"
          ]
        }
      ],
      "source": [
        "A=10         #Axt123\n",
        "\n",
        "a=30         #Axt124\n",
        "\n",
        "\n",
        "print(A+a)"
      ]
    },
    {
      "cell_type": "code",
      "source": [],
      "metadata": {
        "id": "NYwnYTwvbgWj"
      },
      "id": "NYwnYTwvbgWj",
      "execution_count": null,
      "outputs": []
    },
    {
      "cell_type": "markdown",
      "id": "94a032f4",
      "metadata": {
        "id": "94a032f4"
      },
      "source": [
        "## Data Types"
      ]
    },
    {
      "cell_type": "code",
      "execution_count": null,
      "id": "466a151d",
      "metadata": {
        "id": "466a151d"
      },
      "outputs": [],
      "source": [
        "Name =\"Sai\"   # String\n",
        "Age= 25       # Int\n",
        "Height=5.6    # Float\n",
        "Exam_Result= True #True /False Bool\n",
        "\n",
        "\n",
        "Mail=\" Sai123@gmail.com\"\n",
        "#Adhar # Int\n",
        "#Pan # String\n",
        "#Bank Acc  # Int\n",
        "Ip = \"169.567.68.58\"\n",
        "\n",
        "Passport=None"
      ]
    },
    {
      "cell_type": "code",
      "execution_count": null,
      "id": "12e7b2dc",
      "metadata": {
        "colab": {
          "base_uri": "https://localhost:8080/"
        },
        "id": "12e7b2dc",
        "outputId": "39aca7ad-820c-44fb-bfb0-5ea8e060fdb5"
      },
      "outputs": [
        {
          "output_type": "stream",
          "name": "stdout",
          "text": [
            "None\n"
          ]
        }
      ],
      "source": [
        "print(Passport)"
      ]
    },
    {
      "cell_type": "markdown",
      "id": "1e09056d",
      "metadata": {
        "id": "1e09056d"
      },
      "source": [
        "## Data Structure"
      ]
    },
    {
      "cell_type": "code",
      "execution_count": null,
      "id": "f5201474",
      "metadata": {
        "id": "f5201474"
      },
      "outputs": [],
      "source": [
        "# List\n",
        "# Tuple\n",
        "# Set\n",
        "# Dict\n",
        "\n",
        "\n",
        "\n"
      ]
    },
    {
      "cell_type": "code",
      "source": [
        "a=[1,2,3,4,5]\n",
        "b=[1.1,2.5,3.9,8.7]"
      ],
      "metadata": {
        "id": "rWhJASFMciS-"
      },
      "id": "rWhJASFMciS-",
      "execution_count": null,
      "outputs": []
    },
    {
      "cell_type": "markdown",
      "id": "901bacf9",
      "metadata": {
        "id": "901bacf9"
      },
      "source": [
        "## List"
      ]
    },
    {
      "cell_type": "code",
      "execution_count": null,
      "id": "a5c51cfc",
      "metadata": {
        "id": "a5c51cfc"
      },
      "outputs": [],
      "source": [
        "L=[10,\"Guvi\",3.56,True,[1,2,3,4], \"Guvi\",\"Hi MDT51\"]   # List Can Store All Data types and Data Structure, List Can Mutable , Duplicate Accepted\n",
        "\n",
        "  # 0   1      2    3      4         5.    6"
      ]
    },
    {
      "cell_type": "code",
      "source": [
        "L[-3]"
      ],
      "metadata": {
        "colab": {
          "base_uri": "https://localhost:8080/"
        },
        "id": "4nU2TwSddjG4",
        "outputId": "53b7898b-ab75-4989-a32a-7a647dd6d6dc"
      },
      "id": "4nU2TwSddjG4",
      "execution_count": null,
      "outputs": [
        {
          "output_type": "execute_result",
          "data": {
            "text/plain": [
              "[1, 2, 3, 4]"
            ]
          },
          "metadata": {},
          "execution_count": 37
        }
      ]
    },
    {
      "cell_type": "code",
      "source": [
        "#L[-5][-2]"
      ],
      "metadata": {
        "colab": {
          "base_uri": "https://localhost:8080/",
          "height": 141
        },
        "id": "uBmuRpMQeI6Y",
        "outputId": "26f2604f-3648-4621-ca46-a93f11ed8b3d"
      },
      "id": "uBmuRpMQeI6Y",
      "execution_count": null,
      "outputs": [
        {
          "output_type": "error",
          "ename": "TypeError",
          "evalue": "'float' object is not subscriptable",
          "traceback": [
            "\u001b[0;31m---------------------------------------------------------------------------\u001b[0m",
            "\u001b[0;31mTypeError\u001b[0m                                 Traceback (most recent call last)",
            "\u001b[0;32m<ipython-input-38-bf75cdd35324>\u001b[0m in \u001b[0;36m<cell line: 0>\u001b[0;34m()\u001b[0m\n\u001b[0;32m----> 1\u001b[0;31m \u001b[0mL\u001b[0m\u001b[0;34m[\u001b[0m\u001b[0;34m-\u001b[0m\u001b[0;36m5\u001b[0m\u001b[0;34m]\u001b[0m\u001b[0;34m[\u001b[0m\u001b[0;34m-\u001b[0m\u001b[0;36m2\u001b[0m\u001b[0;34m]\u001b[0m\u001b[0;34m\u001b[0m\u001b[0;34m\u001b[0m\u001b[0m\n\u001b[0m",
            "\u001b[0;31mTypeError\u001b[0m: 'float' object is not subscriptable"
          ]
        }
      ]
    },
    {
      "cell_type": "code",
      "source": [
        "L[-2][-4]"
      ],
      "metadata": {
        "colab": {
          "base_uri": "https://localhost:8080/",
          "height": 35
        },
        "id": "ucaS5QKydnuR",
        "outputId": "ddf76a25-6d1d-413c-ee38-b9a5841bec22"
      },
      "id": "ucaS5QKydnuR",
      "execution_count": null,
      "outputs": [
        {
          "output_type": "execute_result",
          "data": {
            "text/plain": [
              "'G'"
            ],
            "application/vnd.google.colaboratory.intrinsic+json": {
              "type": "string"
            }
          },
          "metadata": {},
          "execution_count": 39
        }
      ]
    },
    {
      "cell_type": "code",
      "source": [
        "len(L)//2"
      ],
      "metadata": {
        "colab": {
          "base_uri": "https://localhost:8080/"
        },
        "id": "hWamLswle3qS",
        "outputId": "86579e56-883d-4c79-ea2c-e7ca7555b1fb"
      },
      "id": "hWamLswle3qS",
      "execution_count": null,
      "outputs": [
        {
          "output_type": "execute_result",
          "data": {
            "text/plain": [
              "3"
            ]
          },
          "metadata": {},
          "execution_count": 40
        }
      ]
    },
    {
      "cell_type": "code",
      "source": [
        "L[len(L)//2]"
      ],
      "metadata": {
        "colab": {
          "base_uri": "https://localhost:8080/"
        },
        "id": "lbjmV8kvdYqM",
        "outputId": "0a8dca73-7748-4a11-b8ef-ef9895dfa62d"
      },
      "id": "lbjmV8kvdYqM",
      "execution_count": null,
      "outputs": [
        {
          "output_type": "execute_result",
          "data": {
            "text/plain": [
              "True"
            ]
          },
          "metadata": {},
          "execution_count": 41
        }
      ]
    },
    {
      "cell_type": "code",
      "source": [
        "L[len(L)//2:]"
      ],
      "metadata": {
        "colab": {
          "base_uri": "https://localhost:8080/"
        },
        "id": "Hr8cans-foQt",
        "outputId": "18e2de20-d82f-4efe-dfba-d262e3c2703d"
      },
      "id": "Hr8cans-foQt",
      "execution_count": null,
      "outputs": [
        {
          "output_type": "execute_result",
          "data": {
            "text/plain": [
              "[True, [1, 2, 3, 4], 'Guvi', 'Hi MDT51']"
            ]
          },
          "metadata": {},
          "execution_count": 42
        }
      ]
    },
    {
      "cell_type": "code",
      "source": [
        "L[:len(L)//2]"
      ],
      "metadata": {
        "colab": {
          "base_uri": "https://localhost:8080/"
        },
        "id": "Ge2PWuUEfxWR",
        "outputId": "bb2f754c-337c-4d58-bfb3-3d8dd732242d"
      },
      "id": "Ge2PWuUEfxWR",
      "execution_count": null,
      "outputs": [
        {
          "output_type": "execute_result",
          "data": {
            "text/plain": [
              "[10, 'Guvi', 3.56]"
            ]
          },
          "metadata": {},
          "execution_count": 43
        }
      ]
    },
    {
      "cell_type": "code",
      "execution_count": null,
      "id": "80f5fe97",
      "metadata": {
        "colab": {
          "base_uri": "https://localhost:8080/"
        },
        "id": "80f5fe97",
        "outputId": "846afba1-cb48-41f7-adea-2711fb3a80ee"
      },
      "outputs": [
        {
          "output_type": "execute_result",
          "data": {
            "text/plain": [
              "3.56"
            ]
          },
          "metadata": {},
          "execution_count": 44
        }
      ],
      "source": [
        "L[2]"
      ]
    },
    {
      "cell_type": "code",
      "execution_count": null,
      "id": "dc83b718",
      "metadata": {
        "colab": {
          "base_uri": "https://localhost:8080/",
          "height": 35
        },
        "id": "dc83b718",
        "outputId": "a1ed4bcf-a518-4246-caf5-6dde03f7653b"
      },
      "outputs": [
        {
          "output_type": "execute_result",
          "data": {
            "text/plain": [
              "'Guvi'"
            ],
            "application/vnd.google.colaboratory.intrinsic+json": {
              "type": "string"
            }
          },
          "metadata": {},
          "execution_count": 45
        }
      ],
      "source": [
        "L[1]"
      ]
    },
    {
      "cell_type": "code",
      "execution_count": null,
      "id": "bdfc8f54",
      "metadata": {
        "colab": {
          "base_uri": "https://localhost:8080/"
        },
        "id": "bdfc8f54",
        "outputId": "070fece3-8c36-4720-b884-8327cae8840d"
      },
      "outputs": [
        {
          "output_type": "execute_result",
          "data": {
            "text/plain": [
              "[1, 2, 3, 4]"
            ]
          },
          "metadata": {},
          "execution_count": 46
        }
      ],
      "source": [
        "L[4]\n"
      ]
    },
    {
      "cell_type": "code",
      "execution_count": null,
      "id": "3a11df5d",
      "metadata": {
        "colab": {
          "base_uri": "https://localhost:8080/"
        },
        "id": "3a11df5d",
        "outputId": "720a9a74-dd3b-46df-b03c-1f29f7f1c7a5"
      },
      "outputs": [
        {
          "output_type": "execute_result",
          "data": {
            "text/plain": [
              "3"
            ]
          },
          "metadata": {},
          "execution_count": 47
        }
      ],
      "source": [
        "L[4][2]"
      ]
    },
    {
      "cell_type": "code",
      "execution_count": null,
      "id": "6903489e",
      "metadata": {
        "colab": {
          "base_uri": "https://localhost:8080/",
          "height": 35
        },
        "id": "6903489e",
        "outputId": "6e5e303b-167c-4ecf-efd6-21bedc0ba185"
      },
      "outputs": [
        {
          "output_type": "execute_result",
          "data": {
            "text/plain": [
              "'Guvi'"
            ],
            "application/vnd.google.colaboratory.intrinsic+json": {
              "type": "string"
            }
          },
          "metadata": {},
          "execution_count": 48
        }
      ],
      "source": [
        "L[1]"
      ]
    },
    {
      "cell_type": "code",
      "execution_count": null,
      "id": "4fc83bd4",
      "metadata": {
        "colab": {
          "base_uri": "https://localhost:8080/",
          "height": 35
        },
        "id": "4fc83bd4",
        "outputId": "b7c2c3fa-9969-4d18-b9f4-2ad167338fa5"
      },
      "outputs": [
        {
          "output_type": "execute_result",
          "data": {
            "text/plain": [
              "'u'"
            ],
            "application/vnd.google.colaboratory.intrinsic+json": {
              "type": "string"
            }
          },
          "metadata": {},
          "execution_count": 49
        }
      ],
      "source": [
        "L[1][1]"
      ]
    },
    {
      "cell_type": "code",
      "execution_count": null,
      "id": "6eb5247e",
      "metadata": {
        "colab": {
          "base_uri": "https://localhost:8080/"
        },
        "id": "6eb5247e",
        "outputId": "b077af7f-076d-41ae-cd1b-39bddaf76f05"
      },
      "outputs": [
        {
          "output_type": "execute_result",
          "data": {
            "text/plain": [
              "[1, 2, 3, 4, 5, 6, 7, 8, 9, 10]"
            ]
          },
          "metadata": {},
          "execution_count": 50
        }
      ],
      "source": [
        "L2=[1,2,3,4,5,6,7,8,9,10]\n",
        "L2"
      ]
    },
    {
      "cell_type": "code",
      "execution_count": null,
      "id": "4df913e4",
      "metadata": {
        "colab": {
          "base_uri": "https://localhost:8080/"
        },
        "id": "4df913e4",
        "outputId": "f29422b0-5baf-413e-bd6b-99c7d736d1c9"
      },
      "outputs": [
        {
          "output_type": "execute_result",
          "data": {
            "text/plain": [
              "9"
            ]
          },
          "metadata": {},
          "execution_count": 51
        }
      ],
      "source": [
        "L2[-2]"
      ]
    },
    {
      "cell_type": "code",
      "execution_count": null,
      "id": "a4cb4eea",
      "metadata": {
        "colab": {
          "base_uri": "https://localhost:8080/"
        },
        "id": "a4cb4eea",
        "outputId": "675e6f9c-8a4b-483a-bf03-84960edfc556"
      },
      "outputs": [
        {
          "output_type": "execute_result",
          "data": {
            "text/plain": [
              "[1, 2, 3, 4, 5]"
            ]
          },
          "metadata": {},
          "execution_count": 52
        }
      ],
      "source": [
        "L2[0:5]"
      ]
    },
    {
      "cell_type": "code",
      "execution_count": null,
      "id": "3c6a871b",
      "metadata": {
        "colab": {
          "base_uri": "https://localhost:8080/"
        },
        "id": "3c6a871b",
        "outputId": "757c5981-6197-48e3-805d-6a379523249b"
      },
      "outputs": [
        {
          "output_type": "execute_result",
          "data": {
            "text/plain": [
              "[4, 5, 6, 7, 8]"
            ]
          },
          "metadata": {},
          "execution_count": 53
        }
      ],
      "source": [
        "L2[3:8]"
      ]
    },
    {
      "cell_type": "code",
      "execution_count": null,
      "id": "c2b0df9f",
      "metadata": {
        "colab": {
          "base_uri": "https://localhost:8080/"
        },
        "id": "c2b0df9f",
        "outputId": "8e82f310-cb8f-4e1a-d0c7-a87a51248c97"
      },
      "outputs": [
        {
          "output_type": "execute_result",
          "data": {
            "text/plain": [
              "[4, 6, 8]"
            ]
          },
          "metadata": {},
          "execution_count": 54
        }
      ],
      "source": [
        "L2[3:8:2]"
      ]
    },
    {
      "cell_type": "code",
      "execution_count": null,
      "id": "522efedf",
      "metadata": {
        "colab": {
          "base_uri": "https://localhost:8080/"
        },
        "id": "522efedf",
        "outputId": "65a10e0f-777f-4035-e628-19b5694b5d7c"
      },
      "outputs": [
        {
          "output_type": "execute_result",
          "data": {
            "text/plain": [
              "[4, 7]"
            ]
          },
          "metadata": {},
          "execution_count": 55
        }
      ],
      "source": [
        "L2[3:8:3]"
      ]
    },
    {
      "cell_type": "code",
      "execution_count": null,
      "id": "9912dae1",
      "metadata": {
        "colab": {
          "base_uri": "https://localhost:8080/"
        },
        "id": "9912dae1",
        "outputId": "fe77b065-4b56-4f90-e920-231b4ca85770"
      },
      "outputs": [
        {
          "output_type": "execute_result",
          "data": {
            "text/plain": [
              "['A', 'B', 'C', 'D', 'E', 'F', 'G', 'H', 'I']"
            ]
          },
          "metadata": {},
          "execution_count": 56
        }
      ],
      "source": [
        "Box=[\"A\",\"B\",\"C\",\"D\",\"E\",\"F\",\"G\",\"H\",\"I\"]\n",
        "Box"
      ]
    },
    {
      "cell_type": "code",
      "execution_count": null,
      "id": "0264645c",
      "metadata": {
        "colab": {
          "base_uri": "https://localhost:8080/"
        },
        "id": "0264645c",
        "outputId": "8b159f7a-66d8-42cb-ce7d-52f63022ba45"
      },
      "outputs": [
        {
          "output_type": "execute_result",
          "data": {
            "text/plain": [
              "9"
            ]
          },
          "metadata": {},
          "execution_count": 57
        }
      ],
      "source": [
        "len(Box)"
      ]
    },
    {
      "cell_type": "code",
      "execution_count": null,
      "id": "2698df8f",
      "metadata": {
        "colab": {
          "base_uri": "https://localhost:8080/"
        },
        "id": "2698df8f",
        "outputId": "9099d800-633c-43e4-83cc-c59a59edd2d2"
      },
      "outputs": [
        {
          "output_type": "execute_result",
          "data": {
            "text/plain": [
              "['A', 'B', 'C', 'D', 'E', 'F', 'G', 'H', 'I']"
            ]
          },
          "metadata": {},
          "execution_count": 58
        }
      ],
      "source": [
        "Box[0:9:1]  #Start Stop Step"
      ]
    },
    {
      "cell_type": "code",
      "execution_count": null,
      "id": "950af4b6",
      "metadata": {
        "colab": {
          "base_uri": "https://localhost:8080/"
        },
        "id": "950af4b6",
        "outputId": "d59c1d06-ea7a-4548-d44b-dacacaadcfc3"
      },
      "outputs": [
        {
          "output_type": "execute_result",
          "data": {
            "text/plain": [
              "['A', 'C', 'E', 'G', 'I']"
            ]
          },
          "metadata": {},
          "execution_count": 59
        }
      ],
      "source": [
        "Box[0:9:2]"
      ]
    },
    {
      "cell_type": "code",
      "execution_count": null,
      "id": "08f2a6dc",
      "metadata": {
        "colab": {
          "base_uri": "https://localhost:8080/"
        },
        "id": "08f2a6dc",
        "outputId": "8a074a45-92a0-40c8-e749-2c7f84f17cea"
      },
      "outputs": [
        {
          "output_type": "execute_result",
          "data": {
            "text/plain": [
              "['A', 'D', 'G']"
            ]
          },
          "metadata": {},
          "execution_count": 60
        }
      ],
      "source": [
        "Box[0:9:3]"
      ]
    },
    {
      "cell_type": "code",
      "execution_count": null,
      "id": "7330b034",
      "metadata": {
        "colab": {
          "base_uri": "https://localhost:8080/"
        },
        "id": "7330b034",
        "outputId": "b0ac555d-3034-40cb-d697-e4c3dba239ca"
      },
      "outputs": [
        {
          "output_type": "execute_result",
          "data": {
            "text/plain": [
              "['C', 'E', 'G']"
            ]
          },
          "metadata": {},
          "execution_count": 61
        }
      ],
      "source": [
        "Box[2:7:2]   # C , E, G"
      ]
    },
    {
      "cell_type": "code",
      "execution_count": null,
      "id": "3dbb5546",
      "metadata": {
        "colab": {
          "base_uri": "https://localhost:8080/"
        },
        "id": "3dbb5546",
        "outputId": "192d992c-d9b9-43c4-cbce-897df1e19303"
      },
      "outputs": [
        {
          "output_type": "execute_result",
          "data": {
            "text/plain": [
              "['C', 'E', 'G']"
            ]
          },
          "metadata": {},
          "execution_count": 62
        }
      ],
      "source": [
        "Box[-7:-2:2]"
      ]
    },
    {
      "cell_type": "code",
      "execution_count": null,
      "id": "75105878",
      "metadata": {
        "colab": {
          "base_uri": "https://localhost:8080/"
        },
        "id": "75105878",
        "outputId": "1359f843-7fa3-4b14-b169-b9cecaf1dea7"
      },
      "outputs": [
        {
          "output_type": "execute_result",
          "data": {
            "text/plain": [
              "['Apple', 'Banana', 'Grapes', 'Mango', 'Orange', 'Banana']"
            ]
          },
          "metadata": {},
          "execution_count": 22
        }
      ],
      "source": [
        "\n",
        "Fruits=['Apple','Banana','Grapes','Mango','Orange','Banana']\n",
        "Fruits\n"
      ]
    },
    {
      "cell_type": "code",
      "source": [
        "Fruits[2]='BlueBerry'"
      ],
      "metadata": {
        "id": "bHBoUEsDgREX"
      },
      "id": "bHBoUEsDgREX",
      "execution_count": null,
      "outputs": []
    },
    {
      "cell_type": "code",
      "source": [
        "Fruits"
      ],
      "metadata": {
        "colab": {
          "base_uri": "https://localhost:8080/"
        },
        "id": "vk4l9ad0gcPN",
        "outputId": "d7ac1a01-d01c-4fbc-c7a8-4521b2d0e3cd"
      },
      "id": "vk4l9ad0gcPN",
      "execution_count": null,
      "outputs": [
        {
          "output_type": "execute_result",
          "data": {
            "text/plain": [
              "['Apple', 'Banana', 'BlueBerry', 'Mango', 'Orange']"
            ]
          },
          "metadata": {},
          "execution_count": 65
        }
      ]
    },
    {
      "cell_type": "code",
      "source": [
        "Fruits.append(\"Guava\") # Add Element in Last Postion"
      ],
      "metadata": {
        "id": "vXcmefgkgdFs"
      },
      "id": "vXcmefgkgdFs",
      "execution_count": null,
      "outputs": []
    },
    {
      "cell_type": "code",
      "source": [
        "Fruits"
      ],
      "metadata": {
        "colab": {
          "base_uri": "https://localhost:8080/"
        },
        "id": "DajLdU22glw9",
        "outputId": "74323f74-81c1-432a-a9c6-15dc6ca83e94"
      },
      "id": "DajLdU22glw9",
      "execution_count": null,
      "outputs": [
        {
          "output_type": "execute_result",
          "data": {
            "text/plain": [
              "['Apple', 'Banana', 'Grapes', 'Mango', 'Orange', 'Banana', 'Guava']"
            ]
          },
          "metadata": {},
          "execution_count": 24
        }
      ]
    },
    {
      "cell_type": "code",
      "source": [
        "Fruits.insert(1,'Grape') # Insert The Element in Particular Postion"
      ],
      "metadata": {
        "id": "0w-o8st1hOzi"
      },
      "id": "0w-o8st1hOzi",
      "execution_count": null,
      "outputs": []
    },
    {
      "cell_type": "code",
      "source": [
        "#Fruits.insert('Grape')"
      ],
      "metadata": {
        "colab": {
          "base_uri": "https://localhost:8080/",
          "height": 141
        },
        "id": "XMoT0DvFjwgp",
        "outputId": "84d5664f-5570-495b-a215-98fb11d43689"
      },
      "id": "XMoT0DvFjwgp",
      "execution_count": null,
      "outputs": [
        {
          "output_type": "error",
          "ename": "TypeError",
          "evalue": "insert expected 2 arguments, got 1",
          "traceback": [
            "\u001b[0;31m---------------------------------------------------------------------------\u001b[0m",
            "\u001b[0;31mTypeError\u001b[0m                                 Traceback (most recent call last)",
            "\u001b[0;32m<ipython-input-94-0fb82cc357ec>\u001b[0m in \u001b[0;36m<cell line: 0>\u001b[0;34m()\u001b[0m\n\u001b[0;32m----> 1\u001b[0;31m \u001b[0mFruits\u001b[0m\u001b[0;34m.\u001b[0m\u001b[0minsert\u001b[0m\u001b[0;34m(\u001b[0m\u001b[0;34m'Grape'\u001b[0m\u001b[0;34m)\u001b[0m\u001b[0;34m\u001b[0m\u001b[0;34m\u001b[0m\u001b[0m\n\u001b[0m",
            "\u001b[0;31mTypeError\u001b[0m: insert expected 2 arguments, got 1"
          ]
        }
      ]
    },
    {
      "cell_type": "code",
      "source": [
        "Fruits"
      ],
      "metadata": {
        "colab": {
          "base_uri": "https://localhost:8080/"
        },
        "id": "n8VO3BPvhfta",
        "outputId": "ddbdb4c0-1d72-48a5-aa8d-eb6c80d4d55e"
      },
      "id": "n8VO3BPvhfta",
      "execution_count": null,
      "outputs": [
        {
          "output_type": "execute_result",
          "data": {
            "text/plain": [
              "['Apple', 'Grape', 'Banana', 'BlueBerry', 'Mango', 'Orange', 'Guava']"
            ]
          },
          "metadata": {},
          "execution_count": 72
        }
      ]
    },
    {
      "cell_type": "code",
      "source": [
        "Fruits.pop()"
      ],
      "metadata": {
        "colab": {
          "base_uri": "https://localhost:8080/",
          "height": 35
        },
        "id": "QVvXeGk0hh7z",
        "outputId": "6aef23a3-34c9-4624-d201-719cc1479687"
      },
      "id": "QVvXeGk0hh7z",
      "execution_count": null,
      "outputs": [
        {
          "output_type": "execute_result",
          "data": {
            "text/plain": [
              "'Guava'"
            ],
            "application/vnd.google.colaboratory.intrinsic+json": {
              "type": "string"
            }
          },
          "metadata": {},
          "execution_count": 73
        }
      ]
    },
    {
      "cell_type": "code",
      "source": [
        "Fruits"
      ],
      "metadata": {
        "colab": {
          "base_uri": "https://localhost:8080/"
        },
        "id": "xg0fwRhVhuM9",
        "outputId": "03af3447-9adf-4516-cf20-bce526cf6c76"
      },
      "id": "xg0fwRhVhuM9",
      "execution_count": null,
      "outputs": [
        {
          "output_type": "execute_result",
          "data": {
            "text/plain": [
              "['Apple', 'Banana', 'Grapes', 'Mango', 'Orange', 'Banana']"
            ]
          },
          "metadata": {},
          "execution_count": 86
        }
      ]
    },
    {
      "cell_type": "code",
      "source": [
        "Fruits.remove('Banana') # Remove the particular Element"
      ],
      "metadata": {
        "id": "gcUXiLhkhvt1"
      },
      "id": "gcUXiLhkhvt1",
      "execution_count": null,
      "outputs": []
    },
    {
      "cell_type": "code",
      "source": [
        "Fruits"
      ],
      "metadata": {
        "colab": {
          "base_uri": "https://localhost:8080/"
        },
        "id": "6KtKTYuch5QK",
        "outputId": "f5b548af-3b84-46d2-f4ad-ebf27cc13b93"
      },
      "id": "6KtKTYuch5QK",
      "execution_count": null,
      "outputs": [
        {
          "output_type": "execute_result",
          "data": {
            "text/plain": [
              "['Apple', 'Grapes', 'Mango', 'Orange', 'Banana']"
            ]
          },
          "metadata": {},
          "execution_count": 89
        }
      ]
    },
    {
      "cell_type": "code",
      "source": [
        "Fruits.pop() # Remove the Last element\n",
        "Fruits"
      ],
      "metadata": {
        "colab": {
          "base_uri": "https://localhost:8080/"
        },
        "id": "hZRK41hth-7y",
        "outputId": "240a9184-d38a-4d8d-cc76-e7bc299995d7"
      },
      "id": "hZRK41hth-7y",
      "execution_count": null,
      "outputs": [
        {
          "output_type": "execute_result",
          "data": {
            "text/plain": [
              "['Apple', 'Grapes', 'Mango', 'Orange']"
            ]
          },
          "metadata": {},
          "execution_count": 90
        }
      ]
    },
    {
      "cell_type": "code",
      "source": [
        "Fruits.clear() # Remove all Elements"
      ],
      "metadata": {
        "id": "1eebyPdTjIrl"
      },
      "id": "1eebyPdTjIrl",
      "execution_count": null,
      "outputs": []
    },
    {
      "cell_type": "code",
      "source": [
        "Fruits"
      ],
      "metadata": {
        "colab": {
          "base_uri": "https://localhost:8080/"
        },
        "id": "ggQ8n1smjU8T",
        "outputId": "ed5140e1-49c7-44aa-e87c-f1d8b176d1b4"
      },
      "id": "ggQ8n1smjU8T",
      "execution_count": null,
      "outputs": [
        {
          "output_type": "execute_result",
          "data": {
            "text/plain": [
              "[]"
            ]
          },
          "metadata": {},
          "execution_count": 92
        }
      ]
    },
    {
      "cell_type": "code",
      "source": [
        "Fruits=['Apple','Banana','Grapes','Mango','Orange','Banana']\n",
        "Fruits"
      ],
      "metadata": {
        "colab": {
          "base_uri": "https://localhost:8080/"
        },
        "id": "5neCLUoKjV-v",
        "outputId": "7402daef-b576-4023-cfcf-fdb0a78f0014"
      },
      "id": "5neCLUoKjV-v",
      "execution_count": null,
      "outputs": [
        {
          "output_type": "execute_result",
          "data": {
            "text/plain": [
              "['Apple', 'Banana', 'Grapes', 'Mango', 'Orange', 'Banana']"
            ]
          },
          "metadata": {},
          "execution_count": 93
        }
      ]
    },
    {
      "cell_type": "code",
      "source": [
        "Fruits.count('Banana') # Count the Number of Given Element"
      ],
      "metadata": {
        "colab": {
          "base_uri": "https://localhost:8080/"
        },
        "id": "5y9tXlb-jYJ_",
        "outputId": "4f062e05-f5a9-4b0d-fa15-cea90045f4a2"
      },
      "id": "5y9tXlb-jYJ_",
      "execution_count": null,
      "outputs": [
        {
          "output_type": "execute_result",
          "data": {
            "text/plain": [
              "2"
            ]
          },
          "metadata": {},
          "execution_count": 95
        }
      ]
    },
    {
      "cell_type": "code",
      "source": [
        "Fruits.count('Apple')"
      ],
      "metadata": {
        "colab": {
          "base_uri": "https://localhost:8080/"
        },
        "id": "H0y9OZFbkxxl",
        "outputId": "042b5176-0cec-4509-8c1b-5962f219120d"
      },
      "id": "H0y9OZFbkxxl",
      "execution_count": null,
      "outputs": [
        {
          "output_type": "execute_result",
          "data": {
            "text/plain": [
              "1"
            ]
          },
          "metadata": {},
          "execution_count": 96
        }
      ]
    },
    {
      "cell_type": "code",
      "source": [
        "Fruits.count('apple')"
      ],
      "metadata": {
        "colab": {
          "base_uri": "https://localhost:8080/"
        },
        "id": "xvA9CwrZk3Ez",
        "outputId": "6c75b937-e1ed-41cb-cee8-99c2e2ee0604"
      },
      "id": "xvA9CwrZk3Ez",
      "execution_count": null,
      "outputs": [
        {
          "output_type": "execute_result",
          "data": {
            "text/plain": [
              "0"
            ]
          },
          "metadata": {},
          "execution_count": 98
        }
      ]
    },
    {
      "cell_type": "code",
      "source": [
        "Fruits.index('Grapes') # Find the Index of Given Element"
      ],
      "metadata": {
        "colab": {
          "base_uri": "https://localhost:8080/"
        },
        "id": "kqfJkxbulQg5",
        "outputId": "222f89c1-dbc5-403c-885a-2a624cd37982"
      },
      "id": "kqfJkxbulQg5",
      "execution_count": null,
      "outputs": [
        {
          "output_type": "execute_result",
          "data": {
            "text/plain": [
              "2"
            ]
          },
          "metadata": {},
          "execution_count": 99
        }
      ]
    },
    {
      "cell_type": "code",
      "source": [
        "Fruits.index('Banana') # Index will give first occurance element"
      ],
      "metadata": {
        "colab": {
          "base_uri": "https://localhost:8080/"
        },
        "id": "g3eTbr0nlvD0",
        "outputId": "317e9481-b309-4ead-9e58-1be07848684e"
      },
      "id": "g3eTbr0nlvD0",
      "execution_count": null,
      "outputs": [
        {
          "output_type": "execute_result",
          "data": {
            "text/plain": [
              "1"
            ]
          },
          "metadata": {},
          "execution_count": 102
        }
      ]
    },
    {
      "cell_type": "code",
      "source": [
        "dir(list)"
      ],
      "metadata": {
        "colab": {
          "base_uri": "https://localhost:8080/"
        },
        "id": "P7iSvMU0l0E5",
        "outputId": "3200064a-b5d8-4c4b-95b4-222662fec5d8"
      },
      "id": "P7iSvMU0l0E5",
      "execution_count": null,
      "outputs": [
        {
          "output_type": "execute_result",
          "data": {
            "text/plain": [
              "['__add__',\n",
              " '__class__',\n",
              " '__class_getitem__',\n",
              " '__contains__',\n",
              " '__delattr__',\n",
              " '__delitem__',\n",
              " '__dir__',\n",
              " '__doc__',\n",
              " '__eq__',\n",
              " '__format__',\n",
              " '__ge__',\n",
              " '__getattribute__',\n",
              " '__getitem__',\n",
              " '__getstate__',\n",
              " '__gt__',\n",
              " '__hash__',\n",
              " '__iadd__',\n",
              " '__imul__',\n",
              " '__init__',\n",
              " '__init_subclass__',\n",
              " '__iter__',\n",
              " '__le__',\n",
              " '__len__',\n",
              " '__lt__',\n",
              " '__mul__',\n",
              " '__ne__',\n",
              " '__new__',\n",
              " '__reduce__',\n",
              " '__reduce_ex__',\n",
              " '__repr__',\n",
              " '__reversed__',\n",
              " '__rmul__',\n",
              " '__setattr__',\n",
              " '__setitem__',\n",
              " '__sizeof__',\n",
              " '__str__',\n",
              " '__subclasshook__',\n",
              " 'append',\n",
              " 'clear',\n",
              " 'copy',\n",
              " 'count',\n",
              " 'extend',\n",
              " 'index',\n",
              " 'insert',\n",
              " 'pop',\n",
              " 'remove',\n",
              " 'reverse',\n",
              " 'sort']"
            ]
          },
          "metadata": {},
          "execution_count": 1
        }
      ]
    },
    {
      "cell_type": "code",
      "source": [
        "# Append  --> Add Element at end of the list\n",
        "# Clear.  --> Remove All the Elements from the List\n",
        "# Copy.   --> Take Copy of Orginal List To Avoid Any Changes in orginal List\n",
        "# Count.  --> Count The Number of Occurance of Given Element\n",
        "# Extend. --> [1,2,3,4,5].extend(['a','b','c']) = [1,2,3,4,5,'a','b','c']\n",
        "# Index.  --> This will find the index/postion of Given Element / Only First Occurance\n",
        "# Insert. --> Insert the given element in the given position (It Has Two Argument(Postion/Index , Element))\n",
        "# Pop.    --> Remove the Last element of the List\n",
        "# Remove. --> Remove the Given element from the list (Remove the First Occurance of Given Element)\n",
        "# Reverse --> Its Just Reverse the Given List\n",
        "# sort.   --> Order the Given List in Asc/ Desc"
      ],
      "metadata": {
        "id": "JGRncjIZmQvP"
      },
      "id": "JGRncjIZmQvP",
      "execution_count": null,
      "outputs": []
    },
    {
      "cell_type": "code",
      "source": [
        "Fruits=['Apple','Banana','Grapes','Mango','Orange','Banana']\n",
        "Fruits"
      ],
      "metadata": {
        "colab": {
          "base_uri": "https://localhost:8080/"
        },
        "id": "Z7Xsf5jRolNr",
        "outputId": "a4a9f407-b537-4cf5-f831-d53bf531820b"
      },
      "id": "Z7Xsf5jRolNr",
      "execution_count": null,
      "outputs": [
        {
          "output_type": "execute_result",
          "data": {
            "text/plain": [
              "['Apple', 'Banana', 'Grapes', 'Mango', 'Orange', 'Banana']"
            ]
          },
          "metadata": {},
          "execution_count": 3
        }
      ]
    },
    {
      "cell_type": "code",
      "source": [
        "Fruits.reverse()"
      ],
      "metadata": {
        "id": "lrKtK6CNopRa"
      },
      "id": "lrKtK6CNopRa",
      "execution_count": null,
      "outputs": []
    },
    {
      "cell_type": "code",
      "source": [
        "Fruits"
      ],
      "metadata": {
        "colab": {
          "base_uri": "https://localhost:8080/"
        },
        "id": "_ag7Q2zkouCb",
        "outputId": "515d0173-7d15-42f8-fa1a-3027811d3cb8"
      },
      "id": "_ag7Q2zkouCb",
      "execution_count": null,
      "outputs": [
        {
          "output_type": "execute_result",
          "data": {
            "text/plain": [
              "['Banana', 'Orange', 'Mango', 'Grapes', 'Banana', 'Apple']"
            ]
          },
          "metadata": {},
          "execution_count": 6
        }
      ]
    },
    {
      "cell_type": "code",
      "source": [
        "Fruits[::-1]"
      ],
      "metadata": {
        "colab": {
          "base_uri": "https://localhost:8080/"
        },
        "id": "ew6aKjJeowYa",
        "outputId": "e04fe06b-fafc-41ad-c10f-9bc018f29b57"
      },
      "id": "ew6aKjJeowYa",
      "execution_count": null,
      "outputs": [
        {
          "output_type": "execute_result",
          "data": {
            "text/plain": [
              "['Apple', 'Banana', 'Grapes', 'Mango', 'Orange', 'Banana']"
            ]
          },
          "metadata": {},
          "execution_count": 7
        }
      ]
    },
    {
      "cell_type": "code",
      "source": [
        "Fruits.sort()"
      ],
      "metadata": {
        "id": "dK3Zkjupo2x1"
      },
      "id": "dK3Zkjupo2x1",
      "execution_count": null,
      "outputs": []
    },
    {
      "cell_type": "code",
      "source": [
        "Fruits"
      ],
      "metadata": {
        "colab": {
          "base_uri": "https://localhost:8080/"
        },
        "id": "bcF5UTSRpA0F",
        "outputId": "c8b31bf8-f764-4f30-d9de-9ec17576bdeb"
      },
      "id": "bcF5UTSRpA0F",
      "execution_count": null,
      "outputs": [
        {
          "output_type": "execute_result",
          "data": {
            "text/plain": [
              "['Apple', 'Banana', 'Banana', 'Grapes', 'Mango', 'Orange']"
            ]
          },
          "metadata": {},
          "execution_count": 9
        }
      ]
    },
    {
      "cell_type": "code",
      "source": [
        "Fruits.sort(reverse=True)"
      ],
      "metadata": {
        "id": "7GlJXjO1pBv9"
      },
      "id": "7GlJXjO1pBv9",
      "execution_count": null,
      "outputs": []
    },
    {
      "cell_type": "code",
      "source": [
        "Fruits"
      ],
      "metadata": {
        "colab": {
          "base_uri": "https://localhost:8080/"
        },
        "id": "oKWu6_aHpJRm",
        "outputId": "0bc187e5-be2b-4126-a278-1d817dd2bd1b"
      },
      "id": "oKWu6_aHpJRm",
      "execution_count": null,
      "outputs": [
        {
          "output_type": "execute_result",
          "data": {
            "text/plain": [
              "['Orange', 'Mango', 'Grapes', 'Banana', 'Banana', 'Apple']"
            ]
          },
          "metadata": {},
          "execution_count": 11
        }
      ]
    },
    {
      "cell_type": "code",
      "source": [
        "Fruits.pop(2)"
      ],
      "metadata": {
        "colab": {
          "base_uri": "https://localhost:8080/",
          "height": 35
        },
        "id": "zte3FU0opKSp",
        "outputId": "5c5c2e1b-afed-447e-bc27-831708e07fb4"
      },
      "id": "zte3FU0opKSp",
      "execution_count": null,
      "outputs": [
        {
          "output_type": "execute_result",
          "data": {
            "text/plain": [
              "'Grapes'"
            ],
            "application/vnd.google.colaboratory.intrinsic+json": {
              "type": "string"
            }
          },
          "metadata": {},
          "execution_count": 12
        }
      ]
    },
    {
      "cell_type": "code",
      "source": [
        "Fruits"
      ],
      "metadata": {
        "colab": {
          "base_uri": "https://localhost:8080/"
        },
        "id": "Iyg6Ct-PpixT",
        "outputId": "1c54fae8-d593-45c8-c121-8b21a175c8a8"
      },
      "id": "Iyg6Ct-PpixT",
      "execution_count": null,
      "outputs": [
        {
          "output_type": "execute_result",
          "data": {
            "text/plain": [
              "['Orange', 'Mango', 'Banana', 'Banana', 'Apple']"
            ]
          },
          "metadata": {},
          "execution_count": 13
        }
      ]
    },
    {
      "cell_type": "code",
      "source": [
        "Fruits=['Apple','Banana','Grapes','Mango','Orange','Banana']\n",
        "Fruits"
      ],
      "metadata": {
        "colab": {
          "base_uri": "https://localhost:8080/"
        },
        "id": "cEypa8fLpj31",
        "outputId": "985b1295-b5cf-45b7-f4e9-930f4c749942"
      },
      "id": "cEypa8fLpj31",
      "execution_count": null,
      "outputs": [
        {
          "output_type": "execute_result",
          "data": {
            "text/plain": [
              "['Apple', 'Banana', 'Grapes', 'Mango', 'Orange', 'Banana']"
            ]
          },
          "metadata": {},
          "execution_count": 14
        }
      ]
    },
    {
      "cell_type": "code",
      "source": [
        "Fruits_Copy=Fruits.copy()"
      ],
      "metadata": {
        "id": "oW7X-sK_pzkV"
      },
      "id": "oW7X-sK_pzkV",
      "execution_count": null,
      "outputs": []
    },
    {
      "cell_type": "code",
      "source": [
        "Fruits_Copy"
      ],
      "metadata": {
        "colab": {
          "base_uri": "https://localhost:8080/"
        },
        "id": "NOUzB7e5p2tr",
        "outputId": "83846374-5af1-4241-8d57-d37c96f57021"
      },
      "id": "NOUzB7e5p2tr",
      "execution_count": null,
      "outputs": [
        {
          "output_type": "execute_result",
          "data": {
            "text/plain": [
              "['Apple', 'Banana', 'Grapes', 'Mango', 'Orange', 'Banana']"
            ]
          },
          "metadata": {},
          "execution_count": 16
        }
      ]
    },
    {
      "cell_type": "code",
      "source": [
        "Fruits_Copy.pop(2)"
      ],
      "metadata": {
        "colab": {
          "base_uri": "https://localhost:8080/",
          "height": 35
        },
        "id": "oYHVo5WVp3zX",
        "outputId": "51c58f16-092b-4549-83bb-9b3ccfd0d4a5"
      },
      "id": "oYHVo5WVp3zX",
      "execution_count": null,
      "outputs": [
        {
          "output_type": "execute_result",
          "data": {
            "text/plain": [
              "'Grapes'"
            ],
            "application/vnd.google.colaboratory.intrinsic+json": {
              "type": "string"
            }
          },
          "metadata": {},
          "execution_count": 17
        }
      ]
    },
    {
      "cell_type": "code",
      "source": [
        "Fruits_Copy"
      ],
      "metadata": {
        "colab": {
          "base_uri": "https://localhost:8080/"
        },
        "id": "Wi19luWmp8ko",
        "outputId": "183cd50f-1db4-448f-8848-13417e52844d"
      },
      "id": "Wi19luWmp8ko",
      "execution_count": null,
      "outputs": [
        {
          "output_type": "execute_result",
          "data": {
            "text/plain": [
              "['Apple', 'Banana', 'Mango', 'Orange', 'Banana']"
            ]
          },
          "metadata": {},
          "execution_count": 18
        }
      ]
    },
    {
      "cell_type": "code",
      "source": [
        "Fruits"
      ],
      "metadata": {
        "colab": {
          "base_uri": "https://localhost:8080/"
        },
        "id": "cY1knjPtp98U",
        "outputId": "3d77a54c-e22a-4f9b-cb73-669b8a016ff0"
      },
      "id": "cY1knjPtp98U",
      "execution_count": null,
      "outputs": [
        {
          "output_type": "execute_result",
          "data": {
            "text/plain": [
              "['Apple', 'Banana', 'Grapes', 'Mango', 'Orange', 'Banana']"
            ]
          },
          "metadata": {},
          "execution_count": 19
        }
      ]
    },
    {
      "cell_type": "code",
      "source": [
        "Fruits_1=Fruits"
      ],
      "metadata": {
        "id": "ilv1iKCOqACv"
      },
      "id": "ilv1iKCOqACv",
      "execution_count": null,
      "outputs": []
    },
    {
      "cell_type": "code",
      "source": [
        "Fruits_1"
      ],
      "metadata": {
        "colab": {
          "base_uri": "https://localhost:8080/"
        },
        "id": "QA1TxMnxqFpI",
        "outputId": "af710bb8-11bd-4b4d-9aac-6ea24666359e"
      },
      "id": "QA1TxMnxqFpI",
      "execution_count": null,
      "outputs": [
        {
          "output_type": "execute_result",
          "data": {
            "text/plain": [
              "['Apple', 'Banana', 'Grapes', 'Mango', 'Orange', 'Banana']"
            ]
          },
          "metadata": {},
          "execution_count": 21
        }
      ]
    },
    {
      "cell_type": "code",
      "source": [
        "Fruits_1.pop(2)"
      ],
      "metadata": {
        "colab": {
          "base_uri": "https://localhost:8080/",
          "height": 35
        },
        "id": "TfBJTWGuqGgo",
        "outputId": "21d5a05f-6ee9-4d5b-a52f-c51652b2c48f"
      },
      "id": "TfBJTWGuqGgo",
      "execution_count": null,
      "outputs": [
        {
          "output_type": "execute_result",
          "data": {
            "text/plain": [
              "'Grapes'"
            ],
            "application/vnd.google.colaboratory.intrinsic+json": {
              "type": "string"
            }
          },
          "metadata": {},
          "execution_count": 22
        }
      ]
    },
    {
      "cell_type": "code",
      "source": [
        "Fruits_1"
      ],
      "metadata": {
        "colab": {
          "base_uri": "https://localhost:8080/"
        },
        "id": "RNIwbZ7NqLkm",
        "outputId": "453f8d75-25e5-4051-ad76-ac0b3f3306ca"
      },
      "id": "RNIwbZ7NqLkm",
      "execution_count": null,
      "outputs": [
        {
          "output_type": "execute_result",
          "data": {
            "text/plain": [
              "['Apple', 'Banana', 'Mango', 'Orange', 'Banana']"
            ]
          },
          "metadata": {},
          "execution_count": 23
        }
      ]
    },
    {
      "cell_type": "code",
      "source": [
        "Fruits"
      ],
      "metadata": {
        "colab": {
          "base_uri": "https://localhost:8080/"
        },
        "id": "kMTx75ycqMiG",
        "outputId": "f775c41d-dda0-4d89-d426-793b49371fd2"
      },
      "id": "kMTx75ycqMiG",
      "execution_count": null,
      "outputs": [
        {
          "output_type": "execute_result",
          "data": {
            "text/plain": [
              "['Apple', 'Banana', 'Mango', 'Orange', 'Banana']"
            ]
          },
          "metadata": {},
          "execution_count": 24
        }
      ]
    },
    {
      "cell_type": "code",
      "source": [
        "Fruits=['Apple','Banana','Grapes','Mango','Orange','Banana']\n",
        "Fruits"
      ],
      "metadata": {
        "colab": {
          "base_uri": "https://localhost:8080/"
        },
        "id": "F2PRyaurqOo3",
        "outputId": "d1e16aae-8a87-432e-9644-52970196b097"
      },
      "id": "F2PRyaurqOo3",
      "execution_count": null,
      "outputs": [
        {
          "output_type": "execute_result",
          "data": {
            "text/plain": [
              "['Apple', 'Banana', 'Grapes', 'Mango', 'Orange', 'Banana']"
            ]
          },
          "metadata": {},
          "execution_count": 25
        }
      ]
    },
    {
      "cell_type": "code",
      "source": [
        "Veggies=['Tomato','Potato','Brinjal']\n",
        "Veggies"
      ],
      "metadata": {
        "colab": {
          "base_uri": "https://localhost:8080/"
        },
        "id": "3gqH7NBDqjAA",
        "outputId": "f923dbd7-eda2-4cfb-8563-b2a79751148a"
      },
      "id": "3gqH7NBDqjAA",
      "execution_count": null,
      "outputs": [
        {
          "output_type": "execute_result",
          "data": {
            "text/plain": [
              "['Tomato', 'Potato', 'Brinjal']"
            ]
          },
          "metadata": {},
          "execution_count": 26
        }
      ]
    },
    {
      "cell_type": "code",
      "source": [
        "Fruits.append(Veggies)\n",
        "Fruits"
      ],
      "metadata": {
        "colab": {
          "base_uri": "https://localhost:8080/"
        },
        "id": "yqnsI04GqkPh",
        "outputId": "0fc40318-3211-4b55-cf21-0db521bbbcf5"
      },
      "id": "yqnsI04GqkPh",
      "execution_count": null,
      "outputs": [
        {
          "output_type": "execute_result",
          "data": {
            "text/plain": [
              "['Apple',\n",
              " 'Banana',\n",
              " 'Grapes',\n",
              " 'Mango',\n",
              " 'Orange',\n",
              " 'Banana',\n",
              " ['Tomato', 'Potato', 'Brinjal']]"
            ]
          },
          "metadata": {},
          "execution_count": 27
        }
      ]
    },
    {
      "cell_type": "code",
      "source": [
        "Fruits=['Apple','Banana','Grapes','Mango','Orange','Banana']\n",
        "Fruits"
      ],
      "metadata": {
        "colab": {
          "base_uri": "https://localhost:8080/"
        },
        "id": "edNozLo9qpy0",
        "outputId": "080d4dd7-d980-4b19-a038-380fd49832e3"
      },
      "id": "edNozLo9qpy0",
      "execution_count": null,
      "outputs": [
        {
          "output_type": "execute_result",
          "data": {
            "text/plain": [
              "['Apple', 'Banana', 'Grapes', 'Mango', 'Orange', 'Banana']"
            ]
          },
          "metadata": {},
          "execution_count": 28
        }
      ]
    },
    {
      "cell_type": "code",
      "source": [
        "Veggies=['Tomato','Potato','Brinjal']\n",
        "Veggies"
      ],
      "metadata": {
        "colab": {
          "base_uri": "https://localhost:8080/"
        },
        "id": "u92-U6lQquHP",
        "outputId": "7d2be9c7-a1ee-4bdf-863b-edb6a454b70b"
      },
      "id": "u92-U6lQquHP",
      "execution_count": null,
      "outputs": [
        {
          "output_type": "execute_result",
          "data": {
            "text/plain": [
              "['Tomato', 'Potato', 'Brinjal']"
            ]
          },
          "metadata": {},
          "execution_count": 29
        }
      ]
    },
    {
      "cell_type": "code",
      "source": [
        "Fruits.extend(Veggies)\n",
        "Fruits"
      ],
      "metadata": {
        "colab": {
          "base_uri": "https://localhost:8080/"
        },
        "id": "0WgEcMwxqvO0",
        "outputId": "562bd6a1-d17a-4032-ebba-75e19f0f79a3"
      },
      "id": "0WgEcMwxqvO0",
      "execution_count": null,
      "outputs": [
        {
          "output_type": "execute_result",
          "data": {
            "text/plain": [
              "['Apple',\n",
              " 'Banana',\n",
              " 'Grapes',\n",
              " 'Mango',\n",
              " 'Orange',\n",
              " 'Banana',\n",
              " 'Tomato',\n",
              " 'Potato',\n",
              " 'Brinjal']"
            ]
          },
          "metadata": {},
          "execution_count": 30
        }
      ]
    },
    {
      "cell_type": "code",
      "source": [
        "Fruits_1=Fruits.copy()\n",
        "Fruits_1"
      ],
      "metadata": {
        "colab": {
          "base_uri": "https://localhost:8080/"
        },
        "id": "TN9MF05dqx9P",
        "outputId": "3961c7ee-a758-4f73-d67b-f117e1346c2d"
      },
      "id": "TN9MF05dqx9P",
      "execution_count": null,
      "outputs": [
        {
          "output_type": "execute_result",
          "data": {
            "text/plain": [
              "['Apple',\n",
              " 'Banana',\n",
              " 'Grapes',\n",
              " 'Mango',\n",
              " 'Orange',\n",
              " 'Banana',\n",
              " 'Tomato',\n",
              " 'Potato',\n",
              " 'Brinjal']"
            ]
          },
          "metadata": {},
          "execution_count": 31
        }
      ]
    },
    {
      "cell_type": "code",
      "source": [
        "Fruits_2=Fruits\n",
        "Fruits_2"
      ],
      "metadata": {
        "colab": {
          "base_uri": "https://localhost:8080/"
        },
        "id": "fJwR5zQNrXHp",
        "outputId": "3c6e1266-eab6-4d67-e977-448866689e71"
      },
      "id": "fJwR5zQNrXHp",
      "execution_count": null,
      "outputs": [
        {
          "output_type": "execute_result",
          "data": {
            "text/plain": [
              "['Apple',\n",
              " 'Banana',\n",
              " 'Grapes',\n",
              " 'Mango',\n",
              " 'Orange',\n",
              " 'Banana',\n",
              " 'Tomato',\n",
              " 'Potato',\n",
              " 'Brinjal']"
            ]
          },
          "metadata": {},
          "execution_count": 33
        }
      ]
    },
    {
      "cell_type": "code",
      "source": [
        "Fruits_1.append('Kiwi')\n",
        "print(Fruits_1)\n",
        "print(Fruits)"
      ],
      "metadata": {
        "colab": {
          "base_uri": "https://localhost:8080/"
        },
        "id": "npZvNPgxrZoD",
        "outputId": "b6978d6e-2a5d-4a11-cca7-4da88488f84a"
      },
      "id": "npZvNPgxrZoD",
      "execution_count": null,
      "outputs": [
        {
          "output_type": "stream",
          "name": "stdout",
          "text": [
            "['Apple', 'Banana', 'Grapes', 'Mango', 'Orange', 'Banana', 'Tomato', 'Potato', 'Brinjal', 'Kiwi']\n",
            "['Apple', 'Banana', 'Grapes', 'Mango', 'Orange', 'Banana', 'Tomato', 'Potato', 'Brinjal']\n"
          ]
        }
      ]
    },
    {
      "cell_type": "code",
      "source": [
        "Fruits_2.append('Kiwi')\n",
        "print(Fruits_2)\n",
        "print(Fruits)"
      ],
      "metadata": {
        "colab": {
          "base_uri": "https://localhost:8080/"
        },
        "id": "Xgu-lRNvrkga",
        "outputId": "e8f96a26-5e0b-4ee8-f0da-82889eda5328"
      },
      "id": "Xgu-lRNvrkga",
      "execution_count": null,
      "outputs": [
        {
          "output_type": "stream",
          "name": "stdout",
          "text": [
            "['Apple', 'Banana', 'Grapes', 'Mango', 'Orange', 'Banana', 'Tomato', 'Potato', 'Brinjal', 'Kiwi']\n",
            "['Apple', 'Banana', 'Grapes', 'Mango', 'Orange', 'Banana', 'Tomato', 'Potato', 'Brinjal', 'Kiwi']\n"
          ]
        }
      ]
    },
    {
      "cell_type": "markdown",
      "source": [
        "## Tuple"
      ],
      "metadata": {
        "id": "l2iPR3v8rxnx"
      },
      "id": "l2iPR3v8rxnx"
    },
    {
      "cell_type": "code",
      "source": [
        "dir(tuple)"
      ],
      "metadata": {
        "colab": {
          "base_uri": "https://localhost:8080/"
        },
        "id": "aCIe7M72rpZD",
        "outputId": "7cc057d3-5c6f-4d52-8f23-3be4f2ab1724"
      },
      "id": "aCIe7M72rpZD",
      "execution_count": null,
      "outputs": [
        {
          "output_type": "execute_result",
          "data": {
            "text/plain": [
              "['__add__',\n",
              " '__class__',\n",
              " '__class_getitem__',\n",
              " '__contains__',\n",
              " '__delattr__',\n",
              " '__dir__',\n",
              " '__doc__',\n",
              " '__eq__',\n",
              " '__format__',\n",
              " '__ge__',\n",
              " '__getattribute__',\n",
              " '__getitem__',\n",
              " '__getnewargs__',\n",
              " '__getstate__',\n",
              " '__gt__',\n",
              " '__hash__',\n",
              " '__init__',\n",
              " '__init_subclass__',\n",
              " '__iter__',\n",
              " '__le__',\n",
              " '__len__',\n",
              " '__lt__',\n",
              " '__mul__',\n",
              " '__ne__',\n",
              " '__new__',\n",
              " '__reduce__',\n",
              " '__reduce_ex__',\n",
              " '__repr__',\n",
              " '__rmul__',\n",
              " '__setattr__',\n",
              " '__sizeof__',\n",
              " '__str__',\n",
              " '__subclasshook__',\n",
              " 'count',\n",
              " 'index']"
            ]
          },
          "metadata": {},
          "execution_count": 36
        }
      ]
    },
    {
      "cell_type": "code",
      "source": [
        "Std_detail=('Rajesh',25,'EEE','III',[56,78]) # Tuple can Store Any Data Types./ Data Structure, Immutable[Cant Add, Remove Or Modify] Tuple Allow Duplicates\n",
        "\n",
        "Std_detail"
      ],
      "metadata": {
        "colab": {
          "base_uri": "https://localhost:8080/"
        },
        "id": "TrzyPi0SsqkL",
        "outputId": "7862fa6e-69ae-4de5-aaf0-73fea1a72c68"
      },
      "id": "TrzyPi0SsqkL",
      "execution_count": null,
      "outputs": [
        {
          "output_type": "execute_result",
          "data": {
            "text/plain": [
              "('Rajesh', 25, 'EEE', 'III', [56, 78])"
            ]
          },
          "metadata": {},
          "execution_count": 37
        }
      ]
    },
    {
      "cell_type": "code",
      "source": [
        "Std_detail[1]"
      ],
      "metadata": {
        "colab": {
          "base_uri": "https://localhost:8080/"
        },
        "id": "qKI7QKuytmW8",
        "outputId": "e298498d-ff17-460d-de02-0f9a1dbba7a4"
      },
      "id": "qKI7QKuytmW8",
      "execution_count": null,
      "outputs": [
        {
          "output_type": "execute_result",
          "data": {
            "text/plain": [
              "25"
            ]
          },
          "metadata": {},
          "execution_count": 38
        }
      ]
    },
    {
      "cell_type": "code",
      "source": [
        "Std_detail[1]=30"
      ],
      "metadata": {
        "colab": {
          "base_uri": "https://localhost:8080/",
          "height": 141
        },
        "id": "Ged5QNXyt0z_",
        "outputId": "d86664bf-ae44-4d92-9712-fcc89078cd8a"
      },
      "id": "Ged5QNXyt0z_",
      "execution_count": null,
      "outputs": [
        {
          "output_type": "error",
          "ename": "TypeError",
          "evalue": "'tuple' object does not support item assignment",
          "traceback": [
            "\u001b[0;31m---------------------------------------------------------------------------\u001b[0m",
            "\u001b[0;31mTypeError\u001b[0m                                 Traceback (most recent call last)",
            "\u001b[0;32m<ipython-input-39-2858a30fe2c8>\u001b[0m in \u001b[0;36m<cell line: 0>\u001b[0;34m()\u001b[0m\n\u001b[0;32m----> 1\u001b[0;31m \u001b[0mStd_detail\u001b[0m\u001b[0;34m[\u001b[0m\u001b[0;36m1\u001b[0m\u001b[0;34m]\u001b[0m\u001b[0;34m=\u001b[0m\u001b[0;36m30\u001b[0m\u001b[0;34m\u001b[0m\u001b[0;34m\u001b[0m\u001b[0m\n\u001b[0m",
            "\u001b[0;31mTypeError\u001b[0m: 'tuple' object does not support item assignment"
          ]
        }
      ]
    },
    {
      "cell_type": "code",
      "source": [
        "Std_detail[4][1]=65"
      ],
      "metadata": {
        "id": "yobLShHEt4QV"
      },
      "id": "yobLShHEt4QV",
      "execution_count": null,
      "outputs": []
    },
    {
      "cell_type": "code",
      "source": [
        "Std_detail"
      ],
      "metadata": {
        "colab": {
          "base_uri": "https://localhost:8080/"
        },
        "id": "lJAzC3_SuCH5",
        "outputId": "dd939185-9996-49dc-f6a6-b750ca4d59be"
      },
      "id": "lJAzC3_SuCH5",
      "execution_count": null,
      "outputs": [
        {
          "output_type": "execute_result",
          "data": {
            "text/plain": [
              "('Rajesh', 25, 'EEE', 'III', [56, 65])"
            ]
          },
          "metadata": {},
          "execution_count": 42
        }
      ]
    },
    {
      "cell_type": "code",
      "source": [
        "Std_detail.index('EEE')"
      ],
      "metadata": {
        "colab": {
          "base_uri": "https://localhost:8080/"
        },
        "id": "OiKQNc5cuHc7",
        "outputId": "e60ef035-08f6-4d89-909e-788c13b8ad80"
      },
      "id": "OiKQNc5cuHc7",
      "execution_count": null,
      "outputs": [
        {
          "output_type": "execute_result",
          "data": {
            "text/plain": [
              "2"
            ]
          },
          "metadata": {},
          "execution_count": 43
        }
      ]
    },
    {
      "cell_type": "code",
      "source": [
        "Std_detail.count('EEE')"
      ],
      "metadata": {
        "colab": {
          "base_uri": "https://localhost:8080/"
        },
        "id": "XXGfccM1uTV6",
        "outputId": "9f38b7c9-c5f0-4407-e41b-6698a6666692"
      },
      "id": "XXGfccM1uTV6",
      "execution_count": null,
      "outputs": [
        {
          "output_type": "execute_result",
          "data": {
            "text/plain": [
              "1"
            ]
          },
          "metadata": {},
          "execution_count": 44
        }
      ]
    },
    {
      "cell_type": "code",
      "source": [
        "Current_std=[('Rajesh','EEE','EEE22'),'II','B']\n",
        "\n",
        "\n",
        "Pass_Out_std=('Rajesh','EEE',2024, 'A')\n"
      ],
      "metadata": {
        "id": "xb0UXWzruXGE"
      },
      "id": "xb0UXWzruXGE",
      "execution_count": null,
      "outputs": []
    },
    {
      "cell_type": "markdown",
      "source": [
        "## Set"
      ],
      "metadata": {
        "id": "3av8ZuMvwR9O"
      },
      "id": "3av8ZuMvwR9O"
    },
    {
      "cell_type": "code",
      "source": [
        "set1= {1,2,3,4,5,6,7,8,9,10,1,5,6,8,10,('a','b','c')} # Set will not allow Duplicates, Mutable , unorder, Can't Able to access element\n",
        "set1"
      ],
      "metadata": {
        "colab": {
          "base_uri": "https://localhost:8080/"
        },
        "id": "Q98CMisbwTu6",
        "outputId": "d821b6ac-e5e5-4daa-f2be-f1b2bd438f44"
      },
      "id": "Q98CMisbwTu6",
      "execution_count": null,
      "outputs": [
        {
          "output_type": "execute_result",
          "data": {
            "text/plain": [
              "{('a', 'b', 'c'), 1, 10, 2, 3, 4, 5, 6, 7, 8, 9}"
            ]
          },
          "metadata": {},
          "execution_count": 1
        }
      ]
    },
    {
      "cell_type": "code",
      "source": [
        "list(set1)[4]"
      ],
      "metadata": {
        "colab": {
          "base_uri": "https://localhost:8080/"
        },
        "id": "T0365vY_gyHw",
        "outputId": "747b3e88-e989-4b6a-db8c-7def08714f6f"
      },
      "id": "T0365vY_gyHw",
      "execution_count": null,
      "outputs": [
        {
          "output_type": "execute_result",
          "data": {
            "text/plain": [
              "5"
            ]
          },
          "metadata": {},
          "execution_count": 5
        }
      ]
    },
    {
      "cell_type": "code",
      "source": [
        "dir(set)"
      ],
      "metadata": {
        "colab": {
          "base_uri": "https://localhost:8080/"
        },
        "id": "3UYmPtDtwmZ0",
        "outputId": "f0b21f83-3e11-4627-a35e-a7a116a546c5"
      },
      "id": "3UYmPtDtwmZ0",
      "execution_count": null,
      "outputs": [
        {
          "output_type": "execute_result",
          "data": {
            "text/plain": [
              "['__and__',\n",
              " '__class__',\n",
              " '__class_getitem__',\n",
              " '__contains__',\n",
              " '__delattr__',\n",
              " '__dir__',\n",
              " '__doc__',\n",
              " '__eq__',\n",
              " '__format__',\n",
              " '__ge__',\n",
              " '__getattribute__',\n",
              " '__getstate__',\n",
              " '__gt__',\n",
              " '__hash__',\n",
              " '__iand__',\n",
              " '__init__',\n",
              " '__init_subclass__',\n",
              " '__ior__',\n",
              " '__isub__',\n",
              " '__iter__',\n",
              " '__ixor__',\n",
              " '__le__',\n",
              " '__len__',\n",
              " '__lt__',\n",
              " '__ne__',\n",
              " '__new__',\n",
              " '__or__',\n",
              " '__rand__',\n",
              " '__reduce__',\n",
              " '__reduce_ex__',\n",
              " '__repr__',\n",
              " '__ror__',\n",
              " '__rsub__',\n",
              " '__rxor__',\n",
              " '__setattr__',\n",
              " '__sizeof__',\n",
              " '__str__',\n",
              " '__sub__',\n",
              " '__subclasshook__',\n",
              " '__xor__',\n",
              " 'add',\n",
              " 'clear',\n",
              " 'copy',\n",
              " 'difference',\n",
              " 'difference_update',\n",
              " 'discard',\n",
              " 'intersection',\n",
              " 'intersection_update',\n",
              " 'isdisjoint',\n",
              " 'issubset',\n",
              " 'issuperset',\n",
              " 'pop',\n",
              " 'remove',\n",
              " 'symmetric_difference',\n",
              " 'symmetric_difference_update',\n",
              " 'union',\n",
              " 'update']"
            ]
          },
          "metadata": {},
          "execution_count": 48
        }
      ]
    },
    {
      "cell_type": "code",
      "source": [
        "set1[1]"
      ],
      "metadata": {
        "colab": {
          "base_uri": "https://localhost:8080/",
          "height": 141
        },
        "id": "6crsKrP9xBOB",
        "outputId": "9f1f3d02-f1ff-4024-bba2-6325997fb34d"
      },
      "id": "6crsKrP9xBOB",
      "execution_count": null,
      "outputs": [
        {
          "output_type": "error",
          "ename": "TypeError",
          "evalue": "'set' object is not subscriptable",
          "traceback": [
            "\u001b[0;31m---------------------------------------------------------------------------\u001b[0m",
            "\u001b[0;31mTypeError\u001b[0m                                 Traceback (most recent call last)",
            "\u001b[0;32m<ipython-input-50-d27c0eee2e56>\u001b[0m in \u001b[0;36m<cell line: 0>\u001b[0;34m()\u001b[0m\n\u001b[0;32m----> 1\u001b[0;31m \u001b[0mset1\u001b[0m\u001b[0;34m[\u001b[0m\u001b[0;36m1\u001b[0m\u001b[0;34m]\u001b[0m\u001b[0;34m\u001b[0m\u001b[0;34m\u001b[0m\u001b[0m\n\u001b[0m",
            "\u001b[0;31mTypeError\u001b[0m: 'set' object is not subscriptable"
          ]
        }
      ]
    },
    {
      "cell_type": "code",
      "source": [
        "Set_fruits={'Apple','Banana','Grapes','Mango','Orange','Banana'}\n",
        "Set_fruits"
      ],
      "metadata": {
        "colab": {
          "base_uri": "https://localhost:8080/"
        },
        "id": "ystbVrAVxg03",
        "outputId": "7af95897-b4cf-43b4-d645-e8b634252393"
      },
      "id": "ystbVrAVxg03",
      "execution_count": null,
      "outputs": [
        {
          "output_type": "execute_result",
          "data": {
            "text/plain": [
              "{'Apple', 'Banana', 'Grapes', 'Mango', 'Orange'}"
            ]
          },
          "metadata": {},
          "execution_count": 51
        }
      ]
    },
    {
      "cell_type": "code",
      "source": [
        "# Logistc\n",
        "\n",
        "Carton=['USA','UK','UAE',\"UK\",\"UAE\",'UK','UEA',\"UK\",\"uae\",'UK','UAE',\"UK\",\"UAE\",'UK','UAE',\"UK\",\"UAE\",'JPY'] # 1000\n",
        "\n",
        "\n",
        "set(Carton)"
      ],
      "metadata": {
        "colab": {
          "base_uri": "https://localhost:8080/"
        },
        "id": "L3dSYAp0yB2I",
        "outputId": "9f1ccc59-b881-4de4-dae1-caf81956b086"
      },
      "id": "L3dSYAp0yB2I",
      "execution_count": null,
      "outputs": [
        {
          "output_type": "execute_result",
          "data": {
            "text/plain": [
              "{'JPY', 'UAE', 'UEA', 'UK', 'USA', 'uae'}"
            ]
          },
          "metadata": {},
          "execution_count": 54
        }
      ]
    },
    {
      "cell_type": "code",
      "source": [
        "dir(set)"
      ],
      "metadata": {
        "colab": {
          "base_uri": "https://localhost:8080/"
        },
        "id": "mdAIwIjrypfr",
        "outputId": "a37a8f6e-da4c-4376-a9d3-daf24a753d2e"
      },
      "id": "mdAIwIjrypfr",
      "execution_count": null,
      "outputs": [
        {
          "output_type": "execute_result",
          "data": {
            "text/plain": [
              "['__and__',\n",
              " '__class__',\n",
              " '__class_getitem__',\n",
              " '__contains__',\n",
              " '__delattr__',\n",
              " '__dir__',\n",
              " '__doc__',\n",
              " '__eq__',\n",
              " '__format__',\n",
              " '__ge__',\n",
              " '__getattribute__',\n",
              " '__getstate__',\n",
              " '__gt__',\n",
              " '__hash__',\n",
              " '__iand__',\n",
              " '__init__',\n",
              " '__init_subclass__',\n",
              " '__ior__',\n",
              " '__isub__',\n",
              " '__iter__',\n",
              " '__ixor__',\n",
              " '__le__',\n",
              " '__len__',\n",
              " '__lt__',\n",
              " '__ne__',\n",
              " '__new__',\n",
              " '__or__',\n",
              " '__rand__',\n",
              " '__reduce__',\n",
              " '__reduce_ex__',\n",
              " '__repr__',\n",
              " '__ror__',\n",
              " '__rsub__',\n",
              " '__rxor__',\n",
              " '__setattr__',\n",
              " '__sizeof__',\n",
              " '__str__',\n",
              " '__sub__',\n",
              " '__subclasshook__',\n",
              " '__xor__',\n",
              " 'add',\n",
              " 'clear',\n",
              " 'copy',\n",
              " 'difference',\n",
              " 'difference_update',\n",
              " 'discard',\n",
              " 'intersection',\n",
              " 'intersection_update',\n",
              " 'isdisjoint',\n",
              " 'issubset',\n",
              " 'issuperset',\n",
              " 'pop',\n",
              " 'remove',\n",
              " 'symmetric_difference',\n",
              " 'symmetric_difference_update',\n",
              " 'union',\n",
              " 'update']"
            ]
          },
          "metadata": {},
          "execution_count": 55
        }
      ]
    },
    {
      "cell_type": "code",
      "source": [
        "Set_fruits={'Apple','Banana','Grapes','Mango','Orange','Banana'}\n",
        "Set_fruits"
      ],
      "metadata": {
        "colab": {
          "base_uri": "https://localhost:8080/"
        },
        "id": "ltptNVNNzOlq",
        "outputId": "e2e4ee45-3f08-4e67-d587-fd56c744b412"
      },
      "id": "ltptNVNNzOlq",
      "execution_count": null,
      "outputs": [
        {
          "output_type": "execute_result",
          "data": {
            "text/plain": [
              "{'Apple', 'Banana', 'Grapes', 'Mango', 'Orange'}"
            ]
          },
          "metadata": {},
          "execution_count": 56
        }
      ]
    },
    {
      "cell_type": "code",
      "source": [
        "Set_fruits.add('Melon')"
      ],
      "metadata": {
        "id": "5THVmML8zRG-"
      },
      "id": "5THVmML8zRG-",
      "execution_count": null,
      "outputs": []
    },
    {
      "cell_type": "code",
      "source": [
        "Set_fruits"
      ],
      "metadata": {
        "colab": {
          "base_uri": "https://localhost:8080/"
        },
        "id": "nsobADXX0PTE",
        "outputId": "40ea3fb8-1968-4e0e-f605-cde321d3b6d5"
      },
      "id": "nsobADXX0PTE",
      "execution_count": null,
      "outputs": [
        {
          "output_type": "execute_result",
          "data": {
            "text/plain": [
              "{'Apple', 'Banana', 'Grapes', 'Mango', 'Melon', 'Orange'}"
            ]
          },
          "metadata": {},
          "execution_count": 58
        }
      ]
    },
    {
      "cell_type": "code",
      "source": [
        "Set_fruits.add('Banana')"
      ],
      "metadata": {
        "id": "iNafLQpD0Qqa"
      },
      "id": "iNafLQpD0Qqa",
      "execution_count": null,
      "outputs": []
    },
    {
      "cell_type": "code",
      "source": [
        "Set_fruits"
      ],
      "metadata": {
        "colab": {
          "base_uri": "https://localhost:8080/"
        },
        "id": "rNftR9pO0e2c",
        "outputId": "d4fe77b2-607b-4664-eaa0-f6695ac290cc"
      },
      "id": "rNftR9pO0e2c",
      "execution_count": null,
      "outputs": [
        {
          "output_type": "execute_result",
          "data": {
            "text/plain": [
              "{'Apple', 'Banana', 'Grapes', 'Mango', 'Melon', 'Orange'}"
            ]
          },
          "metadata": {},
          "execution_count": 62
        }
      ]
    },
    {
      "cell_type": "code",
      "source": [
        "fruits_1={'Apple','Banana','Grapes','Mango','Orange','Banana'}\n",
        "fruits_2={'Apple','Kiwi','Mango','Orange','Melon'}"
      ],
      "metadata": {
        "id": "N-idrCzr0f6u"
      },
      "id": "N-idrCzr0f6u",
      "execution_count": null,
      "outputs": []
    },
    {
      "cell_type": "code",
      "source": [
        "fruits_1.difference(fruits_2)"
      ],
      "metadata": {
        "colab": {
          "base_uri": "https://localhost:8080/"
        },
        "id": "jVer3tNt040i",
        "outputId": "28e08f0d-0c12-4e67-edaf-3da3e53258c7"
      },
      "id": "jVer3tNt040i",
      "execution_count": null,
      "outputs": [
        {
          "output_type": "execute_result",
          "data": {
            "text/plain": [
              "{'Banana', 'Grapes'}"
            ]
          },
          "metadata": {},
          "execution_count": 64
        }
      ]
    },
    {
      "cell_type": "code",
      "source": [
        "fruits_2.difference(fruits_1)"
      ],
      "metadata": {
        "colab": {
          "base_uri": "https://localhost:8080/"
        },
        "id": "M9aBjWAG0-em",
        "outputId": "f9ffdb48-22f9-4ffa-a389-5068712e4115"
      },
      "id": "M9aBjWAG0-em",
      "execution_count": null,
      "outputs": [
        {
          "output_type": "execute_result",
          "data": {
            "text/plain": [
              "{'Kiwi', 'Melon'}"
            ]
          },
          "metadata": {},
          "execution_count": 65
        }
      ]
    },
    {
      "cell_type": "code",
      "source": [
        "Set_fruits"
      ],
      "metadata": {
        "colab": {
          "base_uri": "https://localhost:8080/"
        },
        "id": "y-4AG1ls1SD7",
        "outputId": "0c78f5f0-57bc-4a3e-eecf-d2058de78222"
      },
      "id": "y-4AG1ls1SD7",
      "execution_count": null,
      "outputs": [
        {
          "output_type": "execute_result",
          "data": {
            "text/plain": [
              "{'Apple', 'Banana', 'Grapes', 'Mango', 'Melon', 'Orange'}"
            ]
          },
          "metadata": {},
          "execution_count": 66
        }
      ]
    },
    {
      "cell_type": "code",
      "source": [
        "Set_fruits.discard('Apple') # remove the given element from the set"
      ],
      "metadata": {
        "id": "Tmzo8afJ1eI_"
      },
      "id": "Tmzo8afJ1eI_",
      "execution_count": null,
      "outputs": []
    },
    {
      "cell_type": "code",
      "source": [
        "Set_fruits"
      ],
      "metadata": {
        "colab": {
          "base_uri": "https://localhost:8080/"
        },
        "id": "iEeLyCI11gv_",
        "outputId": "1c477d94-0ad3-4001-950e-3c3876af4e13"
      },
      "id": "iEeLyCI11gv_",
      "execution_count": null,
      "outputs": [
        {
          "output_type": "execute_result",
          "data": {
            "text/plain": [
              "{'Banana', 'Grapes', 'Mango', 'Melon', 'Orange'}"
            ]
          },
          "metadata": {},
          "execution_count": 68
        }
      ]
    },
    {
      "cell_type": "code",
      "source": [
        "Set_fruits.remove('Mango')"
      ],
      "metadata": {
        "id": "cSAFltCh1h3B"
      },
      "id": "cSAFltCh1h3B",
      "execution_count": null,
      "outputs": []
    },
    {
      "cell_type": "code",
      "source": [
        "Set_fruits"
      ],
      "metadata": {
        "colab": {
          "base_uri": "https://localhost:8080/"
        },
        "id": "YTkDqK0q1wx_",
        "outputId": "f18937eb-e772-42a9-d0be-48a1f35e23c2"
      },
      "id": "YTkDqK0q1wx_",
      "execution_count": null,
      "outputs": [
        {
          "output_type": "execute_result",
          "data": {
            "text/plain": [
              "{'Banana', 'Grapes', 'Melon', 'Orange'}"
            ]
          },
          "metadata": {},
          "execution_count": 72
        }
      ]
    },
    {
      "cell_type": "code",
      "source": [
        "fruits_1={'Apple','Banana','Grapes','Mango','Orange','Banana'}\n",
        "fruits_2={'Apple','Kiwi','Mango','Orange','Melon'}"
      ],
      "metadata": {
        "id": "M4AQHrsS12c0"
      },
      "id": "M4AQHrsS12c0",
      "execution_count": null,
      "outputs": []
    },
    {
      "cell_type": "code",
      "source": [
        "fruits_1.intersection(fruits_2)"
      ],
      "metadata": {
        "colab": {
          "base_uri": "https://localhost:8080/"
        },
        "id": "_1uGKy432EM6",
        "outputId": "02b8b5fb-5665-4fe3-da0b-939766483e9d"
      },
      "id": "_1uGKy432EM6",
      "execution_count": null,
      "outputs": [
        {
          "output_type": "execute_result",
          "data": {
            "text/plain": [
              "{'Apple', 'Mango', 'Orange'}"
            ]
          },
          "metadata": {},
          "execution_count": 84
        }
      ]
    },
    {
      "cell_type": "code",
      "source": [
        "fruits_1"
      ],
      "metadata": {
        "colab": {
          "base_uri": "https://localhost:8080/"
        },
        "id": "APXB1o3A2UjU",
        "outputId": "6cd2f7c1-94a3-4009-ead8-a38f2c9edf4c"
      },
      "id": "APXB1o3A2UjU",
      "execution_count": null,
      "outputs": [
        {
          "output_type": "execute_result",
          "data": {
            "text/plain": [
              "{'Apple', 'Banana', 'Grapes', 'Mango', 'Orange'}"
            ]
          },
          "metadata": {},
          "execution_count": 85
        }
      ]
    },
    {
      "cell_type": "code",
      "source": [
        "fruits_1.intersection_update(fruits_2)"
      ],
      "metadata": {
        "id": "Pgp89RNS2Iwt"
      },
      "id": "Pgp89RNS2Iwt",
      "execution_count": null,
      "outputs": []
    },
    {
      "cell_type": "code",
      "source": [
        "fruits_1"
      ],
      "metadata": {
        "colab": {
          "base_uri": "https://localhost:8080/"
        },
        "id": "oV8oZzzU2LUD",
        "outputId": "304f2edc-7dee-4ab9-8da5-1fbe3e853542"
      },
      "id": "oV8oZzzU2LUD",
      "execution_count": null,
      "outputs": [
        {
          "output_type": "execute_result",
          "data": {
            "text/plain": [
              "{'Apple', 'Mango', 'Orange'}"
            ]
          },
          "metadata": {},
          "execution_count": 87
        }
      ]
    },
    {
      "cell_type": "code",
      "source": [
        "fruits_1={'Apple','Banana','Grapes','Mango','Orange','Banana'}\n",
        "fruits_2={'Apple','Kiwi','Mango','Orange','Melon'}"
      ],
      "metadata": {
        "id": "QMKy6jlm2Q4Q"
      },
      "id": "QMKy6jlm2Q4Q",
      "execution_count": null,
      "outputs": []
    },
    {
      "cell_type": "code",
      "source": [
        "fruits_1.isdisjoint(fruits_2)"
      ],
      "metadata": {
        "colab": {
          "base_uri": "https://localhost:8080/"
        },
        "id": "obvfxGwy3ynv",
        "outputId": "8534e710-0493-4e25-c8b1-f411a601e235"
      },
      "id": "obvfxGwy3ynv",
      "execution_count": null,
      "outputs": [
        {
          "output_type": "execute_result",
          "data": {
            "text/plain": [
              "False"
            ]
          },
          "metadata": {},
          "execution_count": 93
        }
      ]
    },
    {
      "cell_type": "code",
      "source": [
        "fruits_1={'Apple','Banana','Grapes','Mango','Orange','Banana'}\n",
        "fruits_2={'Kiwi','Melon'}\n",
        "fruits_1.isdisjoint(fruits_2)"
      ],
      "metadata": {
        "colab": {
          "base_uri": "https://localhost:8080/"
        },
        "id": "s0DJun_p31-w",
        "outputId": "6d87b0c3-b99d-46fa-9868-83f51aa6f99f"
      },
      "id": "s0DJun_p31-w",
      "execution_count": null,
      "outputs": [
        {
          "output_type": "execute_result",
          "data": {
            "text/plain": [
              "True"
            ]
          },
          "metadata": {},
          "execution_count": 95
        }
      ]
    },
    {
      "cell_type": "code",
      "source": [
        "fruits_1={'Apple','Banana','Grapes','Mango','Orange','Banana'}\n",
        "fruits_2={'Apple','Kiwi','Mango','Orange','Melon'}\n",
        "fruits_2.issubset(fruits_1)"
      ],
      "metadata": {
        "colab": {
          "base_uri": "https://localhost:8080/"
        },
        "id": "WJ8oTUS04N_5",
        "outputId": "17b2e604-6735-425e-ecae-f2e9e91fa0a5"
      },
      "id": "WJ8oTUS04N_5",
      "execution_count": null,
      "outputs": [
        {
          "output_type": "execute_result",
          "data": {
            "text/plain": [
              "False"
            ]
          },
          "metadata": {},
          "execution_count": 107
        }
      ]
    },
    {
      "cell_type": "code",
      "source": [
        "fruits_1.issubset(fruits_2)"
      ],
      "metadata": {
        "colab": {
          "base_uri": "https://localhost:8080/"
        },
        "id": "gXGZCe-Q4ghE",
        "outputId": "692696d2-4e50-4757-d8e2-c65823efce32"
      },
      "id": "gXGZCe-Q4ghE",
      "execution_count": null,
      "outputs": [
        {
          "output_type": "execute_result",
          "data": {
            "text/plain": [
              "False"
            ]
          },
          "metadata": {},
          "execution_count": 98
        }
      ]
    },
    {
      "cell_type": "code",
      "source": [
        "set_1={1,2,3,4,5,6,7,8,9,10}\n",
        "set_2={1,2,3}\n",
        "\n",
        "set_1.issubset(set_2)"
      ],
      "metadata": {
        "colab": {
          "base_uri": "https://localhost:8080/"
        },
        "id": "IqGq69UG4z-s",
        "outputId": "fe735ff1-9a33-480d-80a0-7616e232a2a6"
      },
      "id": "IqGq69UG4z-s",
      "execution_count": null,
      "outputs": [
        {
          "output_type": "execute_result",
          "data": {
            "text/plain": [
              "False"
            ]
          },
          "metadata": {},
          "execution_count": 105
        }
      ]
    },
    {
      "cell_type": "code",
      "source": [
        "set_2.issubset(set_1)"
      ],
      "metadata": {
        "colab": {
          "base_uri": "https://localhost:8080/"
        },
        "id": "6t-iFHBU5C08",
        "outputId": "9ef1dc7e-c065-40a0-9475-57c11baa1d20"
      },
      "id": "6t-iFHBU5C08",
      "execution_count": null,
      "outputs": [
        {
          "output_type": "execute_result",
          "data": {
            "text/plain": [
              "True"
            ]
          },
          "metadata": {},
          "execution_count": 106
        }
      ]
    },
    {
      "cell_type": "code",
      "source": [
        "set_1.issuperset(set_2)"
      ],
      "metadata": {
        "colab": {
          "base_uri": "https://localhost:8080/"
        },
        "id": "rJwvKij85KGZ",
        "outputId": "153e4935-f40f-4a13-ccfe-5956d96f00fb"
      },
      "id": "rJwvKij85KGZ",
      "execution_count": null,
      "outputs": [
        {
          "output_type": "execute_result",
          "data": {
            "text/plain": [
              "True"
            ]
          },
          "metadata": {},
          "execution_count": 108
        }
      ]
    },
    {
      "cell_type": "code",
      "source": [
        "set_2.issuperset(set_1)"
      ],
      "metadata": {
        "colab": {
          "base_uri": "https://localhost:8080/"
        },
        "id": "V5nRmIW_55pj",
        "outputId": "a19ac847-b20e-48d3-c9e4-3fbd9ccbebba"
      },
      "id": "V5nRmIW_55pj",
      "execution_count": null,
      "outputs": [
        {
          "output_type": "execute_result",
          "data": {
            "text/plain": [
              "False"
            ]
          },
          "metadata": {},
          "execution_count": 110
        }
      ]
    },
    {
      "cell_type": "code",
      "source": [
        "set_1.pop()"
      ],
      "metadata": {
        "colab": {
          "base_uri": "https://localhost:8080/"
        },
        "id": "Q6dKnDrb59F-",
        "outputId": "c4856ef5-e056-4bae-bebe-67cc3b15d9ff"
      },
      "id": "Q6dKnDrb59F-",
      "execution_count": null,
      "outputs": [
        {
          "output_type": "execute_result",
          "data": {
            "text/plain": [
              "1"
            ]
          },
          "metadata": {},
          "execution_count": 111
        }
      ]
    },
    {
      "cell_type": "code",
      "source": [
        "set_1"
      ],
      "metadata": {
        "colab": {
          "base_uri": "https://localhost:8080/"
        },
        "id": "stLJ72xH6aO1",
        "outputId": "9d256ca8-2d31-4d9f-cadd-6c05d28aefd1"
      },
      "id": "stLJ72xH6aO1",
      "execution_count": null,
      "outputs": [
        {
          "output_type": "execute_result",
          "data": {
            "text/plain": [
              "{2, 3, 4, 5, 6, 7, 8, 9, 10}"
            ]
          },
          "metadata": {},
          "execution_count": 113
        }
      ]
    },
    {
      "cell_type": "code",
      "source": [
        "# symmetric_difference\n",
        "\n",
        "set_1={1,2,3,4,5,6,7,8,9,10}\n",
        "set_2={1,2,3,11,12,13}\n",
        "\n",
        "set_1.symmetric_difference(set_2)\n",
        "\n"
      ],
      "metadata": {
        "colab": {
          "base_uri": "https://localhost:8080/"
        },
        "id": "iZENKYHk6c3E",
        "outputId": "a709a348-a99d-493e-d7da-d75fd8ed1b4c"
      },
      "id": "iZENKYHk6c3E",
      "execution_count": null,
      "outputs": [
        {
          "output_type": "execute_result",
          "data": {
            "text/plain": [
              "{4, 5, 6, 7, 8, 9, 10, 11, 12, 13}"
            ]
          },
          "metadata": {},
          "execution_count": 114
        }
      ]
    },
    {
      "cell_type": "code",
      "source": [
        "# symmetric_difference_update\n",
        "\n",
        "set_1={1,2,3,4,5,6,7,8,9,10}\n",
        "set_2={1,2,3,11,12,13}\n",
        "\n",
        "set_1.symmetric_difference_update(set_2)"
      ],
      "metadata": {
        "id": "da6NpAZI6up8"
      },
      "id": "da6NpAZI6up8",
      "execution_count": null,
      "outputs": []
    },
    {
      "cell_type": "code",
      "source": [
        "set_1"
      ],
      "metadata": {
        "colab": {
          "base_uri": "https://localhost:8080/"
        },
        "id": "B_LVx0nm69aD",
        "outputId": "6dc47d41-2c89-4a64-80f7-f0a764236f87"
      },
      "id": "B_LVx0nm69aD",
      "execution_count": null,
      "outputs": [
        {
          "output_type": "execute_result",
          "data": {
            "text/plain": [
              "{4, 5, 6, 7, 8, 9, 10, 11, 12, 13}"
            ]
          },
          "metadata": {},
          "execution_count": 116
        }
      ]
    },
    {
      "cell_type": "code",
      "source": [
        "# Union\n",
        "set_1={1,2,3,4,5,6,7,8,9,10}\n",
        "set_2={1,2,3,11,12,13}\n",
        "\n",
        "set_1.union(set_2)\n"
      ],
      "metadata": {
        "colab": {
          "base_uri": "https://localhost:8080/"
        },
        "id": "bgISZNOq6-85",
        "outputId": "90de74d5-b386-4315-af0d-a071d5aaeb69"
      },
      "id": "bgISZNOq6-85",
      "execution_count": null,
      "outputs": [
        {
          "output_type": "execute_result",
          "data": {
            "text/plain": [
              "{1, 2, 3, 4, 5, 6, 7, 8, 9, 10, 11, 12, 13}"
            ]
          },
          "metadata": {},
          "execution_count": 117
        }
      ]
    },
    {
      "cell_type": "code",
      "source": [
        "set_1={1,2,3,4,5,6,7,8,9,10}\n",
        "set_2={10,20,30}\n",
        "\n",
        "set_1.union(set_2)"
      ],
      "metadata": {
        "colab": {
          "base_uri": "https://localhost:8080/"
        },
        "id": "u2cMa4bl7OeD",
        "outputId": "516f79bf-371e-4017-a850-af165a9ee3f5"
      },
      "id": "u2cMa4bl7OeD",
      "execution_count": null,
      "outputs": [
        {
          "output_type": "execute_result",
          "data": {
            "text/plain": [
              "{1, 2, 3, 4, 5, 6, 7, 8, 9, 10, 20, 30}"
            ]
          },
          "metadata": {},
          "execution_count": 121
        }
      ]
    },
    {
      "cell_type": "code",
      "source": [
        "set_1"
      ],
      "metadata": {
        "colab": {
          "base_uri": "https://localhost:8080/"
        },
        "id": "Iw91Bo5u7yB0",
        "outputId": "6c14632e-5116-443e-8b5d-bdc9dfc08095"
      },
      "id": "Iw91Bo5u7yB0",
      "execution_count": null,
      "outputs": [
        {
          "output_type": "execute_result",
          "data": {
            "text/plain": [
              "{1, 2, 3, 4, 5, 6, 7, 8, 9, 10}"
            ]
          },
          "metadata": {},
          "execution_count": 122
        }
      ]
    },
    {
      "cell_type": "code",
      "source": [
        "# Update\n",
        "\n",
        "set_1={1,2,3,4,5,6,7,8,9,10}\n",
        "set_2={1,2,3,11,12,13}\n",
        "\n",
        "set_1.update(set_2)"
      ],
      "metadata": {
        "id": "W2l-PAzl7WIe"
      },
      "id": "W2l-PAzl7WIe",
      "execution_count": null,
      "outputs": []
    },
    {
      "cell_type": "code",
      "source": [
        "set_1"
      ],
      "metadata": {
        "colab": {
          "base_uri": "https://localhost:8080/"
        },
        "id": "A3QfnlQh7imX",
        "outputId": "480a0d2f-adfd-4996-988f-f2828ad74f95"
      },
      "id": "A3QfnlQh7imX",
      "execution_count": null,
      "outputs": [
        {
          "output_type": "execute_result",
          "data": {
            "text/plain": [
              "{1, 2, 3, 4, 5, 6, 7, 8, 9, 10, 11, 12, 13}"
            ]
          },
          "metadata": {},
          "execution_count": 124
        }
      ]
    },
    {
      "cell_type": "markdown",
      "source": [
        "## Dict\n",
        "\n",
        " President : \"Meaning of the president\"\n",
        "\n",
        " {Key : Value}. # Key Unique, Value Can Duplicate"
      ],
      "metadata": {
        "id": "LSwL79sY74kE"
      },
      "id": "LSwL79sY74kE"
    },
    {
      "cell_type": "code",
      "source": [
        "Emp={'Name':'Raja',\n",
        "     'Age':30,\n",
        "     'Income':30000} # It Allow Duplicate in Value But Not in Keys, Mutable, Order\n",
        "Emp"
      ],
      "metadata": {
        "colab": {
          "base_uri": "https://localhost:8080/"
        },
        "id": "PrwhhgLi7miq",
        "outputId": "c9bc954e-0807-4756-9082-876a8a55a22e"
      },
      "id": "PrwhhgLi7miq",
      "execution_count": null,
      "outputs": [
        {
          "output_type": "execute_result",
          "data": {
            "text/plain": [
              "{'Name': 'Raja', 'Age': 30, 'Income': 30000}"
            ]
          },
          "metadata": {},
          "execution_count": 132
        }
      ]
    },
    {
      "cell_type": "code",
      "source": [
        "Emp['Name']"
      ],
      "metadata": {
        "colab": {
          "base_uri": "https://localhost:8080/",
          "height": 35
        },
        "id": "xz7q0rBU-EQg",
        "outputId": "49fe0e3e-c393-47ca-d109-493a65e995ea"
      },
      "id": "xz7q0rBU-EQg",
      "execution_count": null,
      "outputs": [
        {
          "output_type": "execute_result",
          "data": {
            "text/plain": [
              "'Raja'"
            ],
            "application/vnd.google.colaboratory.intrinsic+json": {
              "type": "string"
            }
          },
          "metadata": {},
          "execution_count": 133
        }
      ]
    },
    {
      "cell_type": "code",
      "source": [
        "Emp['Mobile']=87456789"
      ],
      "metadata": {
        "id": "jxjaR-w9-XRV"
      },
      "id": "jxjaR-w9-XRV",
      "execution_count": null,
      "outputs": []
    },
    {
      "cell_type": "code",
      "source": [
        "Emp"
      ],
      "metadata": {
        "colab": {
          "base_uri": "https://localhost:8080/"
        },
        "id": "e8ztKMgo-bUO",
        "outputId": "31b7fa59-a072-489b-ce32-f930501429d1"
      },
      "id": "e8ztKMgo-bUO",
      "execution_count": null,
      "outputs": [
        {
          "output_type": "execute_result",
          "data": {
            "text/plain": [
              "{'Name': 'Raja', 'Age': 30, 'Income': 30000, 'Mobile': 87456789}"
            ]
          },
          "metadata": {},
          "execution_count": 136
        }
      ]
    },
    {
      "cell_type": "code",
      "source": [
        "Guvi_Emp={\n",
        "    'EmpID': [44,55,67,21,7,8,19,27],\n",
        "    'Name':['Rajesh','Kumar','Kamal','Saran','Karthick','Iswarya','Divya','David'],\n",
        "    'Designation':['Developer','Tester','TeamLead','Manager','Jr.Developer','Accontant','HR','Admin'],\n",
        "    'Salary': [25000,30000,45000,60000,20000,22000,15000,28000],\n",
        "\n",
        "}\n",
        "Guvi_Emp"
      ],
      "metadata": {
        "colab": {
          "base_uri": "https://localhost:8080/"
        },
        "id": "isNRiaFN-0Gw",
        "outputId": "0ded2e0b-e9c4-4620-ec4a-adeb253b9342"
      },
      "id": "isNRiaFN-0Gw",
      "execution_count": null,
      "outputs": [
        {
          "output_type": "execute_result",
          "data": {
            "text/plain": [
              "{'EmpID': [44, 55, 67, 21, 7, 8, 19, 27],\n",
              " 'Name': ['Rajesh',\n",
              "  'Kumar',\n",
              "  'Kamal',\n",
              "  'Saran',\n",
              "  'Karthick',\n",
              "  'Iswarya',\n",
              "  'Divya',\n",
              "  'David'],\n",
              " 'Designation': ['Developer',\n",
              "  'Tester',\n",
              "  'TeamLead',\n",
              "  'Manager',\n",
              "  'Jr.Developer',\n",
              "  'Accontant',\n",
              "  'HR',\n",
              "  'Admin'],\n",
              " 'Salary': [25000, 30000, 45000, 60000, 20000, 22000, 15000, 28000]}"
            ]
          },
          "metadata": {},
          "execution_count": 13
        }
      ]
    },
    {
      "cell_type": "code",
      "source": [
        "Guvi_Emp['EmpID'].index(7)\n"
      ],
      "metadata": {
        "colab": {
          "base_uri": "https://localhost:8080/"
        },
        "id": "_COXSj5AAMUK",
        "outputId": "5bdd9cec-702c-4f17-8bc9-a1831c8b984b"
      },
      "id": "_COXSj5AAMUK",
      "execution_count": null,
      "outputs": [
        {
          "output_type": "execute_result",
          "data": {
            "text/plain": [
              "4"
            ]
          },
          "metadata": {},
          "execution_count": 158
        }
      ]
    },
    {
      "cell_type": "code",
      "source": [
        "Emp=5\n",
        "print(f\"EmpId: {Emp}\")\n"
      ],
      "metadata": {
        "colab": {
          "base_uri": "https://localhost:8080/"
        },
        "id": "KxNYop6EArNU",
        "outputId": "226dccff-2d5d-4dc3-bb40-2ef416a6413f"
      },
      "id": "KxNYop6EArNU",
      "execution_count": null,
      "outputs": [
        {
          "output_type": "stream",
          "name": "stdout",
          "text": [
            "EmpId: 5\n"
          ]
        }
      ]
    },
    {
      "cell_type": "code",
      "source": [
        "print(f\"Employee_ID----------->: {Guvi_Emp['EmpID'][4]}\")\n",
        "print(f\"Employee_Name----------->: {Guvi_Emp['Name'][4]}\")\n",
        "print(f\"Employee_Designation----------->: {Guvi_Emp['Designation'][4]}\")\n",
        "print(f\"Employee_Salary----------->: {Guvi_Emp['Salary'][4]}\")\n"
      ],
      "metadata": {
        "colab": {
          "base_uri": "https://localhost:8080/"
        },
        "id": "LYilPknwBH3e",
        "outputId": "c4540825-44f4-4c81-ea6c-80b126b34258"
      },
      "id": "LYilPknwBH3e",
      "execution_count": null,
      "outputs": [
        {
          "output_type": "stream",
          "name": "stdout",
          "text": [
            "Employee_ID----------->: 7\n",
            "Employee_Name----------->: Karthick\n",
            "Employee_Designation----------->: Jr.Developer\n",
            "Employee_Salary----------->: 20000\n"
          ]
        }
      ]
    },
    {
      "cell_type": "code",
      "source": [
        "Emp_Id=int(input(\"Enter the Emp_Id: \"))\n",
        "Emp_Id\n",
        "print(type(Emp_Id))\n"
      ],
      "metadata": {
        "id": "V8TAohE7Cfmz"
      },
      "id": "V8TAohE7Cfmz",
      "execution_count": null,
      "outputs": []
    },
    {
      "cell_type": "code",
      "source": [
        "Guvi_Emp['EmpID'].index(7)"
      ],
      "metadata": {
        "colab": {
          "base_uri": "https://localhost:8080/"
        },
        "id": "-HtKsPTyEP6r",
        "outputId": "2c9e4449-a616-43d2-dc8e-491de76d510c"
      },
      "id": "-HtKsPTyEP6r",
      "execution_count": null,
      "outputs": [
        {
          "output_type": "execute_result",
          "data": {
            "text/plain": [
              "4"
            ]
          },
          "metadata": {},
          "execution_count": 164
        }
      ]
    },
    {
      "cell_type": "code",
      "source": [
        "User_Emp_Id=int(input(\"Enter the Emp_Id: \"))\n",
        "pos=Guvi_Emp['EmpID'].index(User_Emp_Id)\n",
        "pos\n",
        "\n",
        "print(f\"Employee_ID----------->: {Guvi_Emp['EmpID'][pos]}\")\n",
        "print(f\"Employee_Name----------->: {Guvi_Emp['Name'][pos]}\")\n",
        "print(f\"Employee_Designation----------->: {Guvi_Emp['Designation'][pos]}\")\n",
        "print(f\"Employee_Salary----------->: {Guvi_Emp['Salary'][pos]}\")\n"
      ],
      "metadata": {
        "colab": {
          "base_uri": "https://localhost:8080/"
        },
        "id": "-sqV9EPHBhfg",
        "outputId": "7460a729-d478-4524-8c7d-2aef9c66dd34"
      },
      "id": "-sqV9EPHBhfg",
      "execution_count": null,
      "outputs": [
        {
          "output_type": "stream",
          "name": "stdout",
          "text": [
            "Enter the Emp_Id: 19\n",
            "Employee_ID----------->: 19\n",
            "Employee_Name----------->: Divya\n",
            "Employee_Designation----------->: HR\n",
            "Employee_Salary----------->: 15000\n"
          ]
        }
      ]
    },
    {
      "cell_type": "code",
      "source": [
        "dir(dict)"
      ],
      "metadata": {
        "colab": {
          "base_uri": "https://localhost:8080/"
        },
        "id": "P-W9BXVLC-Pc",
        "outputId": "fed839dd-88ea-4139-a6a7-ac8b742e7f71"
      },
      "id": "P-W9BXVLC-Pc",
      "execution_count": null,
      "outputs": [
        {
          "output_type": "execute_result",
          "data": {
            "text/plain": [
              "['__class__',\n",
              " '__class_getitem__',\n",
              " '__contains__',\n",
              " '__delattr__',\n",
              " '__delitem__',\n",
              " '__dir__',\n",
              " '__doc__',\n",
              " '__eq__',\n",
              " '__format__',\n",
              " '__ge__',\n",
              " '__getattribute__',\n",
              " '__getitem__',\n",
              " '__getstate__',\n",
              " '__gt__',\n",
              " '__hash__',\n",
              " '__init__',\n",
              " '__init_subclass__',\n",
              " '__ior__',\n",
              " '__iter__',\n",
              " '__le__',\n",
              " '__len__',\n",
              " '__lt__',\n",
              " '__ne__',\n",
              " '__new__',\n",
              " '__or__',\n",
              " '__reduce__',\n",
              " '__reduce_ex__',\n",
              " '__repr__',\n",
              " '__reversed__',\n",
              " '__ror__',\n",
              " '__setattr__',\n",
              " '__setitem__',\n",
              " '__sizeof__',\n",
              " '__str__',\n",
              " '__subclasshook__',\n",
              " 'clear',\n",
              " 'copy',\n",
              " 'fromkeys',\n",
              " 'get',\n",
              " 'items',\n",
              " 'keys',\n",
              " 'pop',\n",
              " 'popitem',\n",
              " 'setdefault',\n",
              " 'update',\n",
              " 'values']"
            ]
          },
          "metadata": {},
          "execution_count": 165
        }
      ]
    },
    {
      "cell_type": "code",
      "source": [
        "# Clear\n",
        "\n",
        "Dummy={\"Name\":\"Ram\",\n",
        "       \"Age\":25}\n",
        "\n",
        "Dummy.clear()\n",
        "Dummy\n",
        "\n"
      ],
      "metadata": {
        "colab": {
          "base_uri": "https://localhost:8080/"
        },
        "id": "uBOWU7ccE0Yh",
        "outputId": "0161d955-f21c-4229-a4e0-087d7f503e12"
      },
      "id": "uBOWU7ccE0Yh",
      "execution_count": null,
      "outputs": [
        {
          "output_type": "execute_result",
          "data": {
            "text/plain": [
              "{}"
            ]
          },
          "metadata": {},
          "execution_count": 166
        }
      ]
    },
    {
      "cell_type": "code",
      "source": [
        "# fromkeys\n",
        "\n",
        "Keys=[\"Name\",\"Age\",\"Salary\"]\n",
        "Values=None\n",
        "\n",
        "Emp=dict.fromkeys(Keys,Values)\n",
        "Emp\n",
        "\n",
        "\n"
      ],
      "metadata": {
        "colab": {
          "base_uri": "https://localhost:8080/"
        },
        "id": "wdorRWk6FE9E",
        "outputId": "b0f1163f-4619-4f8a-c1d1-3ee0ac816193"
      },
      "id": "wdorRWk6FE9E",
      "execution_count": null,
      "outputs": [
        {
          "output_type": "execute_result",
          "data": {
            "text/plain": [
              "{'Name': None, 'Age': None, 'Salary': None}"
            ]
          },
          "metadata": {},
          "execution_count": 173
        }
      ]
    },
    {
      "cell_type": "code",
      "source": [
        "Guvi_Emp={\n",
        "    'EmpID': [44,55,67,21,7,8,19,27],\n",
        "    'Name':['Rajesh','Kumar','Kamal','Saran','Karthick','Iswarya','Divya','David'],\n",
        "    'Designation':['Developer','Tester','TeamLead','Manager','Jr.Developer','Accontant','HR','Admin'],\n",
        "    'Salary': [25000,30000,45000,60000,20000,22000,15000,28000],\n",
        "\n",
        "}\n",
        "Guvi_Emp"
      ],
      "metadata": {
        "colab": {
          "base_uri": "https://localhost:8080/"
        },
        "id": "VAEVLzB6i3MK",
        "outputId": "a344fb1f-706f-4556-aa4b-52c5804061f6"
      },
      "id": "VAEVLzB6i3MK",
      "execution_count": null,
      "outputs": [
        {
          "output_type": "execute_result",
          "data": {
            "text/plain": [
              "{'EmpID': (44, 55, 67, 21, 7, 8, 19, 27),\n",
              " 'Name': ['Rajesh',\n",
              "  'Kumar',\n",
              "  'Kamal',\n",
              "  'Saran',\n",
              "  'Karthick',\n",
              "  'Iswarya',\n",
              "  'Divya',\n",
              "  'David'],\n",
              " 'Designation': ['Developer',\n",
              "  'Tester',\n",
              "  'TeamLead',\n",
              "  'Manager',\n",
              "  'Jr.Developer',\n",
              "  'Accontant',\n",
              "  'HR',\n",
              "  'Admin'],\n",
              " 'Salary': [25000, 30000, 45000, 60000, 20000, 22000, 15000, 28000]}"
            ]
          },
          "metadata": {},
          "execution_count": 7
        }
      ]
    },
    {
      "cell_type": "code",
      "source": [
        "Guvi_Emp={\n",
        "    'Emp_1':{\n",
        "        \"EmpID\": 55,\n",
        "        \"Name\": \"Kumar\",\n",
        "        \"Designation\": \"Tester\",\n",
        "        \"Salary\": 30000,\n",
        "        \"Mobile\":{'Mobile_1':123456789,\"Mobile_2\":23456789},\n",
        "    },\n",
        "    'Emp_2':{\n",
        "        \"EmpID\": 67,\n",
        "        \"Name\": \"Kamal\",\n",
        "        \"Designation\": \"TeamLead\",\n",
        "        \"Salary\": 45000\n",
        "    },\n",
        "    }\n",
        "Guvi_Emp"
      ],
      "metadata": {
        "colab": {
          "base_uri": "https://localhost:8080/"
        },
        "id": "OarTHDgRjFsy",
        "outputId": "a1913e0d-aee8-4c26-b220-0758049b0efb"
      },
      "id": "OarTHDgRjFsy",
      "execution_count": null,
      "outputs": [
        {
          "output_type": "execute_result",
          "data": {
            "text/plain": [
              "{'Emp_1': {'EmpID': 55,\n",
              "  'Name': 'Kumar',\n",
              "  'Designation': 'Tester',\n",
              "  'Salary': 30000,\n",
              "  'Mobile': {'Mobile_1': 123456789, 'Mobile_2': 23456789}},\n",
              " 'Emp_2': {'EmpID': 67,\n",
              "  'Name': 'Kamal',\n",
              "  'Designation': 'TeamLead',\n",
              "  'Salary': 45000}}"
            ]
          },
          "metadata": {},
          "execution_count": 9
        }
      ]
    },
    {
      "cell_type": "code",
      "source": [
        "Guvi_Emp['Emp_1']['Mobile']['Mobile_2']"
      ],
      "metadata": {
        "colab": {
          "base_uri": "https://localhost:8080/"
        },
        "id": "FPqpnDDVjq-l",
        "outputId": "29e97588-2a1c-4f2f-fc52-c131ce1585b3"
      },
      "id": "FPqpnDDVjq-l",
      "execution_count": null,
      "outputs": [
        {
          "output_type": "execute_result",
          "data": {
            "text/plain": [
              "23456789"
            ]
          },
          "metadata": {},
          "execution_count": 12
        }
      ]
    },
    {
      "cell_type": "code",
      "source": [
        "# Items\n",
        "Guvi_Emp={\n",
        "    'EmpID': (44,55,67,21,7,8,19,27),\n",
        "    'Name':['Rajesh','Kumar','Kamal','Saran','Karthick','Iswarya','Divya','David'],\n",
        "    'Designation':['Developer','Tester','TeamLead','Manager','Jr.Developer','Accontant','HR','Admin'],\n",
        "    'Salary': [25000,30000,45000,60000,20000,22000,15000,28000],\n",
        "\n",
        "}\n",
        "Guvi_Emp.items()\n"
      ],
      "metadata": {
        "colab": {
          "base_uri": "https://localhost:8080/"
        },
        "id": "S2qyBgQcFum4",
        "outputId": "1eef16ff-6729-4ac7-81de-8fa54d5004fd"
      },
      "id": "S2qyBgQcFum4",
      "execution_count": null,
      "outputs": [
        {
          "output_type": "execute_result",
          "data": {
            "text/plain": [
              "dict_items([('EmpID', (44, 55, 67, 21, 7, 8, 19, 27)), ('Name', ['Rajesh', 'Kumar', 'Kamal', 'Saran', 'Karthick', 'Iswarya', 'Divya', 'David']), ('Designation', ['Developer', 'Tester', 'TeamLead', 'Manager', 'Jr.Developer', 'Accontant', 'HR', 'Admin']), ('Salary', [25000, 30000, 45000, 60000, 20000, 22000, 15000, 28000])])"
            ]
          },
          "metadata": {},
          "execution_count": 6
        }
      ]
    },
    {
      "cell_type": "code",
      "source": [
        "#Items\n",
        "Emp={'Name':'Raja',\n",
        "     'Age':30,\n",
        "     'Income':30000} # It Allow Duplicate in Value But Not in Keys, Mutable, Order\n",
        "Emp.items()"
      ],
      "metadata": {
        "colab": {
          "base_uri": "https://localhost:8080/"
        },
        "id": "E4FpwsrvGsaY",
        "outputId": "24542bb9-9dd2-4303-9023-fbf0a0021516"
      },
      "id": "E4FpwsrvGsaY",
      "execution_count": null,
      "outputs": [
        {
          "output_type": "execute_result",
          "data": {
            "text/plain": [
              "dict_items([('Name', 'Raja'), ('Age', 30), ('Income', 30000)])"
            ]
          },
          "metadata": {},
          "execution_count": 187
        }
      ]
    },
    {
      "cell_type": "code",
      "source": [
        "# Keys\n",
        "Emp={'Name':'Raja',\n",
        "     'Age':30,\n",
        "     'Income':30000} # It Allow Duplicate in Value But Not in Keys, Mutable, Order\n",
        "Emp.keys()"
      ],
      "metadata": {
        "colab": {
          "base_uri": "https://localhost:8080/"
        },
        "id": "FnnXwBg8G1Dt",
        "outputId": "9da4f53e-e279-496e-a524-7445642f4df7"
      },
      "id": "FnnXwBg8G1Dt",
      "execution_count": null,
      "outputs": [
        {
          "output_type": "execute_result",
          "data": {
            "text/plain": [
              "dict_keys(['Name', 'Age', 'Income'])"
            ]
          },
          "metadata": {},
          "execution_count": 176
        }
      ]
    },
    {
      "cell_type": "code",
      "source": [
        "# Values\n",
        "Emp={'Name':'Raja',\n",
        "     'Age':30,\n",
        "     'Income':30000} # It Allow Duplicate in Value But Not in Keys, Mutable, Order\n",
        "Emp.values()"
      ],
      "metadata": {
        "colab": {
          "base_uri": "https://localhost:8080/"
        },
        "id": "HeHlJEXiG6k2",
        "outputId": "1d458545-643c-4ce7-c495-685e3839f2dc"
      },
      "id": "HeHlJEXiG6k2",
      "execution_count": null,
      "outputs": [
        {
          "output_type": "execute_result",
          "data": {
            "text/plain": [
              "dict_values(['Raja', 30, 30000])"
            ]
          },
          "metadata": {},
          "execution_count": 186
        }
      ]
    },
    {
      "cell_type": "code",
      "source": [
        "# Get\n",
        "\n",
        "Emp.get('Name')"
      ],
      "metadata": {
        "colab": {
          "base_uri": "https://localhost:8080/",
          "height": 35
        },
        "id": "7cvmd7MeG8cK",
        "outputId": "9f5c5446-db73-4204-96de-645b47d72675"
      },
      "id": "7cvmd7MeG8cK",
      "execution_count": null,
      "outputs": [
        {
          "output_type": "execute_result",
          "data": {
            "text/plain": [
              "'Raja'"
            ],
            "application/vnd.google.colaboratory.intrinsic+json": {
              "type": "string"
            }
          },
          "metadata": {},
          "execution_count": 178
        }
      ]
    },
    {
      "cell_type": "code",
      "source": [
        "Emp['Name']"
      ],
      "metadata": {
        "colab": {
          "base_uri": "https://localhost:8080/",
          "height": 35
        },
        "id": "Vqg0f93HHY00",
        "outputId": "34473e75-8bfc-4f87-e829-ff3124dc5e70"
      },
      "id": "Vqg0f93HHY00",
      "execution_count": null,
      "outputs": [
        {
          "output_type": "execute_result",
          "data": {
            "text/plain": [
              "'Raja'"
            ],
            "application/vnd.google.colaboratory.intrinsic+json": {
              "type": "string"
            }
          },
          "metadata": {},
          "execution_count": 179
        }
      ]
    },
    {
      "cell_type": "code",
      "source": [
        "# Pop\n",
        "\n",
        "Emp.pop('Age')"
      ],
      "metadata": {
        "colab": {
          "base_uri": "https://localhost:8080/"
        },
        "id": "vvm6yJ29Hc26",
        "outputId": "b775baaf-780e-47d4-8bd3-17a99ca0430a"
      },
      "id": "vvm6yJ29Hc26",
      "execution_count": null,
      "outputs": [
        {
          "output_type": "execute_result",
          "data": {
            "text/plain": [
              "30"
            ]
          },
          "metadata": {},
          "execution_count": 181
        }
      ]
    },
    {
      "cell_type": "code",
      "source": [
        "Emp"
      ],
      "metadata": {
        "colab": {
          "base_uri": "https://localhost:8080/"
        },
        "id": "f3-64tkCHwKG",
        "outputId": "05736652-eb55-4e7b-ecf9-d17ee7d39950"
      },
      "id": "f3-64tkCHwKG",
      "execution_count": null,
      "outputs": [
        {
          "output_type": "execute_result",
          "data": {
            "text/plain": [
              "{'Name': 'Raja', 'Income': 30000}"
            ]
          },
          "metadata": {},
          "execution_count": 182
        }
      ]
    },
    {
      "cell_type": "code",
      "source": [
        "# Pop item\n",
        "\n",
        "Emp.popitem()"
      ],
      "metadata": {
        "colab": {
          "base_uri": "https://localhost:8080/"
        },
        "id": "AzKyTaPrIBvf",
        "outputId": "1177cc1f-b334-495b-b432-08c22b644b44"
      },
      "id": "AzKyTaPrIBvf",
      "execution_count": null,
      "outputs": [
        {
          "output_type": "execute_result",
          "data": {
            "text/plain": [
              "('Income', 30000)"
            ]
          },
          "metadata": {},
          "execution_count": 183
        }
      ]
    },
    {
      "cell_type": "code",
      "source": [
        "Emp"
      ],
      "metadata": {
        "colab": {
          "base_uri": "https://localhost:8080/"
        },
        "id": "5NEld8I5IKQD",
        "outputId": "c7c093b2-8137-49e1-8743-5bfa69c87984"
      },
      "id": "5NEld8I5IKQD",
      "execution_count": null,
      "outputs": [
        {
          "output_type": "execute_result",
          "data": {
            "text/plain": [
              "{'Name': 'Raja'}"
            ]
          },
          "metadata": {},
          "execution_count": 184
        }
      ]
    },
    {
      "cell_type": "code",
      "source": [
        "\n",
        "Emp.popitem()\n",
        "Emp"
      ],
      "metadata": {
        "colab": {
          "base_uri": "https://localhost:8080/"
        },
        "id": "EmAhiLmvIZvc",
        "outputId": "ec483212-80cb-4bab-c673-eb4b4e948975"
      },
      "id": "EmAhiLmvIZvc",
      "execution_count": null,
      "outputs": [
        {
          "output_type": "execute_result",
          "data": {
            "text/plain": [
              "{}"
            ]
          },
          "metadata": {},
          "execution_count": 185
        }
      ]
    },
    {
      "cell_type": "code",
      "source": [
        "Emp.popitem()\n",
        "Emp"
      ],
      "metadata": {
        "colab": {
          "base_uri": "https://localhost:8080/"
        },
        "id": "eU_GklEXIeRJ",
        "outputId": "99f9ae92-4738-4b07-d7ab-4c6b0632523a"
      },
      "id": "eU_GklEXIeRJ",
      "execution_count": null,
      "outputs": [
        {
          "output_type": "execute_result",
          "data": {
            "text/plain": [
              "{'Name': 'Raja', 'Age': 30}"
            ]
          },
          "metadata": {},
          "execution_count": 189
        }
      ]
    },
    {
      "cell_type": "code",
      "source": [
        "Emp"
      ],
      "metadata": {
        "colab": {
          "base_uri": "https://localhost:8080/"
        },
        "id": "z7OEeq7_I4Qm",
        "outputId": "e37480b5-83b0-403c-d51c-24f74da7c4e6"
      },
      "id": "z7OEeq7_I4Qm",
      "execution_count": null,
      "outputs": [
        {
          "output_type": "execute_result",
          "data": {
            "text/plain": [
              "{'Name': 'Raja', 'Age': 30}"
            ]
          },
          "metadata": {},
          "execution_count": 190
        }
      ]
    },
    {
      "cell_type": "code",
      "source": [
        "Emp['Address']=\"Kovai\""
      ],
      "metadata": {
        "id": "JaZMHs7dJUdR"
      },
      "id": "JaZMHs7dJUdR",
      "execution_count": null,
      "outputs": []
    },
    {
      "cell_type": "code",
      "source": [
        "Emp"
      ],
      "metadata": {
        "colab": {
          "base_uri": "https://localhost:8080/"
        },
        "id": "vluNbu0bJY0p",
        "outputId": "3b39105d-d408-4fb1-d924-baa043fb5c70"
      },
      "id": "vluNbu0bJY0p",
      "execution_count": null,
      "outputs": [
        {
          "output_type": "execute_result",
          "data": {
            "text/plain": [
              "{'Name': 'Raja', 'Age': 30, 'Address': 'Kovai'}"
            ]
          },
          "metadata": {},
          "execution_count": 196
        }
      ]
    },
    {
      "cell_type": "code",
      "source": [
        "# Set Default\n",
        "Emp={'Name':'Raja',\n",
        "     'Age':30,\n",
        "     'Income':30000}\n",
        "\n",
        "Emp.setdefault('Mobile',87456789)\n",
        "Emp"
      ],
      "metadata": {
        "colab": {
          "base_uri": "https://localhost:8080/"
        },
        "id": "wTQVQGeHJ4CK",
        "outputId": "a1fbdbb8-cfcf-4541-8ad0-28091ab6d8bf"
      },
      "id": "wTQVQGeHJ4CK",
      "execution_count": null,
      "outputs": [
        {
          "output_type": "execute_result",
          "data": {
            "text/plain": [
              "{'Name': 'Raja', 'Age': 30, 'Income': 30000, 'Mobile': 87456789}"
            ]
          },
          "metadata": {},
          "execution_count": 200
        }
      ]
    },
    {
      "cell_type": "code",
      "source": [
        "Emp.setdefault('Address')\n",
        "Emp"
      ],
      "metadata": {
        "colab": {
          "base_uri": "https://localhost:8080/"
        },
        "id": "aK54jFNWKLuT",
        "outputId": "985eed05-a3bb-44c3-c394-9649a93274e7"
      },
      "id": "aK54jFNWKLuT",
      "execution_count": null,
      "outputs": [
        {
          "output_type": "execute_result",
          "data": {
            "text/plain": [
              "{'Name': 'Raja',\n",
              " 'Age': 30,\n",
              " 'Income': 30000,\n",
              " 'Mobile': 87456789,\n",
              " 'Address': None}"
            ]
          },
          "metadata": {},
          "execution_count": 201
        }
      ]
    },
    {
      "cell_type": "code",
      "source": [
        "Emp['Address']='Chennai'"
      ],
      "metadata": {
        "id": "QDmKhUKhKfxx"
      },
      "id": "QDmKhUKhKfxx",
      "execution_count": null,
      "outputs": []
    },
    {
      "cell_type": "code",
      "source": [
        "Emp"
      ],
      "metadata": {
        "id": "gcE_nWJlK3wl",
        "outputId": "1c73ef4e-3e21-4b53-b1ac-e5c6c0bb2487",
        "colab": {
          "base_uri": "https://localhost:8080/"
        }
      },
      "id": "gcE_nWJlK3wl",
      "execution_count": null,
      "outputs": [
        {
          "output_type": "execute_result",
          "data": {
            "text/plain": [
              "{'Name': 'Raja',\n",
              " 'Age': 30,\n",
              " 'Income': 30000,\n",
              " 'Mobile': 87456789,\n",
              " 'Address': 'Chennai'}"
            ]
          },
          "metadata": {},
          "execution_count": 203
        }
      ]
    },
    {
      "cell_type": "markdown",
      "source": [
        "## Conditional Statment"
      ],
      "metadata": {
        "id": "RAm-EZCGhs51"
      },
      "id": "RAm-EZCGhs51"
    },
    {
      "cell_type": "code",
      "source": [
        "# Simple Condition\n",
        "\n",
        "Age=int(input(\"Enter Your Age:\"))\n",
        "\n",
        "if Age>18:\n",
        "  print('Allow')"
      ],
      "metadata": {
        "id": "bV4MhRNOK4n4",
        "colab": {
          "base_uri": "https://localhost:8080/"
        },
        "outputId": "c51055f4-6589-4f61-dfd9-a3365bc56563"
      },
      "id": "bV4MhRNOK4n4",
      "execution_count": null,
      "outputs": [
        {
          "name": "stdout",
          "output_type": "stream",
          "text": [
            "Enter Your Age:15\n"
          ]
        }
      ]
    },
    {
      "cell_type": "code",
      "source": [
        "Age=int(input(\"Enter Your Age:\"))\n",
        "\n",
        "if Age>18:\n",
        "  print('Allow')\n",
        "\n",
        "else:\n",
        "  print('Not Allow')"
      ],
      "metadata": {
        "colab": {
          "base_uri": "https://localhost:8080/"
        },
        "id": "85KXyENenVWs",
        "outputId": "a8764a67-e2ca-45f1-f956-0ddcd6ce3f35"
      },
      "id": "85KXyENenVWs",
      "execution_count": null,
      "outputs": [
        {
          "output_type": "stream",
          "name": "stdout",
          "text": [
            "Enter Your Age:15\n",
            "Not Allow\n"
          ]
        }
      ]
    },
    {
      "cell_type": "code",
      "source": [
        "Age=int(input(\"Enter Your Age:\"))\n",
        "\n",
        "if Age>=18 and Age<=60:\n",
        "  print('Allow')\n",
        "\n",
        "else:\n",
        "  print('Not Allow')"
      ],
      "metadata": {
        "colab": {
          "base_uri": "https://localhost:8080/"
        },
        "id": "x1uBP47jnl80",
        "outputId": "a2d3953a-5015-4490-c727-34aba60e3faf"
      },
      "id": "x1uBP47jnl80",
      "execution_count": null,
      "outputs": [
        {
          "output_type": "stream",
          "name": "stdout",
          "text": [
            "Enter Your Age:18\n",
            "Allow\n"
          ]
        }
      ]
    },
    {
      "cell_type": "code",
      "source": [
        "Mark=int(input(\"Enter Your Mark:\"))\n",
        "\n",
        "if Mark>=35:\n",
        "  print('Pass')\n",
        "\n",
        "else:\n",
        "  print('Fail')\n"
      ],
      "metadata": {
        "colab": {
          "base_uri": "https://localhost:8080/"
        },
        "id": "hEkeROF5n6gC",
        "outputId": "dc8783cb-f680-4bd4-923d-a743f7aeef12"
      },
      "id": "hEkeROF5n6gC",
      "execution_count": null,
      "outputs": [
        {
          "output_type": "stream",
          "name": "stdout",
          "text": [
            "Enter Your Mark:35\n",
            "Pass\n"
          ]
        }
      ]
    },
    {
      "cell_type": "code",
      "source": [
        "# 100 - 91 Doctor, 90-81 Engineer, 80-71 Ats, 70-41 Diploma 40-0 Fail\n",
        "\n",
        "# Raja Yor Mark is 75 And your are Eligible for Diploma\n",
        "\n",
        "Name=input(\"Enter Your Name:\")\n",
        "Mark=int(input(\"Enter Your Mark:\"))\n",
        "\n",
        "if Mark>=91 and Mark<=100:\n",
        "  print(f\"{Name} Your Mark is {Mark} And you are Eligible for Doctor\")\n",
        "\n",
        "elif Mark>=81 and Mark<=90:\n",
        "  print(f\"{Name} Your Mark is {Mark} And you are Eligible for Engineer\")\n",
        "\n",
        "elif Mark>=71 and Mark<=80:\n",
        "  print(f\"{Name} Your Mark is {Mark} And you are Eligible for Ats\")\n",
        "\n",
        "elif Mark>=41 and Mark<=70:\n",
        "  print(f\"{Name} Your Mark is {Mark} And you are Eligible for Diploma\")\n",
        "\n",
        "else:\n",
        "  print(f\"{Name} Your Mark is {Mark} And you are Fail\")\n"
      ],
      "metadata": {
        "colab": {
          "base_uri": "https://localhost:8080/"
        },
        "id": "w0_5-4jposDg",
        "outputId": "4331abf9-58d5-48b6-c63a-d661a3afaebd"
      },
      "id": "w0_5-4jposDg",
      "execution_count": null,
      "outputs": [
        {
          "output_type": "stream",
          "name": "stdout",
          "text": [
            "Enter Your Name:Raja\n",
            "Enter Your Mark:55\n",
            "Raja Your Mark is 55 And you are Eligible for Diploma\n"
          ]
        }
      ]
    },
    {
      "cell_type": "code",
      "source": [
        "# 100 - 91 Doctor, 90-81 Engineer, 80-71 Ats, 70-41 Diploma 40-0 Fail\n",
        "# Neet > 90 Doctor Eligible\n",
        "\n",
        "\n",
        "Name=input(\"Enter Your Name:\")\n",
        "Mark=int(input(\"Enter Your Mark:\"))\n",
        "\n",
        "\n",
        "\n",
        "if Mark>=91 and Mark<=100:\n",
        "  Neet=int(input(\"Enter Your Neet Score:\"))\n",
        "  if Neet>=90:\n",
        "    print(f\"{Name} Your Mark is {Mark} And you Neet Score {Neet} Since You are Eligible for Doctor\")\n",
        "  else:\n",
        "    print(f\"{Name} Your Mark is {Mark} And you Neet Score {Neet} Since You are Not Eligible for Doctor You Can Try for Other Courses\")\n",
        "\n",
        "\n",
        "elif Mark>=81 and Mark<=90:\n",
        "  print(f\"{Name} Your Mark is {Mark} And you are Eligible for Engineer\")\n",
        "\n",
        "elif Mark>=71 and Mark<=80:\n",
        "  print(f\"{Name} Your Mark is {Mark} And you are Eligible for Ats\")\n",
        "\n",
        "elif Mark>=41 and Mark<=70:\n",
        "  print(f\"{Name} Your Mark is {Mark} And you are Eligible for Diploma\")\n",
        "\n",
        "else:\n",
        "  print(f\"{Name} Your Mark is {Mark} And you are Fail\")\n",
        "\n",
        "\n"
      ],
      "metadata": {
        "colab": {
          "base_uri": "https://localhost:8080/"
        },
        "id": "3I5f-P23qeNo",
        "outputId": "fb688683-ae5f-4de1-b398-c735be478d07"
      },
      "id": "3I5f-P23qeNo",
      "execution_count": null,
      "outputs": [
        {
          "output_type": "stream",
          "name": "stdout",
          "text": [
            "Enter Your Name:Manimegalai\n",
            "Enter Your Mark:93\n",
            "Enter Your Neet Score:89\n",
            "Manimegalai Your Mark is 93 And you Neet Score 89 Since You are Not Eligible for Doctor You Can Try for Other Courses\n"
          ]
        }
      ]
    },
    {
      "cell_type": "code",
      "source": [
        "Name=input(\"Enter Your Name-----\")\n",
        "Mark=int(input(\"Enter Your Mark:\"))\n",
        "Neet=int(input(\"Enter Your Neet Score:\"))\n",
        "\n",
        "if Mark>90 and Neet>90 and \"i\"  in  Name:\n",
        "  print(f\"{Name} Your Mark is {Mark} And you Neet Score {Neet} Since You are Eligible for Doctor\")\n",
        "else:\n",
        "  print(f\"{Name} Your Mark is {Mark} And you Neet Score {Neet} Since You are Not Eligible for Doctor You Can Try for Other Courses\")"
      ],
      "metadata": {
        "colab": {
          "base_uri": "https://localhost:8080/"
        },
        "id": "seCXptRqs7iG",
        "outputId": "5a376f7d-0cdd-4e42-81cd-c98ecc38e90f"
      },
      "id": "seCXptRqs7iG",
      "execution_count": null,
      "outputs": [
        {
          "output_type": "stream",
          "name": "stdout",
          "text": [
            "Enter Your Name-----mani\n",
            "Enter Your Mark:92\n",
            "Enter Your Neet Score:93\n",
            "mani Your Mark is 92 And you Neet Score 93 Since You are Eligible for Doctor\n"
          ]
        }
      ]
    },
    {
      "cell_type": "code",
      "source": [
        "dir(str)"
      ],
      "metadata": {
        "colab": {
          "base_uri": "https://localhost:8080/"
        },
        "id": "LkE7etNF0fNO",
        "outputId": "24185ef2-ce91-41d0-c233-6dc9efd55bb5"
      },
      "id": "LkE7etNF0fNO",
      "execution_count": null,
      "outputs": [
        {
          "output_type": "execute_result",
          "data": {
            "text/plain": [
              "['__add__',\n",
              " '__class__',\n",
              " '__contains__',\n",
              " '__delattr__',\n",
              " '__dir__',\n",
              " '__doc__',\n",
              " '__eq__',\n",
              " '__format__',\n",
              " '__ge__',\n",
              " '__getattribute__',\n",
              " '__getitem__',\n",
              " '__getnewargs__',\n",
              " '__getstate__',\n",
              " '__gt__',\n",
              " '__hash__',\n",
              " '__init__',\n",
              " '__init_subclass__',\n",
              " '__iter__',\n",
              " '__le__',\n",
              " '__len__',\n",
              " '__lt__',\n",
              " '__mod__',\n",
              " '__mul__',\n",
              " '__ne__',\n",
              " '__new__',\n",
              " '__reduce__',\n",
              " '__reduce_ex__',\n",
              " '__repr__',\n",
              " '__rmod__',\n",
              " '__rmul__',\n",
              " '__setattr__',\n",
              " '__sizeof__',\n",
              " '__str__',\n",
              " '__subclasshook__',\n",
              " 'capitalize',\n",
              " 'casefold',\n",
              " 'center',\n",
              " 'count',\n",
              " 'encode',\n",
              " 'endswith',\n",
              " 'expandtabs',\n",
              " 'find',\n",
              " 'format',\n",
              " 'format_map',\n",
              " 'index',\n",
              " 'isalnum',\n",
              " 'isalpha',\n",
              " 'isascii',\n",
              " 'isdecimal',\n",
              " 'isdigit',\n",
              " 'isidentifier',\n",
              " 'islower',\n",
              " 'isnumeric',\n",
              " 'isprintable',\n",
              " 'isspace',\n",
              " 'istitle',\n",
              " 'isupper',\n",
              " 'join',\n",
              " 'ljust',\n",
              " 'lower',\n",
              " 'lstrip',\n",
              " 'maketrans',\n",
              " 'partition',\n",
              " 'removeprefix',\n",
              " 'removesuffix',\n",
              " 'replace',\n",
              " 'rfind',\n",
              " 'rindex',\n",
              " 'rjust',\n",
              " 'rpartition',\n",
              " 'rsplit',\n",
              " 'rstrip',\n",
              " 'split',\n",
              " 'splitlines',\n",
              " 'startswith',\n",
              " 'strip',\n",
              " 'swapcase',\n",
              " 'title',\n",
              " 'translate',\n",
              " 'upper',\n",
              " 'zfill']"
            ]
          },
          "metadata": {},
          "execution_count": 44
        }
      ]
    },
    {
      "cell_type": "markdown",
      "source": [
        "\n",
        "\n",
        "\n",
        "\n",
        "\n",
        "```\n",
        "# This is formatted as code\n",
        "\n",
        "if *condition_1 == (True)* :\n",
        "    *Do something for condition_1*\n",
        "\n",
        "    if *condition_2 == (True)* :\n",
        "        *Do something for condition_2*\n",
        "\n",
        "    else:(condition_2 == 'False')\n",
        "        *Do this for inside if*\n",
        "\n",
        "else:(condition_1 == 'False')\n",
        "    *Do this for outside if*\n",
        "```\n",
        "\n",
        "\n",
        "\n",
        "\n"
      ],
      "metadata": {
        "id": "QGa2LpJKyMtW"
      },
      "id": "QGa2LpJKyMtW"
    },
    {
      "cell_type": "markdown",
      "source": [
        "## Loops\n",
        "\n",
        "1. For loop\n",
        "2. While loop\n"
      ],
      "metadata": {
        "id": "k6Ca_NgWyD5F"
      },
      "id": "k6Ca_NgWyD5F"
    },
    {
      "cell_type": "markdown",
      "source": [
        "\n",
        "### **For Loop in Python**\n",
        "\n",
        "**Iterator** –  \n",
        "This is the loop variable that automatically takes each value from the sequence (iterable). It changes automatically at each iteration. It is assigned once per loop cycle.\n",
        "\n",
        "**Iterable / Sequence** –  \n",
        "It is the collection (like list, tuple, string, or range) over which the loop iterates.\n",
        "\n",
        "**Body** –  \n",
        "It is the block of code that runs during each iteration for the current item of the iterable.\n",
        "\n",
        "---\n",
        "\n",
        " **Syntax**\n",
        "```\n",
        "for *iterator* in *iterable*:\n",
        "    *Do something*\n",
        "```\n",
        "\n",
        "---\n",
        "\n",
        " **TYPES OF FOR LOOP**\n",
        "\n",
        "- **Numeric For Loop** (using `range`)\n",
        "- **Collection-based For Loop** (list, tuple, dictionary, string)\n",
        "- **Length/Range-based For Loop** (using `len` with `range`)\n",
        "- **For Loop with Conditional Statements** (adding `if` conditions inside loop)\n",
        "- **Nested For Loop** (for loop inside another for loop)\n",
        "- **Dual Looping (zip)** (iterating two sequences together)\n",
        "- **Index Looping (enumerate)** (getting both index and item together)\n"
      ],
      "metadata": {
        "id": "H1Xi5Vrteucv"
      },
      "id": "H1Xi5Vrteucv"
    },
    {
      "cell_type": "code",
      "source": [
        "Name=['Raja','Ravi','Rani','Ramu']\n",
        "\n",
        "for i in Name:\n",
        "  print(i)"
      ],
      "metadata": {
        "colab": {
          "base_uri": "https://localhost:8080/"
        },
        "id": "Vz0fzJORt1pJ",
        "outputId": "5902d503-9661-4083-ae17-4361674ed2ca"
      },
      "id": "Vz0fzJORt1pJ",
      "execution_count": null,
      "outputs": [
        {
          "output_type": "stream",
          "name": "stdout",
          "text": [
            "Raja\n",
            "Ravi\n",
            "Rani\n",
            "Ramu\n"
          ]
        }
      ]
    },
    {
      "cell_type": "code",
      "source": [
        "for i in Name:\n",
        "  print(Name)"
      ],
      "metadata": {
        "colab": {
          "base_uri": "https://localhost:8080/"
        },
        "id": "C17RhFZD4SfH",
        "outputId": "f3a31d5f-247c-444b-8c3f-5f0bbb1d1f84"
      },
      "id": "C17RhFZD4SfH",
      "execution_count": null,
      "outputs": [
        {
          "output_type": "stream",
          "name": "stdout",
          "text": [
            "['Raja', 'Ravi', 'Rani', 'Ramu']\n",
            "['Raja', 'Ravi', 'Rani', 'Ramu']\n",
            "['Raja', 'Ravi', 'Rani', 'Ramu']\n",
            "['Raja', 'Ravi', 'Rani', 'Ramu']\n"
          ]
        }
      ]
    },
    {
      "cell_type": "code",
      "source": [
        "for A in Name:\n",
        "  print(A)"
      ],
      "metadata": {
        "colab": {
          "base_uri": "https://localhost:8080/"
        },
        "id": "jF30HtLr4exg",
        "outputId": "309df89c-85e2-47ee-c0a1-e064e5e52b7a"
      },
      "id": "jF30HtLr4exg",
      "execution_count": null,
      "outputs": [
        {
          "output_type": "stream",
          "name": "stdout",
          "text": [
            "Raja\n",
            "Ravi\n",
            "Rani\n",
            "Ramu\n"
          ]
        }
      ]
    },
    {
      "cell_type": "code",
      "source": [
        "A=5\n",
        "\n",
        "print(6/2)\n",
        "print(6//2)\n",
        "print(6%2)"
      ],
      "metadata": {
        "colab": {
          "base_uri": "https://localhost:8080/"
        },
        "id": "4inI5MPp6mCS",
        "outputId": "d38d7bb5-42a2-410d-8ea4-143db33539fa"
      },
      "id": "4inI5MPp6mCS",
      "execution_count": null,
      "outputs": [
        {
          "output_type": "stream",
          "name": "stdout",
          "text": [
            "3.0\n",
            "3\n",
            "0\n"
          ]
        }
      ]
    },
    {
      "cell_type": "code",
      "source": [
        "print(7%2)"
      ],
      "metadata": {
        "colab": {
          "base_uri": "https://localhost:8080/"
        },
        "id": "BUwfTm-h8Pyv",
        "outputId": "07c1209c-12c5-40f6-94bf-2cc94cf05711"
      },
      "id": "BUwfTm-h8Pyv",
      "execution_count": null,
      "outputs": [
        {
          "output_type": "stream",
          "name": "stdout",
          "text": [
            "1\n"
          ]
        }
      ]
    },
    {
      "cell_type": "code",
      "source": [
        "if A%2==0:\n",
        "  print('Even')\n",
        "else:\n",
        "  print('Odd')"
      ],
      "metadata": {
        "colab": {
          "base_uri": "https://localhost:8080/"
        },
        "id": "KUfX8X7r6tc8",
        "outputId": "0174d9d1-2ca4-48d0-f674-596803aef550"
      },
      "id": "KUfX8X7r6tc8",
      "execution_count": null,
      "outputs": [
        {
          "output_type": "stream",
          "name": "stdout",
          "text": [
            "Odd\n"
          ]
        }
      ]
    },
    {
      "cell_type": "code",
      "source": [
        "Nums=[10,20,39,67,78,44,25,22,68]\n",
        "\n",
        "for n in Nums:\n",
        "\n",
        "  if n%2==0:\n",
        "    print(f\"{n} is Even\")\n",
        "  else:\n",
        "    print(f\"{n} is Odd\")\n"
      ],
      "metadata": {
        "colab": {
          "base_uri": "https://localhost:8080/"
        },
        "id": "kiv6U7Z36OBS",
        "outputId": "63867b33-5bde-4102-f206-c03bcf1f2b08"
      },
      "id": "kiv6U7Z36OBS",
      "execution_count": null,
      "outputs": [
        {
          "output_type": "stream",
          "name": "stdout",
          "text": [
            "10 is Even\n",
            "20 is Even\n",
            "39 is Odd\n",
            "67 is Odd\n",
            "78 is Even\n",
            "44 is Even\n",
            "25 is Odd\n",
            "22 is Even\n",
            "68 is Even\n"
          ]
        }
      ]
    },
    {
      "cell_type": "code",
      "source": [
        "A=[]\n",
        "print(\"A: \",A)\n",
        "A.append(10)\n",
        "print(\"A: \",A)"
      ],
      "metadata": {
        "colab": {
          "base_uri": "https://localhost:8080/"
        },
        "id": "bp6garAM-GgR",
        "outputId": "1e8090c7-1d74-46ab-a14a-041597fe37e8"
      },
      "id": "bp6garAM-GgR",
      "execution_count": null,
      "outputs": [
        {
          "output_type": "stream",
          "name": "stdout",
          "text": [
            "A:  []\n",
            "A:  [10]\n"
          ]
        }
      ]
    },
    {
      "cell_type": "code",
      "source": [
        "A.append(20)\n",
        "A"
      ],
      "metadata": {
        "colab": {
          "base_uri": "https://localhost:8080/"
        },
        "id": "K3V-nBkM-WZN",
        "outputId": "1ecef5cc-674f-4443-9fd8-473260f46350"
      },
      "id": "K3V-nBkM-WZN",
      "execution_count": null,
      "outputs": [
        {
          "output_type": "execute_result",
          "data": {
            "text/plain": [
              "[10, 20]"
            ]
          },
          "metadata": {},
          "execution_count": 61
        }
      ]
    },
    {
      "cell_type": "code",
      "source": [
        "Nums=[10,20,39,67,78,44,25,22,68]\n",
        "\n",
        "odd=[]\n",
        "even=[]\n",
        "\n",
        "for i in Nums:\n",
        "  if i%2==0:\n",
        "    even.append(i)\n",
        "  else:\n",
        "    odd.append(i)\n",
        "\n",
        "print(even)\n",
        "print(odd)\n",
        "\n",
        "\n",
        "\n",
        "\n"
      ],
      "metadata": {
        "colab": {
          "base_uri": "https://localhost:8080/"
        },
        "id": "FzLLClyF9I-8",
        "outputId": "7f07b40f-d65b-47f0-acb4-0ea76f2d24e0"
      },
      "id": "FzLLClyF9I-8",
      "execution_count": null,
      "outputs": [
        {
          "output_type": "stream",
          "name": "stdout",
          "text": [
            "[10, 20, 78, 44, 22, 68]\n",
            "[39, 67, 25]\n"
          ]
        }
      ]
    },
    {
      "cell_type": "code",
      "source": [
        "print(*even)\n",
        "print(*odd)"
      ],
      "metadata": {
        "colab": {
          "base_uri": "https://localhost:8080/"
        },
        "id": "DNWXo1rk_SO0",
        "outputId": "ec451fae-62cf-4147-b976-d6e291248691"
      },
      "id": "DNWXo1rk_SO0",
      "execution_count": null,
      "outputs": [
        {
          "output_type": "stream",
          "name": "stdout",
          "text": [
            "10 20 78 44 22 68\n",
            "39 67 25\n"
          ]
        }
      ]
    },
    {
      "cell_type": "code",
      "source": [
        "Animals=['Cat','Dog','Elephant','Tiger','Lion']\n",
        "\n",
        "print('#'.join(Animals))"
      ],
      "metadata": {
        "colab": {
          "base_uri": "https://localhost:8080/"
        },
        "id": "6adCBcvt_eTL",
        "outputId": "c441b791-8ea0-459c-afc7-c0445462e417"
      },
      "id": "6adCBcvt_eTL",
      "execution_count": null,
      "outputs": [
        {
          "output_type": "stream",
          "name": "stdout",
          "text": [
            "Cat#Dog#Elephant#Tiger#Lion\n"
          ]
        }
      ]
    },
    {
      "cell_type": "code",
      "source": [
        "print(*Animals,sep='#')"
      ],
      "metadata": {
        "colab": {
          "base_uri": "https://localhost:8080/"
        },
        "id": "Wsdz84e9AnRq",
        "outputId": "f7943d22-df5f-4412-dedd-a54ebd26183f"
      },
      "id": "Wsdz84e9AnRq",
      "execution_count": null,
      "outputs": [
        {
          "output_type": "stream",
          "name": "stdout",
          "text": [
            "Cat#Dog#Elephant#Tiger#Lion\n"
          ]
        }
      ]
    },
    {
      "cell_type": "code",
      "source": [
        "print(*even,sep='#')"
      ],
      "metadata": {
        "colab": {
          "base_uri": "https://localhost:8080/"
        },
        "id": "Q9w98QFJAhzr",
        "outputId": "978e2f43-b89f-4305-8fe9-3a0cefdc1c47"
      },
      "id": "Q9w98QFJAhzr",
      "execution_count": null,
      "outputs": [
        {
          "output_type": "stream",
          "name": "stdout",
          "text": [
            "10#20#78#44#22#68\n"
          ]
        }
      ]
    },
    {
      "cell_type": "code",
      "source": [
        "print(f\"This is a Even Number {*even}\")"
      ],
      "metadata": {
        "colab": {
          "base_uri": "https://localhost:8080/",
          "height": 106
        },
        "id": "7RxjzipeAj47",
        "outputId": "9e4ee956-138c-4462-ecc1-56e1ea8517da"
      },
      "id": "7RxjzipeAj47",
      "execution_count": null,
      "outputs": [
        {
          "output_type": "error",
          "ename": "SyntaxError",
          "evalue": "f-string: cannot use starred expression here (<ipython-input-75-24682f74cf8a>, line 1)",
          "traceback": [
            "\u001b[0;36m  File \u001b[0;32m\"<ipython-input-75-24682f74cf8a>\"\u001b[0;36m, line \u001b[0;32m1\u001b[0m\n\u001b[0;31m    print(f\"This is a Even Number {*even}\")\u001b[0m\n\u001b[0m     ^\u001b[0m\n\u001b[0;31mSyntaxError\u001b[0m\u001b[0;31m:\u001b[0m f-string: cannot use starred expression here\n"
          ]
        }
      ]
    },
    {
      "cell_type": "code",
      "source": [
        "print(\"This Is A Even Number\",*even)"
      ],
      "metadata": {
        "colab": {
          "base_uri": "https://localhost:8080/"
        },
        "id": "CymxLORVBOaY",
        "outputId": "b775f054-77b9-4f0d-e831-4c405d87f808"
      },
      "id": "CymxLORVBOaY",
      "execution_count": null,
      "outputs": [
        {
          "output_type": "stream",
          "name": "stdout",
          "text": [
            "This Is A Even Number 10 20 78 44 22 68\n"
          ]
        }
      ]
    },
    {
      "cell_type": "code",
      "source": [
        "Nums=[10,15,20,39,67,78,44,25,22,68,100,12,103,27,78,99,0,1,2,3,4,5,6,7,8,9,10]\n",
        "\n",
        "# % 3 []\n",
        "# % 5 []\n",
        "# % 7 []\n",
        "\n",
        "\n",
        "\n",
        "Nums_3=[]\n",
        "Nums_5=[]\n",
        "Nums_7=[]\n",
        "\n",
        "for i in Nums:\n",
        "  if i%3==0:\n",
        "    Nums_3.append(i)\n",
        "\n",
        "  if i%5==0:\n",
        "    Nums_5.append(i)\n",
        "\n",
        "  if i%7==0:\n",
        "    Nums_7.append(i)\n",
        "\n",
        "print(Nums_3)\n",
        "print(Nums_5)\n",
        "print(Nums_7)\n"
      ],
      "metadata": {
        "colab": {
          "base_uri": "https://localhost:8080/"
        },
        "id": "RTEBGh6y824b",
        "outputId": "d9836509-0574-4401-bb38-82060102035b"
      },
      "id": "RTEBGh6y824b",
      "execution_count": null,
      "outputs": [
        {
          "output_type": "stream",
          "name": "stdout",
          "text": [
            "[15, 39, 78, 12, 27, 78, 99, 0, 3, 6, 9]\n",
            "[10, 15, 20, 25, 100, 0, 5, 10]\n",
            "[0, 7]\n"
          ]
        }
      ]
    },
    {
      "cell_type": "code",
      "source": [
        "0%3"
      ],
      "metadata": {
        "colab": {
          "base_uri": "https://localhost:8080/"
        },
        "id": "kZ3T1LvSHdAm",
        "outputId": "648d00c5-cd75-4234-edfb-466cc6dacccb"
      },
      "id": "kZ3T1LvSHdAm",
      "execution_count": null,
      "outputs": [
        {
          "output_type": "execute_result",
          "data": {
            "text/plain": [
              "0"
            ]
          },
          "metadata": {},
          "execution_count": 100
        }
      ]
    },
    {
      "cell_type": "code",
      "source": [],
      "metadata": {
        "id": "fDHq9gTOHfLb"
      },
      "id": "fDHq9gTOHfLb",
      "execution_count": null,
      "outputs": []
    },
    {
      "cell_type": "code",
      "source": [
        "\n",
        "Name=['Raja','Ravi','Rani','Ramu']\n",
        "\n",
        "for i in Name:\n",
        "  print(i,end=' ')\n",
        "\n"
      ],
      "metadata": {
        "colab": {
          "base_uri": "https://localhost:8080/"
        },
        "id": "XZtemBCTCIqd",
        "outputId": "d40642ed-bbee-4d7b-ec8b-a0cbeb05f28e"
      },
      "id": "XZtemBCTCIqd",
      "execution_count": null,
      "outputs": [
        {
          "output_type": "stream",
          "name": "stdout",
          "text": [
            "Raja Ravi Rani Ramu "
          ]
        }
      ]
    },
    {
      "cell_type": "code",
      "source": [
        "Name=['Raja','Ravi','Rani','Ramu']\n",
        "\n",
        "for i in Name[::-1]:\n",
        "  print(i,end=' ')"
      ],
      "metadata": {
        "colab": {
          "base_uri": "https://localhost:8080/"
        },
        "id": "eKsOF9LA6dvE",
        "outputId": "46b1cd30-33c2-4ad2-8b10-0b07a4e85dea"
      },
      "id": "eKsOF9LA6dvE",
      "execution_count": null,
      "outputs": [
        {
          "output_type": "stream",
          "name": "stdout",
          "text": [
            "Ramu Rani Ravi Raja "
          ]
        }
      ]
    },
    {
      "cell_type": "code",
      "source": [
        "Name=['Raja','Ravi','Rani','Ramu']\n",
        "Name.reverse()\n"
      ],
      "metadata": {
        "id": "HlmpCvQN6oG_"
      },
      "id": "HlmpCvQN6oG_",
      "execution_count": null,
      "outputs": []
    },
    {
      "cell_type": "code",
      "source": [
        "Name=['Raja','Ravi','Rani','Ramu']\n",
        "\n",
        "\n",
        "\n",
        "Res_Name=\"\"\n",
        "for i in Name[:2]:\n",
        "  Res_Name=Res_Name+\"#\"+i+\" \"\n",
        "  print(Res_Name)\n",
        "\n"
      ],
      "metadata": {
        "colab": {
          "base_uri": "https://localhost:8080/"
        },
        "id": "Ta84Rw0VCPG9",
        "outputId": "1cf68627-c85f-49fe-aa82-f5a7bfdf3d6d"
      },
      "id": "Ta84Rw0VCPG9",
      "execution_count": null,
      "outputs": [
        {
          "output_type": "stream",
          "name": "stdout",
          "text": [
            "#Raja \n",
            "#Raja #Ravi \n"
          ]
        }
      ]
    },
    {
      "cell_type": "code",
      "source": [
        "\"& \".join(Name)"
      ],
      "metadata": {
        "colab": {
          "base_uri": "https://localhost:8080/",
          "height": 35
        },
        "id": "v3RxCAF2CpLt",
        "outputId": "5ea38b15-316b-45a3-c2e5-658702991fbc"
      },
      "id": "v3RxCAF2CpLt",
      "execution_count": null,
      "outputs": [
        {
          "output_type": "execute_result",
          "data": {
            "text/plain": [
              "'Raja& Ravi& Rani& Ramu'"
            ],
            "application/vnd.google.colaboratory.intrinsic+json": {
              "type": "string"
            }
          },
          "metadata": {},
          "execution_count": 90
        }
      ]
    },
    {
      "cell_type": "code",
      "source": [
        "print(\"& \".join(Name))"
      ],
      "metadata": {
        "colab": {
          "base_uri": "https://localhost:8080/"
        },
        "id": "bUqvSd3AENYD",
        "outputId": "c173b91a-0971-4363-aafe-a06043264819"
      },
      "id": "bUqvSd3AENYD",
      "execution_count": null,
      "outputs": [
        {
          "output_type": "stream",
          "name": "stdout",
          "text": [
            "Raja& Ravi& Rani& Ramu\n"
          ]
        }
      ]
    },
    {
      "cell_type": "code",
      "source": [
        "\n",
        "\n",
        "for i in Name:\n",
        "  print(\"&\".join(i))"
      ],
      "metadata": {
        "colab": {
          "base_uri": "https://localhost:8080/"
        },
        "id": "Ms7_xNCAEfD2",
        "outputId": "e4798715-df6e-409e-b531-6be51361db1a"
      },
      "id": "Ms7_xNCAEfD2",
      "execution_count": null,
      "outputs": [
        {
          "output_type": "stream",
          "name": "stdout",
          "text": [
            "R&a&j&a\n",
            "R&a&v&i\n",
            "R&a&n&i\n",
            "R&a&m&u\n"
          ]
        }
      ]
    },
    {
      "cell_type": "code",
      "source": [
        "Nums=[10,15,20,39,67,78,44,25,22,68,100,12,103,27,78,99,0,1,2,3,4,5,6,7,8,9,10]\n",
        "\n",
        "\n",
        "A=Nums.pop(10)"
      ],
      "metadata": {
        "id": "nhx5DbDPEtKt"
      },
      "id": "nhx5DbDPEtKt",
      "execution_count": null,
      "outputs": []
    },
    {
      "cell_type": "code",
      "source": [
        "A"
      ],
      "metadata": {
        "id": "Ohzvup0lIFt3",
        "outputId": "57f60c4e-7b57-4e7e-9b1e-33f6f97d3977",
        "colab": {
          "base_uri": "https://localhost:8080/"
        }
      },
      "id": "Ohzvup0lIFt3",
      "execution_count": null,
      "outputs": [
        {
          "output_type": "execute_result",
          "data": {
            "text/plain": [
              "100"
            ]
          },
          "metadata": {},
          "execution_count": 102
        }
      ]
    },
    {
      "cell_type": "code",
      "source": [
        "A=[]\n",
        "\n",
        "A.append('100')\n",
        "A.append('20')\n",
        "A.append('1000')\n",
        "\n",
        "A"
      ],
      "metadata": {
        "id": "6X5YbMLAhUwJ",
        "colab": {
          "base_uri": "https://localhost:8080/"
        },
        "outputId": "5487f6fd-fabf-4d50-d187-348c25dbe5b9"
      },
      "id": "6X5YbMLAhUwJ",
      "execution_count": null,
      "outputs": [
        {
          "output_type": "execute_result",
          "data": {
            "text/plain": [
              "['100', '20', '1000']"
            ]
          },
          "metadata": {},
          "execution_count": 28
        }
      ]
    },
    {
      "cell_type": "code",
      "source": [
        "#10 20\n",
        "\n",
        "print('Python'.join(A))"
      ],
      "metadata": {
        "colab": {
          "base_uri": "https://localhost:8080/"
        },
        "id": "5YbRNyV2n6nA",
        "outputId": "f82bb011-9991-4f49-89f3-c65cc7519edc"
      },
      "id": "5YbRNyV2n6nA",
      "execution_count": null,
      "outputs": [
        {
          "output_type": "stream",
          "name": "stdout",
          "text": [
            "100Python20Python1000\n"
          ]
        }
      ]
    },
    {
      "cell_type": "code",
      "source": [
        "Name='Santhosh'\n",
        "\n",
        "print('/'.join(Name))"
      ],
      "metadata": {
        "colab": {
          "base_uri": "https://localhost:8080/"
        },
        "id": "OtLxOlvBpBIY",
        "outputId": "10e37b1a-ccfc-43e2-e37d-0dc115537267"
      },
      "id": "OtLxOlvBpBIY",
      "execution_count": null,
      "outputs": [
        {
          "output_type": "stream",
          "name": "stdout",
          "text": [
            "S/a/n/t/h/o/s/h\n"
          ]
        }
      ]
    },
    {
      "cell_type": "code",
      "source": [
        "B=[]\n",
        "\n",
        "B.append(10)\n",
        "B.append(20)\n",
        "\n",
        "print(' '.join(B))"
      ],
      "metadata": {
        "colab": {
          "base_uri": "https://localhost:8080/",
          "height": 176
        },
        "id": "WCbPnMpioSDa",
        "outputId": "44c1dbff-c691-4e85-8fce-61169c626791"
      },
      "id": "WCbPnMpioSDa",
      "execution_count": null,
      "outputs": [
        {
          "output_type": "error",
          "ename": "TypeError",
          "evalue": "sequence item 0: expected str instance, int found",
          "traceback": [
            "\u001b[0;31m---------------------------------------------------------------------------\u001b[0m",
            "\u001b[0;31mTypeError\u001b[0m                                 Traceback (most recent call last)",
            "\u001b[0;32m<ipython-input-13-2e8562ae78c3>\u001b[0m in \u001b[0;36m<cell line: 0>\u001b[0;34m()\u001b[0m\n\u001b[1;32m      4\u001b[0m \u001b[0mB\u001b[0m\u001b[0;34m.\u001b[0m\u001b[0mappend\u001b[0m\u001b[0;34m(\u001b[0m\u001b[0;36m20\u001b[0m\u001b[0;34m)\u001b[0m\u001b[0;34m\u001b[0m\u001b[0;34m\u001b[0m\u001b[0m\n\u001b[1;32m      5\u001b[0m \u001b[0;34m\u001b[0m\u001b[0m\n\u001b[0;32m----> 6\u001b[0;31m \u001b[0mprint\u001b[0m\u001b[0;34m(\u001b[0m\u001b[0;34m' '\u001b[0m\u001b[0;34m.\u001b[0m\u001b[0mjoin\u001b[0m\u001b[0;34m(\u001b[0m\u001b[0mB\u001b[0m\u001b[0;34m)\u001b[0m\u001b[0;34m)\u001b[0m\u001b[0;34m\u001b[0m\u001b[0;34m\u001b[0m\u001b[0m\n\u001b[0m",
            "\u001b[0;31mTypeError\u001b[0m: sequence item 0: expected str instance, int found"
          ]
        }
      ]
    },
    {
      "cell_type": "code",
      "source": [
        "#. Print from 1 to 10\n",
        "\n",
        "for i in range(1,11):   # Start, Stop, Step\n",
        "  print(i)\n"
      ],
      "metadata": {
        "colab": {
          "base_uri": "https://localhost:8080/"
        },
        "id": "nwJFqWL-oaQp",
        "outputId": "77569105-c4bc-4b5f-8eae-0bd9bb493e07"
      },
      "id": "nwJFqWL-oaQp",
      "execution_count": null,
      "outputs": [
        {
          "output_type": "stream",
          "name": "stdout",
          "text": [
            "1\n",
            "2\n",
            "3\n",
            "4\n",
            "5\n",
            "6\n",
            "7\n",
            "8\n",
            "9\n",
            "10\n"
          ]
        }
      ]
    },
    {
      "cell_type": "code",
      "source": [
        "for i in range(1,10+1,2):\n",
        "  print(i)\n"
      ],
      "metadata": {
        "colab": {
          "base_uri": "https://localhost:8080/"
        },
        "id": "kxTHF12Trlho",
        "outputId": "d30dad3e-9954-44bb-fe6c-28347e956bbb"
      },
      "id": "kxTHF12Trlho",
      "execution_count": null,
      "outputs": [
        {
          "output_type": "stream",
          "name": "stdout",
          "text": [
            "1\n",
            "3\n",
            "5\n",
            "7\n",
            "9\n"
          ]
        }
      ]
    },
    {
      "cell_type": "code",
      "source": [
        "for i in range(10,1-1,-1):\n",
        "  print(i)"
      ],
      "metadata": {
        "colab": {
          "base_uri": "https://localhost:8080/"
        },
        "id": "ZFGskVQirx4o",
        "outputId": "3a59a001-4ea5-4f36-f508-c244c2e0ea94"
      },
      "id": "ZFGskVQirx4o",
      "execution_count": null,
      "outputs": [
        {
          "output_type": "stream",
          "name": "stdout",
          "text": [
            "10\n",
            "9\n",
            "8\n",
            "7\n",
            "6\n",
            "5\n",
            "4\n",
            "3\n",
            "2\n",
            "1\n"
          ]
        }
      ]
    },
    {
      "cell_type": "code",
      "source": [
        "for i in range(10,1-1,-2):\n",
        "  print(i,end=' ')"
      ],
      "metadata": {
        "colab": {
          "base_uri": "https://localhost:8080/"
        },
        "id": "kT4dOVHfsFAn",
        "outputId": "a385e303-52fb-44ae-9510-3087484f248c"
      },
      "id": "kT4dOVHfsFAn",
      "execution_count": null,
      "outputs": [
        {
          "output_type": "stream",
          "name": "stdout",
          "text": [
            "10 8 6 4 2 "
          ]
        }
      ]
    },
    {
      "cell_type": "code",
      "source": [
        "n=int(input('Enter Number')) #10 9 8 7 6 5\n",
        "\n",
        "for i in range(10,n,-1):\n",
        "  print(i)"
      ],
      "metadata": {
        "colab": {
          "base_uri": "https://localhost:8080/"
        },
        "id": "WlvtuiQatPmQ",
        "outputId": "15f06e18-27c1-4bf7-e7c9-e4a82530ab18"
      },
      "id": "WlvtuiQatPmQ",
      "execution_count": null,
      "outputs": [
        {
          "output_type": "stream",
          "name": "stdout",
          "text": [
            "Enter Number5\n",
            "10\n",
            "9\n",
            "8\n",
            "7\n",
            "6\n"
          ]
        }
      ]
    },
    {
      "cell_type": "code",
      "source": [
        "for i in range(10): # Default Start 0 Stop 10 Step 1\n",
        "  print(i)"
      ],
      "metadata": {
        "colab": {
          "base_uri": "https://localhost:8080/"
        },
        "id": "YQqYOQLtt28b",
        "outputId": "0c704386-a9ec-4ee9-da25-ff3a22d775d0"
      },
      "id": "YQqYOQLtt28b",
      "execution_count": null,
      "outputs": [
        {
          "output_type": "stream",
          "name": "stdout",
          "text": [
            "0\n",
            "1\n",
            "2\n",
            "3\n",
            "4\n",
            "5\n",
            "6\n",
            "7\n",
            "8\n",
            "9\n"
          ]
        }
      ]
    },
    {
      "cell_type": "code",
      "source": [
        "for i in range(5,11): # Start 5 Stop 11 Step 1\n",
        "  print(i)"
      ],
      "metadata": {
        "colab": {
          "base_uri": "https://localhost:8080/"
        },
        "id": "13x9Yy0FuQjW",
        "outputId": "69db14bd-20d5-42e2-e58b-92ca8574d370"
      },
      "id": "13x9Yy0FuQjW",
      "execution_count": null,
      "outputs": [
        {
          "output_type": "stream",
          "name": "stdout",
          "text": [
            "5\n",
            "6\n",
            "7\n",
            "8\n",
            "9\n",
            "10\n"
          ]
        }
      ]
    },
    {
      "cell_type": "code",
      "source": [
        "for i in range(5,15,2): # Start 5 Stop 15 Step 2\n",
        "  print(i)"
      ],
      "metadata": {
        "colab": {
          "base_uri": "https://localhost:8080/"
        },
        "id": "_XuyajCluqxl",
        "outputId": "b6c08e22-02c2-47bb-a976-252f57048665"
      },
      "id": "_XuyajCluqxl",
      "execution_count": null,
      "outputs": [
        {
          "output_type": "stream",
          "name": "stdout",
          "text": [
            "5\n",
            "7\n",
            "9\n",
            "11\n",
            "13\n"
          ]
        }
      ]
    },
    {
      "cell_type": "code",
      "source": [
        "for i in range(13,4,-1): # Start 13 Stop 4 Step -1\n",
        "  print(i)"
      ],
      "metadata": {
        "colab": {
          "base_uri": "https://localhost:8080/"
        },
        "id": "eAlAd86vu7LR",
        "outputId": "6959ac18-858c-40de-eb94-48e8aab9a72f"
      },
      "id": "eAlAd86vu7LR",
      "execution_count": null,
      "outputs": [
        {
          "output_type": "stream",
          "name": "stdout",
          "text": [
            "13\n",
            "12\n",
            "11\n",
            "10\n",
            "9\n",
            "8\n",
            "7\n",
            "6\n",
            "5\n"
          ]
        }
      ]
    },
    {
      "cell_type": "code",
      "source": [
        "for i in range(13,4,-2): # Start 13 Stop 4 Step -2\n",
        "  print(i)"
      ],
      "metadata": {
        "colab": {
          "base_uri": "https://localhost:8080/"
        },
        "id": "9sisS33wvN4T",
        "outputId": "a4aca9ed-57d3-4126-e4a6-764d2b3e37b5"
      },
      "id": "9sisS33wvN4T",
      "execution_count": null,
      "outputs": [
        {
          "output_type": "stream",
          "name": "stdout",
          "text": [
            "13\n",
            "11\n",
            "9\n",
            "7\n",
            "5\n"
          ]
        }
      ]
    },
    {
      "cell_type": "code",
      "source": [
        "House=[10,20,0,8,89,0,78,13,14,0,7] #\n",
        "\n",
        "for i in House:\n",
        "  if i==0:\n",
        "    print('House Address',House.index(i))"
      ],
      "metadata": {
        "colab": {
          "base_uri": "https://localhost:8080/"
        },
        "id": "A3b6wQBQvbLD",
        "outputId": "2e3167b2-950b-46a5-a6f9-c0cabe782313"
      },
      "id": "A3b6wQBQvbLD",
      "execution_count": null,
      "outputs": [
        {
          "output_type": "stream",
          "name": "stdout",
          "text": [
            "House Address 2\n",
            "House Address 2\n",
            "House Address 2\n"
          ]
        }
      ]
    },
    {
      "cell_type": "code",
      "source": [
        "House=[10,20,0,8,89,0,78,13,14,0,7] #\n",
        "\n",
        "\n",
        "for i in range(len(House)):\n",
        "  print(i,House[i])\n",
        "\n",
        "\n",
        "\n"
      ],
      "metadata": {
        "colab": {
          "base_uri": "https://localhost:8080/"
        },
        "id": "XDKLbNeUwQH7",
        "outputId": "c68ff3ef-d16c-4cdc-bd4d-bf882e3f52c9"
      },
      "id": "XDKLbNeUwQH7",
      "execution_count": null,
      "outputs": [
        {
          "output_type": "stream",
          "name": "stdout",
          "text": [
            "0 10\n",
            "1 20\n",
            "2 0\n",
            "3 8\n",
            "4 89\n",
            "5 0\n",
            "6 78\n",
            "7 13\n",
            "8 14\n",
            "9 0\n",
            "10 7\n"
          ]
        }
      ]
    },
    {
      "cell_type": "code",
      "source": [
        "len(House)"
      ],
      "metadata": {
        "colab": {
          "base_uri": "https://localhost:8080/"
        },
        "id": "nBQmfWIry2jK",
        "outputId": "64daeb94-761c-4195-c468-15b72d5f30d7"
      },
      "id": "nBQmfWIry2jK",
      "execution_count": null,
      "outputs": [
        {
          "output_type": "execute_result",
          "data": {
            "text/plain": [
              "11"
            ]
          },
          "metadata": {},
          "execution_count": 66
        }
      ]
    },
    {
      "cell_type": "code",
      "source": [
        "House=[10,20,0,8,89,0,78,13,14,0,7,10,78,67,0,8] #\n",
        "\n",
        "\n",
        "for i in range(len(House)):\n",
        "  if House[i]==0:\n",
        "    print(f'Index: {i}, Value: {House[i]}')\n"
      ],
      "metadata": {
        "colab": {
          "base_uri": "https://localhost:8080/"
        },
        "id": "iTyrv2XIwtNo",
        "outputId": "1f0fd363-5635-4a5f-d066-30f3598f80e3"
      },
      "id": "iTyrv2XIwtNo",
      "execution_count": null,
      "outputs": [
        {
          "output_type": "stream",
          "name": "stdout",
          "text": [
            "Index: 2, Value: 0\n",
            "Index: 5, Value: 0\n",
            "Index: 9, Value: 0\n",
            "Index: 14, Value: 0\n"
          ]
        }
      ]
    },
    {
      "cell_type": "code",
      "source": [
        "House=[10,20,0,8,89,0] #\n",
        "\n",
        "\n",
        "for i in range(len(House)-1,-1,-1):\n",
        "  if House[i]==0:\n",
        "    print(f'Index: {i}, Value: {House[i]}')"
      ],
      "metadata": {
        "colab": {
          "base_uri": "https://localhost:8080/"
        },
        "id": "964Y03lM7KtU",
        "outputId": "f1587ebe-1f4e-43b1-83b9-1d91cadb7881"
      },
      "id": "964Y03lM7KtU",
      "execution_count": null,
      "outputs": [
        {
          "output_type": "stream",
          "name": "stdout",
          "text": [
            "Index: 5, Value: 0\n",
            "Index: 2, Value: 0\n"
          ]
        }
      ]
    },
    {
      "cell_type": "code",
      "source": [
        "House=[10,20,0,8,89,0,78,13,14,0,7,10,78,67,0,8] #\n",
        "\n",
        "for index,value in enumerate(House):  # Index, Value will be access parllely with Enumurate\n",
        "    print(f' Value: {value}-----Index: {index},')"
      ],
      "metadata": {
        "colab": {
          "base_uri": "https://localhost:8080/"
        },
        "id": "4OfUE0wZxCJc",
        "outputId": "f6cbd305-4c93-4419-8e43-dede1b48d8af"
      },
      "id": "4OfUE0wZxCJc",
      "execution_count": null,
      "outputs": [
        {
          "output_type": "stream",
          "name": "stdout",
          "text": [
            " Value: 10-----Index: 0,\n",
            " Value: 20-----Index: 1,\n",
            " Value: 0-----Index: 2,\n",
            " Value: 8-----Index: 3,\n",
            " Value: 89-----Index: 4,\n",
            " Value: 0-----Index: 5,\n",
            " Value: 78-----Index: 6,\n",
            " Value: 13-----Index: 7,\n",
            " Value: 14-----Index: 8,\n",
            " Value: 0-----Index: 9,\n",
            " Value: 7-----Index: 10,\n",
            " Value: 10-----Index: 11,\n",
            " Value: 78-----Index: 12,\n",
            " Value: 67-----Index: 13,\n",
            " Value: 0-----Index: 14,\n",
            " Value: 8-----Index: 15,\n"
          ]
        }
      ]
    },
    {
      "cell_type": "code",
      "source": [
        "Guvi_Emp={\n",
        "    'EmpID': [44,55,67,21,7,8,19,27],\n",
        "    'Name':['Rajesh','Kumar','Kamal','Saran','Karthick','Iswarya','Divya','David'],\n",
        "    'Designation':['Developer','Tester','TeamLead','Manager','Jr.Developer','Accontant','HR','Admin'],\n",
        "    'Salary': [25000,30000,45000,60000,20000,22000,15000,28000],\n",
        "\n",
        "}\n",
        "Guvi_Emp\n",
        "\n",
        "\n"
      ],
      "metadata": {
        "colab": {
          "base_uri": "https://localhost:8080/"
        },
        "id": "4tWB2pu00PZ-",
        "outputId": "72a85bb8-0995-4a65-8b0a-4238aa7e05af"
      },
      "id": "4tWB2pu00PZ-",
      "execution_count": null,
      "outputs": [
        {
          "output_type": "execute_result",
          "data": {
            "text/plain": [
              "{'EmpID': [44, 55, 67, 21, 7, 8, 19, 27],\n",
              " 'Name': ['Rajesh',\n",
              "  'Kumar',\n",
              "  'Kamal',\n",
              "  'Saran',\n",
              "  'Karthick',\n",
              "  'Iswarya',\n",
              "  'Divya',\n",
              "  'David'],\n",
              " 'Designation': ['Developer',\n",
              "  'Tester',\n",
              "  'TeamLead',\n",
              "  'Manager',\n",
              "  'Jr.Developer',\n",
              "  'Accontant',\n",
              "  'HR',\n",
              "  'Admin'],\n",
              " 'Salary': [25000, 30000, 45000, 60000, 20000, 22000, 15000, 28000]}"
            ]
          },
          "metadata": {},
          "execution_count": 75
        }
      ]
    },
    {
      "cell_type": "code",
      "source": [
        "\n",
        "# Name: Kartick\n",
        "# EmpID: 7\n",
        "# Designation: Jr.Developer\n",
        "# Salary: 20000\n",
        "\n",
        "\n",
        "for emp_id,name,desg,sal in zip(Guvi_Emp['EmpID'],Guvi_Emp['Name'],Guvi_Emp['Designation'],Guvi_Emp['Salary']):\n",
        "  print(f'Name: {name}')\n",
        "  print(f'EmpID: {emp_id}')\n",
        "  print(f'Designation: {desg}')\n",
        "  print(f'Salary: {sal}')\n",
        "  print('*-*'*20)\n"
      ],
      "metadata": {
        "colab": {
          "base_uri": "https://localhost:8080/"
        },
        "id": "tH2MCfoK1wf2",
        "outputId": "545ec02f-9090-4413-9c38-4145cbc408da"
      },
      "id": "tH2MCfoK1wf2",
      "execution_count": null,
      "outputs": [
        {
          "output_type": "stream",
          "name": "stdout",
          "text": [
            "Name: Rajesh\n",
            "EmpID: 44\n",
            "Designation: Developer\n",
            "Salary: 25000\n",
            "*-**-**-**-**-**-**-**-**-**-**-**-**-**-**-**-**-**-**-**-*\n",
            "Name: Kumar\n",
            "EmpID: 55\n",
            "Designation: Tester\n",
            "Salary: 30000\n",
            "*-**-**-**-**-**-**-**-**-**-**-**-**-**-**-**-**-**-**-**-*\n",
            "Name: Kamal\n",
            "EmpID: 67\n",
            "Designation: TeamLead\n",
            "Salary: 45000\n",
            "*-**-**-**-**-**-**-**-**-**-**-**-**-**-**-**-**-**-**-**-*\n",
            "Name: Saran\n",
            "EmpID: 21\n",
            "Designation: Manager\n",
            "Salary: 60000\n",
            "*-**-**-**-**-**-**-**-**-**-**-**-**-**-**-**-**-**-**-**-*\n",
            "Name: Karthick\n",
            "EmpID: 7\n",
            "Designation: Jr.Developer\n",
            "Salary: 20000\n",
            "*-**-**-**-**-**-**-**-**-**-**-**-**-**-**-**-**-**-**-**-*\n",
            "Name: Iswarya\n",
            "EmpID: 8\n",
            "Designation: Accontant\n",
            "Salary: 22000\n",
            "*-**-**-**-**-**-**-**-**-**-**-**-**-**-**-**-**-**-**-**-*\n",
            "Name: Divya\n",
            "EmpID: 19\n",
            "Designation: HR\n",
            "Salary: 15000\n",
            "*-**-**-**-**-**-**-**-**-**-**-**-**-**-**-**-**-**-**-**-*\n",
            "Name: David\n",
            "EmpID: 27\n",
            "Designation: Admin\n",
            "Salary: 28000\n",
            "*-**-**-**-**-**-**-**-**-**-**-**-**-**-**-**-**-**-**-**-*\n"
          ]
        }
      ]
    },
    {
      "cell_type": "code",
      "source": [
        "Guvi_Emp={\n",
        "    'EmpID': [44,55,67,21,7,8,19,27],\n",
        "    'Name':['Rajesh','Kumar','Kamal','Saran','Karthick','Iswarya','Divya','David'],\n",
        "    'Designation':['Developer','Tester','TeamLead','Manager','Jr.Developer',None,None,None],\n",
        "    'Salary': [25000,30000,45000,60000,20000,22000,15000,28000],\n",
        "\n",
        "}\n",
        "Guvi_Emp\n",
        "\n"
      ],
      "metadata": {
        "colab": {
          "base_uri": "https://localhost:8080/"
        },
        "id": "nHwE6Czt2n8f",
        "outputId": "a70d3360-1248-419b-c81a-fe0a5abe70b1"
      },
      "id": "nHwE6Czt2n8f",
      "execution_count": null,
      "outputs": [
        {
          "output_type": "execute_result",
          "data": {
            "text/plain": [
              "{'EmpID': [44, 55, 67, 21, 7, 8, 19, 27],\n",
              " 'Name': ['Rajesh',\n",
              "  'Kumar',\n",
              "  'Kamal',\n",
              "  'Saran',\n",
              "  'Karthick',\n",
              "  'Iswarya',\n",
              "  'Divya',\n",
              "  'David'],\n",
              " 'Designation': ['Developer',\n",
              "  'Tester',\n",
              "  'TeamLead',\n",
              "  'Manager',\n",
              "  'Jr.Developer',\n",
              "  None,\n",
              "  None,\n",
              "  None],\n",
              " 'Salary': [25000, 30000, 45000, 60000, 20000, 22000, 15000, 28000]}"
            ]
          },
          "metadata": {},
          "execution_count": 84
        }
      ]
    },
    {
      "cell_type": "code",
      "source": [
        "for emp_id,name,desg,sal in zip(Guvi_Emp['EmpID'],Guvi_Emp['Name'],Guvi_Emp['Designation'],Guvi_Emp['Salary']):\n",
        "  print(f'Name: {name}')\n",
        "  print(f'EmpID: {emp_id}')\n",
        "  print(f'Designation: {desg}')\n",
        "  print(f'Salary: {sal}')\n",
        "  print('*-*'*20)"
      ],
      "metadata": {
        "colab": {
          "base_uri": "https://localhost:8080/"
        },
        "id": "w153wvVx3ZKQ",
        "outputId": "436a732d-d947-4ac9-add0-16fd135b5bc1"
      },
      "id": "w153wvVx3ZKQ",
      "execution_count": null,
      "outputs": [
        {
          "output_type": "stream",
          "name": "stdout",
          "text": [
            "Name: Rajesh\n",
            "EmpID: 44\n",
            "Designation: Developer\n",
            "Salary: 25000\n",
            "*-**-**-**-**-**-**-**-**-**-**-**-**-**-**-**-**-**-**-**-*\n",
            "Name: Kumar\n",
            "EmpID: 55\n",
            "Designation: Tester\n",
            "Salary: 30000\n",
            "*-**-**-**-**-**-**-**-**-**-**-**-**-**-**-**-**-**-**-**-*\n",
            "Name: Kamal\n",
            "EmpID: 67\n",
            "Designation: TeamLead\n",
            "Salary: 45000\n",
            "*-**-**-**-**-**-**-**-**-**-**-**-**-**-**-**-**-**-**-**-*\n",
            "Name: Saran\n",
            "EmpID: 21\n",
            "Designation: Manager\n",
            "Salary: 60000\n",
            "*-**-**-**-**-**-**-**-**-**-**-**-**-**-**-**-**-**-**-**-*\n",
            "Name: Karthick\n",
            "EmpID: 7\n",
            "Designation: Jr.Developer\n",
            "Salary: 20000\n",
            "*-**-**-**-**-**-**-**-**-**-**-**-**-**-**-**-**-**-**-**-*\n",
            "Name: Iswarya\n",
            "EmpID: 8\n",
            "Designation: None\n",
            "Salary: 22000\n",
            "*-**-**-**-**-**-**-**-**-**-**-**-**-**-**-**-**-**-**-**-*\n",
            "Name: Divya\n",
            "EmpID: 19\n",
            "Designation: None\n",
            "Salary: 15000\n",
            "*-**-**-**-**-**-**-**-**-**-**-**-**-**-**-**-**-**-**-**-*\n",
            "Name: David\n",
            "EmpID: 27\n",
            "Designation: None\n",
            "Salary: 28000\n",
            "*-**-**-**-**-**-**-**-**-**-**-**-**-**-**-**-**-**-**-**-*\n"
          ]
        }
      ]
    },
    {
      "cell_type": "code",
      "source": [
        "for emp_id,name,desg,sal in zip(Guvi_Emp.get('EmpID'),Guvi_Emp.get('Name'),Guvi_Emp.get('Designation'),Guvi_Emp.get('Salary')):\n",
        "  print(f'Name: {name}')\n",
        "  print(f'EmpID: {emp_id}')\n",
        "  print(f'Designation: {desg}')\n",
        "  print(f'Salary: {sal}')\n",
        "  print('*-*'*20)"
      ],
      "metadata": {
        "colab": {
          "base_uri": "https://localhost:8080/"
        },
        "id": "MzYy9Ye83aSw",
        "outputId": "aa6e6206-6fcf-46df-dec6-cb9eb408c200"
      },
      "id": "MzYy9Ye83aSw",
      "execution_count": null,
      "outputs": [
        {
          "output_type": "stream",
          "name": "stdout",
          "text": [
            "Name: Rajesh\n",
            "EmpID: 44\n",
            "Designation: Developer\n",
            "Salary: 25000\n",
            "*-**-**-**-**-**-**-**-**-**-**-**-**-**-**-**-**-**-**-**-*\n",
            "Name: Kumar\n",
            "EmpID: 55\n",
            "Designation: Tester\n",
            "Salary: 30000\n",
            "*-**-**-**-**-**-**-**-**-**-**-**-**-**-**-**-**-**-**-**-*\n",
            "Name: Kamal\n",
            "EmpID: 67\n",
            "Designation: TeamLead\n",
            "Salary: 45000\n",
            "*-**-**-**-**-**-**-**-**-**-**-**-**-**-**-**-**-**-**-**-*\n",
            "Name: Saran\n",
            "EmpID: 21\n",
            "Designation: Manager\n",
            "Salary: 60000\n",
            "*-**-**-**-**-**-**-**-**-**-**-**-**-**-**-**-**-**-**-**-*\n",
            "Name: Karthick\n",
            "EmpID: 7\n",
            "Designation: Jr.Developer\n",
            "Salary: 20000\n",
            "*-**-**-**-**-**-**-**-**-**-**-**-**-**-**-**-**-**-**-**-*\n",
            "Name: Iswarya\n",
            "EmpID: 8\n",
            "Designation: None\n",
            "Salary: 22000\n",
            "*-**-**-**-**-**-**-**-**-**-**-**-**-**-**-**-**-**-**-**-*\n",
            "Name: Divya\n",
            "EmpID: 19\n",
            "Designation: None\n",
            "Salary: 15000\n",
            "*-**-**-**-**-**-**-**-**-**-**-**-**-**-**-**-**-**-**-**-*\n",
            "Name: David\n",
            "EmpID: 27\n",
            "Designation: None\n",
            "Salary: 28000\n",
            "*-**-**-**-**-**-**-**-**-**-**-**-**-**-**-**-**-**-**-**-*\n"
          ]
        }
      ]
    },
    {
      "cell_type": "code",
      "source": [
        "A=[1,2,3,4,5,6]\n",
        "B=[10,1,3,5]\n",
        "\n",
        "# 1, 3, 5\n",
        "\n",
        "for i in A:\n",
        "  for j in B:\n",
        "    print(i,j)\n",
        "  print('--'*20)\n",
        "\n",
        "\n",
        "\n",
        "\n"
      ],
      "metadata": {
        "colab": {
          "base_uri": "https://localhost:8080/"
        },
        "id": "6WhMSvpA36I2",
        "outputId": "a59b4ab9-507b-4b9e-cfd6-6caae59425e5"
      },
      "id": "6WhMSvpA36I2",
      "execution_count": null,
      "outputs": [
        {
          "output_type": "stream",
          "name": "stdout",
          "text": [
            "1 10\n",
            "1 1\n",
            "1 3\n",
            "1 5\n",
            "----------------------------------------\n",
            "2 10\n",
            "2 1\n",
            "2 3\n",
            "2 5\n",
            "----------------------------------------\n",
            "3 10\n",
            "3 1\n",
            "3 3\n",
            "3 5\n",
            "----------------------------------------\n",
            "4 10\n",
            "4 1\n",
            "4 3\n",
            "4 5\n",
            "----------------------------------------\n",
            "5 10\n",
            "5 1\n",
            "5 3\n",
            "5 5\n",
            "----------------------------------------\n",
            "6 10\n",
            "6 1\n",
            "6 3\n",
            "6 5\n",
            "----------------------------------------\n"
          ]
        }
      ]
    },
    {
      "cell_type": "code",
      "source": [
        "A=[1,2,3,4,5,6]\n",
        "B=[10,1,3,5]\n",
        "\n",
        "# 1, 3, 5\n",
        "\n",
        "for i in A:\n",
        "  for j in B:\n",
        "    if i!=j:\n",
        "      print(i,j)\n",
        "  print('--'*20)"
      ],
      "metadata": {
        "colab": {
          "base_uri": "https://localhost:8080/"
        },
        "id": "yYsS_iiE8ten",
        "outputId": "302129e6-3bde-4157-fed1-876566224ebb"
      },
      "id": "yYsS_iiE8ten",
      "execution_count": null,
      "outputs": [
        {
          "output_type": "stream",
          "name": "stdout",
          "text": [
            "1 10\n",
            "1 3\n",
            "1 5\n",
            "----------------------------------------\n",
            "2 10\n",
            "2 1\n",
            "2 3\n",
            "2 5\n",
            "----------------------------------------\n",
            "3 10\n",
            "3 1\n",
            "3 5\n",
            "----------------------------------------\n",
            "4 10\n",
            "4 1\n",
            "4 3\n",
            "4 5\n",
            "----------------------------------------\n",
            "5 10\n",
            "5 1\n",
            "5 3\n",
            "----------------------------------------\n",
            "6 10\n",
            "6 1\n",
            "6 3\n",
            "6 5\n",
            "----------------------------------------\n"
          ]
        }
      ]
    },
    {
      "cell_type": "code",
      "source": [
        "L=[10,20,0,56,89,0,8]\n",
        "\n",
        "for i in L:\n",
        "  if i==0:\n",
        "    break\n",
        "  else:\n",
        "    print(i)"
      ],
      "metadata": {
        "colab": {
          "base_uri": "https://localhost:8080/"
        },
        "id": "hWMgrjoa_Ly_",
        "outputId": "33a3aebe-b117-4510-a4c0-3f91d9a490d1"
      },
      "id": "hWMgrjoa_Ly_",
      "execution_count": null,
      "outputs": [
        {
          "output_type": "stream",
          "name": "stdout",
          "text": [
            "10\n",
            "20\n"
          ]
        }
      ]
    },
    {
      "cell_type": "code",
      "source": [
        "L=[10,20,0,56,89,0,8]\n",
        "\n",
        "for i in L:\n",
        "  if i==0:\n",
        "\n",
        "    continue\n",
        "    print('Zero Found')\n",
        "\n",
        "\n",
        "  else:\n",
        "    print(i)"
      ],
      "metadata": {
        "colab": {
          "base_uri": "https://localhost:8080/"
        },
        "id": "3IeBn1DL_Nmg",
        "outputId": "4eb9d344-f241-45b0-adbe-da95d958cc95"
      },
      "id": "3IeBn1DL_Nmg",
      "execution_count": null,
      "outputs": [
        {
          "output_type": "stream",
          "name": "stdout",
          "text": [
            "10\n",
            "20\n",
            "56\n",
            "89\n",
            "8\n"
          ]
        }
      ]
    },
    {
      "cell_type": "code",
      "source": [
        "L=[10,20,0,56,89,0,8]\n",
        "\n",
        "for i in L:\n",
        "  if i==0:\n",
        "    continue\n",
        "  if i>100:\n",
        "    \"\"\n",
        "  if\n",
        "  if\n",
        "\n",
        "  else:\n",
        "    print(i)"
      ],
      "metadata": {
        "colab": {
          "base_uri": "https://localhost:8080/"
        },
        "id": "ek_Ai8QN9_nX",
        "outputId": "0bd330b9-d2fa-4906-d4f4-43de1275a5f3"
      },
      "id": "ek_Ai8QN9_nX",
      "execution_count": null,
      "outputs": [
        {
          "output_type": "stream",
          "name": "stdout",
          "text": [
            "10\n",
            "20\n",
            "Zero Found\n",
            "56\n",
            "89\n",
            "Zero Found\n",
            "8\n"
          ]
        }
      ]
    },
    {
      "cell_type": "code",
      "source": [
        "Pin=int(input('Enter Your Pin'))\n",
        "\n",
        "if Pin==4567:\n",
        "  print('Pin Matched')\n",
        "  Amount=int(input('Enter Amount'))\n",
        "  balc=10000\n",
        "  if Amount<=balc:\n",
        "    print('Transaction Successfull')\n",
        "  else:\n",
        "    pass # Just as Placeholder\n",
        "else:\n",
        "  print('Pin Not Matched')"
      ],
      "metadata": {
        "colab": {
          "base_uri": "https://localhost:8080/"
        },
        "id": "bi_oCCjX_wRO",
        "outputId": "c4ef9765-9625-4bbf-f7f0-ed61e2d626cb"
      },
      "id": "bi_oCCjX_wRO",
      "execution_count": null,
      "outputs": [
        {
          "output_type": "stream",
          "name": "stdout",
          "text": [
            "Enter Your Pin4567\n",
            "Pin Matched\n",
            "Enter Amount1000\n",
            "Transaction Successfull\n"
          ]
        }
      ]
    },
    {
      "cell_type": "markdown",
      "source": [
        "### While loop\n"
      ],
      "metadata": {
        "id": "DC_OKmgGEeiV"
      },
      "id": "DC_OKmgGEeiV"
    },
    {
      "cell_type": "code",
      "source": [
        "for i in range(1,11):\n",
        "\n",
        "  print(i)"
      ],
      "metadata": {
        "colab": {
          "base_uri": "https://localhost:8080/"
        },
        "id": "WujV4hQWDexp",
        "outputId": "298d228a-25cf-4b3a-99ef-8eead312693d"
      },
      "id": "WujV4hQWDexp",
      "execution_count": null,
      "outputs": [
        {
          "output_type": "stream",
          "name": "stdout",
          "text": [
            "1\n",
            "2\n",
            "3\n",
            "4\n",
            "5\n",
            "6\n",
            "7\n",
            "8\n",
            "9\n",
            "10\n"
          ]
        }
      ]
    },
    {
      "cell_type": "code",
      "source": [
        "n=1 # Intial Value\n",
        "\n",
        "while n<=10: # Condition\n",
        "  print(n) # Statement\n",
        "  n=n+1 # Increment"
      ],
      "metadata": {
        "colab": {
          "base_uri": "https://localhost:8080/"
        },
        "id": "Na3op4VHEsck",
        "outputId": "0528ea33-bd67-4f52-a841-91cfa6656b02"
      },
      "id": "Na3op4VHEsck",
      "execution_count": null,
      "outputs": [
        {
          "output_type": "stream",
          "name": "stdout",
          "text": [
            "1\n",
            "2\n",
            "3\n",
            "4\n",
            "5\n",
            "6\n",
            "7\n",
            "8\n",
            "9\n",
            "10\n"
          ]
        }
      ]
    },
    {
      "cell_type": "code",
      "source": [
        "n=1 # Intial Value\n",
        "while n<=10: # Condition\n",
        "  n=n+1 # Increment\n",
        "  print(n) # Statement"
      ],
      "metadata": {
        "colab": {
          "base_uri": "https://localhost:8080/"
        },
        "id": "MhGn6y9JFA6Z",
        "outputId": "aa6f7a63-48e9-46f7-d785-b9764207975e"
      },
      "id": "MhGn6y9JFA6Z",
      "execution_count": null,
      "outputs": [
        {
          "output_type": "stream",
          "name": "stdout",
          "text": [
            "2\n",
            "3\n",
            "4\n",
            "5\n",
            "6\n",
            "7\n",
            "8\n",
            "9\n",
            "10\n",
            "11\n"
          ]
        }
      ]
    },
    {
      "cell_type": "code",
      "source": [
        "n=1 # Intial Value\n",
        "while n<=10: # Condition\n",
        "  n=n+1 # Increment\n",
        "  print(n-1) # Statement"
      ],
      "metadata": {
        "colab": {
          "base_uri": "https://localhost:8080/"
        },
        "id": "xMHSMBNzFwAr",
        "outputId": "015e5d6e-f2cd-4b6d-8caa-952f5273f224"
      },
      "id": "xMHSMBNzFwAr",
      "execution_count": null,
      "outputs": [
        {
          "output_type": "stream",
          "name": "stdout",
          "text": [
            "1\n",
            "2\n",
            "3\n",
            "4\n",
            "5\n",
            "6\n",
            "7\n",
            "8\n",
            "9\n",
            "10\n"
          ]
        }
      ]
    },
    {
      "cell_type": "code",
      "source": [
        "n=0 # Intial Value\n",
        "while n<10: # Condition\n",
        "  n=n+1 # Increment\n",
        "  print(n) # Statement"
      ],
      "metadata": {
        "colab": {
          "base_uri": "https://localhost:8080/"
        },
        "id": "EF07tP2iGD8o",
        "outputId": "9bda35f8-c7f2-462f-cc5f-160023ec4635"
      },
      "id": "EF07tP2iGD8o",
      "execution_count": null,
      "outputs": [
        {
          "output_type": "stream",
          "name": "stdout",
          "text": [
            "1\n",
            "2\n",
            "3\n",
            "4\n",
            "5\n",
            "6\n",
            "7\n",
            "8\n",
            "9\n",
            "10\n"
          ]
        }
      ]
    },
    {
      "cell_type": "code",
      "source": [
        "\n",
        "Animals=['Cat','Dog','Cow','Lion','Tiger']\n",
        "\n",
        "i=0\n",
        "\n",
        "while i<len(Animals):\n",
        "  print(Animals[i])\n",
        "  i=i+1\n"
      ],
      "metadata": {
        "colab": {
          "base_uri": "https://localhost:8080/"
        },
        "id": "HZ4fZxjSGI5m",
        "outputId": "19590154-6734-4f75-c413-db9a4a81e973"
      },
      "id": "HZ4fZxjSGI5m",
      "execution_count": null,
      "outputs": [
        {
          "output_type": "stream",
          "name": "stdout",
          "text": [
            "Cat\n",
            "Dog\n",
            "Cow\n",
            "Lion\n",
            "Tiger\n"
          ]
        }
      ]
    },
    {
      "cell_type": "code",
      "source": [
        "\n",
        "Animals=['Cat','Dog','Cow','Lion','Tiger']\n",
        "\n",
        "i=0\n",
        "\n",
        "while i<len(Animals):\n",
        "  print(Animals[i])\n",
        "  i=i+2"
      ],
      "metadata": {
        "colab": {
          "base_uri": "https://localhost:8080/"
        },
        "id": "09L1O0-uH0vV",
        "outputId": "aa0da7e0-30e8-4450-d269-859ea22a5429"
      },
      "id": "09L1O0-uH0vV",
      "execution_count": null,
      "outputs": [
        {
          "output_type": "stream",
          "name": "stdout",
          "text": [
            "Cat\n",
            "Cow\n",
            "Tiger\n"
          ]
        }
      ]
    },
    {
      "cell_type": "code",
      "source": [
        "Animals=['Cat','Dog','Cow','Lion','Tiger']\n",
        "\n",
        "# Sort Alphabetically\n",
        "Animals=sorted(Animals)\n",
        "\n",
        "Animals\n"
      ],
      "metadata": {
        "colab": {
          "base_uri": "https://localhost:8080/"
        },
        "id": "E5gxgRjpIyyj",
        "outputId": "cd95e5f6-738c-40ca-863f-2b6fd43a8b59"
      },
      "id": "E5gxgRjpIyyj",
      "execution_count": null,
      "outputs": [
        {
          "output_type": "execute_result",
          "data": {
            "text/plain": [
              "['Cat', 'Cow', 'Dog', 'Lion', 'Tiger']"
            ]
          },
          "metadata": {},
          "execution_count": 135
        },
        {
          "output_type": "execute_result",
          "data": {
            "text/plain": [
              "['Cat', 'Cow', 'Dog', 'Lion', 'Tiger']"
            ]
          },
          "metadata": {},
          "execution_count": 136
        }
      ]
    },
    {
      "cell_type": "code",
      "source": [
        "Animals=['Cat','Dog','Cow','Lion','Tiger','Lion']\n",
        "\n",
        "Animals"
      ],
      "metadata": {
        "colab": {
          "base_uri": "https://localhost:8080/"
        },
        "id": "BtynySJyhJvN",
        "outputId": "8ab6c941-ac9b-43ef-8b3d-64bdf302383f"
      },
      "id": "BtynySJyhJvN",
      "execution_count": null,
      "outputs": [
        {
          "output_type": "execute_result",
          "data": {
            "text/plain": [
              "['Cat', 'Dog', 'Cow', 'Lion', 'Tiger', 'Lion']"
            ]
          },
          "metadata": {},
          "execution_count": 3
        }
      ]
    },
    {
      "cell_type": "code",
      "source": [
        "Animals.index('Lion')"
      ],
      "metadata": {
        "colab": {
          "base_uri": "https://localhost:8080/"
        },
        "id": "KCpbfRQRhh4W",
        "outputId": "27dbb339-7465-4c0a-d9fd-c2c4300778e2"
      },
      "id": "KCpbfRQRhh4W",
      "execution_count": null,
      "outputs": [
        {
          "output_type": "execute_result",
          "data": {
            "text/plain": [
              "3"
            ]
          },
          "metadata": {},
          "execution_count": 4
        }
      ]
    },
    {
      "cell_type": "code",
      "source": [
        "i=0\n",
        "\n",
        "while i<len(Animals):\n",
        "  if Animals[i]=='Lion':\n",
        "    print(i,Animals[i])\n",
        "\n",
        "  elif Animals[i]=='Tiger':\n",
        "    print('Tiger found')\n",
        "  i=i+1\n"
      ],
      "metadata": {
        "colab": {
          "base_uri": "https://localhost:8080/"
        },
        "id": "BgZ0EePZhMpv",
        "outputId": "f60e00e5-518f-4078-a4db-03a426f4e94b"
      },
      "id": "BgZ0EePZhMpv",
      "execution_count": null,
      "outputs": [
        {
          "output_type": "stream",
          "name": "stdout",
          "text": [
            "3 Lion\n",
            "Tiger found\n",
            "5 Lion\n"
          ]
        }
      ]
    },
    {
      "cell_type": "code",
      "source": [],
      "metadata": {
        "id": "m5i9W_FWhY1W"
      },
      "id": "m5i9W_FWhY1W",
      "execution_count": null,
      "outputs": []
    },
    {
      "cell_type": "code",
      "source": [
        "i=0\n",
        "\n",
        "while i<len(Animals):\n",
        "  print(Animals[i])\n",
        "  i=i+2"
      ],
      "metadata": {
        "colab": {
          "base_uri": "https://localhost:8080/"
        },
        "id": "33AUOXTBJE6y",
        "outputId": "0f3043cd-1cff-4b6b-e23f-7e732d68f1bd"
      },
      "id": "33AUOXTBJE6y",
      "execution_count": null,
      "outputs": [
        {
          "output_type": "stream",
          "name": "stdout",
          "text": [
            "Cat\n",
            "Dog\n",
            "Tiger\n"
          ]
        }
      ]
    },
    {
      "cell_type": "code",
      "source": [
        "Animals=['Cat','Dog','Cow','Lion','Tiger']\n",
        "\n",
        "Animals.sort()"
      ],
      "metadata": {
        "id": "s1stNLdWJfmN"
      },
      "id": "s1stNLdWJfmN",
      "execution_count": null,
      "outputs": []
    },
    {
      "cell_type": "code",
      "source": [
        "Animals"
      ],
      "metadata": {
        "colab": {
          "base_uri": "https://localhost:8080/"
        },
        "id": "uQBmTweVJqr8",
        "outputId": "29b99882-3f75-49ef-bb2d-0b411c51a9ae"
      },
      "id": "uQBmTweVJqr8",
      "execution_count": null,
      "outputs": [
        {
          "output_type": "execute_result",
          "data": {
            "text/plain": [
              "['Cat', 'Cow', 'Dog', 'Lion', 'Tiger']"
            ]
          },
          "metadata": {},
          "execution_count": 142
        }
      ]
    },
    {
      "cell_type": "code",
      "source": [
        "i=0\n",
        "\n",
        "while i<len(Animals):\n",
        "  print(Animals[i])\n",
        "  i=i+1"
      ],
      "metadata": {
        "colab": {
          "base_uri": "https://localhost:8080/"
        },
        "id": "gzEThGrjJr7b",
        "outputId": "29760d82-e5fa-45a8-e155-f8f26020e561"
      },
      "id": "gzEThGrjJr7b",
      "execution_count": null,
      "outputs": [
        {
          "output_type": "stream",
          "name": "stdout",
          "text": [
            "Cat\n",
            "Cow\n",
            "Dog\n",
            "Lion\n",
            "Tiger\n"
          ]
        }
      ]
    },
    {
      "cell_type": "markdown",
      "source": [
        "## Function\n",
        "\n",
        "1. Inbuild -> sum(), print(), len()\n",
        "2. PreDefine fun --> math.sqrt(5)\n",
        "3. User Define Fun --> A function User will Create for the use case"
      ],
      "metadata": {
        "id": "t76FuOPDJ3li"
      },
      "id": "t76FuOPDJ3li"
    },
    {
      "cell_type": "code",
      "source": [
        "l=[1,2,3,4,5]\n",
        "\n",
        "sum(l)"
      ],
      "metadata": {
        "colab": {
          "base_uri": "https://localhost:8080/"
        },
        "id": "9moeb7KbJvLz",
        "outputId": "fc4e4a6e-b0f8-4f24-846f-ccbc3ac7ebae"
      },
      "id": "9moeb7KbJvLz",
      "execution_count": null,
      "outputs": [
        {
          "output_type": "execute_result",
          "data": {
            "text/plain": [
              "15"
            ]
          },
          "metadata": {},
          "execution_count": 144
        }
      ]
    },
    {
      "cell_type": "code",
      "source": [
        "import math\n",
        "math.sqrt(5)"
      ],
      "metadata": {
        "colab": {
          "base_uri": "https://localhost:8080/"
        },
        "id": "GxTLSiCsKZWO",
        "outputId": "4752592e-d4e8-4b5e-c2e2-91617abd00f4"
      },
      "id": "GxTLSiCsKZWO",
      "execution_count": null,
      "outputs": [
        {
          "output_type": "execute_result",
          "data": {
            "text/plain": [
              "2.23606797749979"
            ]
          },
          "metadata": {},
          "execution_count": 146
        }
      ]
    },
    {
      "cell_type": "markdown",
      "source": [
        "\n",
        "define def\n",
        "\n",
        "name  odd_even\n",
        "\n",
        "arguments input for the function\n",
        "\n",
        "set of code to be execute\n"
      ],
      "metadata": {
        "id": "TNWoOLXfNvUr"
      },
      "id": "TNWoOLXfNvUr"
    },
    {
      "cell_type": "code",
      "source": [
        "# Odd_Or_Even\n",
        "def Odd_Or_Even(X):  # define a function, named Odd_Or_Even, pass a list as an argument\n",
        "\n",
        "  for i in X:\n",
        "    if i%2==0:\n",
        "      print(f'{i} is Even')\n",
        "    else:\n",
        "      print(f'{i} is Odd')\n",
        "\n"
      ],
      "metadata": {
        "id": "dGy0yYANL3AJ"
      },
      "id": "dGy0yYANL3AJ",
      "execution_count": null,
      "outputs": []
    },
    {
      "cell_type": "code",
      "source": [
        "l=[1,2,3,4,5]\n",
        "\n",
        "Odd_Or_Even(l)"
      ],
      "metadata": {
        "colab": {
          "base_uri": "https://localhost:8080/"
        },
        "id": "g9PHayiCNAaK",
        "outputId": "bf213c50-5afb-4571-9f80-8b7cfda473e3"
      },
      "id": "g9PHayiCNAaK",
      "execution_count": null,
      "outputs": [
        {
          "output_type": "stream",
          "name": "stdout",
          "text": [
            "1 is Odd\n",
            "2 is Even\n",
            "3 is Odd\n",
            "4 is Even\n",
            "5 is Odd\n"
          ]
        }
      ]
    },
    {
      "cell_type": "code",
      "source": [
        "l2=[10,12,13,54,65,78,89,100,178]\n",
        "\n",
        "Odd_Or_Even(l2)"
      ],
      "metadata": {
        "colab": {
          "base_uri": "https://localhost:8080/"
        },
        "id": "svQq_JILNMH6",
        "outputId": "1c3caded-9a03-4a39-8aa0-66eec35d8f30"
      },
      "id": "svQq_JILNMH6",
      "execution_count": null,
      "outputs": [
        {
          "output_type": "stream",
          "name": "stdout",
          "text": [
            "10 is Even\n",
            "12 is Even\n",
            "13 is Odd\n",
            "54 is Even\n",
            "65 is Odd\n",
            "78 is Even\n",
            "89 is Odd\n",
            "100 is Even\n",
            "178 is Even\n"
          ]
        }
      ]
    },
    {
      "cell_type": "code",
      "source": [
        "# Square+5\n",
        "\n",
        "def Square_5(num):\n",
        "\n",
        "  print(num**2+5)\n",
        "\n"
      ],
      "metadata": {
        "id": "VoXSAhlGPMNY"
      },
      "id": "VoXSAhlGPMNY",
      "execution_count": null,
      "outputs": []
    },
    {
      "cell_type": "code",
      "source": [
        "Square_5(2)"
      ],
      "metadata": {
        "colab": {
          "base_uri": "https://localhost:8080/"
        },
        "id": "gXoi9CORQKxX",
        "outputId": "a2680306-c11a-49d0-838b-0c1844236677"
      },
      "id": "gXoi9CORQKxX",
      "execution_count": null,
      "outputs": [
        {
          "output_type": "stream",
          "name": "stdout",
          "text": [
            "9\n"
          ]
        }
      ]
    },
    {
      "cell_type": "code",
      "source": [
        "Square_5(5)"
      ],
      "metadata": {
        "colab": {
          "base_uri": "https://localhost:8080/"
        },
        "id": "8wYcGZM0QP6d",
        "outputId": "7624caf8-be39-4d02-800e-031a237a2c4e"
      },
      "id": "8wYcGZM0QP6d",
      "execution_count": null,
      "outputs": [
        {
          "output_type": "stream",
          "name": "stdout",
          "text": [
            "30\n"
          ]
        }
      ]
    },
    {
      "cell_type": "code",
      "source": [
        "def Square_5(num):\n",
        "\n",
        "\n",
        "  return num**2+5"
      ],
      "metadata": {
        "id": "mZvVTG8RQTWL"
      },
      "id": "mZvVTG8RQTWL",
      "execution_count": null,
      "outputs": []
    },
    {
      "cell_type": "code",
      "source": [
        "Square_5(2)"
      ],
      "metadata": {
        "colab": {
          "base_uri": "https://localhost:8080/"
        },
        "id": "xb8OQ_rSQZX7",
        "outputId": "d509b973-d1d9-4a7c-ebfc-eb3b80bc4f3b"
      },
      "id": "xb8OQ_rSQZX7",
      "execution_count": null,
      "outputs": [
        {
          "output_type": "execute_result",
          "data": {
            "text/plain": [
              "9"
            ]
          },
          "metadata": {},
          "execution_count": 159
        }
      ]
    },
    {
      "cell_type": "code",
      "source": [
        "def Sum_5(num):\n",
        "  return num+5\n"
      ],
      "metadata": {
        "id": "uN7TuQiFQbqn"
      },
      "id": "uN7TuQiFQbqn",
      "execution_count": null,
      "outputs": []
    },
    {
      "cell_type": "code",
      "source": [
        "def Squar_5(num):\n",
        "  n=num**2\n",
        "  S=Sum_5(n)\n",
        "  S=S+2\n",
        "  print(S)"
      ],
      "metadata": {
        "id": "vgW2oAkpR7D-"
      },
      "id": "vgW2oAkpR7D-",
      "execution_count": null,
      "outputs": []
    },
    {
      "cell_type": "code",
      "source": [
        "Sum_5(5)"
      ],
      "metadata": {
        "colab": {
          "base_uri": "https://localhost:8080/"
        },
        "id": "DciNMbYbSBQC",
        "outputId": "3c5b5511-2300-4e1e-e6fe-a3600728e9e0"
      },
      "id": "DciNMbYbSBQC",
      "execution_count": null,
      "outputs": [
        {
          "output_type": "stream",
          "name": "stdout",
          "text": [
            "10\n"
          ]
        }
      ]
    },
    {
      "cell_type": "code",
      "source": [
        "Squar_5(5)"
      ],
      "metadata": {
        "colab": {
          "base_uri": "https://localhost:8080/"
        },
        "id": "31hjZQ-cSDhm",
        "outputId": "6f0f4d25-e0b4-444a-c881-7c37431678fd"
      },
      "id": "31hjZQ-cSDhm",
      "execution_count": null,
      "outputs": [
        {
          "output_type": "stream",
          "name": "stdout",
          "text": [
            "25\n"
          ]
        }
      ]
    },
    {
      "cell_type": "code",
      "source": [
        "Squar_5(5)"
      ],
      "metadata": {
        "colab": {
          "base_uri": "https://localhost:8080/"
        },
        "id": "MR3zepODSFi4",
        "outputId": "8eadf267-a9a9-44e6-a876-ee5cb7050af8"
      },
      "id": "MR3zepODSFi4",
      "execution_count": null,
      "outputs": [
        {
          "output_type": "stream",
          "name": "stdout",
          "text": [
            "32\n"
          ]
        }
      ]
    },
    {
      "cell_type": "code",
      "source": [
        "Fruits=['Apple','Mango','Banana','Orange','Pineapple']\n",
        "\n",
        "def Fruits_With_O(Fruits):\n",
        "  for i in Fruits:\n",
        "    if 'o' in i.lower():\n",
        "      print(i)\n",
        "\n",
        "\n",
        "\n",
        "\n",
        "Fruits_With_O(Fruits)"
      ],
      "metadata": {
        "colab": {
          "base_uri": "https://localhost:8080/"
        },
        "id": "v-d66EzZTZXL",
        "outputId": "0239c375-7f24-48cf-aac1-e4d688384c3e"
      },
      "id": "v-d66EzZTZXL",
      "execution_count": null,
      "outputs": [
        {
          "output_type": "stream",
          "name": "stdout",
          "text": [
            "Mango\n",
            "Orange\n"
          ]
        }
      ]
    },
    {
      "cell_type": "code",
      "source": [
        "def Fruits_With_O(*Fruits):  # *args is a Aribtrary Argument\n",
        "  for i in Fruits:\n",
        "    if 'o' in i.lower():\n",
        "      print(i)\n",
        "\n",
        "Fruits_With_O('Apple','Mango','Banana','Orange','Pineapple')"
      ],
      "metadata": {
        "colab": {
          "base_uri": "https://localhost:8080/"
        },
        "id": "l0eXwgnLT6sG",
        "outputId": "b6dfbcfb-e905-46d4-c64d-00f70b8dfd81"
      },
      "id": "l0eXwgnLT6sG",
      "execution_count": null,
      "outputs": [
        {
          "output_type": "stream",
          "name": "stdout",
          "text": [
            "Mango\n",
            "Orange\n"
          ]
        }
      ]
    },
    {
      "cell_type": "code",
      "source": [
        "Fruits=['Apple','Mango','Banana','Orange','Pineapple']\n",
        "Fruits_With_O(Fruits)"
      ],
      "metadata": {
        "colab": {
          "base_uri": "https://localhost:8080/",
          "height": 159
        },
        "id": "ZFfKoM8LUAxj",
        "outputId": "c648d3bc-d0c7-4052-c83e-659fbba60e3a"
      },
      "id": "ZFfKoM8LUAxj",
      "execution_count": null,
      "outputs": [
        {
          "output_type": "error",
          "ename": "TypeError",
          "evalue": "Fruits_With_O() takes 0 positional arguments but 1 was given",
          "traceback": [
            "\u001b[0;31m---------------------------------------------------------------------------\u001b[0m",
            "\u001b[0;31mTypeError\u001b[0m                                 Traceback (most recent call last)",
            "\u001b[0;32m<ipython-input-181-68da60fd4389>\u001b[0m in \u001b[0;36m<cell line: 0>\u001b[0;34m()\u001b[0m\n\u001b[1;32m      1\u001b[0m \u001b[0mFruits\u001b[0m\u001b[0;34m=\u001b[0m\u001b[0;34m[\u001b[0m\u001b[0;34m'Apple'\u001b[0m\u001b[0;34m,\u001b[0m\u001b[0;34m'Mango'\u001b[0m\u001b[0;34m,\u001b[0m\u001b[0;34m'Banana'\u001b[0m\u001b[0;34m,\u001b[0m\u001b[0;34m'Orange'\u001b[0m\u001b[0;34m,\u001b[0m\u001b[0;34m'Pineapple'\u001b[0m\u001b[0;34m]\u001b[0m\u001b[0;34m\u001b[0m\u001b[0;34m\u001b[0m\u001b[0m\n\u001b[0;32m----> 2\u001b[0;31m \u001b[0mFruits_With_O\u001b[0m\u001b[0;34m(\u001b[0m\u001b[0mFruits\u001b[0m\u001b[0;34m)\u001b[0m\u001b[0;34m\u001b[0m\u001b[0;34m\u001b[0m\u001b[0m\n\u001b[0m",
            "\u001b[0;31mTypeError\u001b[0m: Fruits_With_O() takes 0 positional arguments but 1 was given"
          ]
        }
      ]
    },
    {
      "cell_type": "code",
      "source": [
        "def welcome(name):\n",
        "  print(f'Welcome {name}')\n",
        "\n"
      ],
      "metadata": {
        "id": "9AsvWbcSVaU7"
      },
      "id": "9AsvWbcSVaU7",
      "execution_count": null,
      "outputs": []
    },
    {
      "cell_type": "code",
      "source": [
        "welcome()"
      ],
      "metadata": {
        "colab": {
          "base_uri": "https://localhost:8080/",
          "height": 141
        },
        "id": "DCnPen8FWPQO",
        "outputId": "bb1429c2-ec8b-4545-fd42-d0ef256fd8b1"
      },
      "id": "DCnPen8FWPQO",
      "execution_count": null,
      "outputs": [
        {
          "output_type": "error",
          "ename": "TypeError",
          "evalue": "welcome() missing 1 required positional argument: 'name'",
          "traceback": [
            "\u001b[0;31m---------------------------------------------------------------------------\u001b[0m",
            "\u001b[0;31mTypeError\u001b[0m                                 Traceback (most recent call last)",
            "\u001b[0;32m<ipython-input-190-a401d7101853>\u001b[0m in \u001b[0;36m<cell line: 0>\u001b[0;34m()\u001b[0m\n\u001b[0;32m----> 1\u001b[0;31m \u001b[0mwelcome\u001b[0m\u001b[0;34m(\u001b[0m\u001b[0;34m)\u001b[0m\u001b[0;34m\u001b[0m\u001b[0;34m\u001b[0m\u001b[0m\n\u001b[0m",
            "\u001b[0;31mTypeError\u001b[0m: welcome() missing 1 required positional argument: 'name'"
          ]
        }
      ]
    },
    {
      "cell_type": "code",
      "source": [
        "Name=input('Enter Your Name')\n",
        "\n",
        "welcome(Name)"
      ],
      "metadata": {
        "colab": {
          "base_uri": "https://localhost:8080/"
        },
        "id": "WDrHmYMfV3td",
        "outputId": "33ad81da-5cff-41d3-a8c6-09aa4bcc2ef9"
      },
      "id": "WDrHmYMfV3td",
      "execution_count": null,
      "outputs": [
        {
          "output_type": "stream",
          "name": "stdout",
          "text": [
            "Enter Your Namesanthosh\n",
            "Welcome santhosh\n"
          ]
        }
      ]
    },
    {
      "cell_type": "code",
      "source": [
        "def welcome1(name='Guest'):\n",
        "  print(f'Welcome {name}')\n"
      ],
      "metadata": {
        "id": "vB5qgoZTWGXT"
      },
      "id": "vB5qgoZTWGXT",
      "execution_count": null,
      "outputs": []
    },
    {
      "cell_type": "code",
      "source": [
        "welcome1()"
      ],
      "metadata": {
        "colab": {
          "base_uri": "https://localhost:8080/"
        },
        "id": "xv6AHFcwWL-h",
        "outputId": "90aab696-0135-43bb-82d1-eaf193d052b7"
      },
      "id": "xv6AHFcwWL-h",
      "execution_count": null,
      "outputs": [
        {
          "output_type": "stream",
          "name": "stdout",
          "text": [
            "Welcome Guest\n"
          ]
        }
      ]
    },
    {
      "cell_type": "code",
      "source": [
        "welcome1('Karthick')"
      ],
      "metadata": {
        "colab": {
          "base_uri": "https://localhost:8080/"
        },
        "id": "6n9r5FNVWNXN",
        "outputId": "08d9d202-4bc9-47f3-e8d7-3a8f1ac3475d"
      },
      "id": "6n9r5FNVWNXN",
      "execution_count": null,
      "outputs": [
        {
          "output_type": "stream",
          "name": "stdout",
          "text": [
            "Welcome Karthick\n"
          ]
        }
      ]
    },
    {
      "cell_type": "code",
      "source": [
        "# name, age, gender address\n",
        "\n",
        "def Details(name,age,gender,address):\n",
        "  print(f'Name: {name}')\n",
        "  print(f'Age: {age}')\n",
        "  print(f'Gender: {gender}')\n",
        "  print(f'Address: {address}')\n",
        "\n"
      ],
      "metadata": {
        "id": "x2TyArmKWdHK"
      },
      "id": "x2TyArmKWdHK",
      "execution_count": null,
      "outputs": []
    },
    {
      "cell_type": "code",
      "source": [
        "Details('Karthick',25,'Male')"
      ],
      "metadata": {
        "colab": {
          "base_uri": "https://localhost:8080/",
          "height": 141
        },
        "id": "g4DCHpxYWtIP",
        "outputId": "7eeb0372-61d8-4382-9987-9ae48a7d16d0"
      },
      "id": "g4DCHpxYWtIP",
      "execution_count": null,
      "outputs": [
        {
          "output_type": "error",
          "ename": "TypeError",
          "evalue": "Details() missing 1 required positional argument: 'address'",
          "traceback": [
            "\u001b[0;31m---------------------------------------------------------------------------\u001b[0m",
            "\u001b[0;31mTypeError\u001b[0m                                 Traceback (most recent call last)",
            "\u001b[0;32m<ipython-input-10-2c1b52e7ffb6>\u001b[0m in \u001b[0;36m<cell line: 0>\u001b[0;34m()\u001b[0m\n\u001b[0;32m----> 1\u001b[0;31m \u001b[0mDetails\u001b[0m\u001b[0;34m(\u001b[0m\u001b[0;34m'Karthick'\u001b[0m\u001b[0;34m,\u001b[0m\u001b[0;36m25\u001b[0m\u001b[0;34m,\u001b[0m\u001b[0;34m'Male'\u001b[0m\u001b[0;34m)\u001b[0m\u001b[0;34m\u001b[0m\u001b[0;34m\u001b[0m\u001b[0m\n\u001b[0m",
            "\u001b[0;31mTypeError\u001b[0m: Details() missing 1 required positional argument: 'address'"
          ]
        }
      ]
    },
    {
      "cell_type": "code",
      "source": [
        "def Details(name='Guest',age=None,gender=None,address=None):\n",
        "  print(\"Details\")\n",
        "  print(f'Name: {name}')\n",
        "  print(f'Age: {age}')\n",
        "  print(f'Gender: {gender}')\n",
        "  print(f'Address: {address}')\n",
        "\n",
        "\n"
      ],
      "metadata": {
        "id": "pZdkNYYxWwLW"
      },
      "id": "pZdkNYYxWwLW",
      "execution_count": null,
      "outputs": []
    },
    {
      "cell_type": "code",
      "source": [
        "Details('Karthick',25,'Male')"
      ],
      "metadata": {
        "colab": {
          "base_uri": "https://localhost:8080/"
        },
        "id": "GH9Qe5r3XAMH",
        "outputId": "e6813124-af79-4149-e5e2-1dd4c63b75c3"
      },
      "id": "GH9Qe5r3XAMH",
      "execution_count": null,
      "outputs": [
        {
          "output_type": "stream",
          "name": "stdout",
          "text": [
            "Details\n",
            "Name: Karthick\n",
            "Age: 25\n",
            "Gender: Male\n",
            "Address: None\n"
          ]
        }
      ]
    },
    {
      "cell_type": "code",
      "source": [
        "Details('Karthick',25,'Male','Chennai',89764345786)"
      ],
      "metadata": {
        "colab": {
          "base_uri": "https://localhost:8080/",
          "height": 141
        },
        "id": "1T3MPYEYlJ4e",
        "outputId": "8e85c917-fd83-4caf-afc0-28fd2a322c6a"
      },
      "id": "1T3MPYEYlJ4e",
      "execution_count": null,
      "outputs": [
        {
          "output_type": "error",
          "ename": "TypeError",
          "evalue": "Details() takes from 0 to 4 positional arguments but 5 were given",
          "traceback": [
            "\u001b[0;31m---------------------------------------------------------------------------\u001b[0m",
            "\u001b[0;31mTypeError\u001b[0m                                 Traceback (most recent call last)",
            "\u001b[0;32m<ipython-input-13-79c6289ac435>\u001b[0m in \u001b[0;36m<cell line: 0>\u001b[0;34m()\u001b[0m\n\u001b[0;32m----> 1\u001b[0;31m \u001b[0mDetails\u001b[0m\u001b[0;34m(\u001b[0m\u001b[0;34m'Karthick'\u001b[0m\u001b[0;34m,\u001b[0m\u001b[0;36m25\u001b[0m\u001b[0;34m,\u001b[0m\u001b[0;34m'Male'\u001b[0m\u001b[0;34m,\u001b[0m\u001b[0;34m'Chennai'\u001b[0m\u001b[0;34m,\u001b[0m\u001b[0;36m89764345786\u001b[0m\u001b[0;34m)\u001b[0m\u001b[0;34m\u001b[0m\u001b[0;34m\u001b[0m\u001b[0m\n\u001b[0m",
            "\u001b[0;31mTypeError\u001b[0m: Details() takes from 0 to 4 positional arguments but 5 were given"
          ]
        }
      ]
    },
    {
      "cell_type": "code",
      "source": [
        "def Details(**detail): #keyword arguments **krgs\n",
        "  print(detail['name'])\n",
        "  print(detail['age'])\n",
        "  print(detail['gender'])\n",
        "  print(detail['Address'])\n",
        "  print(detail['Mobile'])"
      ],
      "metadata": {
        "id": "Apf5Un7BXE-M"
      },
      "id": "Apf5Un7BXE-M",
      "execution_count": null,
      "outputs": []
    },
    {
      "cell_type": "code",
      "source": [
        "Details(name='Karthick',age=25,gender='Male',Address='Chennai',Pin=600097,Mobile=89764345786)"
      ],
      "metadata": {
        "colab": {
          "base_uri": "https://localhost:8080/"
        },
        "id": "dT5VsVWHXde1",
        "outputId": "0c64b953-8ae5-4851-cf0b-a2906802da3e"
      },
      "id": "dT5VsVWHXde1",
      "execution_count": null,
      "outputs": [
        {
          "output_type": "stream",
          "name": "stdout",
          "text": [
            "Karthick\n",
            "25\n",
            "Male\n",
            "Chennai\n",
            "89764345786\n"
          ]
        }
      ]
    },
    {
      "cell_type": "markdown",
      "source": [
        "## Numbers and Math Functions (3/5/2025)\n",
        "\n"
      ],
      "metadata": {
        "id": "It_jtj_JG0FU"
      },
      "id": "It_jtj_JG0FU"
    },
    {
      "cell_type": "markdown",
      "source": [
        "\n",
        "\n",
        "1. Number Types in Python\n",
        "\n",
        "| Type    | Description                         | Example       |\n",
        "|---------|-------------------------------------|---------------|\n",
        "| `int`   | Whole numbers                       | 5, -3, 1024   |\n",
        "| `float` | Decimal or real numbers             | 3.14, -0.001  |\n",
        "| `complex` | Numbers with real + imaginary part | 2 + 3j        |\n",
        "\n",
        "---\n",
        "\n",
        "2. Arithmetic Operations\n",
        "\n",
        "\n",
        "| Operation       | Symbol | Description                  | Example Output |\n",
        "|----------------|--------|------------------------------|----------------|\n",
        "| Addition        | `+`    | Adds two numbers             | 5 + 3 = 8      |\n",
        "| Subtraction     | `-`    | Subtracts one from another   | 7 - 2 = 5      |\n",
        "| Multiplication  | `*`    | Multiplies numbers           | 4 * 2 = 8      |\n",
        "| Division        | `/`    | Divides and returns float    | 10 / 4 = 2.5   |\n",
        "| Floor Division  | `//`   | Divides and removes decimal  | 10 // 3 = 3    |\n",
        "| Modulus         | `%`    | Gives remainder              | 10 % 3 = 1     |\n",
        "| Exponentiation  | `**`   | Raises to a power            | 2 ** 3 = 8     |\n",
        "\n",
        "---\n",
        "\n",
        "3. Common Built-in Functions\n",
        "\n",
        "\n",
        "| Function     | Description                          | Example Outcome |\n",
        "|--------------|--------------------------------------|-----------------|\n",
        "| `abs(x)`     | Returns absolute value               | abs(-9) → 9     |\n",
        "| `round(x)`   | Rounds to nearest integer            | round(3.6) → 4  |\n",
        "| `pow(x, y)`  | Returns x raised to power y          | pow(2, 3) → 8   |\n",
        "| `divmod(x, y)`| Returns (quotient, remainder)        | divmod(10, 3) → (3, 1) |\n",
        "| `max(a, b,…)`| Returns the largest number           | max(1, 5, 3) → 5|\n",
        "| `min(a, b,…)`| Returns the smallest number          | min(1, 5, 3) → 1|\n",
        "\n",
        "---\n",
        "\n",
        " 4. Math Module Functions\n",
        "\n",
        "| Function         | Description                       |\n",
        "|------------------|-----------------------------------|\n",
        "| `math.sqrt(x)`   | Square root of x                  |\n",
        "| `math.ceil(x)`   | Rounds up to nearest whole number |\n",
        "| `math.floor(x)`  | Rounds down to nearest whole number|\n",
        "| `math.factorial(x)` | Factorial of x                 |\n",
        "| `math.log(x, base)` | Logarithm of x to given base  |\n",
        "| `math.pi`        | Constant π (≈ 3.14159...)         |\n",
        "| `math.e`         | Euler's number (≈ 2.71828...)     |\n",
        "\n"
      ],
      "metadata": {
        "id": "7kPiPn7xGmzD"
      },
      "id": "7kPiPn7xGmzD"
    },
    {
      "cell_type": "markdown",
      "source": [
        "### Hands-on Exercise"
      ],
      "metadata": {
        "id": "_OKXVsliHA5o"
      },
      "id": "_OKXVsliHA5o"
    },
    {
      "cell_type": "code",
      "source": [
        "x=int(input())\n",
        "print('square',x**2)"
      ],
      "metadata": {
        "id": "bYlOYnTJXrrv",
        "colab": {
          "base_uri": "https://localhost:8080/"
        },
        "outputId": "c06cca28-b5fa-4861-c868-2eb2e35cd51e"
      },
      "id": "bYlOYnTJXrrv",
      "execution_count": null,
      "outputs": [
        {
          "output_type": "stream",
          "name": "stdout",
          "text": [
            "4\n",
            "square 16\n"
          ]
        }
      ]
    },
    {
      "cell_type": "code",
      "source": [
        "x=int(input())\n",
        "print('square',x**3)"
      ],
      "metadata": {
        "colab": {
          "base_uri": "https://localhost:8080/"
        },
        "id": "3pwbzxwWHGLH",
        "outputId": "c0cd0346-cfc8-4cfc-cf33-c2692385542a"
      },
      "id": "3pwbzxwWHGLH",
      "execution_count": null,
      "outputs": [
        {
          "output_type": "stream",
          "name": "stdout",
          "text": [
            "5\n",
            "square 125\n"
          ]
        }
      ]
    },
    {
      "cell_type": "code",
      "source": [
        "x=int(input())\n",
        "# Absolute Value\n",
        "print('absolute',abs(x))"
      ],
      "metadata": {
        "colab": {
          "base_uri": "https://localhost:8080/"
        },
        "id": "TRxpS46mHG_d",
        "outputId": "21125d2a-569d-43a4-b0df-03d2704100f8"
      },
      "id": "TRxpS46mHG_d",
      "execution_count": null,
      "outputs": [
        {
          "output_type": "stream",
          "name": "stdout",
          "text": [
            "245\n",
            "absolute 245\n"
          ]
        }
      ]
    },
    {
      "cell_type": "code",
      "source": [
        "# round\n",
        "x=float(input())\n",
        "print('round',round(x,2))"
      ],
      "metadata": {
        "colab": {
          "base_uri": "https://localhost:8080/"
        },
        "id": "H2evdX0sHGBP",
        "outputId": "b9703f65-6649-46e1-ab06-09f2a67d7c6d"
      },
      "id": "H2evdX0sHGBP",
      "execution_count": null,
      "outputs": [
        {
          "output_type": "stream",
          "name": "stdout",
          "text": [
            "1.34567\n",
            "round 1.35\n"
          ]
        }
      ]
    },
    {
      "cell_type": "code",
      "source": [
        "# pow\n",
        "x=int(input())\n",
        "y=int(input())\n",
        "print('pow',pow(x,y)) # x**y"
      ],
      "metadata": {
        "colab": {
          "base_uri": "https://localhost:8080/"
        },
        "id": "zGHS_vYwrKnI",
        "outputId": "a3bc4deb-1af4-44af-a395-ee069dc8e517"
      },
      "id": "zGHS_vYwrKnI",
      "execution_count": null,
      "outputs": [
        {
          "output_type": "stream",
          "name": "stdout",
          "text": [
            "2\n",
            "3\n",
            "pow 8\n"
          ]
        }
      ]
    },
    {
      "cell_type": "code",
      "source": [
        "# divmod\n",
        "x=int(input())\n",
        "y=int(input())\n",
        "print('divmod',divmod(x,y))"
      ],
      "metadata": {
        "colab": {
          "base_uri": "https://localhost:8080/"
        },
        "id": "tTGtgWq3rxc9",
        "outputId": "92db77c9-13fb-4656-dd1d-5b284601ca74"
      },
      "id": "tTGtgWq3rxc9",
      "execution_count": null,
      "outputs": [
        {
          "output_type": "stream",
          "name": "stdout",
          "text": [
            "20\n",
            "4\n",
            "divmod (5, 0)\n"
          ]
        }
      ]
    },
    {
      "cell_type": "code",
      "source": [
        "# divmod. it will return quotient and remainder\n",
        "x=int(input())\n",
        "y=int(input())\n",
        "print('divmod',divmod(x,y))"
      ],
      "metadata": {
        "colab": {
          "base_uri": "https://localhost:8080/"
        },
        "id": "l9IPhXhCsstn",
        "outputId": "8e88b264-9217-479b-e414-55bbf3405859"
      },
      "id": "l9IPhXhCsstn",
      "execution_count": null,
      "outputs": [
        {
          "output_type": "stream",
          "name": "stdout",
          "text": [
            "40\n",
            "5\n",
            "divmod (8, 0)\n"
          ]
        }
      ]
    },
    {
      "cell_type": "code",
      "source": [
        "# min\n",
        "nums=[2,4,6,7,8,9,10,100]\n",
        "print('Min',min(nums))"
      ],
      "metadata": {
        "colab": {
          "base_uri": "https://localhost:8080/"
        },
        "id": "cWUX08y1sPQp",
        "outputId": "c0381102-e68f-45a4-b2ff-5148b0ff8e6b"
      },
      "id": "cWUX08y1sPQp",
      "execution_count": null,
      "outputs": [
        {
          "output_type": "stream",
          "name": "stdout",
          "text": [
            "Min 2\n"
          ]
        }
      ]
    },
    {
      "cell_type": "code",
      "source": [
        "print('Max',max(nums))"
      ],
      "metadata": {
        "colab": {
          "base_uri": "https://localhost:8080/"
        },
        "id": "yvW68VUaseHd",
        "outputId": "14b5106e-4c46-4c23-ed91-9974464c491d"
      },
      "id": "yvW68VUaseHd",
      "execution_count": null,
      "outputs": [
        {
          "output_type": "stream",
          "name": "stdout",
          "text": [
            "Max 100\n"
          ]
        }
      ]
    },
    {
      "cell_type": "code",
      "source": [
        "import math"
      ],
      "metadata": {
        "id": "n6gV9ejitGTU"
      },
      "id": "n6gV9ejitGTU",
      "execution_count": null,
      "outputs": []
    },
    {
      "cell_type": "code",
      "source": [
        "dir(math)"
      ],
      "metadata": {
        "colab": {
          "base_uri": "https://localhost:8080/"
        },
        "id": "qY-Nu6-NtGRO",
        "outputId": "dc89dde6-2c26-4f07-d52e-30207a252a75"
      },
      "id": "qY-Nu6-NtGRO",
      "execution_count": null,
      "outputs": [
        {
          "output_type": "execute_result",
          "data": {
            "text/plain": [
              "['__doc__',\n",
              " '__loader__',\n",
              " '__name__',\n",
              " '__package__',\n",
              " '__spec__',\n",
              " 'acos',\n",
              " 'acosh',\n",
              " 'asin',\n",
              " 'asinh',\n",
              " 'atan',\n",
              " 'atan2',\n",
              " 'atanh',\n",
              " 'cbrt',\n",
              " 'ceil',\n",
              " 'comb',\n",
              " 'copysign',\n",
              " 'cos',\n",
              " 'cosh',\n",
              " 'degrees',\n",
              " 'dist',\n",
              " 'e',\n",
              " 'erf',\n",
              " 'erfc',\n",
              " 'exp',\n",
              " 'exp2',\n",
              " 'expm1',\n",
              " 'fabs',\n",
              " 'factorial',\n",
              " 'floor',\n",
              " 'fmod',\n",
              " 'frexp',\n",
              " 'fsum',\n",
              " 'gamma',\n",
              " 'gcd',\n",
              " 'hypot',\n",
              " 'inf',\n",
              " 'isclose',\n",
              " 'isfinite',\n",
              " 'isinf',\n",
              " 'isnan',\n",
              " 'isqrt',\n",
              " 'lcm',\n",
              " 'ldexp',\n",
              " 'lgamma',\n",
              " 'log',\n",
              " 'log10',\n",
              " 'log1p',\n",
              " 'log2',\n",
              " 'modf',\n",
              " 'nan',\n",
              " 'nextafter',\n",
              " 'perm',\n",
              " 'pi',\n",
              " 'pow',\n",
              " 'prod',\n",
              " 'radians',\n",
              " 'remainder',\n",
              " 'sin',\n",
              " 'sinh',\n",
              " 'sqrt',\n",
              " 'tan',\n",
              " 'tanh',\n",
              " 'tau',\n",
              " 'trunc',\n",
              " 'ulp']"
            ]
          },
          "metadata": {},
          "execution_count": 33
        }
      ]
    },
    {
      "cell_type": "code",
      "source": [
        "help(math.factorial)"
      ],
      "metadata": {
        "colab": {
          "base_uri": "https://localhost:8080/"
        },
        "id": "oSIWZf6OtGO1",
        "outputId": "4ef12824-fb11-4d63-ee43-9dacce4aba6c"
      },
      "id": "oSIWZf6OtGO1",
      "execution_count": null,
      "outputs": [
        {
          "output_type": "stream",
          "name": "stdout",
          "text": [
            "Help on built-in function factorial in module math:\n",
            "\n",
            "factorial(n, /)\n",
            "    Find n!.\n",
            "    \n",
            "    Raise a ValueError if x is negative or non-integral.\n",
            "\n"
          ]
        }
      ]
    },
    {
      "cell_type": "code",
      "source": [
        "help(math.sqrt)"
      ],
      "metadata": {
        "colab": {
          "base_uri": "https://localhost:8080/"
        },
        "id": "p9KqsHZ_tGMZ",
        "outputId": "aea61e62-4299-478a-981a-ea948bf044f2"
      },
      "id": "p9KqsHZ_tGMZ",
      "execution_count": null,
      "outputs": [
        {
          "output_type": "stream",
          "name": "stdout",
          "text": [
            "Help on built-in function sqrt in module math:\n",
            "\n",
            "sqrt(x, /)\n",
            "    Return the square root of x.\n",
            "\n"
          ]
        }
      ]
    },
    {
      "cell_type": "code",
      "source": [
        "x=3.3\n",
        "\n",
        "round(x)"
      ],
      "metadata": {
        "colab": {
          "base_uri": "https://localhost:8080/"
        },
        "id": "gFoK49nPtGKP",
        "outputId": "c49c454b-ea5a-443c-b891-8cbecaf21208"
      },
      "id": "gFoK49nPtGKP",
      "execution_count": null,
      "outputs": [
        {
          "output_type": "execute_result",
          "data": {
            "text/plain": [
              "3"
            ]
          },
          "metadata": {},
          "execution_count": 37
        }
      ]
    },
    {
      "cell_type": "code",
      "source": [
        "x=3.3\n",
        "print('Round',round(x))\n",
        "print('Floor',math.floor(x))\n",
        "print('Ceil',math.ceil(x))"
      ],
      "metadata": {
        "colab": {
          "base_uri": "https://localhost:8080/"
        },
        "id": "3iBqVf0UtGH6",
        "outputId": "e9a907f0-96ca-44f7-b0e8-177135fceac3"
      },
      "id": "3iBqVf0UtGH6",
      "execution_count": null,
      "outputs": [
        {
          "output_type": "stream",
          "name": "stdout",
          "text": [
            "Round 3\n",
            "Floor 3\n",
            "Ceil 4\n"
          ]
        }
      ]
    },
    {
      "cell_type": "code",
      "source": [
        "x=3.6\n",
        "print('Round',round(x))\n",
        "print('Floor',math.floor(x))\n",
        "print('Ceil',math.ceil(x))"
      ],
      "metadata": {
        "colab": {
          "base_uri": "https://localhost:8080/"
        },
        "id": "v2TmbitRuf4B",
        "outputId": "a32eed0e-0d24-450f-e589-60f3cfb3ded6"
      },
      "id": "v2TmbitRuf4B",
      "execution_count": null,
      "outputs": [
        {
          "output_type": "stream",
          "name": "stdout",
          "text": [
            "Round 4\n",
            "Floor 3\n",
            "Ceil 4\n"
          ]
        }
      ]
    },
    {
      "cell_type": "code",
      "source": [
        "x=-3.5\n",
        "print('Round',round(x))\n",
        "print('Floor',math.floor(x))\n",
        "print('Ceil',math.ceil(x))"
      ],
      "metadata": {
        "colab": {
          "base_uri": "https://localhost:8080/"
        },
        "id": "wTizGuiZum_x",
        "outputId": "2fbf67bc-42bc-49c9-e8fc-1d43a81cb023"
      },
      "id": "wTizGuiZum_x",
      "execution_count": null,
      "outputs": [
        {
          "output_type": "stream",
          "name": "stdout",
          "text": [
            "Round -4\n",
            "Floor -4\n",
            "Ceil -3\n"
          ]
        }
      ]
    },
    {
      "cell_type": "code",
      "source": [
        "help(round)"
      ],
      "metadata": {
        "colab": {
          "base_uri": "https://localhost:8080/"
        },
        "id": "Xd_AnSu7vWLg",
        "outputId": "4940d93f-66d6-45fe-b0c3-9c0d43f35197"
      },
      "id": "Xd_AnSu7vWLg",
      "execution_count": null,
      "outputs": [
        {
          "output_type": "stream",
          "name": "stdout",
          "text": [
            "Help on built-in function round in module builtins:\n",
            "\n",
            "round(number, ndigits=None)\n",
            "    Round a number to a given precision in decimal digits.\n",
            "    \n",
            "    The return value is an integer if ndigits is omitted or None.  Otherwise\n",
            "    the return value has the same type as the number.  ndigits may be negative.\n",
            "\n"
          ]
        }
      ]
    },
    {
      "cell_type": "code",
      "source": [
        "help(sum)"
      ],
      "metadata": {
        "colab": {
          "base_uri": "https://localhost:8080/"
        },
        "id": "KULWPONVvv36",
        "outputId": "ccf9e229-d3b6-48d1-f9d3-a073fa9b4cc0"
      },
      "id": "KULWPONVvv36",
      "execution_count": null,
      "outputs": [
        {
          "output_type": "stream",
          "name": "stdout",
          "text": [
            "Help on built-in function sum in module builtins:\n",
            "\n",
            "sum(iterable, /, start=0)\n",
            "    Return the sum of a 'start' value (default: 0) plus an iterable of numbers\n",
            "    \n",
            "    When the iterable is empty, return the start value.\n",
            "    This function is intended specifically for use with numeric values and may\n",
            "    reject non-numeric types.\n",
            "\n"
          ]
        }
      ]
    },
    {
      "cell_type": "code",
      "source": [
        "help(math.floor)"
      ],
      "metadata": {
        "colab": {
          "base_uri": "https://localhost:8080/"
        },
        "id": "gJjQ2AMAvNzc",
        "outputId": "c85e4367-6dea-44e7-cd88-db4e672daef3"
      },
      "id": "gJjQ2AMAvNzc",
      "execution_count": null,
      "outputs": [
        {
          "output_type": "stream",
          "name": "stdout",
          "text": [
            "Help on built-in function floor in module math:\n",
            "\n",
            "floor(x, /)\n",
            "    Return the floor of x as an Integral.\n",
            "    \n",
            "    This is the largest integer <= x.\n",
            "\n"
          ]
        }
      ]
    },
    {
      "cell_type": "code",
      "source": [
        "x=500\n",
        "print('Sq')"
      ],
      "metadata": {
        "id": "xKQU8UHku9py"
      },
      "id": "xKQU8UHku9py",
      "execution_count": null,
      "outputs": []
    },
    {
      "cell_type": "markdown",
      "source": [
        "## Common Errors in Python (3/5/2025)\n"
      ],
      "metadata": {
        "id": "kPYFw6T4HJER"
      },
      "id": "kPYFw6T4HJER"
    },
    {
      "cell_type": "markdown",
      "source": [
        "\n",
        "\n",
        "\n",
        "| **#** | **Error Type**        | **Cause / Description**                                                                 | **Example Code**                                                                 | **Fix / Best Practice**                                                    |\n",
        "|------:|------------------------|-----------------------------------------------------------------------------------------|----------------------------------------------------------------------------------|-----------------------------------------------------------------------------|\n",
        "| 1    | `SyntaxError`          | Code violates Python’s grammar (e.g., missing colon, bad brackets)                     | `if x > 5`<br>`print(\"Hello\")`                                                  | Add a colon (`:`) after `if`, `for`, etc.                                 |\n",
        "| 2    | `IndentationError`     | Missing or inconsistent indentation                                                     | `def greet():`<br>&nbsp;&nbsp;&nbsp;&nbsp;`print(\"Hi\")`<br>`print(\"Bye\")`       | Use consistent 4-space indentation inside blocks                          |\n",
        "| 3    | `NameError`            | Using an undefined variable or function                                                 | `print(score)` when `score` is not defined                                      | Declare `score = 0` before using                                          |\n",
        "| 4    | `TypeError`            | Performing an operation on incompatible types                                           | `\"Age: \" + 25`                                                                   | Convert to string: `\"Age: \" + str(25)`                                     |\n",
        "| 5    | `ValueError`           | Function receives the correct type but invalid value                                    | `int(\"abc\")`                                                                     | Ensure value is numeric before converting                                  |\n",
        "| 6    | `IndexError`           | List index out of range                                                                 | `colors = [\"red\", \"blue\"]`<br>`print(colors[5])`                                 | Check index with `len(colors)` before accessing                           |\n",
        "| 7    | `KeyError`             | Dictionary key doesn’t exist                                                            | `person = {\"name\": \"Sam\"}`<br>`print(person[\"age\"])`                             | Use `.get(\"age\")` or check key existence                                  |\n",
        "| 8    | `FileNotFoundError`    | File not found in the specified path                                                    | `open(\"missing.txt\", \"r\")`                                                      | Verify path or use `with open(\"file.txt\", \"w\")` for safe creation         |\n",
        "| 9    | `ModuleNotFoundError`  | Importing a non-existent or misspelled module                                           | `import numppy`                                                                  | Correct the module name: `import numpy`                                   |\n",
        "| 10   | `ZeroDivisionError`    | Dividing any number by zero                                                             | `x = 10 / 0`                                                                     | Always check `if denominator != 0` before dividing                        |\n",
        "| 11   | `OverflowError`        | Performing operations resulting in values too large                                     | `math.exp(1000)`                                                                 | Use bounded inputs or switch to libraries like NumPy                      |\n",
        "| 12   | **Logical Error**      | No crash, but wrong output due to faulty logic                                          | `if x = 10:` (should be `==`)<br>Wrong loop: `range(1, 5)` missing `5`           | Use `==` for comparison, review loop ranges carefully                     |\n",
        "\n",
        "\n",
        "\n",
        "\n",
        "**Syntax Violations**\n",
        "\n",
        "\n",
        "\n",
        "| **#** | **Violation**              | **Cause / Description**                                                  | **Example (Wrong)**             | **Fix (Correct Code)**         |\n",
        "|------:|-----------------------------|--------------------------------------------------------------------------|---------------------------------|-------------------------------|\n",
        "| 1    | Missing Colon `:`            | After `if`, `for`, `while`, `def`, `class` etc.                          | `if x > 5`<br>`print(x)`         | `if x > 5:`<br>`    print(x)`  |\n",
        "| 2    | Unclosed Brackets             | Forgetting to close `()`, `[]`, `{}` properly                             | `list = [1, 2, 3`                | `list = [1, 2, 3]`             |\n",
        "| 3    | Wrong Quotes Usage            | Mismatching `'` and `\"` or not closing string properly                   | `text = \"Python's world\"` (ok)<br>`text = \"Python's world` (error) | Use matching quotes (`'` or `\"`) |\n",
        "| 4    | Incorrect Assignment in Condition | Using `=` instead of `==` inside `if`, `while`                           | `if x = 5:`                      | `if x == 5:`                  |\n",
        "| 5    | Misplaced Keywords            | Writing keywords like `else`, `elif` without an `if` block first         | `else: print(\"No\")`              | Must follow after an `if` block |\n",
        "| 6    | Invalid Function Definition   | Missing parentheses or colon in `def` block                             | `def greet:`                     | `def greet():`                |\n",
        "| 7    | Incorrect Indentation         | Missing indentation under `if`, `for`, `def`, etc.                      | `for i in range(5):`<br>`print(i)`| `for i in range(5):`<br>`    print(i)` |\n",
        "| 8    | Invalid Variable Name         | Using numbers, spaces, special characters incorrectly                   | `2value = 10`<br>`user-name = 5` | Use letters/underscores: `value2`, `user_name` |\n",
        "| 9    | Extra Commas or Dots           | Leaving trailing commas or wrong dots                                   | `list = [1, 2, 3, ]` (ok sometimes)<br>`value..upper()` | Remove extra commas or dots: `value.upper()` |\n",
        "\n",
        "\n",
        "\n"
      ],
      "metadata": {
        "id": "dy9PSf_uJQPI"
      },
      "id": "dy9PSf_uJQPI"
    },
    {
      "cell_type": "markdown",
      "source": [
        "### Hands-on Exercise\n",
        "\n",
        "\n"
      ],
      "metadata": {
        "id": "RIedLpxcHUrA"
      },
      "id": "RIedLpxcHUrA"
    },
    {
      "cell_type": "code",
      "source": [
        "Animals=['Cat','Dog','Cow','Lion','Tiger']"
      ],
      "metadata": {
        "id": "pHzQHRkIHXNe"
      },
      "id": "pHzQHRkIHXNe",
      "execution_count": null,
      "outputs": []
    },
    {
      "cell_type": "code",
      "source": [
        "if 'Cat' in Animals:\n",
        "print('Cat Found')"
      ],
      "metadata": {
        "colab": {
          "base_uri": "https://localhost:8080/",
          "height": 106
        },
        "id": "lZdjdHlhHXK5",
        "outputId": "c5d39923-abec-4987-ddbe-25fc3aa23b4b"
      },
      "id": "lZdjdHlhHXK5",
      "execution_count": null,
      "outputs": [
        {
          "output_type": "error",
          "ename": "IndentationError",
          "evalue": "expected an indented block after 'if' statement on line 1 (<ipython-input-52-9e2aa22e6e4a>, line 2)",
          "traceback": [
            "\u001b[0;36m  File \u001b[0;32m\"<ipython-input-52-9e2aa22e6e4a>\"\u001b[0;36m, line \u001b[0;32m2\u001b[0m\n\u001b[0;31m    print('Cat Found')\u001b[0m\n\u001b[0m    ^\u001b[0m\n\u001b[0;31mIndentationError\u001b[0m\u001b[0;31m:\u001b[0m expected an indented block after 'if' statement on line 1\n"
          ]
        }
      ]
    },
    {
      "cell_type": "code",
      "source": [
        "Animals[13]"
      ],
      "metadata": {
        "colab": {
          "base_uri": "https://localhost:8080/",
          "height": 141
        },
        "id": "x-KAmQVqHW8k",
        "outputId": "8fcce2e6-48ff-49d3-b250-490fb3555375"
      },
      "id": "x-KAmQVqHW8k",
      "execution_count": null,
      "outputs": [
        {
          "output_type": "error",
          "ename": "IndexError",
          "evalue": "list index out of range",
          "traceback": [
            "\u001b[0;31m---------------------------------------------------------------------------\u001b[0m",
            "\u001b[0;31mIndexError\u001b[0m                                Traceback (most recent call last)",
            "\u001b[0;32m<ipython-input-53-43b55755bfa5>\u001b[0m in \u001b[0;36m<cell line: 0>\u001b[0;34m()\u001b[0m\n\u001b[0;32m----> 1\u001b[0;31m \u001b[0mAnimals\u001b[0m\u001b[0;34m[\u001b[0m\u001b[0;36m13\u001b[0m\u001b[0;34m]\u001b[0m\u001b[0;34m\u001b[0m\u001b[0;34m\u001b[0m\u001b[0m\n\u001b[0m",
            "\u001b[0;31mIndexError\u001b[0m: list index out of range"
          ]
        }
      ]
    },
    {
      "cell_type": "code",
      "source": [
        "A=1.34567\n",
        "B='10'\n",
        "A+B"
      ],
      "metadata": {
        "colab": {
          "base_uri": "https://localhost:8080/",
          "height": 176
        },
        "id": "QWQY77wSxZP4",
        "outputId": "754d95c9-e7a2-4ef7-98fc-e17ac4babd9c"
      },
      "id": "QWQY77wSxZP4",
      "execution_count": null,
      "outputs": [
        {
          "output_type": "error",
          "ename": "TypeError",
          "evalue": "unsupported operand type(s) for +: 'float' and 'str'",
          "traceback": [
            "\u001b[0;31m---------------------------------------------------------------------------\u001b[0m",
            "\u001b[0;31mTypeError\u001b[0m                                 Traceback (most recent call last)",
            "\u001b[0;32m<ipython-input-55-2766918f3504>\u001b[0m in \u001b[0;36m<cell line: 0>\u001b[0;34m()\u001b[0m\n\u001b[1;32m      1\u001b[0m \u001b[0mA\u001b[0m\u001b[0;34m=\u001b[0m\u001b[0;36m1.34567\u001b[0m\u001b[0;34m\u001b[0m\u001b[0;34m\u001b[0m\u001b[0m\n\u001b[1;32m      2\u001b[0m \u001b[0mB\u001b[0m\u001b[0;34m=\u001b[0m\u001b[0;34m'10'\u001b[0m\u001b[0;34m\u001b[0m\u001b[0;34m\u001b[0m\u001b[0m\n\u001b[0;32m----> 3\u001b[0;31m \u001b[0mA\u001b[0m\u001b[0;34m+\u001b[0m\u001b[0mB\u001b[0m\u001b[0;34m\u001b[0m\u001b[0;34m\u001b[0m\u001b[0m\n\u001b[0m",
            "\u001b[0;31mTypeError\u001b[0m: unsupported operand type(s) for +: 'float' and 'str'"
          ]
        }
      ]
    },
    {
      "cell_type": "code",
      "source": [
        "A=[1,2,3,4,5]\n",
        "B=(10,20,30,40)\n",
        "A+B"
      ],
      "metadata": {
        "colab": {
          "base_uri": "https://localhost:8080/",
          "height": 176
        },
        "id": "QZFa1XFDxn2T",
        "outputId": "457ab6ab-0257-43be-edba-d70af1501616"
      },
      "id": "QZFa1XFDxn2T",
      "execution_count": null,
      "outputs": [
        {
          "output_type": "error",
          "ename": "TypeError",
          "evalue": "can only concatenate list (not \"tuple\") to list",
          "traceback": [
            "\u001b[0;31m---------------------------------------------------------------------------\u001b[0m",
            "\u001b[0;31mTypeError\u001b[0m                                 Traceback (most recent call last)",
            "\u001b[0;32m<ipython-input-57-a660eb0f66ae>\u001b[0m in \u001b[0;36m<cell line: 0>\u001b[0;34m()\u001b[0m\n\u001b[1;32m      1\u001b[0m \u001b[0mA\u001b[0m\u001b[0;34m=\u001b[0m\u001b[0;34m[\u001b[0m\u001b[0;36m1\u001b[0m\u001b[0;34m,\u001b[0m\u001b[0;36m2\u001b[0m\u001b[0;34m,\u001b[0m\u001b[0;36m3\u001b[0m\u001b[0;34m,\u001b[0m\u001b[0;36m4\u001b[0m\u001b[0;34m,\u001b[0m\u001b[0;36m5\u001b[0m\u001b[0;34m]\u001b[0m\u001b[0;34m\u001b[0m\u001b[0;34m\u001b[0m\u001b[0m\n\u001b[1;32m      2\u001b[0m \u001b[0mB\u001b[0m\u001b[0;34m=\u001b[0m\u001b[0;34m(\u001b[0m\u001b[0;36m10\u001b[0m\u001b[0;34m,\u001b[0m\u001b[0;36m20\u001b[0m\u001b[0;34m,\u001b[0m\u001b[0;36m30\u001b[0m\u001b[0;34m,\u001b[0m\u001b[0;36m40\u001b[0m\u001b[0;34m)\u001b[0m\u001b[0;34m\u001b[0m\u001b[0;34m\u001b[0m\u001b[0m\n\u001b[0;32m----> 3\u001b[0;31m \u001b[0mA\u001b[0m\u001b[0;34m+\u001b[0m\u001b[0mB\u001b[0m\u001b[0;34m\u001b[0m\u001b[0;34m\u001b[0m\u001b[0m\n\u001b[0m",
            "\u001b[0;31mTypeError\u001b[0m: can only concatenate list (not \"tuple\") to list"
          ]
        }
      ]
    },
    {
      "cell_type": "code",
      "source": [
        "str(10)"
      ],
      "metadata": {
        "colab": {
          "base_uri": "https://localhost:8080/",
          "height": 35
        },
        "id": "LikTc7DUx4y6",
        "outputId": "ecf7ff75-df97-4669-eefc-bc47cb91a894"
      },
      "id": "LikTc7DUx4y6",
      "execution_count": null,
      "outputs": [
        {
          "output_type": "execute_result",
          "data": {
            "text/plain": [
              "'10'"
            ],
            "application/vnd.google.colaboratory.intrinsic+json": {
              "type": "string"
            }
          },
          "metadata": {},
          "execution_count": 58
        }
      ]
    },
    {
      "cell_type": "code",
      "source": [
        "int('10')"
      ],
      "metadata": {
        "colab": {
          "base_uri": "https://localhost:8080/"
        },
        "id": "qs_Z5e9nx8Vn",
        "outputId": "915e85ea-377b-4cb5-93dc-d35c55e86074"
      },
      "id": "qs_Z5e9nx8Vn",
      "execution_count": null,
      "outputs": [
        {
          "output_type": "execute_result",
          "data": {
            "text/plain": [
              "10"
            ]
          },
          "metadata": {},
          "execution_count": 59
        }
      ]
    },
    {
      "cell_type": "code",
      "source": [
        "int('10A')"
      ],
      "metadata": {
        "colab": {
          "base_uri": "https://localhost:8080/",
          "height": 141
        },
        "id": "ljCy4IyCyAMC",
        "outputId": "0de41bb4-5857-4c68-d016-02c32940ef6f"
      },
      "id": "ljCy4IyCyAMC",
      "execution_count": null,
      "outputs": [
        {
          "output_type": "error",
          "ename": "ValueError",
          "evalue": "invalid literal for int() with base 10: '10A'",
          "traceback": [
            "\u001b[0;31m---------------------------------------------------------------------------\u001b[0m",
            "\u001b[0;31mValueError\u001b[0m                                Traceback (most recent call last)",
            "\u001b[0;32m<ipython-input-60-b5bfd800f44e>\u001b[0m in \u001b[0;36m<cell line: 0>\u001b[0;34m()\u001b[0m\n\u001b[0;32m----> 1\u001b[0;31m \u001b[0mint\u001b[0m\u001b[0;34m(\u001b[0m\u001b[0;34m'10A'\u001b[0m\u001b[0;34m)\u001b[0m\u001b[0;34m\u001b[0m\u001b[0;34m\u001b[0m\u001b[0m\n\u001b[0m",
            "\u001b[0;31mValueError\u001b[0m: invalid literal for int() with base 10: '10A'"
          ]
        }
      ]
    },
    {
      "cell_type": "code",
      "source": [
        "sam('apple')"
      ],
      "metadata": {
        "colab": {
          "base_uri": "https://localhost:8080/",
          "height": 141
        },
        "id": "x8sK05aty0XT",
        "outputId": "a94df43c-dbc2-4fc8-d443-008e3fb52f08"
      },
      "id": "x8sK05aty0XT",
      "execution_count": null,
      "outputs": [
        {
          "output_type": "error",
          "ename": "NameError",
          "evalue": "name 'sam' is not defined",
          "traceback": [
            "\u001b[0;31m---------------------------------------------------------------------------\u001b[0m",
            "\u001b[0;31mNameError\u001b[0m                                 Traceback (most recent call last)",
            "\u001b[0;32m<ipython-input-63-3201f5b66a12>\u001b[0m in \u001b[0;36m<cell line: 0>\u001b[0;34m()\u001b[0m\n\u001b[0;32m----> 1\u001b[0;31m \u001b[0msam\u001b[0m\u001b[0;34m(\u001b[0m\u001b[0;34m'apple'\u001b[0m\u001b[0;34m)\u001b[0m\u001b[0;34m\u001b[0m\u001b[0;34m\u001b[0m\u001b[0m\n\u001b[0m",
            "\u001b[0;31mNameError\u001b[0m: name 'sam' is not defined"
          ]
        }
      ]
    },
    {
      "cell_type": "code",
      "source": [
        "import maths"
      ],
      "metadata": {
        "colab": {
          "base_uri": "https://localhost:8080/",
          "height": 315
        },
        "id": "HT8-RQGFypWc",
        "outputId": "f7e01891-28c0-4474-d869-d8cddeeda37d"
      },
      "id": "HT8-RQGFypWc",
      "execution_count": null,
      "outputs": [
        {
          "output_type": "error",
          "ename": "ModuleNotFoundError",
          "evalue": "No module named 'maths'",
          "traceback": [
            "\u001b[0;31m---------------------------------------------------------------------------\u001b[0m",
            "\u001b[0;31mModuleNotFoundError\u001b[0m                       Traceback (most recent call last)",
            "\u001b[0;32m<ipython-input-62-6e25cba24411>\u001b[0m in \u001b[0;36m<cell line: 0>\u001b[0;34m()\u001b[0m\n\u001b[0;32m----> 1\u001b[0;31m \u001b[0;32mimport\u001b[0m \u001b[0mmaths\u001b[0m\u001b[0;34m\u001b[0m\u001b[0;34m\u001b[0m\u001b[0m\n\u001b[0m",
            "\u001b[0;31mModuleNotFoundError\u001b[0m: No module named 'maths'",
            "",
            "\u001b[0;31m---------------------------------------------------------------------------\u001b[0;32m\nNOTE: If your import is failing due to a missing package, you can\nmanually install dependencies using either !pip or !apt.\n\nTo view examples of installing some common dependencies, click the\n\"Open Examples\" button below.\n\u001b[0;31m---------------------------------------------------------------------------\u001b[0m\n"
          ],
          "errorDetails": {
            "actions": [
              {
                "action": "open_url",
                "actionText": "Open Examples",
                "url": "/notebooks/snippets/importing_libraries.ipynb"
              }
            ]
          }
        }
      ]
    },
    {
      "cell_type": "code",
      "source": [
        "10/0"
      ],
      "metadata": {
        "colab": {
          "base_uri": "https://localhost:8080/",
          "height": 141
        },
        "id": "Kr9igHUyzOOj",
        "outputId": "3c1ca3ea-4f82-42da-fb72-c732aa91a79d"
      },
      "id": "Kr9igHUyzOOj",
      "execution_count": null,
      "outputs": [
        {
          "output_type": "error",
          "ename": "ZeroDivisionError",
          "evalue": "division by zero",
          "traceback": [
            "\u001b[0;31m---------------------------------------------------------------------------\u001b[0m",
            "\u001b[0;31mZeroDivisionError\u001b[0m                         Traceback (most recent call last)",
            "\u001b[0;32m<ipython-input-66-e574edb36883>\u001b[0m in \u001b[0;36m<cell line: 0>\u001b[0;34m()\u001b[0m\n\u001b[0;32m----> 1\u001b[0;31m \u001b[0;36m10\u001b[0m\u001b[0;34m/\u001b[0m\u001b[0;36m0\u001b[0m\u001b[0;34m\u001b[0m\u001b[0;34m\u001b[0m\u001b[0m\n\u001b[0m",
            "\u001b[0;31mZeroDivisionError\u001b[0m: division by zero"
          ]
        }
      ]
    },
    {
      "cell_type": "code",
      "source": [
        "math.exp(1)"
      ],
      "metadata": {
        "colab": {
          "base_uri": "https://localhost:8080/"
        },
        "id": "JA9Rfo6Szn0n",
        "outputId": "4b260eee-e7c3-433d-c0c9-07547ca39d1b"
      },
      "id": "JA9Rfo6Szn0n",
      "execution_count": null,
      "outputs": [
        {
          "output_type": "execute_result",
          "data": {
            "text/plain": [
              "2.718281828459045"
            ]
          },
          "metadata": {},
          "execution_count": 78
        }
      ]
    },
    {
      "cell_type": "code",
      "source": [
        "math.exp(2)"
      ],
      "metadata": {
        "colab": {
          "base_uri": "https://localhost:8080/"
        },
        "id": "2XxkfNPq0bFy",
        "outputId": "2ac6b5a2-aa0e-4858-d79d-06162816b9b9"
      },
      "id": "2XxkfNPq0bFy",
      "execution_count": null,
      "outputs": [
        {
          "output_type": "execute_result",
          "data": {
            "text/plain": [
              "7.38905609893065"
            ]
          },
          "metadata": {},
          "execution_count": 79
        }
      ]
    },
    {
      "cell_type": "code",
      "source": [
        "math.exp(3)"
      ],
      "metadata": {
        "colab": {
          "base_uri": "https://localhost:8080/"
        },
        "id": "LRBYyHEx0gBF",
        "outputId": "97c069bd-a964-4fdc-f087-5d39ff2987cc"
      },
      "id": "LRBYyHEx0gBF",
      "execution_count": null,
      "outputs": [
        {
          "output_type": "execute_result",
          "data": {
            "text/plain": [
              "20.085536923187668"
            ]
          },
          "metadata": {},
          "execution_count": 80
        }
      ]
    },
    {
      "cell_type": "code",
      "source": [
        "math.exp(4)"
      ],
      "metadata": {
        "colab": {
          "base_uri": "https://localhost:8080/"
        },
        "id": "VtcgYE3V0hxi",
        "outputId": "460f2cd5-b773-43cd-b5dc-5e8f2bd7e8f9"
      },
      "id": "VtcgYE3V0hxi",
      "execution_count": null,
      "outputs": [
        {
          "output_type": "execute_result",
          "data": {
            "text/plain": [
              "54.598150033144236"
            ]
          },
          "metadata": {},
          "execution_count": 81
        }
      ]
    },
    {
      "cell_type": "code",
      "source": [
        "math.exp(10)"
      ],
      "metadata": {
        "colab": {
          "base_uri": "https://localhost:8080/"
        },
        "id": "Y4F1KcGD0mGH",
        "outputId": "1fc69a86-1acf-4bda-917d-dc54e7d160d4"
      },
      "id": "Y4F1KcGD0mGH",
      "execution_count": null,
      "outputs": [
        {
          "output_type": "execute_result",
          "data": {
            "text/plain": [
              "22026.465794806718"
            ]
          },
          "metadata": {},
          "execution_count": 82
        }
      ]
    },
    {
      "cell_type": "code",
      "source": [
        "math.exp(1000)"
      ],
      "metadata": {
        "colab": {
          "base_uri": "https://localhost:8080/",
          "height": 141
        },
        "id": "JVrwKcJ70uuc",
        "outputId": "cbde7d3e-5f19-4803-ffa5-934b785dbca8"
      },
      "id": "JVrwKcJ70uuc",
      "execution_count": null,
      "outputs": [
        {
          "output_type": "error",
          "ename": "OverflowError",
          "evalue": "math range error",
          "traceback": [
            "\u001b[0;31m---------------------------------------------------------------------------\u001b[0m",
            "\u001b[0;31mOverflowError\u001b[0m                             Traceback (most recent call last)",
            "\u001b[0;32m<ipython-input-83-e0c11add5017>\u001b[0m in \u001b[0;36m<cell line: 0>\u001b[0;34m()\u001b[0m\n\u001b[0;32m----> 1\u001b[0;31m \u001b[0mmath\u001b[0m\u001b[0;34m.\u001b[0m\u001b[0mexp\u001b[0m\u001b[0;34m(\u001b[0m\u001b[0;36m1000\u001b[0m\u001b[0;34m)\u001b[0m\u001b[0;34m\u001b[0m\u001b[0;34m\u001b[0m\u001b[0m\n\u001b[0m",
            "\u001b[0;31mOverflowError\u001b[0m: math range error"
          ]
        }
      ]
    },
    {
      "cell_type": "code",
      "source": [
        "nums=[10,20,0,5,7,8,9,0] # print index of 0\n",
        "\n",
        "for i in nums:\n",
        "  if i==i:\n",
        "    print(i)"
      ],
      "metadata": {
        "colab": {
          "base_uri": "https://localhost:8080/"
        },
        "id": "qiBnhUqa05vr",
        "outputId": "e27b2c82-65da-441e-ab4c-9407bb61e525"
      },
      "id": "qiBnhUqa05vr",
      "execution_count": null,
      "outputs": [
        {
          "output_type": "stream",
          "name": "stdout",
          "text": [
            "10\n",
            "20\n",
            "0\n",
            "5\n",
            "7\n",
            "8\n",
            "9\n",
            "0\n"
          ]
        }
      ]
    },
    {
      "cell_type": "code",
      "source": [
        "nums=[10,20,0,5,7,8,9,0] # print index of 0\n",
        "\n",
        "for i in nums:\n",
        "  if i==0:\n",
        "    print(i)"
      ],
      "metadata": {
        "colab": {
          "base_uri": "https://localhost:8080/"
        },
        "id": "VhjXD5nb1N8Y",
        "outputId": "5165695a-8c6a-4bb8-ee2f-6c7eb36283ff"
      },
      "id": "VhjXD5nb1N8Y",
      "execution_count": null,
      "outputs": [
        {
          "output_type": "stream",
          "name": "stdout",
          "text": [
            "0\n",
            "0\n"
          ]
        }
      ]
    },
    {
      "cell_type": "markdown",
      "source": [
        "# Module 2 Python - Advanced"
      ],
      "metadata": {
        "id": "fHT1Da0vVM-I"
      },
      "id": "fHT1Da0vVM-I"
    },
    {
      "cell_type": "markdown",
      "source": [
        "## List Comprehension (3/5/2025)\n"
      ],
      "metadata": {
        "id": "XdpVmM7GNVc3"
      },
      "id": "XdpVmM7GNVc3"
    },
    {
      "cell_type": "markdown",
      "source": [
        "| **Aspect**            | **Description**                                                              | **Example**                                                 | **Result**                      |\n",
        "|------------------------|-------------------------------------------------------------------------------|--------------------------------------------------------------|----------------------------------|\n",
        "| **Definition**         | A concise way to create lists by applying an expression over an iterable     | `[x*x for x in range(5)]`                                    | `[0, 1, 4, 9, 16]`              |\n",
        "| **Basic Syntax**       | `[expression for item in iterable]`                                           | `[i for i in range(3)]`                                      | `[0, 1, 2]`                     |\n",
        "| **With Condition (Filtering)** | Only include items that meet a condition                           | `[i for i in range(10) if i % 2 == 0]`                        | `[0, 2, 4, 6, 8]`               |\n",
        "| **With if-else inside** | Apply different expressions based on a condition                           | `[\"Even\" if i%2==0 else \"Odd\" for i in range(5)]`             | `['Even', 'Odd', 'Even', 'Odd', 'Even']` |\n",
        "| **Nested List Comprehension** | Loop inside another loop, useful for flattening 2D lists            | `[item for row in [[1,2],[3,4],[5,6]] for item in row]`       | `[1, 2, 3, 4, 5, 6]`            |\n",
        "| **Traditional vs List Comp** | Normal loop is longer; List comp is 1 line                           | Traditional:<br>`for i in range(5): squares.append(i*i)`<br>List Comp:<br>`[i*i for i in range(5)]` | Both produce `[0,1,4,9,16]`     |\n",
        "| **Why Use**             | Shorter code, better readability, often faster than traditional loops      | —                                                            | Clean, efficient, easy-to-maintain code |\n",
        "| **Common Uses**        | - Mapping (modify each element)<br>- Filtering (select elements)<br>- Flattening nested lists | `[word.upper() for word in [\"hi\", \"bye\"]]`                   | `['HI', 'BYE']`                 |\n",
        "| **Mistakes to Avoid**   | - Forgetting colon in loops (traditional)<br>- Misordering `if` in list comp<br>- Writing complex nested comprehensions without clarity | Bad: `[i if i%2==0 for i in range(5)]` (syntax error)<br>Good: `[i for i in range(5) if i%2==0]` | Stick to correct order: **for → if** |"
      ],
      "metadata": {
        "id": "M6n7HHZtNXD_"
      },
      "id": "M6n7HHZtNXD_"
    },
    {
      "cell_type": "markdown",
      "source": [
        "### Hands-on Exercise"
      ],
      "metadata": {
        "id": "BlWfyVyiPBn6"
      },
      "id": "BlWfyVyiPBn6"
    },
    {
      "cell_type": "code",
      "source": [
        "nums=[10,20,32,98,76,56,45,126,56,89,33,45,6,7,8,9,0,10,27,35,36,76,56,45,126,56,89,33,45,6,7,8,9,0,10,27,35,36]"
      ],
      "metadata": {
        "id": "oKQqIQxeOcCS"
      },
      "id": "oKQqIQxeOcCS",
      "execution_count": null,
      "outputs": []
    },
    {
      "cell_type": "code",
      "source": [
        "even=[]\n",
        "odd=[]\n",
        "for i in nums:\n",
        "  if i%2==0:\n",
        "    even.append(i)\n",
        "  else:\n",
        "    odd.append(i)"
      ],
      "metadata": {
        "id": "8fdeQ56YPHAq"
      },
      "id": "8fdeQ56YPHAq",
      "execution_count": null,
      "outputs": []
    },
    {
      "cell_type": "code",
      "source": [
        "print('Even',even)\n",
        "print('odd',odd)"
      ],
      "metadata": {
        "colab": {
          "base_uri": "https://localhost:8080/"
        },
        "id": "FsOrWHk2PG90",
        "outputId": "b6dc70be-edeb-466e-84da-de691e4e748d"
      },
      "id": "FsOrWHk2PG90",
      "execution_count": null,
      "outputs": [
        {
          "output_type": "stream",
          "name": "stdout",
          "text": [
            "Even [10, 20, 32, 98, 76, 56, 126, 56, 6, 8, 0, 10, 36, 76, 56, 126, 56, 6, 8, 0, 10, 36]\n",
            "odd [45, 89, 33, 45, 7, 9, 27, 35, 45, 89, 33, 45, 7, 9, 27, 35]\n"
          ]
        }
      ]
    },
    {
      "cell_type": "code",
      "source": [
        "[i for i in nums if i%2==0] #"
      ],
      "metadata": {
        "colab": {
          "base_uri": "https://localhost:8080/"
        },
        "id": "3o4zWQQr4NaU",
        "outputId": "64d869ad-17c2-4731-878e-8018233e8550"
      },
      "id": "3o4zWQQr4NaU",
      "execution_count": null,
      "outputs": [
        {
          "output_type": "execute_result",
          "data": {
            "text/plain": [
              "[10,\n",
              " 20,\n",
              " 32,\n",
              " 98,\n",
              " 76,\n",
              " 56,\n",
              " 126,\n",
              " 56,\n",
              " 6,\n",
              " 8,\n",
              " 0,\n",
              " 10,\n",
              " 36,\n",
              " 76,\n",
              " 56,\n",
              " 126,\n",
              " 56,\n",
              " 6,\n",
              " 8,\n",
              " 0,\n",
              " 10,\n",
              " 36]"
            ]
          },
          "metadata": {},
          "execution_count": 91
        }
      ]
    },
    {
      "cell_type": "code",
      "source": [
        "print('Even',[i for i in nums if i%2==0])\n",
        "print('Odd',[i for i in nums if i%2!=0])"
      ],
      "metadata": {
        "colab": {
          "base_uri": "https://localhost:8080/"
        },
        "id": "MDlqKaNQ4NRo",
        "outputId": "e375f9fd-4e72-4ab8-c5c3-f647ba1c06c1"
      },
      "id": "MDlqKaNQ4NRo",
      "execution_count": null,
      "outputs": [
        {
          "output_type": "stream",
          "name": "stdout",
          "text": [
            "Even [10, 20, 32, 98, 76, 56, 126, 56, 6, 8, 0, 10, 36, 76, 56, 126, 56, 6, 8, 0, 10, 36]\n",
            "Odd [45, 89, 33, 45, 7, 9, 27, 35, 45, 89, 33, 45, 7, 9, 27, 35]\n"
          ]
        }
      ]
    },
    {
      "cell_type": "code",
      "source": [
        "nums=list(range(1,1000000))\n",
        "nums"
      ],
      "metadata": {
        "colab": {
          "base_uri": "https://localhost:8080/"
        },
        "id": "ejLHyjG56smW",
        "outputId": "0ae5138f-59ec-4e8d-abae-59e52ed5e9eb"
      },
      "id": "ejLHyjG56smW",
      "execution_count": null,
      "outputs": [
        {
          "output_type": "execute_result",
          "data": {
            "text/plain": [
              "[1,\n",
              " 2,\n",
              " 3,\n",
              " 4,\n",
              " 5,\n",
              " 6,\n",
              " 7,\n",
              " 8,\n",
              " 9,\n",
              " 10,\n",
              " 11,\n",
              " 12,\n",
              " 13,\n",
              " 14,\n",
              " 15,\n",
              " 16,\n",
              " 17,\n",
              " 18,\n",
              " 19,\n",
              " 20,\n",
              " 21,\n",
              " 22,\n",
              " 23,\n",
              " 24,\n",
              " 25,\n",
              " 26,\n",
              " 27,\n",
              " 28,\n",
              " 29,\n",
              " 30,\n",
              " 31,\n",
              " 32,\n",
              " 33,\n",
              " 34,\n",
              " 35,\n",
              " 36,\n",
              " 37,\n",
              " 38,\n",
              " 39,\n",
              " 40,\n",
              " 41,\n",
              " 42,\n",
              " 43,\n",
              " 44,\n",
              " 45,\n",
              " 46,\n",
              " 47,\n",
              " 48,\n",
              " 49,\n",
              " 50,\n",
              " 51,\n",
              " 52,\n",
              " 53,\n",
              " 54,\n",
              " 55,\n",
              " 56,\n",
              " 57,\n",
              " 58,\n",
              " 59,\n",
              " 60,\n",
              " 61,\n",
              " 62,\n",
              " 63,\n",
              " 64,\n",
              " 65,\n",
              " 66,\n",
              " 67,\n",
              " 68,\n",
              " 69,\n",
              " 70,\n",
              " 71,\n",
              " 72,\n",
              " 73,\n",
              " 74,\n",
              " 75,\n",
              " 76,\n",
              " 77,\n",
              " 78,\n",
              " 79,\n",
              " 80,\n",
              " 81,\n",
              " 82,\n",
              " 83,\n",
              " 84,\n",
              " 85,\n",
              " 86,\n",
              " 87,\n",
              " 88,\n",
              " 89,\n",
              " 90,\n",
              " 91,\n",
              " 92,\n",
              " 93,\n",
              " 94,\n",
              " 95,\n",
              " 96,\n",
              " 97,\n",
              " 98,\n",
              " 99,\n",
              " 100,\n",
              " 101,\n",
              " 102,\n",
              " 103,\n",
              " 104,\n",
              " 105,\n",
              " 106,\n",
              " 107,\n",
              " 108,\n",
              " 109,\n",
              " 110,\n",
              " 111,\n",
              " 112,\n",
              " 113,\n",
              " 114,\n",
              " 115,\n",
              " 116,\n",
              " 117,\n",
              " 118,\n",
              " 119,\n",
              " 120,\n",
              " 121,\n",
              " 122,\n",
              " 123,\n",
              " 124,\n",
              " 125,\n",
              " 126,\n",
              " 127,\n",
              " 128,\n",
              " 129,\n",
              " 130,\n",
              " 131,\n",
              " 132,\n",
              " 133,\n",
              " 134,\n",
              " 135,\n",
              " 136,\n",
              " 137,\n",
              " 138,\n",
              " 139,\n",
              " 140,\n",
              " 141,\n",
              " 142,\n",
              " 143,\n",
              " 144,\n",
              " 145,\n",
              " 146,\n",
              " 147,\n",
              " 148,\n",
              " 149,\n",
              " 150,\n",
              " 151,\n",
              " 152,\n",
              " 153,\n",
              " 154,\n",
              " 155,\n",
              " 156,\n",
              " 157,\n",
              " 158,\n",
              " 159,\n",
              " 160,\n",
              " 161,\n",
              " 162,\n",
              " 163,\n",
              " 164,\n",
              " 165,\n",
              " 166,\n",
              " 167,\n",
              " 168,\n",
              " 169,\n",
              " 170,\n",
              " 171,\n",
              " 172,\n",
              " 173,\n",
              " 174,\n",
              " 175,\n",
              " 176,\n",
              " 177,\n",
              " 178,\n",
              " 179,\n",
              " 180,\n",
              " 181,\n",
              " 182,\n",
              " 183,\n",
              " 184,\n",
              " 185,\n",
              " 186,\n",
              " 187,\n",
              " 188,\n",
              " 189,\n",
              " 190,\n",
              " 191,\n",
              " 192,\n",
              " 193,\n",
              " 194,\n",
              " 195,\n",
              " 196,\n",
              " 197,\n",
              " 198,\n",
              " 199,\n",
              " 200,\n",
              " 201,\n",
              " 202,\n",
              " 203,\n",
              " 204,\n",
              " 205,\n",
              " 206,\n",
              " 207,\n",
              " 208,\n",
              " 209,\n",
              " 210,\n",
              " 211,\n",
              " 212,\n",
              " 213,\n",
              " 214,\n",
              " 215,\n",
              " 216,\n",
              " 217,\n",
              " 218,\n",
              " 219,\n",
              " 220,\n",
              " 221,\n",
              " 222,\n",
              " 223,\n",
              " 224,\n",
              " 225,\n",
              " 226,\n",
              " 227,\n",
              " 228,\n",
              " 229,\n",
              " 230,\n",
              " 231,\n",
              " 232,\n",
              " 233,\n",
              " 234,\n",
              " 235,\n",
              " 236,\n",
              " 237,\n",
              " 238,\n",
              " 239,\n",
              " 240,\n",
              " 241,\n",
              " 242,\n",
              " 243,\n",
              " 244,\n",
              " 245,\n",
              " 246,\n",
              " 247,\n",
              " 248,\n",
              " 249,\n",
              " 250,\n",
              " 251,\n",
              " 252,\n",
              " 253,\n",
              " 254,\n",
              " 255,\n",
              " 256,\n",
              " 257,\n",
              " 258,\n",
              " 259,\n",
              " 260,\n",
              " 261,\n",
              " 262,\n",
              " 263,\n",
              " 264,\n",
              " 265,\n",
              " 266,\n",
              " 267,\n",
              " 268,\n",
              " 269,\n",
              " 270,\n",
              " 271,\n",
              " 272,\n",
              " 273,\n",
              " 274,\n",
              " 275,\n",
              " 276,\n",
              " 277,\n",
              " 278,\n",
              " 279,\n",
              " 280,\n",
              " 281,\n",
              " 282,\n",
              " 283,\n",
              " 284,\n",
              " 285,\n",
              " 286,\n",
              " 287,\n",
              " 288,\n",
              " 289,\n",
              " 290,\n",
              " 291,\n",
              " 292,\n",
              " 293,\n",
              " 294,\n",
              " 295,\n",
              " 296,\n",
              " 297,\n",
              " 298,\n",
              " 299,\n",
              " 300,\n",
              " 301,\n",
              " 302,\n",
              " 303,\n",
              " 304,\n",
              " 305,\n",
              " 306,\n",
              " 307,\n",
              " 308,\n",
              " 309,\n",
              " 310,\n",
              " 311,\n",
              " 312,\n",
              " 313,\n",
              " 314,\n",
              " 315,\n",
              " 316,\n",
              " 317,\n",
              " 318,\n",
              " 319,\n",
              " 320,\n",
              " 321,\n",
              " 322,\n",
              " 323,\n",
              " 324,\n",
              " 325,\n",
              " 326,\n",
              " 327,\n",
              " 328,\n",
              " 329,\n",
              " 330,\n",
              " 331,\n",
              " 332,\n",
              " 333,\n",
              " 334,\n",
              " 335,\n",
              " 336,\n",
              " 337,\n",
              " 338,\n",
              " 339,\n",
              " 340,\n",
              " 341,\n",
              " 342,\n",
              " 343,\n",
              " 344,\n",
              " 345,\n",
              " 346,\n",
              " 347,\n",
              " 348,\n",
              " 349,\n",
              " 350,\n",
              " 351,\n",
              " 352,\n",
              " 353,\n",
              " 354,\n",
              " 355,\n",
              " 356,\n",
              " 357,\n",
              " 358,\n",
              " 359,\n",
              " 360,\n",
              " 361,\n",
              " 362,\n",
              " 363,\n",
              " 364,\n",
              " 365,\n",
              " 366,\n",
              " 367,\n",
              " 368,\n",
              " 369,\n",
              " 370,\n",
              " 371,\n",
              " 372,\n",
              " 373,\n",
              " 374,\n",
              " 375,\n",
              " 376,\n",
              " 377,\n",
              " 378,\n",
              " 379,\n",
              " 380,\n",
              " 381,\n",
              " 382,\n",
              " 383,\n",
              " 384,\n",
              " 385,\n",
              " 386,\n",
              " 387,\n",
              " 388,\n",
              " 389,\n",
              " 390,\n",
              " 391,\n",
              " 392,\n",
              " 393,\n",
              " 394,\n",
              " 395,\n",
              " 396,\n",
              " 397,\n",
              " 398,\n",
              " 399,\n",
              " 400,\n",
              " 401,\n",
              " 402,\n",
              " 403,\n",
              " 404,\n",
              " 405,\n",
              " 406,\n",
              " 407,\n",
              " 408,\n",
              " 409,\n",
              " 410,\n",
              " 411,\n",
              " 412,\n",
              " 413,\n",
              " 414,\n",
              " 415,\n",
              " 416,\n",
              " 417,\n",
              " 418,\n",
              " 419,\n",
              " 420,\n",
              " 421,\n",
              " 422,\n",
              " 423,\n",
              " 424,\n",
              " 425,\n",
              " 426,\n",
              " 427,\n",
              " 428,\n",
              " 429,\n",
              " 430,\n",
              " 431,\n",
              " 432,\n",
              " 433,\n",
              " 434,\n",
              " 435,\n",
              " 436,\n",
              " 437,\n",
              " 438,\n",
              " 439,\n",
              " 440,\n",
              " 441,\n",
              " 442,\n",
              " 443,\n",
              " 444,\n",
              " 445,\n",
              " 446,\n",
              " 447,\n",
              " 448,\n",
              " 449,\n",
              " 450,\n",
              " 451,\n",
              " 452,\n",
              " 453,\n",
              " 454,\n",
              " 455,\n",
              " 456,\n",
              " 457,\n",
              " 458,\n",
              " 459,\n",
              " 460,\n",
              " 461,\n",
              " 462,\n",
              " 463,\n",
              " 464,\n",
              " 465,\n",
              " 466,\n",
              " 467,\n",
              " 468,\n",
              " 469,\n",
              " 470,\n",
              " 471,\n",
              " 472,\n",
              " 473,\n",
              " 474,\n",
              " 475,\n",
              " 476,\n",
              " 477,\n",
              " 478,\n",
              " 479,\n",
              " 480,\n",
              " 481,\n",
              " 482,\n",
              " 483,\n",
              " 484,\n",
              " 485,\n",
              " 486,\n",
              " 487,\n",
              " 488,\n",
              " 489,\n",
              " 490,\n",
              " 491,\n",
              " 492,\n",
              " 493,\n",
              " 494,\n",
              " 495,\n",
              " 496,\n",
              " 497,\n",
              " 498,\n",
              " 499,\n",
              " 500,\n",
              " 501,\n",
              " 502,\n",
              " 503,\n",
              " 504,\n",
              " 505,\n",
              " 506,\n",
              " 507,\n",
              " 508,\n",
              " 509,\n",
              " 510,\n",
              " 511,\n",
              " 512,\n",
              " 513,\n",
              " 514,\n",
              " 515,\n",
              " 516,\n",
              " 517,\n",
              " 518,\n",
              " 519,\n",
              " 520,\n",
              " 521,\n",
              " 522,\n",
              " 523,\n",
              " 524,\n",
              " 525,\n",
              " 526,\n",
              " 527,\n",
              " 528,\n",
              " 529,\n",
              " 530,\n",
              " 531,\n",
              " 532,\n",
              " 533,\n",
              " 534,\n",
              " 535,\n",
              " 536,\n",
              " 537,\n",
              " 538,\n",
              " 539,\n",
              " 540,\n",
              " 541,\n",
              " 542,\n",
              " 543,\n",
              " 544,\n",
              " 545,\n",
              " 546,\n",
              " 547,\n",
              " 548,\n",
              " 549,\n",
              " 550,\n",
              " 551,\n",
              " 552,\n",
              " 553,\n",
              " 554,\n",
              " 555,\n",
              " 556,\n",
              " 557,\n",
              " 558,\n",
              " 559,\n",
              " 560,\n",
              " 561,\n",
              " 562,\n",
              " 563,\n",
              " 564,\n",
              " 565,\n",
              " 566,\n",
              " 567,\n",
              " 568,\n",
              " 569,\n",
              " 570,\n",
              " 571,\n",
              " 572,\n",
              " 573,\n",
              " 574,\n",
              " 575,\n",
              " 576,\n",
              " 577,\n",
              " 578,\n",
              " 579,\n",
              " 580,\n",
              " 581,\n",
              " 582,\n",
              " 583,\n",
              " 584,\n",
              " 585,\n",
              " 586,\n",
              " 587,\n",
              " 588,\n",
              " 589,\n",
              " 590,\n",
              " 591,\n",
              " 592,\n",
              " 593,\n",
              " 594,\n",
              " 595,\n",
              " 596,\n",
              " 597,\n",
              " 598,\n",
              " 599,\n",
              " 600,\n",
              " 601,\n",
              " 602,\n",
              " 603,\n",
              " 604,\n",
              " 605,\n",
              " 606,\n",
              " 607,\n",
              " 608,\n",
              " 609,\n",
              " 610,\n",
              " 611,\n",
              " 612,\n",
              " 613,\n",
              " 614,\n",
              " 615,\n",
              " 616,\n",
              " 617,\n",
              " 618,\n",
              " 619,\n",
              " 620,\n",
              " 621,\n",
              " 622,\n",
              " 623,\n",
              " 624,\n",
              " 625,\n",
              " 626,\n",
              " 627,\n",
              " 628,\n",
              " 629,\n",
              " 630,\n",
              " 631,\n",
              " 632,\n",
              " 633,\n",
              " 634,\n",
              " 635,\n",
              " 636,\n",
              " 637,\n",
              " 638,\n",
              " 639,\n",
              " 640,\n",
              " 641,\n",
              " 642,\n",
              " 643,\n",
              " 644,\n",
              " 645,\n",
              " 646,\n",
              " 647,\n",
              " 648,\n",
              " 649,\n",
              " 650,\n",
              " 651,\n",
              " 652,\n",
              " 653,\n",
              " 654,\n",
              " 655,\n",
              " 656,\n",
              " 657,\n",
              " 658,\n",
              " 659,\n",
              " 660,\n",
              " 661,\n",
              " 662,\n",
              " 663,\n",
              " 664,\n",
              " 665,\n",
              " 666,\n",
              " 667,\n",
              " 668,\n",
              " 669,\n",
              " 670,\n",
              " 671,\n",
              " 672,\n",
              " 673,\n",
              " 674,\n",
              " 675,\n",
              " 676,\n",
              " 677,\n",
              " 678,\n",
              " 679,\n",
              " 680,\n",
              " 681,\n",
              " 682,\n",
              " 683,\n",
              " 684,\n",
              " 685,\n",
              " 686,\n",
              " 687,\n",
              " 688,\n",
              " 689,\n",
              " 690,\n",
              " 691,\n",
              " 692,\n",
              " 693,\n",
              " 694,\n",
              " 695,\n",
              " 696,\n",
              " 697,\n",
              " 698,\n",
              " 699,\n",
              " 700,\n",
              " 701,\n",
              " 702,\n",
              " 703,\n",
              " 704,\n",
              " 705,\n",
              " 706,\n",
              " 707,\n",
              " 708,\n",
              " 709,\n",
              " 710,\n",
              " 711,\n",
              " 712,\n",
              " 713,\n",
              " 714,\n",
              " 715,\n",
              " 716,\n",
              " 717,\n",
              " 718,\n",
              " 719,\n",
              " 720,\n",
              " 721,\n",
              " 722,\n",
              " 723,\n",
              " 724,\n",
              " 725,\n",
              " 726,\n",
              " 727,\n",
              " 728,\n",
              " 729,\n",
              " 730,\n",
              " 731,\n",
              " 732,\n",
              " 733,\n",
              " 734,\n",
              " 735,\n",
              " 736,\n",
              " 737,\n",
              " 738,\n",
              " 739,\n",
              " 740,\n",
              " 741,\n",
              " 742,\n",
              " 743,\n",
              " 744,\n",
              " 745,\n",
              " 746,\n",
              " 747,\n",
              " 748,\n",
              " 749,\n",
              " 750,\n",
              " 751,\n",
              " 752,\n",
              " 753,\n",
              " 754,\n",
              " 755,\n",
              " 756,\n",
              " 757,\n",
              " 758,\n",
              " 759,\n",
              " 760,\n",
              " 761,\n",
              " 762,\n",
              " 763,\n",
              " 764,\n",
              " 765,\n",
              " 766,\n",
              " 767,\n",
              " 768,\n",
              " 769,\n",
              " 770,\n",
              " 771,\n",
              " 772,\n",
              " 773,\n",
              " 774,\n",
              " 775,\n",
              " 776,\n",
              " 777,\n",
              " 778,\n",
              " 779,\n",
              " 780,\n",
              " 781,\n",
              " 782,\n",
              " 783,\n",
              " 784,\n",
              " 785,\n",
              " 786,\n",
              " 787,\n",
              " 788,\n",
              " 789,\n",
              " 790,\n",
              " 791,\n",
              " 792,\n",
              " 793,\n",
              " 794,\n",
              " 795,\n",
              " 796,\n",
              " 797,\n",
              " 798,\n",
              " 799,\n",
              " 800,\n",
              " 801,\n",
              " 802,\n",
              " 803,\n",
              " 804,\n",
              " 805,\n",
              " 806,\n",
              " 807,\n",
              " 808,\n",
              " 809,\n",
              " 810,\n",
              " 811,\n",
              " 812,\n",
              " 813,\n",
              " 814,\n",
              " 815,\n",
              " 816,\n",
              " 817,\n",
              " 818,\n",
              " 819,\n",
              " 820,\n",
              " 821,\n",
              " 822,\n",
              " 823,\n",
              " 824,\n",
              " 825,\n",
              " 826,\n",
              " 827,\n",
              " 828,\n",
              " 829,\n",
              " 830,\n",
              " 831,\n",
              " 832,\n",
              " 833,\n",
              " 834,\n",
              " 835,\n",
              " 836,\n",
              " 837,\n",
              " 838,\n",
              " 839,\n",
              " 840,\n",
              " 841,\n",
              " 842,\n",
              " 843,\n",
              " 844,\n",
              " 845,\n",
              " 846,\n",
              " 847,\n",
              " 848,\n",
              " 849,\n",
              " 850,\n",
              " 851,\n",
              " 852,\n",
              " 853,\n",
              " 854,\n",
              " 855,\n",
              " 856,\n",
              " 857,\n",
              " 858,\n",
              " 859,\n",
              " 860,\n",
              " 861,\n",
              " 862,\n",
              " 863,\n",
              " 864,\n",
              " 865,\n",
              " 866,\n",
              " 867,\n",
              " 868,\n",
              " 869,\n",
              " 870,\n",
              " 871,\n",
              " 872,\n",
              " 873,\n",
              " 874,\n",
              " 875,\n",
              " 876,\n",
              " 877,\n",
              " 878,\n",
              " 879,\n",
              " 880,\n",
              " 881,\n",
              " 882,\n",
              " 883,\n",
              " 884,\n",
              " 885,\n",
              " 886,\n",
              " 887,\n",
              " 888,\n",
              " 889,\n",
              " 890,\n",
              " 891,\n",
              " 892,\n",
              " 893,\n",
              " 894,\n",
              " 895,\n",
              " 896,\n",
              " 897,\n",
              " 898,\n",
              " 899,\n",
              " 900,\n",
              " 901,\n",
              " 902,\n",
              " 903,\n",
              " 904,\n",
              " 905,\n",
              " 906,\n",
              " 907,\n",
              " 908,\n",
              " 909,\n",
              " 910,\n",
              " 911,\n",
              " 912,\n",
              " 913,\n",
              " 914,\n",
              " 915,\n",
              " 916,\n",
              " 917,\n",
              " 918,\n",
              " 919,\n",
              " 920,\n",
              " 921,\n",
              " 922,\n",
              " 923,\n",
              " 924,\n",
              " 925,\n",
              " 926,\n",
              " 927,\n",
              " 928,\n",
              " 929,\n",
              " 930,\n",
              " 931,\n",
              " 932,\n",
              " 933,\n",
              " 934,\n",
              " 935,\n",
              " 936,\n",
              " 937,\n",
              " 938,\n",
              " 939,\n",
              " 940,\n",
              " 941,\n",
              " 942,\n",
              " 943,\n",
              " 944,\n",
              " 945,\n",
              " 946,\n",
              " 947,\n",
              " 948,\n",
              " 949,\n",
              " 950,\n",
              " 951,\n",
              " 952,\n",
              " 953,\n",
              " 954,\n",
              " 955,\n",
              " 956,\n",
              " 957,\n",
              " 958,\n",
              " 959,\n",
              " 960,\n",
              " 961,\n",
              " 962,\n",
              " 963,\n",
              " 964,\n",
              " 965,\n",
              " 966,\n",
              " 967,\n",
              " 968,\n",
              " 969,\n",
              " 970,\n",
              " 971,\n",
              " 972,\n",
              " 973,\n",
              " 974,\n",
              " 975,\n",
              " 976,\n",
              " 977,\n",
              " 978,\n",
              " 979,\n",
              " 980,\n",
              " 981,\n",
              " 982,\n",
              " 983,\n",
              " 984,\n",
              " 985,\n",
              " 986,\n",
              " 987,\n",
              " 988,\n",
              " 989,\n",
              " 990,\n",
              " 991,\n",
              " 992,\n",
              " 993,\n",
              " 994,\n",
              " 995,\n",
              " 996,\n",
              " 997,\n",
              " 998,\n",
              " 999,\n",
              " 1000,\n",
              " ...]"
            ]
          },
          "metadata": {},
          "execution_count": 104
        }
      ]
    },
    {
      "cell_type": "code",
      "source": [
        "import time\n",
        "\n",
        "nums=list(range(1,10000))\n",
        "start_time=time.time()\n",
        "\n",
        "\n",
        "even=[]\n",
        "odd=[]\n",
        "for i in nums:\n",
        "  if i%2==0:\n",
        "    even.append(i)\n",
        "  else:\n",
        "    odd.append(i)\n",
        "\n",
        "print('Even',even)\n",
        "print('odd',odd)\n",
        "\n",
        "\n",
        "\n",
        "end_time=time.time()\n",
        "print('Time Taken',end_time-start_time)"
      ],
      "metadata": {
        "colab": {
          "base_uri": "https://localhost:8080/"
        },
        "id": "B7s5qMlV4NLb",
        "outputId": "4089bd1c-4e22-473c-ce3f-0a5c5a2470a4"
      },
      "id": "B7s5qMlV4NLb",
      "execution_count": null,
      "outputs": [
        {
          "output_type": "stream",
          "name": "stdout",
          "text": [
            "Even [2, 4, 6, 8, 10, 12, 14, 16, 18, 20, 22, 24, 26, 28, 30, 32, 34, 36, 38, 40, 42, 44, 46, 48, 50, 52, 54, 56, 58, 60, 62, 64, 66, 68, 70, 72, 74, 76, 78, 80, 82, 84, 86, 88, 90, 92, 94, 96, 98, 100, 102, 104, 106, 108, 110, 112, 114, 116, 118, 120, 122, 124, 126, 128, 130, 132, 134, 136, 138, 140, 142, 144, 146, 148, 150, 152, 154, 156, 158, 160, 162, 164, 166, 168, 170, 172, 174, 176, 178, 180, 182, 184, 186, 188, 190, 192, 194, 196, 198, 200, 202, 204, 206, 208, 210, 212, 214, 216, 218, 220, 222, 224, 226, 228, 230, 232, 234, 236, 238, 240, 242, 244, 246, 248, 250, 252, 254, 256, 258, 260, 262, 264, 266, 268, 270, 272, 274, 276, 278, 280, 282, 284, 286, 288, 290, 292, 294, 296, 298, 300, 302, 304, 306, 308, 310, 312, 314, 316, 318, 320, 322, 324, 326, 328, 330, 332, 334, 336, 338, 340, 342, 344, 346, 348, 350, 352, 354, 356, 358, 360, 362, 364, 366, 368, 370, 372, 374, 376, 378, 380, 382, 384, 386, 388, 390, 392, 394, 396, 398, 400, 402, 404, 406, 408, 410, 412, 414, 416, 418, 420, 422, 424, 426, 428, 430, 432, 434, 436, 438, 440, 442, 444, 446, 448, 450, 452, 454, 456, 458, 460, 462, 464, 466, 468, 470, 472, 474, 476, 478, 480, 482, 484, 486, 488, 490, 492, 494, 496, 498, 500, 502, 504, 506, 508, 510, 512, 514, 516, 518, 520, 522, 524, 526, 528, 530, 532, 534, 536, 538, 540, 542, 544, 546, 548, 550, 552, 554, 556, 558, 560, 562, 564, 566, 568, 570, 572, 574, 576, 578, 580, 582, 584, 586, 588, 590, 592, 594, 596, 598, 600, 602, 604, 606, 608, 610, 612, 614, 616, 618, 620, 622, 624, 626, 628, 630, 632, 634, 636, 638, 640, 642, 644, 646, 648, 650, 652, 654, 656, 658, 660, 662, 664, 666, 668, 670, 672, 674, 676, 678, 680, 682, 684, 686, 688, 690, 692, 694, 696, 698, 700, 702, 704, 706, 708, 710, 712, 714, 716, 718, 720, 722, 724, 726, 728, 730, 732, 734, 736, 738, 740, 742, 744, 746, 748, 750, 752, 754, 756, 758, 760, 762, 764, 766, 768, 770, 772, 774, 776, 778, 780, 782, 784, 786, 788, 790, 792, 794, 796, 798, 800, 802, 804, 806, 808, 810, 812, 814, 816, 818, 820, 822, 824, 826, 828, 830, 832, 834, 836, 838, 840, 842, 844, 846, 848, 850, 852, 854, 856, 858, 860, 862, 864, 866, 868, 870, 872, 874, 876, 878, 880, 882, 884, 886, 888, 890, 892, 894, 896, 898, 900, 902, 904, 906, 908, 910, 912, 914, 916, 918, 920, 922, 924, 926, 928, 930, 932, 934, 936, 938, 940, 942, 944, 946, 948, 950, 952, 954, 956, 958, 960, 962, 964, 966, 968, 970, 972, 974, 976, 978, 980, 982, 984, 986, 988, 990, 992, 994, 996, 998, 1000, 1002, 1004, 1006, 1008, 1010, 1012, 1014, 1016, 1018, 1020, 1022, 1024, 1026, 1028, 1030, 1032, 1034, 1036, 1038, 1040, 1042, 1044, 1046, 1048, 1050, 1052, 1054, 1056, 1058, 1060, 1062, 1064, 1066, 1068, 1070, 1072, 1074, 1076, 1078, 1080, 1082, 1084, 1086, 1088, 1090, 1092, 1094, 1096, 1098, 1100, 1102, 1104, 1106, 1108, 1110, 1112, 1114, 1116, 1118, 1120, 1122, 1124, 1126, 1128, 1130, 1132, 1134, 1136, 1138, 1140, 1142, 1144, 1146, 1148, 1150, 1152, 1154, 1156, 1158, 1160, 1162, 1164, 1166, 1168, 1170, 1172, 1174, 1176, 1178, 1180, 1182, 1184, 1186, 1188, 1190, 1192, 1194, 1196, 1198, 1200, 1202, 1204, 1206, 1208, 1210, 1212, 1214, 1216, 1218, 1220, 1222, 1224, 1226, 1228, 1230, 1232, 1234, 1236, 1238, 1240, 1242, 1244, 1246, 1248, 1250, 1252, 1254, 1256, 1258, 1260, 1262, 1264, 1266, 1268, 1270, 1272, 1274, 1276, 1278, 1280, 1282, 1284, 1286, 1288, 1290, 1292, 1294, 1296, 1298, 1300, 1302, 1304, 1306, 1308, 1310, 1312, 1314, 1316, 1318, 1320, 1322, 1324, 1326, 1328, 1330, 1332, 1334, 1336, 1338, 1340, 1342, 1344, 1346, 1348, 1350, 1352, 1354, 1356, 1358, 1360, 1362, 1364, 1366, 1368, 1370, 1372, 1374, 1376, 1378, 1380, 1382, 1384, 1386, 1388, 1390, 1392, 1394, 1396, 1398, 1400, 1402, 1404, 1406, 1408, 1410, 1412, 1414, 1416, 1418, 1420, 1422, 1424, 1426, 1428, 1430, 1432, 1434, 1436, 1438, 1440, 1442, 1444, 1446, 1448, 1450, 1452, 1454, 1456, 1458, 1460, 1462, 1464, 1466, 1468, 1470, 1472, 1474, 1476, 1478, 1480, 1482, 1484, 1486, 1488, 1490, 1492, 1494, 1496, 1498, 1500, 1502, 1504, 1506, 1508, 1510, 1512, 1514, 1516, 1518, 1520, 1522, 1524, 1526, 1528, 1530, 1532, 1534, 1536, 1538, 1540, 1542, 1544, 1546, 1548, 1550, 1552, 1554, 1556, 1558, 1560, 1562, 1564, 1566, 1568, 1570, 1572, 1574, 1576, 1578, 1580, 1582, 1584, 1586, 1588, 1590, 1592, 1594, 1596, 1598, 1600, 1602, 1604, 1606, 1608, 1610, 1612, 1614, 1616, 1618, 1620, 1622, 1624, 1626, 1628, 1630, 1632, 1634, 1636, 1638, 1640, 1642, 1644, 1646, 1648, 1650, 1652, 1654, 1656, 1658, 1660, 1662, 1664, 1666, 1668, 1670, 1672, 1674, 1676, 1678, 1680, 1682, 1684, 1686, 1688, 1690, 1692, 1694, 1696, 1698, 1700, 1702, 1704, 1706, 1708, 1710, 1712, 1714, 1716, 1718, 1720, 1722, 1724, 1726, 1728, 1730, 1732, 1734, 1736, 1738, 1740, 1742, 1744, 1746, 1748, 1750, 1752, 1754, 1756, 1758, 1760, 1762, 1764, 1766, 1768, 1770, 1772, 1774, 1776, 1778, 1780, 1782, 1784, 1786, 1788, 1790, 1792, 1794, 1796, 1798, 1800, 1802, 1804, 1806, 1808, 1810, 1812, 1814, 1816, 1818, 1820, 1822, 1824, 1826, 1828, 1830, 1832, 1834, 1836, 1838, 1840, 1842, 1844, 1846, 1848, 1850, 1852, 1854, 1856, 1858, 1860, 1862, 1864, 1866, 1868, 1870, 1872, 1874, 1876, 1878, 1880, 1882, 1884, 1886, 1888, 1890, 1892, 1894, 1896, 1898, 1900, 1902, 1904, 1906, 1908, 1910, 1912, 1914, 1916, 1918, 1920, 1922, 1924, 1926, 1928, 1930, 1932, 1934, 1936, 1938, 1940, 1942, 1944, 1946, 1948, 1950, 1952, 1954, 1956, 1958, 1960, 1962, 1964, 1966, 1968, 1970, 1972, 1974, 1976, 1978, 1980, 1982, 1984, 1986, 1988, 1990, 1992, 1994, 1996, 1998, 2000, 2002, 2004, 2006, 2008, 2010, 2012, 2014, 2016, 2018, 2020, 2022, 2024, 2026, 2028, 2030, 2032, 2034, 2036, 2038, 2040, 2042, 2044, 2046, 2048, 2050, 2052, 2054, 2056, 2058, 2060, 2062, 2064, 2066, 2068, 2070, 2072, 2074, 2076, 2078, 2080, 2082, 2084, 2086, 2088, 2090, 2092, 2094, 2096, 2098, 2100, 2102, 2104, 2106, 2108, 2110, 2112, 2114, 2116, 2118, 2120, 2122, 2124, 2126, 2128, 2130, 2132, 2134, 2136, 2138, 2140, 2142, 2144, 2146, 2148, 2150, 2152, 2154, 2156, 2158, 2160, 2162, 2164, 2166, 2168, 2170, 2172, 2174, 2176, 2178, 2180, 2182, 2184, 2186, 2188, 2190, 2192, 2194, 2196, 2198, 2200, 2202, 2204, 2206, 2208, 2210, 2212, 2214, 2216, 2218, 2220, 2222, 2224, 2226, 2228, 2230, 2232, 2234, 2236, 2238, 2240, 2242, 2244, 2246, 2248, 2250, 2252, 2254, 2256, 2258, 2260, 2262, 2264, 2266, 2268, 2270, 2272, 2274, 2276, 2278, 2280, 2282, 2284, 2286, 2288, 2290, 2292, 2294, 2296, 2298, 2300, 2302, 2304, 2306, 2308, 2310, 2312, 2314, 2316, 2318, 2320, 2322, 2324, 2326, 2328, 2330, 2332, 2334, 2336, 2338, 2340, 2342, 2344, 2346, 2348, 2350, 2352, 2354, 2356, 2358, 2360, 2362, 2364, 2366, 2368, 2370, 2372, 2374, 2376, 2378, 2380, 2382, 2384, 2386, 2388, 2390, 2392, 2394, 2396, 2398, 2400, 2402, 2404, 2406, 2408, 2410, 2412, 2414, 2416, 2418, 2420, 2422, 2424, 2426, 2428, 2430, 2432, 2434, 2436, 2438, 2440, 2442, 2444, 2446, 2448, 2450, 2452, 2454, 2456, 2458, 2460, 2462, 2464, 2466, 2468, 2470, 2472, 2474, 2476, 2478, 2480, 2482, 2484, 2486, 2488, 2490, 2492, 2494, 2496, 2498, 2500, 2502, 2504, 2506, 2508, 2510, 2512, 2514, 2516, 2518, 2520, 2522, 2524, 2526, 2528, 2530, 2532, 2534, 2536, 2538, 2540, 2542, 2544, 2546, 2548, 2550, 2552, 2554, 2556, 2558, 2560, 2562, 2564, 2566, 2568, 2570, 2572, 2574, 2576, 2578, 2580, 2582, 2584, 2586, 2588, 2590, 2592, 2594, 2596, 2598, 2600, 2602, 2604, 2606, 2608, 2610, 2612, 2614, 2616, 2618, 2620, 2622, 2624, 2626, 2628, 2630, 2632, 2634, 2636, 2638, 2640, 2642, 2644, 2646, 2648, 2650, 2652, 2654, 2656, 2658, 2660, 2662, 2664, 2666, 2668, 2670, 2672, 2674, 2676, 2678, 2680, 2682, 2684, 2686, 2688, 2690, 2692, 2694, 2696, 2698, 2700, 2702, 2704, 2706, 2708, 2710, 2712, 2714, 2716, 2718, 2720, 2722, 2724, 2726, 2728, 2730, 2732, 2734, 2736, 2738, 2740, 2742, 2744, 2746, 2748, 2750, 2752, 2754, 2756, 2758, 2760, 2762, 2764, 2766, 2768, 2770, 2772, 2774, 2776, 2778, 2780, 2782, 2784, 2786, 2788, 2790, 2792, 2794, 2796, 2798, 2800, 2802, 2804, 2806, 2808, 2810, 2812, 2814, 2816, 2818, 2820, 2822, 2824, 2826, 2828, 2830, 2832, 2834, 2836, 2838, 2840, 2842, 2844, 2846, 2848, 2850, 2852, 2854, 2856, 2858, 2860, 2862, 2864, 2866, 2868, 2870, 2872, 2874, 2876, 2878, 2880, 2882, 2884, 2886, 2888, 2890, 2892, 2894, 2896, 2898, 2900, 2902, 2904, 2906, 2908, 2910, 2912, 2914, 2916, 2918, 2920, 2922, 2924, 2926, 2928, 2930, 2932, 2934, 2936, 2938, 2940, 2942, 2944, 2946, 2948, 2950, 2952, 2954, 2956, 2958, 2960, 2962, 2964, 2966, 2968, 2970, 2972, 2974, 2976, 2978, 2980, 2982, 2984, 2986, 2988, 2990, 2992, 2994, 2996, 2998, 3000, 3002, 3004, 3006, 3008, 3010, 3012, 3014, 3016, 3018, 3020, 3022, 3024, 3026, 3028, 3030, 3032, 3034, 3036, 3038, 3040, 3042, 3044, 3046, 3048, 3050, 3052, 3054, 3056, 3058, 3060, 3062, 3064, 3066, 3068, 3070, 3072, 3074, 3076, 3078, 3080, 3082, 3084, 3086, 3088, 3090, 3092, 3094, 3096, 3098, 3100, 3102, 3104, 3106, 3108, 3110, 3112, 3114, 3116, 3118, 3120, 3122, 3124, 3126, 3128, 3130, 3132, 3134, 3136, 3138, 3140, 3142, 3144, 3146, 3148, 3150, 3152, 3154, 3156, 3158, 3160, 3162, 3164, 3166, 3168, 3170, 3172, 3174, 3176, 3178, 3180, 3182, 3184, 3186, 3188, 3190, 3192, 3194, 3196, 3198, 3200, 3202, 3204, 3206, 3208, 3210, 3212, 3214, 3216, 3218, 3220, 3222, 3224, 3226, 3228, 3230, 3232, 3234, 3236, 3238, 3240, 3242, 3244, 3246, 3248, 3250, 3252, 3254, 3256, 3258, 3260, 3262, 3264, 3266, 3268, 3270, 3272, 3274, 3276, 3278, 3280, 3282, 3284, 3286, 3288, 3290, 3292, 3294, 3296, 3298, 3300, 3302, 3304, 3306, 3308, 3310, 3312, 3314, 3316, 3318, 3320, 3322, 3324, 3326, 3328, 3330, 3332, 3334, 3336, 3338, 3340, 3342, 3344, 3346, 3348, 3350, 3352, 3354, 3356, 3358, 3360, 3362, 3364, 3366, 3368, 3370, 3372, 3374, 3376, 3378, 3380, 3382, 3384, 3386, 3388, 3390, 3392, 3394, 3396, 3398, 3400, 3402, 3404, 3406, 3408, 3410, 3412, 3414, 3416, 3418, 3420, 3422, 3424, 3426, 3428, 3430, 3432, 3434, 3436, 3438, 3440, 3442, 3444, 3446, 3448, 3450, 3452, 3454, 3456, 3458, 3460, 3462, 3464, 3466, 3468, 3470, 3472, 3474, 3476, 3478, 3480, 3482, 3484, 3486, 3488, 3490, 3492, 3494, 3496, 3498, 3500, 3502, 3504, 3506, 3508, 3510, 3512, 3514, 3516, 3518, 3520, 3522, 3524, 3526, 3528, 3530, 3532, 3534, 3536, 3538, 3540, 3542, 3544, 3546, 3548, 3550, 3552, 3554, 3556, 3558, 3560, 3562, 3564, 3566, 3568, 3570, 3572, 3574, 3576, 3578, 3580, 3582, 3584, 3586, 3588, 3590, 3592, 3594, 3596, 3598, 3600, 3602, 3604, 3606, 3608, 3610, 3612, 3614, 3616, 3618, 3620, 3622, 3624, 3626, 3628, 3630, 3632, 3634, 3636, 3638, 3640, 3642, 3644, 3646, 3648, 3650, 3652, 3654, 3656, 3658, 3660, 3662, 3664, 3666, 3668, 3670, 3672, 3674, 3676, 3678, 3680, 3682, 3684, 3686, 3688, 3690, 3692, 3694, 3696, 3698, 3700, 3702, 3704, 3706, 3708, 3710, 3712, 3714, 3716, 3718, 3720, 3722, 3724, 3726, 3728, 3730, 3732, 3734, 3736, 3738, 3740, 3742, 3744, 3746, 3748, 3750, 3752, 3754, 3756, 3758, 3760, 3762, 3764, 3766, 3768, 3770, 3772, 3774, 3776, 3778, 3780, 3782, 3784, 3786, 3788, 3790, 3792, 3794, 3796, 3798, 3800, 3802, 3804, 3806, 3808, 3810, 3812, 3814, 3816, 3818, 3820, 3822, 3824, 3826, 3828, 3830, 3832, 3834, 3836, 3838, 3840, 3842, 3844, 3846, 3848, 3850, 3852, 3854, 3856, 3858, 3860, 3862, 3864, 3866, 3868, 3870, 3872, 3874, 3876, 3878, 3880, 3882, 3884, 3886, 3888, 3890, 3892, 3894, 3896, 3898, 3900, 3902, 3904, 3906, 3908, 3910, 3912, 3914, 3916, 3918, 3920, 3922, 3924, 3926, 3928, 3930, 3932, 3934, 3936, 3938, 3940, 3942, 3944, 3946, 3948, 3950, 3952, 3954, 3956, 3958, 3960, 3962, 3964, 3966, 3968, 3970, 3972, 3974, 3976, 3978, 3980, 3982, 3984, 3986, 3988, 3990, 3992, 3994, 3996, 3998, 4000, 4002, 4004, 4006, 4008, 4010, 4012, 4014, 4016, 4018, 4020, 4022, 4024, 4026, 4028, 4030, 4032, 4034, 4036, 4038, 4040, 4042, 4044, 4046, 4048, 4050, 4052, 4054, 4056, 4058, 4060, 4062, 4064, 4066, 4068, 4070, 4072, 4074, 4076, 4078, 4080, 4082, 4084, 4086, 4088, 4090, 4092, 4094, 4096, 4098, 4100, 4102, 4104, 4106, 4108, 4110, 4112, 4114, 4116, 4118, 4120, 4122, 4124, 4126, 4128, 4130, 4132, 4134, 4136, 4138, 4140, 4142, 4144, 4146, 4148, 4150, 4152, 4154, 4156, 4158, 4160, 4162, 4164, 4166, 4168, 4170, 4172, 4174, 4176, 4178, 4180, 4182, 4184, 4186, 4188, 4190, 4192, 4194, 4196, 4198, 4200, 4202, 4204, 4206, 4208, 4210, 4212, 4214, 4216, 4218, 4220, 4222, 4224, 4226, 4228, 4230, 4232, 4234, 4236, 4238, 4240, 4242, 4244, 4246, 4248, 4250, 4252, 4254, 4256, 4258, 4260, 4262, 4264, 4266, 4268, 4270, 4272, 4274, 4276, 4278, 4280, 4282, 4284, 4286, 4288, 4290, 4292, 4294, 4296, 4298, 4300, 4302, 4304, 4306, 4308, 4310, 4312, 4314, 4316, 4318, 4320, 4322, 4324, 4326, 4328, 4330, 4332, 4334, 4336, 4338, 4340, 4342, 4344, 4346, 4348, 4350, 4352, 4354, 4356, 4358, 4360, 4362, 4364, 4366, 4368, 4370, 4372, 4374, 4376, 4378, 4380, 4382, 4384, 4386, 4388, 4390, 4392, 4394, 4396, 4398, 4400, 4402, 4404, 4406, 4408, 4410, 4412, 4414, 4416, 4418, 4420, 4422, 4424, 4426, 4428, 4430, 4432, 4434, 4436, 4438, 4440, 4442, 4444, 4446, 4448, 4450, 4452, 4454, 4456, 4458, 4460, 4462, 4464, 4466, 4468, 4470, 4472, 4474, 4476, 4478, 4480, 4482, 4484, 4486, 4488, 4490, 4492, 4494, 4496, 4498, 4500, 4502, 4504, 4506, 4508, 4510, 4512, 4514, 4516, 4518, 4520, 4522, 4524, 4526, 4528, 4530, 4532, 4534, 4536, 4538, 4540, 4542, 4544, 4546, 4548, 4550, 4552, 4554, 4556, 4558, 4560, 4562, 4564, 4566, 4568, 4570, 4572, 4574, 4576, 4578, 4580, 4582, 4584, 4586, 4588, 4590, 4592, 4594, 4596, 4598, 4600, 4602, 4604, 4606, 4608, 4610, 4612, 4614, 4616, 4618, 4620, 4622, 4624, 4626, 4628, 4630, 4632, 4634, 4636, 4638, 4640, 4642, 4644, 4646, 4648, 4650, 4652, 4654, 4656, 4658, 4660, 4662, 4664, 4666, 4668, 4670, 4672, 4674, 4676, 4678, 4680, 4682, 4684, 4686, 4688, 4690, 4692, 4694, 4696, 4698, 4700, 4702, 4704, 4706, 4708, 4710, 4712, 4714, 4716, 4718, 4720, 4722, 4724, 4726, 4728, 4730, 4732, 4734, 4736, 4738, 4740, 4742, 4744, 4746, 4748, 4750, 4752, 4754, 4756, 4758, 4760, 4762, 4764, 4766, 4768, 4770, 4772, 4774, 4776, 4778, 4780, 4782, 4784, 4786, 4788, 4790, 4792, 4794, 4796, 4798, 4800, 4802, 4804, 4806, 4808, 4810, 4812, 4814, 4816, 4818, 4820, 4822, 4824, 4826, 4828, 4830, 4832, 4834, 4836, 4838, 4840, 4842, 4844, 4846, 4848, 4850, 4852, 4854, 4856, 4858, 4860, 4862, 4864, 4866, 4868, 4870, 4872, 4874, 4876, 4878, 4880, 4882, 4884, 4886, 4888, 4890, 4892, 4894, 4896, 4898, 4900, 4902, 4904, 4906, 4908, 4910, 4912, 4914, 4916, 4918, 4920, 4922, 4924, 4926, 4928, 4930, 4932, 4934, 4936, 4938, 4940, 4942, 4944, 4946, 4948, 4950, 4952, 4954, 4956, 4958, 4960, 4962, 4964, 4966, 4968, 4970, 4972, 4974, 4976, 4978, 4980, 4982, 4984, 4986, 4988, 4990, 4992, 4994, 4996, 4998, 5000, 5002, 5004, 5006, 5008, 5010, 5012, 5014, 5016, 5018, 5020, 5022, 5024, 5026, 5028, 5030, 5032, 5034, 5036, 5038, 5040, 5042, 5044, 5046, 5048, 5050, 5052, 5054, 5056, 5058, 5060, 5062, 5064, 5066, 5068, 5070, 5072, 5074, 5076, 5078, 5080, 5082, 5084, 5086, 5088, 5090, 5092, 5094, 5096, 5098, 5100, 5102, 5104, 5106, 5108, 5110, 5112, 5114, 5116, 5118, 5120, 5122, 5124, 5126, 5128, 5130, 5132, 5134, 5136, 5138, 5140, 5142, 5144, 5146, 5148, 5150, 5152, 5154, 5156, 5158, 5160, 5162, 5164, 5166, 5168, 5170, 5172, 5174, 5176, 5178, 5180, 5182, 5184, 5186, 5188, 5190, 5192, 5194, 5196, 5198, 5200, 5202, 5204, 5206, 5208, 5210, 5212, 5214, 5216, 5218, 5220, 5222, 5224, 5226, 5228, 5230, 5232, 5234, 5236, 5238, 5240, 5242, 5244, 5246, 5248, 5250, 5252, 5254, 5256, 5258, 5260, 5262, 5264, 5266, 5268, 5270, 5272, 5274, 5276, 5278, 5280, 5282, 5284, 5286, 5288, 5290, 5292, 5294, 5296, 5298, 5300, 5302, 5304, 5306, 5308, 5310, 5312, 5314, 5316, 5318, 5320, 5322, 5324, 5326, 5328, 5330, 5332, 5334, 5336, 5338, 5340, 5342, 5344, 5346, 5348, 5350, 5352, 5354, 5356, 5358, 5360, 5362, 5364, 5366, 5368, 5370, 5372, 5374, 5376, 5378, 5380, 5382, 5384, 5386, 5388, 5390, 5392, 5394, 5396, 5398, 5400, 5402, 5404, 5406, 5408, 5410, 5412, 5414, 5416, 5418, 5420, 5422, 5424, 5426, 5428, 5430, 5432, 5434, 5436, 5438, 5440, 5442, 5444, 5446, 5448, 5450, 5452, 5454, 5456, 5458, 5460, 5462, 5464, 5466, 5468, 5470, 5472, 5474, 5476, 5478, 5480, 5482, 5484, 5486, 5488, 5490, 5492, 5494, 5496, 5498, 5500, 5502, 5504, 5506, 5508, 5510, 5512, 5514, 5516, 5518, 5520, 5522, 5524, 5526, 5528, 5530, 5532, 5534, 5536, 5538, 5540, 5542, 5544, 5546, 5548, 5550, 5552, 5554, 5556, 5558, 5560, 5562, 5564, 5566, 5568, 5570, 5572, 5574, 5576, 5578, 5580, 5582, 5584, 5586, 5588, 5590, 5592, 5594, 5596, 5598, 5600, 5602, 5604, 5606, 5608, 5610, 5612, 5614, 5616, 5618, 5620, 5622, 5624, 5626, 5628, 5630, 5632, 5634, 5636, 5638, 5640, 5642, 5644, 5646, 5648, 5650, 5652, 5654, 5656, 5658, 5660, 5662, 5664, 5666, 5668, 5670, 5672, 5674, 5676, 5678, 5680, 5682, 5684, 5686, 5688, 5690, 5692, 5694, 5696, 5698, 5700, 5702, 5704, 5706, 5708, 5710, 5712, 5714, 5716, 5718, 5720, 5722, 5724, 5726, 5728, 5730, 5732, 5734, 5736, 5738, 5740, 5742, 5744, 5746, 5748, 5750, 5752, 5754, 5756, 5758, 5760, 5762, 5764, 5766, 5768, 5770, 5772, 5774, 5776, 5778, 5780, 5782, 5784, 5786, 5788, 5790, 5792, 5794, 5796, 5798, 5800, 5802, 5804, 5806, 5808, 5810, 5812, 5814, 5816, 5818, 5820, 5822, 5824, 5826, 5828, 5830, 5832, 5834, 5836, 5838, 5840, 5842, 5844, 5846, 5848, 5850, 5852, 5854, 5856, 5858, 5860, 5862, 5864, 5866, 5868, 5870, 5872, 5874, 5876, 5878, 5880, 5882, 5884, 5886, 5888, 5890, 5892, 5894, 5896, 5898, 5900, 5902, 5904, 5906, 5908, 5910, 5912, 5914, 5916, 5918, 5920, 5922, 5924, 5926, 5928, 5930, 5932, 5934, 5936, 5938, 5940, 5942, 5944, 5946, 5948, 5950, 5952, 5954, 5956, 5958, 5960, 5962, 5964, 5966, 5968, 5970, 5972, 5974, 5976, 5978, 5980, 5982, 5984, 5986, 5988, 5990, 5992, 5994, 5996, 5998, 6000, 6002, 6004, 6006, 6008, 6010, 6012, 6014, 6016, 6018, 6020, 6022, 6024, 6026, 6028, 6030, 6032, 6034, 6036, 6038, 6040, 6042, 6044, 6046, 6048, 6050, 6052, 6054, 6056, 6058, 6060, 6062, 6064, 6066, 6068, 6070, 6072, 6074, 6076, 6078, 6080, 6082, 6084, 6086, 6088, 6090, 6092, 6094, 6096, 6098, 6100, 6102, 6104, 6106, 6108, 6110, 6112, 6114, 6116, 6118, 6120, 6122, 6124, 6126, 6128, 6130, 6132, 6134, 6136, 6138, 6140, 6142, 6144, 6146, 6148, 6150, 6152, 6154, 6156, 6158, 6160, 6162, 6164, 6166, 6168, 6170, 6172, 6174, 6176, 6178, 6180, 6182, 6184, 6186, 6188, 6190, 6192, 6194, 6196, 6198, 6200, 6202, 6204, 6206, 6208, 6210, 6212, 6214, 6216, 6218, 6220, 6222, 6224, 6226, 6228, 6230, 6232, 6234, 6236, 6238, 6240, 6242, 6244, 6246, 6248, 6250, 6252, 6254, 6256, 6258, 6260, 6262, 6264, 6266, 6268, 6270, 6272, 6274, 6276, 6278, 6280, 6282, 6284, 6286, 6288, 6290, 6292, 6294, 6296, 6298, 6300, 6302, 6304, 6306, 6308, 6310, 6312, 6314, 6316, 6318, 6320, 6322, 6324, 6326, 6328, 6330, 6332, 6334, 6336, 6338, 6340, 6342, 6344, 6346, 6348, 6350, 6352, 6354, 6356, 6358, 6360, 6362, 6364, 6366, 6368, 6370, 6372, 6374, 6376, 6378, 6380, 6382, 6384, 6386, 6388, 6390, 6392, 6394, 6396, 6398, 6400, 6402, 6404, 6406, 6408, 6410, 6412, 6414, 6416, 6418, 6420, 6422, 6424, 6426, 6428, 6430, 6432, 6434, 6436, 6438, 6440, 6442, 6444, 6446, 6448, 6450, 6452, 6454, 6456, 6458, 6460, 6462, 6464, 6466, 6468, 6470, 6472, 6474, 6476, 6478, 6480, 6482, 6484, 6486, 6488, 6490, 6492, 6494, 6496, 6498, 6500, 6502, 6504, 6506, 6508, 6510, 6512, 6514, 6516, 6518, 6520, 6522, 6524, 6526, 6528, 6530, 6532, 6534, 6536, 6538, 6540, 6542, 6544, 6546, 6548, 6550, 6552, 6554, 6556, 6558, 6560, 6562, 6564, 6566, 6568, 6570, 6572, 6574, 6576, 6578, 6580, 6582, 6584, 6586, 6588, 6590, 6592, 6594, 6596, 6598, 6600, 6602, 6604, 6606, 6608, 6610, 6612, 6614, 6616, 6618, 6620, 6622, 6624, 6626, 6628, 6630, 6632, 6634, 6636, 6638, 6640, 6642, 6644, 6646, 6648, 6650, 6652, 6654, 6656, 6658, 6660, 6662, 6664, 6666, 6668, 6670, 6672, 6674, 6676, 6678, 6680, 6682, 6684, 6686, 6688, 6690, 6692, 6694, 6696, 6698, 6700, 6702, 6704, 6706, 6708, 6710, 6712, 6714, 6716, 6718, 6720, 6722, 6724, 6726, 6728, 6730, 6732, 6734, 6736, 6738, 6740, 6742, 6744, 6746, 6748, 6750, 6752, 6754, 6756, 6758, 6760, 6762, 6764, 6766, 6768, 6770, 6772, 6774, 6776, 6778, 6780, 6782, 6784, 6786, 6788, 6790, 6792, 6794, 6796, 6798, 6800, 6802, 6804, 6806, 6808, 6810, 6812, 6814, 6816, 6818, 6820, 6822, 6824, 6826, 6828, 6830, 6832, 6834, 6836, 6838, 6840, 6842, 6844, 6846, 6848, 6850, 6852, 6854, 6856, 6858, 6860, 6862, 6864, 6866, 6868, 6870, 6872, 6874, 6876, 6878, 6880, 6882, 6884, 6886, 6888, 6890, 6892, 6894, 6896, 6898, 6900, 6902, 6904, 6906, 6908, 6910, 6912, 6914, 6916, 6918, 6920, 6922, 6924, 6926, 6928, 6930, 6932, 6934, 6936, 6938, 6940, 6942, 6944, 6946, 6948, 6950, 6952, 6954, 6956, 6958, 6960, 6962, 6964, 6966, 6968, 6970, 6972, 6974, 6976, 6978, 6980, 6982, 6984, 6986, 6988, 6990, 6992, 6994, 6996, 6998, 7000, 7002, 7004, 7006, 7008, 7010, 7012, 7014, 7016, 7018, 7020, 7022, 7024, 7026, 7028, 7030, 7032, 7034, 7036, 7038, 7040, 7042, 7044, 7046, 7048, 7050, 7052, 7054, 7056, 7058, 7060, 7062, 7064, 7066, 7068, 7070, 7072, 7074, 7076, 7078, 7080, 7082, 7084, 7086, 7088, 7090, 7092, 7094, 7096, 7098, 7100, 7102, 7104, 7106, 7108, 7110, 7112, 7114, 7116, 7118, 7120, 7122, 7124, 7126, 7128, 7130, 7132, 7134, 7136, 7138, 7140, 7142, 7144, 7146, 7148, 7150, 7152, 7154, 7156, 7158, 7160, 7162, 7164, 7166, 7168, 7170, 7172, 7174, 7176, 7178, 7180, 7182, 7184, 7186, 7188, 7190, 7192, 7194, 7196, 7198, 7200, 7202, 7204, 7206, 7208, 7210, 7212, 7214, 7216, 7218, 7220, 7222, 7224, 7226, 7228, 7230, 7232, 7234, 7236, 7238, 7240, 7242, 7244, 7246, 7248, 7250, 7252, 7254, 7256, 7258, 7260, 7262, 7264, 7266, 7268, 7270, 7272, 7274, 7276, 7278, 7280, 7282, 7284, 7286, 7288, 7290, 7292, 7294, 7296, 7298, 7300, 7302, 7304, 7306, 7308, 7310, 7312, 7314, 7316, 7318, 7320, 7322, 7324, 7326, 7328, 7330, 7332, 7334, 7336, 7338, 7340, 7342, 7344, 7346, 7348, 7350, 7352, 7354, 7356, 7358, 7360, 7362, 7364, 7366, 7368, 7370, 7372, 7374, 7376, 7378, 7380, 7382, 7384, 7386, 7388, 7390, 7392, 7394, 7396, 7398, 7400, 7402, 7404, 7406, 7408, 7410, 7412, 7414, 7416, 7418, 7420, 7422, 7424, 7426, 7428, 7430, 7432, 7434, 7436, 7438, 7440, 7442, 7444, 7446, 7448, 7450, 7452, 7454, 7456, 7458, 7460, 7462, 7464, 7466, 7468, 7470, 7472, 7474, 7476, 7478, 7480, 7482, 7484, 7486, 7488, 7490, 7492, 7494, 7496, 7498, 7500, 7502, 7504, 7506, 7508, 7510, 7512, 7514, 7516, 7518, 7520, 7522, 7524, 7526, 7528, 7530, 7532, 7534, 7536, 7538, 7540, 7542, 7544, 7546, 7548, 7550, 7552, 7554, 7556, 7558, 7560, 7562, 7564, 7566, 7568, 7570, 7572, 7574, 7576, 7578, 7580, 7582, 7584, 7586, 7588, 7590, 7592, 7594, 7596, 7598, 7600, 7602, 7604, 7606, 7608, 7610, 7612, 7614, 7616, 7618, 7620, 7622, 7624, 7626, 7628, 7630, 7632, 7634, 7636, 7638, 7640, 7642, 7644, 7646, 7648, 7650, 7652, 7654, 7656, 7658, 7660, 7662, 7664, 7666, 7668, 7670, 7672, 7674, 7676, 7678, 7680, 7682, 7684, 7686, 7688, 7690, 7692, 7694, 7696, 7698, 7700, 7702, 7704, 7706, 7708, 7710, 7712, 7714, 7716, 7718, 7720, 7722, 7724, 7726, 7728, 7730, 7732, 7734, 7736, 7738, 7740, 7742, 7744, 7746, 7748, 7750, 7752, 7754, 7756, 7758, 7760, 7762, 7764, 7766, 7768, 7770, 7772, 7774, 7776, 7778, 7780, 7782, 7784, 7786, 7788, 7790, 7792, 7794, 7796, 7798, 7800, 7802, 7804, 7806, 7808, 7810, 7812, 7814, 7816, 7818, 7820, 7822, 7824, 7826, 7828, 7830, 7832, 7834, 7836, 7838, 7840, 7842, 7844, 7846, 7848, 7850, 7852, 7854, 7856, 7858, 7860, 7862, 7864, 7866, 7868, 7870, 7872, 7874, 7876, 7878, 7880, 7882, 7884, 7886, 7888, 7890, 7892, 7894, 7896, 7898, 7900, 7902, 7904, 7906, 7908, 7910, 7912, 7914, 7916, 7918, 7920, 7922, 7924, 7926, 7928, 7930, 7932, 7934, 7936, 7938, 7940, 7942, 7944, 7946, 7948, 7950, 7952, 7954, 7956, 7958, 7960, 7962, 7964, 7966, 7968, 7970, 7972, 7974, 7976, 7978, 7980, 7982, 7984, 7986, 7988, 7990, 7992, 7994, 7996, 7998, 8000, 8002, 8004, 8006, 8008, 8010, 8012, 8014, 8016, 8018, 8020, 8022, 8024, 8026, 8028, 8030, 8032, 8034, 8036, 8038, 8040, 8042, 8044, 8046, 8048, 8050, 8052, 8054, 8056, 8058, 8060, 8062, 8064, 8066, 8068, 8070, 8072, 8074, 8076, 8078, 8080, 8082, 8084, 8086, 8088, 8090, 8092, 8094, 8096, 8098, 8100, 8102, 8104, 8106, 8108, 8110, 8112, 8114, 8116, 8118, 8120, 8122, 8124, 8126, 8128, 8130, 8132, 8134, 8136, 8138, 8140, 8142, 8144, 8146, 8148, 8150, 8152, 8154, 8156, 8158, 8160, 8162, 8164, 8166, 8168, 8170, 8172, 8174, 8176, 8178, 8180, 8182, 8184, 8186, 8188, 8190, 8192, 8194, 8196, 8198, 8200, 8202, 8204, 8206, 8208, 8210, 8212, 8214, 8216, 8218, 8220, 8222, 8224, 8226, 8228, 8230, 8232, 8234, 8236, 8238, 8240, 8242, 8244, 8246, 8248, 8250, 8252, 8254, 8256, 8258, 8260, 8262, 8264, 8266, 8268, 8270, 8272, 8274, 8276, 8278, 8280, 8282, 8284, 8286, 8288, 8290, 8292, 8294, 8296, 8298, 8300, 8302, 8304, 8306, 8308, 8310, 8312, 8314, 8316, 8318, 8320, 8322, 8324, 8326, 8328, 8330, 8332, 8334, 8336, 8338, 8340, 8342, 8344, 8346, 8348, 8350, 8352, 8354, 8356, 8358, 8360, 8362, 8364, 8366, 8368, 8370, 8372, 8374, 8376, 8378, 8380, 8382, 8384, 8386, 8388, 8390, 8392, 8394, 8396, 8398, 8400, 8402, 8404, 8406, 8408, 8410, 8412, 8414, 8416, 8418, 8420, 8422, 8424, 8426, 8428, 8430, 8432, 8434, 8436, 8438, 8440, 8442, 8444, 8446, 8448, 8450, 8452, 8454, 8456, 8458, 8460, 8462, 8464, 8466, 8468, 8470, 8472, 8474, 8476, 8478, 8480, 8482, 8484, 8486, 8488, 8490, 8492, 8494, 8496, 8498, 8500, 8502, 8504, 8506, 8508, 8510, 8512, 8514, 8516, 8518, 8520, 8522, 8524, 8526, 8528, 8530, 8532, 8534, 8536, 8538, 8540, 8542, 8544, 8546, 8548, 8550, 8552, 8554, 8556, 8558, 8560, 8562, 8564, 8566, 8568, 8570, 8572, 8574, 8576, 8578, 8580, 8582, 8584, 8586, 8588, 8590, 8592, 8594, 8596, 8598, 8600, 8602, 8604, 8606, 8608, 8610, 8612, 8614, 8616, 8618, 8620, 8622, 8624, 8626, 8628, 8630, 8632, 8634, 8636, 8638, 8640, 8642, 8644, 8646, 8648, 8650, 8652, 8654, 8656, 8658, 8660, 8662, 8664, 8666, 8668, 8670, 8672, 8674, 8676, 8678, 8680, 8682, 8684, 8686, 8688, 8690, 8692, 8694, 8696, 8698, 8700, 8702, 8704, 8706, 8708, 8710, 8712, 8714, 8716, 8718, 8720, 8722, 8724, 8726, 8728, 8730, 8732, 8734, 8736, 8738, 8740, 8742, 8744, 8746, 8748, 8750, 8752, 8754, 8756, 8758, 8760, 8762, 8764, 8766, 8768, 8770, 8772, 8774, 8776, 8778, 8780, 8782, 8784, 8786, 8788, 8790, 8792, 8794, 8796, 8798, 8800, 8802, 8804, 8806, 8808, 8810, 8812, 8814, 8816, 8818, 8820, 8822, 8824, 8826, 8828, 8830, 8832, 8834, 8836, 8838, 8840, 8842, 8844, 8846, 8848, 8850, 8852, 8854, 8856, 8858, 8860, 8862, 8864, 8866, 8868, 8870, 8872, 8874, 8876, 8878, 8880, 8882, 8884, 8886, 8888, 8890, 8892, 8894, 8896, 8898, 8900, 8902, 8904, 8906, 8908, 8910, 8912, 8914, 8916, 8918, 8920, 8922, 8924, 8926, 8928, 8930, 8932, 8934, 8936, 8938, 8940, 8942, 8944, 8946, 8948, 8950, 8952, 8954, 8956, 8958, 8960, 8962, 8964, 8966, 8968, 8970, 8972, 8974, 8976, 8978, 8980, 8982, 8984, 8986, 8988, 8990, 8992, 8994, 8996, 8998, 9000, 9002, 9004, 9006, 9008, 9010, 9012, 9014, 9016, 9018, 9020, 9022, 9024, 9026, 9028, 9030, 9032, 9034, 9036, 9038, 9040, 9042, 9044, 9046, 9048, 9050, 9052, 9054, 9056, 9058, 9060, 9062, 9064, 9066, 9068, 9070, 9072, 9074, 9076, 9078, 9080, 9082, 9084, 9086, 9088, 9090, 9092, 9094, 9096, 9098, 9100, 9102, 9104, 9106, 9108, 9110, 9112, 9114, 9116, 9118, 9120, 9122, 9124, 9126, 9128, 9130, 9132, 9134, 9136, 9138, 9140, 9142, 9144, 9146, 9148, 9150, 9152, 9154, 9156, 9158, 9160, 9162, 9164, 9166, 9168, 9170, 9172, 9174, 9176, 9178, 9180, 9182, 9184, 9186, 9188, 9190, 9192, 9194, 9196, 9198, 9200, 9202, 9204, 9206, 9208, 9210, 9212, 9214, 9216, 9218, 9220, 9222, 9224, 9226, 9228, 9230, 9232, 9234, 9236, 9238, 9240, 9242, 9244, 9246, 9248, 9250, 9252, 9254, 9256, 9258, 9260, 9262, 9264, 9266, 9268, 9270, 9272, 9274, 9276, 9278, 9280, 9282, 9284, 9286, 9288, 9290, 9292, 9294, 9296, 9298, 9300, 9302, 9304, 9306, 9308, 9310, 9312, 9314, 9316, 9318, 9320, 9322, 9324, 9326, 9328, 9330, 9332, 9334, 9336, 9338, 9340, 9342, 9344, 9346, 9348, 9350, 9352, 9354, 9356, 9358, 9360, 9362, 9364, 9366, 9368, 9370, 9372, 9374, 9376, 9378, 9380, 9382, 9384, 9386, 9388, 9390, 9392, 9394, 9396, 9398, 9400, 9402, 9404, 9406, 9408, 9410, 9412, 9414, 9416, 9418, 9420, 9422, 9424, 9426, 9428, 9430, 9432, 9434, 9436, 9438, 9440, 9442, 9444, 9446, 9448, 9450, 9452, 9454, 9456, 9458, 9460, 9462, 9464, 9466, 9468, 9470, 9472, 9474, 9476, 9478, 9480, 9482, 9484, 9486, 9488, 9490, 9492, 9494, 9496, 9498, 9500, 9502, 9504, 9506, 9508, 9510, 9512, 9514, 9516, 9518, 9520, 9522, 9524, 9526, 9528, 9530, 9532, 9534, 9536, 9538, 9540, 9542, 9544, 9546, 9548, 9550, 9552, 9554, 9556, 9558, 9560, 9562, 9564, 9566, 9568, 9570, 9572, 9574, 9576, 9578, 9580, 9582, 9584, 9586, 9588, 9590, 9592, 9594, 9596, 9598, 9600, 9602, 9604, 9606, 9608, 9610, 9612, 9614, 9616, 9618, 9620, 9622, 9624, 9626, 9628, 9630, 9632, 9634, 9636, 9638, 9640, 9642, 9644, 9646, 9648, 9650, 9652, 9654, 9656, 9658, 9660, 9662, 9664, 9666, 9668, 9670, 9672, 9674, 9676, 9678, 9680, 9682, 9684, 9686, 9688, 9690, 9692, 9694, 9696, 9698, 9700, 9702, 9704, 9706, 9708, 9710, 9712, 9714, 9716, 9718, 9720, 9722, 9724, 9726, 9728, 9730, 9732, 9734, 9736, 9738, 9740, 9742, 9744, 9746, 9748, 9750, 9752, 9754, 9756, 9758, 9760, 9762, 9764, 9766, 9768, 9770, 9772, 9774, 9776, 9778, 9780, 9782, 9784, 9786, 9788, 9790, 9792, 9794, 9796, 9798, 9800, 9802, 9804, 9806, 9808, 9810, 9812, 9814, 9816, 9818, 9820, 9822, 9824, 9826, 9828, 9830, 9832, 9834, 9836, 9838, 9840, 9842, 9844, 9846, 9848, 9850, 9852, 9854, 9856, 9858, 9860, 9862, 9864, 9866, 9868, 9870, 9872, 9874, 9876, 9878, 9880, 9882, 9884, 9886, 9888, 9890, 9892, 9894, 9896, 9898, 9900, 9902, 9904, 9906, 9908, 9910, 9912, 9914, 9916, 9918, 9920, 9922, 9924, 9926, 9928, 9930, 9932, 9934, 9936, 9938, 9940, 9942, 9944, 9946, 9948, 9950, 9952, 9954, 9956, 9958, 9960, 9962, 9964, 9966, 9968, 9970, 9972, 9974, 9976, 9978, 9980, 9982, 9984, 9986, 9988, 9990, 9992, 9994, 9996, 9998]\n",
            "odd [1, 3, 5, 7, 9, 11, 13, 15, 17, 19, 21, 23, 25, 27, 29, 31, 33, 35, 37, 39, 41, 43, 45, 47, 49, 51, 53, 55, 57, 59, 61, 63, 65, 67, 69, 71, 73, 75, 77, 79, 81, 83, 85, 87, 89, 91, 93, 95, 97, 99, 101, 103, 105, 107, 109, 111, 113, 115, 117, 119, 121, 123, 125, 127, 129, 131, 133, 135, 137, 139, 141, 143, 145, 147, 149, 151, 153, 155, 157, 159, 161, 163, 165, 167, 169, 171, 173, 175, 177, 179, 181, 183, 185, 187, 189, 191, 193, 195, 197, 199, 201, 203, 205, 207, 209, 211, 213, 215, 217, 219, 221, 223, 225, 227, 229, 231, 233, 235, 237, 239, 241, 243, 245, 247, 249, 251, 253, 255, 257, 259, 261, 263, 265, 267, 269, 271, 273, 275, 277, 279, 281, 283, 285, 287, 289, 291, 293, 295, 297, 299, 301, 303, 305, 307, 309, 311, 313, 315, 317, 319, 321, 323, 325, 327, 329, 331, 333, 335, 337, 339, 341, 343, 345, 347, 349, 351, 353, 355, 357, 359, 361, 363, 365, 367, 369, 371, 373, 375, 377, 379, 381, 383, 385, 387, 389, 391, 393, 395, 397, 399, 401, 403, 405, 407, 409, 411, 413, 415, 417, 419, 421, 423, 425, 427, 429, 431, 433, 435, 437, 439, 441, 443, 445, 447, 449, 451, 453, 455, 457, 459, 461, 463, 465, 467, 469, 471, 473, 475, 477, 479, 481, 483, 485, 487, 489, 491, 493, 495, 497, 499, 501, 503, 505, 507, 509, 511, 513, 515, 517, 519, 521, 523, 525, 527, 529, 531, 533, 535, 537, 539, 541, 543, 545, 547, 549, 551, 553, 555, 557, 559, 561, 563, 565, 567, 569, 571, 573, 575, 577, 579, 581, 583, 585, 587, 589, 591, 593, 595, 597, 599, 601, 603, 605, 607, 609, 611, 613, 615, 617, 619, 621, 623, 625, 627, 629, 631, 633, 635, 637, 639, 641, 643, 645, 647, 649, 651, 653, 655, 657, 659, 661, 663, 665, 667, 669, 671, 673, 675, 677, 679, 681, 683, 685, 687, 689, 691, 693, 695, 697, 699, 701, 703, 705, 707, 709, 711, 713, 715, 717, 719, 721, 723, 725, 727, 729, 731, 733, 735, 737, 739, 741, 743, 745, 747, 749, 751, 753, 755, 757, 759, 761, 763, 765, 767, 769, 771, 773, 775, 777, 779, 781, 783, 785, 787, 789, 791, 793, 795, 797, 799, 801, 803, 805, 807, 809, 811, 813, 815, 817, 819, 821, 823, 825, 827, 829, 831, 833, 835, 837, 839, 841, 843, 845, 847, 849, 851, 853, 855, 857, 859, 861, 863, 865, 867, 869, 871, 873, 875, 877, 879, 881, 883, 885, 887, 889, 891, 893, 895, 897, 899, 901, 903, 905, 907, 909, 911, 913, 915, 917, 919, 921, 923, 925, 927, 929, 931, 933, 935, 937, 939, 941, 943, 945, 947, 949, 951, 953, 955, 957, 959, 961, 963, 965, 967, 969, 971, 973, 975, 977, 979, 981, 983, 985, 987, 989, 991, 993, 995, 997, 999, 1001, 1003, 1005, 1007, 1009, 1011, 1013, 1015, 1017, 1019, 1021, 1023, 1025, 1027, 1029, 1031, 1033, 1035, 1037, 1039, 1041, 1043, 1045, 1047, 1049, 1051, 1053, 1055, 1057, 1059, 1061, 1063, 1065, 1067, 1069, 1071, 1073, 1075, 1077, 1079, 1081, 1083, 1085, 1087, 1089, 1091, 1093, 1095, 1097, 1099, 1101, 1103, 1105, 1107, 1109, 1111, 1113, 1115, 1117, 1119, 1121, 1123, 1125, 1127, 1129, 1131, 1133, 1135, 1137, 1139, 1141, 1143, 1145, 1147, 1149, 1151, 1153, 1155, 1157, 1159, 1161, 1163, 1165, 1167, 1169, 1171, 1173, 1175, 1177, 1179, 1181, 1183, 1185, 1187, 1189, 1191, 1193, 1195, 1197, 1199, 1201, 1203, 1205, 1207, 1209, 1211, 1213, 1215, 1217, 1219, 1221, 1223, 1225, 1227, 1229, 1231, 1233, 1235, 1237, 1239, 1241, 1243, 1245, 1247, 1249, 1251, 1253, 1255, 1257, 1259, 1261, 1263, 1265, 1267, 1269, 1271, 1273, 1275, 1277, 1279, 1281, 1283, 1285, 1287, 1289, 1291, 1293, 1295, 1297, 1299, 1301, 1303, 1305, 1307, 1309, 1311, 1313, 1315, 1317, 1319, 1321, 1323, 1325, 1327, 1329, 1331, 1333, 1335, 1337, 1339, 1341, 1343, 1345, 1347, 1349, 1351, 1353, 1355, 1357, 1359, 1361, 1363, 1365, 1367, 1369, 1371, 1373, 1375, 1377, 1379, 1381, 1383, 1385, 1387, 1389, 1391, 1393, 1395, 1397, 1399, 1401, 1403, 1405, 1407, 1409, 1411, 1413, 1415, 1417, 1419, 1421, 1423, 1425, 1427, 1429, 1431, 1433, 1435, 1437, 1439, 1441, 1443, 1445, 1447, 1449, 1451, 1453, 1455, 1457, 1459, 1461, 1463, 1465, 1467, 1469, 1471, 1473, 1475, 1477, 1479, 1481, 1483, 1485, 1487, 1489, 1491, 1493, 1495, 1497, 1499, 1501, 1503, 1505, 1507, 1509, 1511, 1513, 1515, 1517, 1519, 1521, 1523, 1525, 1527, 1529, 1531, 1533, 1535, 1537, 1539, 1541, 1543, 1545, 1547, 1549, 1551, 1553, 1555, 1557, 1559, 1561, 1563, 1565, 1567, 1569, 1571, 1573, 1575, 1577, 1579, 1581, 1583, 1585, 1587, 1589, 1591, 1593, 1595, 1597, 1599, 1601, 1603, 1605, 1607, 1609, 1611, 1613, 1615, 1617, 1619, 1621, 1623, 1625, 1627, 1629, 1631, 1633, 1635, 1637, 1639, 1641, 1643, 1645, 1647, 1649, 1651, 1653, 1655, 1657, 1659, 1661, 1663, 1665, 1667, 1669, 1671, 1673, 1675, 1677, 1679, 1681, 1683, 1685, 1687, 1689, 1691, 1693, 1695, 1697, 1699, 1701, 1703, 1705, 1707, 1709, 1711, 1713, 1715, 1717, 1719, 1721, 1723, 1725, 1727, 1729, 1731, 1733, 1735, 1737, 1739, 1741, 1743, 1745, 1747, 1749, 1751, 1753, 1755, 1757, 1759, 1761, 1763, 1765, 1767, 1769, 1771, 1773, 1775, 1777, 1779, 1781, 1783, 1785, 1787, 1789, 1791, 1793, 1795, 1797, 1799, 1801, 1803, 1805, 1807, 1809, 1811, 1813, 1815, 1817, 1819, 1821, 1823, 1825, 1827, 1829, 1831, 1833, 1835, 1837, 1839, 1841, 1843, 1845, 1847, 1849, 1851, 1853, 1855, 1857, 1859, 1861, 1863, 1865, 1867, 1869, 1871, 1873, 1875, 1877, 1879, 1881, 1883, 1885, 1887, 1889, 1891, 1893, 1895, 1897, 1899, 1901, 1903, 1905, 1907, 1909, 1911, 1913, 1915, 1917, 1919, 1921, 1923, 1925, 1927, 1929, 1931, 1933, 1935, 1937, 1939, 1941, 1943, 1945, 1947, 1949, 1951, 1953, 1955, 1957, 1959, 1961, 1963, 1965, 1967, 1969, 1971, 1973, 1975, 1977, 1979, 1981, 1983, 1985, 1987, 1989, 1991, 1993, 1995, 1997, 1999, 2001, 2003, 2005, 2007, 2009, 2011, 2013, 2015, 2017, 2019, 2021, 2023, 2025, 2027, 2029, 2031, 2033, 2035, 2037, 2039, 2041, 2043, 2045, 2047, 2049, 2051, 2053, 2055, 2057, 2059, 2061, 2063, 2065, 2067, 2069, 2071, 2073, 2075, 2077, 2079, 2081, 2083, 2085, 2087, 2089, 2091, 2093, 2095, 2097, 2099, 2101, 2103, 2105, 2107, 2109, 2111, 2113, 2115, 2117, 2119, 2121, 2123, 2125, 2127, 2129, 2131, 2133, 2135, 2137, 2139, 2141, 2143, 2145, 2147, 2149, 2151, 2153, 2155, 2157, 2159, 2161, 2163, 2165, 2167, 2169, 2171, 2173, 2175, 2177, 2179, 2181, 2183, 2185, 2187, 2189, 2191, 2193, 2195, 2197, 2199, 2201, 2203, 2205, 2207, 2209, 2211, 2213, 2215, 2217, 2219, 2221, 2223, 2225, 2227, 2229, 2231, 2233, 2235, 2237, 2239, 2241, 2243, 2245, 2247, 2249, 2251, 2253, 2255, 2257, 2259, 2261, 2263, 2265, 2267, 2269, 2271, 2273, 2275, 2277, 2279, 2281, 2283, 2285, 2287, 2289, 2291, 2293, 2295, 2297, 2299, 2301, 2303, 2305, 2307, 2309, 2311, 2313, 2315, 2317, 2319, 2321, 2323, 2325, 2327, 2329, 2331, 2333, 2335, 2337, 2339, 2341, 2343, 2345, 2347, 2349, 2351, 2353, 2355, 2357, 2359, 2361, 2363, 2365, 2367, 2369, 2371, 2373, 2375, 2377, 2379, 2381, 2383, 2385, 2387, 2389, 2391, 2393, 2395, 2397, 2399, 2401, 2403, 2405, 2407, 2409, 2411, 2413, 2415, 2417, 2419, 2421, 2423, 2425, 2427, 2429, 2431, 2433, 2435, 2437, 2439, 2441, 2443, 2445, 2447, 2449, 2451, 2453, 2455, 2457, 2459, 2461, 2463, 2465, 2467, 2469, 2471, 2473, 2475, 2477, 2479, 2481, 2483, 2485, 2487, 2489, 2491, 2493, 2495, 2497, 2499, 2501, 2503, 2505, 2507, 2509, 2511, 2513, 2515, 2517, 2519, 2521, 2523, 2525, 2527, 2529, 2531, 2533, 2535, 2537, 2539, 2541, 2543, 2545, 2547, 2549, 2551, 2553, 2555, 2557, 2559, 2561, 2563, 2565, 2567, 2569, 2571, 2573, 2575, 2577, 2579, 2581, 2583, 2585, 2587, 2589, 2591, 2593, 2595, 2597, 2599, 2601, 2603, 2605, 2607, 2609, 2611, 2613, 2615, 2617, 2619, 2621, 2623, 2625, 2627, 2629, 2631, 2633, 2635, 2637, 2639, 2641, 2643, 2645, 2647, 2649, 2651, 2653, 2655, 2657, 2659, 2661, 2663, 2665, 2667, 2669, 2671, 2673, 2675, 2677, 2679, 2681, 2683, 2685, 2687, 2689, 2691, 2693, 2695, 2697, 2699, 2701, 2703, 2705, 2707, 2709, 2711, 2713, 2715, 2717, 2719, 2721, 2723, 2725, 2727, 2729, 2731, 2733, 2735, 2737, 2739, 2741, 2743, 2745, 2747, 2749, 2751, 2753, 2755, 2757, 2759, 2761, 2763, 2765, 2767, 2769, 2771, 2773, 2775, 2777, 2779, 2781, 2783, 2785, 2787, 2789, 2791, 2793, 2795, 2797, 2799, 2801, 2803, 2805, 2807, 2809, 2811, 2813, 2815, 2817, 2819, 2821, 2823, 2825, 2827, 2829, 2831, 2833, 2835, 2837, 2839, 2841, 2843, 2845, 2847, 2849, 2851, 2853, 2855, 2857, 2859, 2861, 2863, 2865, 2867, 2869, 2871, 2873, 2875, 2877, 2879, 2881, 2883, 2885, 2887, 2889, 2891, 2893, 2895, 2897, 2899, 2901, 2903, 2905, 2907, 2909, 2911, 2913, 2915, 2917, 2919, 2921, 2923, 2925, 2927, 2929, 2931, 2933, 2935, 2937, 2939, 2941, 2943, 2945, 2947, 2949, 2951, 2953, 2955, 2957, 2959, 2961, 2963, 2965, 2967, 2969, 2971, 2973, 2975, 2977, 2979, 2981, 2983, 2985, 2987, 2989, 2991, 2993, 2995, 2997, 2999, 3001, 3003, 3005, 3007, 3009, 3011, 3013, 3015, 3017, 3019, 3021, 3023, 3025, 3027, 3029, 3031, 3033, 3035, 3037, 3039, 3041, 3043, 3045, 3047, 3049, 3051, 3053, 3055, 3057, 3059, 3061, 3063, 3065, 3067, 3069, 3071, 3073, 3075, 3077, 3079, 3081, 3083, 3085, 3087, 3089, 3091, 3093, 3095, 3097, 3099, 3101, 3103, 3105, 3107, 3109, 3111, 3113, 3115, 3117, 3119, 3121, 3123, 3125, 3127, 3129, 3131, 3133, 3135, 3137, 3139, 3141, 3143, 3145, 3147, 3149, 3151, 3153, 3155, 3157, 3159, 3161, 3163, 3165, 3167, 3169, 3171, 3173, 3175, 3177, 3179, 3181, 3183, 3185, 3187, 3189, 3191, 3193, 3195, 3197, 3199, 3201, 3203, 3205, 3207, 3209, 3211, 3213, 3215, 3217, 3219, 3221, 3223, 3225, 3227, 3229, 3231, 3233, 3235, 3237, 3239, 3241, 3243, 3245, 3247, 3249, 3251, 3253, 3255, 3257, 3259, 3261, 3263, 3265, 3267, 3269, 3271, 3273, 3275, 3277, 3279, 3281, 3283, 3285, 3287, 3289, 3291, 3293, 3295, 3297, 3299, 3301, 3303, 3305, 3307, 3309, 3311, 3313, 3315, 3317, 3319, 3321, 3323, 3325, 3327, 3329, 3331, 3333, 3335, 3337, 3339, 3341, 3343, 3345, 3347, 3349, 3351, 3353, 3355, 3357, 3359, 3361, 3363, 3365, 3367, 3369, 3371, 3373, 3375, 3377, 3379, 3381, 3383, 3385, 3387, 3389, 3391, 3393, 3395, 3397, 3399, 3401, 3403, 3405, 3407, 3409, 3411, 3413, 3415, 3417, 3419, 3421, 3423, 3425, 3427, 3429, 3431, 3433, 3435, 3437, 3439, 3441, 3443, 3445, 3447, 3449, 3451, 3453, 3455, 3457, 3459, 3461, 3463, 3465, 3467, 3469, 3471, 3473, 3475, 3477, 3479, 3481, 3483, 3485, 3487, 3489, 3491, 3493, 3495, 3497, 3499, 3501, 3503, 3505, 3507, 3509, 3511, 3513, 3515, 3517, 3519, 3521, 3523, 3525, 3527, 3529, 3531, 3533, 3535, 3537, 3539, 3541, 3543, 3545, 3547, 3549, 3551, 3553, 3555, 3557, 3559, 3561, 3563, 3565, 3567, 3569, 3571, 3573, 3575, 3577, 3579, 3581, 3583, 3585, 3587, 3589, 3591, 3593, 3595, 3597, 3599, 3601, 3603, 3605, 3607, 3609, 3611, 3613, 3615, 3617, 3619, 3621, 3623, 3625, 3627, 3629, 3631, 3633, 3635, 3637, 3639, 3641, 3643, 3645, 3647, 3649, 3651, 3653, 3655, 3657, 3659, 3661, 3663, 3665, 3667, 3669, 3671, 3673, 3675, 3677, 3679, 3681, 3683, 3685, 3687, 3689, 3691, 3693, 3695, 3697, 3699, 3701, 3703, 3705, 3707, 3709, 3711, 3713, 3715, 3717, 3719, 3721, 3723, 3725, 3727, 3729, 3731, 3733, 3735, 3737, 3739, 3741, 3743, 3745, 3747, 3749, 3751, 3753, 3755, 3757, 3759, 3761, 3763, 3765, 3767, 3769, 3771, 3773, 3775, 3777, 3779, 3781, 3783, 3785, 3787, 3789, 3791, 3793, 3795, 3797, 3799, 3801, 3803, 3805, 3807, 3809, 3811, 3813, 3815, 3817, 3819, 3821, 3823, 3825, 3827, 3829, 3831, 3833, 3835, 3837, 3839, 3841, 3843, 3845, 3847, 3849, 3851, 3853, 3855, 3857, 3859, 3861, 3863, 3865, 3867, 3869, 3871, 3873, 3875, 3877, 3879, 3881, 3883, 3885, 3887, 3889, 3891, 3893, 3895, 3897, 3899, 3901, 3903, 3905, 3907, 3909, 3911, 3913, 3915, 3917, 3919, 3921, 3923, 3925, 3927, 3929, 3931, 3933, 3935, 3937, 3939, 3941, 3943, 3945, 3947, 3949, 3951, 3953, 3955, 3957, 3959, 3961, 3963, 3965, 3967, 3969, 3971, 3973, 3975, 3977, 3979, 3981, 3983, 3985, 3987, 3989, 3991, 3993, 3995, 3997, 3999, 4001, 4003, 4005, 4007, 4009, 4011, 4013, 4015, 4017, 4019, 4021, 4023, 4025, 4027, 4029, 4031, 4033, 4035, 4037, 4039, 4041, 4043, 4045, 4047, 4049, 4051, 4053, 4055, 4057, 4059, 4061, 4063, 4065, 4067, 4069, 4071, 4073, 4075, 4077, 4079, 4081, 4083, 4085, 4087, 4089, 4091, 4093, 4095, 4097, 4099, 4101, 4103, 4105, 4107, 4109, 4111, 4113, 4115, 4117, 4119, 4121, 4123, 4125, 4127, 4129, 4131, 4133, 4135, 4137, 4139, 4141, 4143, 4145, 4147, 4149, 4151, 4153, 4155, 4157, 4159, 4161, 4163, 4165, 4167, 4169, 4171, 4173, 4175, 4177, 4179, 4181, 4183, 4185, 4187, 4189, 4191, 4193, 4195, 4197, 4199, 4201, 4203, 4205, 4207, 4209, 4211, 4213, 4215, 4217, 4219, 4221, 4223, 4225, 4227, 4229, 4231, 4233, 4235, 4237, 4239, 4241, 4243, 4245, 4247, 4249, 4251, 4253, 4255, 4257, 4259, 4261, 4263, 4265, 4267, 4269, 4271, 4273, 4275, 4277, 4279, 4281, 4283, 4285, 4287, 4289, 4291, 4293, 4295, 4297, 4299, 4301, 4303, 4305, 4307, 4309, 4311, 4313, 4315, 4317, 4319, 4321, 4323, 4325, 4327, 4329, 4331, 4333, 4335, 4337, 4339, 4341, 4343, 4345, 4347, 4349, 4351, 4353, 4355, 4357, 4359, 4361, 4363, 4365, 4367, 4369, 4371, 4373, 4375, 4377, 4379, 4381, 4383, 4385, 4387, 4389, 4391, 4393, 4395, 4397, 4399, 4401, 4403, 4405, 4407, 4409, 4411, 4413, 4415, 4417, 4419, 4421, 4423, 4425, 4427, 4429, 4431, 4433, 4435, 4437, 4439, 4441, 4443, 4445, 4447, 4449, 4451, 4453, 4455, 4457, 4459, 4461, 4463, 4465, 4467, 4469, 4471, 4473, 4475, 4477, 4479, 4481, 4483, 4485, 4487, 4489, 4491, 4493, 4495, 4497, 4499, 4501, 4503, 4505, 4507, 4509, 4511, 4513, 4515, 4517, 4519, 4521, 4523, 4525, 4527, 4529, 4531, 4533, 4535, 4537, 4539, 4541, 4543, 4545, 4547, 4549, 4551, 4553, 4555, 4557, 4559, 4561, 4563, 4565, 4567, 4569, 4571, 4573, 4575, 4577, 4579, 4581, 4583, 4585, 4587, 4589, 4591, 4593, 4595, 4597, 4599, 4601, 4603, 4605, 4607, 4609, 4611, 4613, 4615, 4617, 4619, 4621, 4623, 4625, 4627, 4629, 4631, 4633, 4635, 4637, 4639, 4641, 4643, 4645, 4647, 4649, 4651, 4653, 4655, 4657, 4659, 4661, 4663, 4665, 4667, 4669, 4671, 4673, 4675, 4677, 4679, 4681, 4683, 4685, 4687, 4689, 4691, 4693, 4695, 4697, 4699, 4701, 4703, 4705, 4707, 4709, 4711, 4713, 4715, 4717, 4719, 4721, 4723, 4725, 4727, 4729, 4731, 4733, 4735, 4737, 4739, 4741, 4743, 4745, 4747, 4749, 4751, 4753, 4755, 4757, 4759, 4761, 4763, 4765, 4767, 4769, 4771, 4773, 4775, 4777, 4779, 4781, 4783, 4785, 4787, 4789, 4791, 4793, 4795, 4797, 4799, 4801, 4803, 4805, 4807, 4809, 4811, 4813, 4815, 4817, 4819, 4821, 4823, 4825, 4827, 4829, 4831, 4833, 4835, 4837, 4839, 4841, 4843, 4845, 4847, 4849, 4851, 4853, 4855, 4857, 4859, 4861, 4863, 4865, 4867, 4869, 4871, 4873, 4875, 4877, 4879, 4881, 4883, 4885, 4887, 4889, 4891, 4893, 4895, 4897, 4899, 4901, 4903, 4905, 4907, 4909, 4911, 4913, 4915, 4917, 4919, 4921, 4923, 4925, 4927, 4929, 4931, 4933, 4935, 4937, 4939, 4941, 4943, 4945, 4947, 4949, 4951, 4953, 4955, 4957, 4959, 4961, 4963, 4965, 4967, 4969, 4971, 4973, 4975, 4977, 4979, 4981, 4983, 4985, 4987, 4989, 4991, 4993, 4995, 4997, 4999, 5001, 5003, 5005, 5007, 5009, 5011, 5013, 5015, 5017, 5019, 5021, 5023, 5025, 5027, 5029, 5031, 5033, 5035, 5037, 5039, 5041, 5043, 5045, 5047, 5049, 5051, 5053, 5055, 5057, 5059, 5061, 5063, 5065, 5067, 5069, 5071, 5073, 5075, 5077, 5079, 5081, 5083, 5085, 5087, 5089, 5091, 5093, 5095, 5097, 5099, 5101, 5103, 5105, 5107, 5109, 5111, 5113, 5115, 5117, 5119, 5121, 5123, 5125, 5127, 5129, 5131, 5133, 5135, 5137, 5139, 5141, 5143, 5145, 5147, 5149, 5151, 5153, 5155, 5157, 5159, 5161, 5163, 5165, 5167, 5169, 5171, 5173, 5175, 5177, 5179, 5181, 5183, 5185, 5187, 5189, 5191, 5193, 5195, 5197, 5199, 5201, 5203, 5205, 5207, 5209, 5211, 5213, 5215, 5217, 5219, 5221, 5223, 5225, 5227, 5229, 5231, 5233, 5235, 5237, 5239, 5241, 5243, 5245, 5247, 5249, 5251, 5253, 5255, 5257, 5259, 5261, 5263, 5265, 5267, 5269, 5271, 5273, 5275, 5277, 5279, 5281, 5283, 5285, 5287, 5289, 5291, 5293, 5295, 5297, 5299, 5301, 5303, 5305, 5307, 5309, 5311, 5313, 5315, 5317, 5319, 5321, 5323, 5325, 5327, 5329, 5331, 5333, 5335, 5337, 5339, 5341, 5343, 5345, 5347, 5349, 5351, 5353, 5355, 5357, 5359, 5361, 5363, 5365, 5367, 5369, 5371, 5373, 5375, 5377, 5379, 5381, 5383, 5385, 5387, 5389, 5391, 5393, 5395, 5397, 5399, 5401, 5403, 5405, 5407, 5409, 5411, 5413, 5415, 5417, 5419, 5421, 5423, 5425, 5427, 5429, 5431, 5433, 5435, 5437, 5439, 5441, 5443, 5445, 5447, 5449, 5451, 5453, 5455, 5457, 5459, 5461, 5463, 5465, 5467, 5469, 5471, 5473, 5475, 5477, 5479, 5481, 5483, 5485, 5487, 5489, 5491, 5493, 5495, 5497, 5499, 5501, 5503, 5505, 5507, 5509, 5511, 5513, 5515, 5517, 5519, 5521, 5523, 5525, 5527, 5529, 5531, 5533, 5535, 5537, 5539, 5541, 5543, 5545, 5547, 5549, 5551, 5553, 5555, 5557, 5559, 5561, 5563, 5565, 5567, 5569, 5571, 5573, 5575, 5577, 5579, 5581, 5583, 5585, 5587, 5589, 5591, 5593, 5595, 5597, 5599, 5601, 5603, 5605, 5607, 5609, 5611, 5613, 5615, 5617, 5619, 5621, 5623, 5625, 5627, 5629, 5631, 5633, 5635, 5637, 5639, 5641, 5643, 5645, 5647, 5649, 5651, 5653, 5655, 5657, 5659, 5661, 5663, 5665, 5667, 5669, 5671, 5673, 5675, 5677, 5679, 5681, 5683, 5685, 5687, 5689, 5691, 5693, 5695, 5697, 5699, 5701, 5703, 5705, 5707, 5709, 5711, 5713, 5715, 5717, 5719, 5721, 5723, 5725, 5727, 5729, 5731, 5733, 5735, 5737, 5739, 5741, 5743, 5745, 5747, 5749, 5751, 5753, 5755, 5757, 5759, 5761, 5763, 5765, 5767, 5769, 5771, 5773, 5775, 5777, 5779, 5781, 5783, 5785, 5787, 5789, 5791, 5793, 5795, 5797, 5799, 5801, 5803, 5805, 5807, 5809, 5811, 5813, 5815, 5817, 5819, 5821, 5823, 5825, 5827, 5829, 5831, 5833, 5835, 5837, 5839, 5841, 5843, 5845, 5847, 5849, 5851, 5853, 5855, 5857, 5859, 5861, 5863, 5865, 5867, 5869, 5871, 5873, 5875, 5877, 5879, 5881, 5883, 5885, 5887, 5889, 5891, 5893, 5895, 5897, 5899, 5901, 5903, 5905, 5907, 5909, 5911, 5913, 5915, 5917, 5919, 5921, 5923, 5925, 5927, 5929, 5931, 5933, 5935, 5937, 5939, 5941, 5943, 5945, 5947, 5949, 5951, 5953, 5955, 5957, 5959, 5961, 5963, 5965, 5967, 5969, 5971, 5973, 5975, 5977, 5979, 5981, 5983, 5985, 5987, 5989, 5991, 5993, 5995, 5997, 5999, 6001, 6003, 6005, 6007, 6009, 6011, 6013, 6015, 6017, 6019, 6021, 6023, 6025, 6027, 6029, 6031, 6033, 6035, 6037, 6039, 6041, 6043, 6045, 6047, 6049, 6051, 6053, 6055, 6057, 6059, 6061, 6063, 6065, 6067, 6069, 6071, 6073, 6075, 6077, 6079, 6081, 6083, 6085, 6087, 6089, 6091, 6093, 6095, 6097, 6099, 6101, 6103, 6105, 6107, 6109, 6111, 6113, 6115, 6117, 6119, 6121, 6123, 6125, 6127, 6129, 6131, 6133, 6135, 6137, 6139, 6141, 6143, 6145, 6147, 6149, 6151, 6153, 6155, 6157, 6159, 6161, 6163, 6165, 6167, 6169, 6171, 6173, 6175, 6177, 6179, 6181, 6183, 6185, 6187, 6189, 6191, 6193, 6195, 6197, 6199, 6201, 6203, 6205, 6207, 6209, 6211, 6213, 6215, 6217, 6219, 6221, 6223, 6225, 6227, 6229, 6231, 6233, 6235, 6237, 6239, 6241, 6243, 6245, 6247, 6249, 6251, 6253, 6255, 6257, 6259, 6261, 6263, 6265, 6267, 6269, 6271, 6273, 6275, 6277, 6279, 6281, 6283, 6285, 6287, 6289, 6291, 6293, 6295, 6297, 6299, 6301, 6303, 6305, 6307, 6309, 6311, 6313, 6315, 6317, 6319, 6321, 6323, 6325, 6327, 6329, 6331, 6333, 6335, 6337, 6339, 6341, 6343, 6345, 6347, 6349, 6351, 6353, 6355, 6357, 6359, 6361, 6363, 6365, 6367, 6369, 6371, 6373, 6375, 6377, 6379, 6381, 6383, 6385, 6387, 6389, 6391, 6393, 6395, 6397, 6399, 6401, 6403, 6405, 6407, 6409, 6411, 6413, 6415, 6417, 6419, 6421, 6423, 6425, 6427, 6429, 6431, 6433, 6435, 6437, 6439, 6441, 6443, 6445, 6447, 6449, 6451, 6453, 6455, 6457, 6459, 6461, 6463, 6465, 6467, 6469, 6471, 6473, 6475, 6477, 6479, 6481, 6483, 6485, 6487, 6489, 6491, 6493, 6495, 6497, 6499, 6501, 6503, 6505, 6507, 6509, 6511, 6513, 6515, 6517, 6519, 6521, 6523, 6525, 6527, 6529, 6531, 6533, 6535, 6537, 6539, 6541, 6543, 6545, 6547, 6549, 6551, 6553, 6555, 6557, 6559, 6561, 6563, 6565, 6567, 6569, 6571, 6573, 6575, 6577, 6579, 6581, 6583, 6585, 6587, 6589, 6591, 6593, 6595, 6597, 6599, 6601, 6603, 6605, 6607, 6609, 6611, 6613, 6615, 6617, 6619, 6621, 6623, 6625, 6627, 6629, 6631, 6633, 6635, 6637, 6639, 6641, 6643, 6645, 6647, 6649, 6651, 6653, 6655, 6657, 6659, 6661, 6663, 6665, 6667, 6669, 6671, 6673, 6675, 6677, 6679, 6681, 6683, 6685, 6687, 6689, 6691, 6693, 6695, 6697, 6699, 6701, 6703, 6705, 6707, 6709, 6711, 6713, 6715, 6717, 6719, 6721, 6723, 6725, 6727, 6729, 6731, 6733, 6735, 6737, 6739, 6741, 6743, 6745, 6747, 6749, 6751, 6753, 6755, 6757, 6759, 6761, 6763, 6765, 6767, 6769, 6771, 6773, 6775, 6777, 6779, 6781, 6783, 6785, 6787, 6789, 6791, 6793, 6795, 6797, 6799, 6801, 6803, 6805, 6807, 6809, 6811, 6813, 6815, 6817, 6819, 6821, 6823, 6825, 6827, 6829, 6831, 6833, 6835, 6837, 6839, 6841, 6843, 6845, 6847, 6849, 6851, 6853, 6855, 6857, 6859, 6861, 6863, 6865, 6867, 6869, 6871, 6873, 6875, 6877, 6879, 6881, 6883, 6885, 6887, 6889, 6891, 6893, 6895, 6897, 6899, 6901, 6903, 6905, 6907, 6909, 6911, 6913, 6915, 6917, 6919, 6921, 6923, 6925, 6927, 6929, 6931, 6933, 6935, 6937, 6939, 6941, 6943, 6945, 6947, 6949, 6951, 6953, 6955, 6957, 6959, 6961, 6963, 6965, 6967, 6969, 6971, 6973, 6975, 6977, 6979, 6981, 6983, 6985, 6987, 6989, 6991, 6993, 6995, 6997, 6999, 7001, 7003, 7005, 7007, 7009, 7011, 7013, 7015, 7017, 7019, 7021, 7023, 7025, 7027, 7029, 7031, 7033, 7035, 7037, 7039, 7041, 7043, 7045, 7047, 7049, 7051, 7053, 7055, 7057, 7059, 7061, 7063, 7065, 7067, 7069, 7071, 7073, 7075, 7077, 7079, 7081, 7083, 7085, 7087, 7089, 7091, 7093, 7095, 7097, 7099, 7101, 7103, 7105, 7107, 7109, 7111, 7113, 7115, 7117, 7119, 7121, 7123, 7125, 7127, 7129, 7131, 7133, 7135, 7137, 7139, 7141, 7143, 7145, 7147, 7149, 7151, 7153, 7155, 7157, 7159, 7161, 7163, 7165, 7167, 7169, 7171, 7173, 7175, 7177, 7179, 7181, 7183, 7185, 7187, 7189, 7191, 7193, 7195, 7197, 7199, 7201, 7203, 7205, 7207, 7209, 7211, 7213, 7215, 7217, 7219, 7221, 7223, 7225, 7227, 7229, 7231, 7233, 7235, 7237, 7239, 7241, 7243, 7245, 7247, 7249, 7251, 7253, 7255, 7257, 7259, 7261, 7263, 7265, 7267, 7269, 7271, 7273, 7275, 7277, 7279, 7281, 7283, 7285, 7287, 7289, 7291, 7293, 7295, 7297, 7299, 7301, 7303, 7305, 7307, 7309, 7311, 7313, 7315, 7317, 7319, 7321, 7323, 7325, 7327, 7329, 7331, 7333, 7335, 7337, 7339, 7341, 7343, 7345, 7347, 7349, 7351, 7353, 7355, 7357, 7359, 7361, 7363, 7365, 7367, 7369, 7371, 7373, 7375, 7377, 7379, 7381, 7383, 7385, 7387, 7389, 7391, 7393, 7395, 7397, 7399, 7401, 7403, 7405, 7407, 7409, 7411, 7413, 7415, 7417, 7419, 7421, 7423, 7425, 7427, 7429, 7431, 7433, 7435, 7437, 7439, 7441, 7443, 7445, 7447, 7449, 7451, 7453, 7455, 7457, 7459, 7461, 7463, 7465, 7467, 7469, 7471, 7473, 7475, 7477, 7479, 7481, 7483, 7485, 7487, 7489, 7491, 7493, 7495, 7497, 7499, 7501, 7503, 7505, 7507, 7509, 7511, 7513, 7515, 7517, 7519, 7521, 7523, 7525, 7527, 7529, 7531, 7533, 7535, 7537, 7539, 7541, 7543, 7545, 7547, 7549, 7551, 7553, 7555, 7557, 7559, 7561, 7563, 7565, 7567, 7569, 7571, 7573, 7575, 7577, 7579, 7581, 7583, 7585, 7587, 7589, 7591, 7593, 7595, 7597, 7599, 7601, 7603, 7605, 7607, 7609, 7611, 7613, 7615, 7617, 7619, 7621, 7623, 7625, 7627, 7629, 7631, 7633, 7635, 7637, 7639, 7641, 7643, 7645, 7647, 7649, 7651, 7653, 7655, 7657, 7659, 7661, 7663, 7665, 7667, 7669, 7671, 7673, 7675, 7677, 7679, 7681, 7683, 7685, 7687, 7689, 7691, 7693, 7695, 7697, 7699, 7701, 7703, 7705, 7707, 7709, 7711, 7713, 7715, 7717, 7719, 7721, 7723, 7725, 7727, 7729, 7731, 7733, 7735, 7737, 7739, 7741, 7743, 7745, 7747, 7749, 7751, 7753, 7755, 7757, 7759, 7761, 7763, 7765, 7767, 7769, 7771, 7773, 7775, 7777, 7779, 7781, 7783, 7785, 7787, 7789, 7791, 7793, 7795, 7797, 7799, 7801, 7803, 7805, 7807, 7809, 7811, 7813, 7815, 7817, 7819, 7821, 7823, 7825, 7827, 7829, 7831, 7833, 7835, 7837, 7839, 7841, 7843, 7845, 7847, 7849, 7851, 7853, 7855, 7857, 7859, 7861, 7863, 7865, 7867, 7869, 7871, 7873, 7875, 7877, 7879, 7881, 7883, 7885, 7887, 7889, 7891, 7893, 7895, 7897, 7899, 7901, 7903, 7905, 7907, 7909, 7911, 7913, 7915, 7917, 7919, 7921, 7923, 7925, 7927, 7929, 7931, 7933, 7935, 7937, 7939, 7941, 7943, 7945, 7947, 7949, 7951, 7953, 7955, 7957, 7959, 7961, 7963, 7965, 7967, 7969, 7971, 7973, 7975, 7977, 7979, 7981, 7983, 7985, 7987, 7989, 7991, 7993, 7995, 7997, 7999, 8001, 8003, 8005, 8007, 8009, 8011, 8013, 8015, 8017, 8019, 8021, 8023, 8025, 8027, 8029, 8031, 8033, 8035, 8037, 8039, 8041, 8043, 8045, 8047, 8049, 8051, 8053, 8055, 8057, 8059, 8061, 8063, 8065, 8067, 8069, 8071, 8073, 8075, 8077, 8079, 8081, 8083, 8085, 8087, 8089, 8091, 8093, 8095, 8097, 8099, 8101, 8103, 8105, 8107, 8109, 8111, 8113, 8115, 8117, 8119, 8121, 8123, 8125, 8127, 8129, 8131, 8133, 8135, 8137, 8139, 8141, 8143, 8145, 8147, 8149, 8151, 8153, 8155, 8157, 8159, 8161, 8163, 8165, 8167, 8169, 8171, 8173, 8175, 8177, 8179, 8181, 8183, 8185, 8187, 8189, 8191, 8193, 8195, 8197, 8199, 8201, 8203, 8205, 8207, 8209, 8211, 8213, 8215, 8217, 8219, 8221, 8223, 8225, 8227, 8229, 8231, 8233, 8235, 8237, 8239, 8241, 8243, 8245, 8247, 8249, 8251, 8253, 8255, 8257, 8259, 8261, 8263, 8265, 8267, 8269, 8271, 8273, 8275, 8277, 8279, 8281, 8283, 8285, 8287, 8289, 8291, 8293, 8295, 8297, 8299, 8301, 8303, 8305, 8307, 8309, 8311, 8313, 8315, 8317, 8319, 8321, 8323, 8325, 8327, 8329, 8331, 8333, 8335, 8337, 8339, 8341, 8343, 8345, 8347, 8349, 8351, 8353, 8355, 8357, 8359, 8361, 8363, 8365, 8367, 8369, 8371, 8373, 8375, 8377, 8379, 8381, 8383, 8385, 8387, 8389, 8391, 8393, 8395, 8397, 8399, 8401, 8403, 8405, 8407, 8409, 8411, 8413, 8415, 8417, 8419, 8421, 8423, 8425, 8427, 8429, 8431, 8433, 8435, 8437, 8439, 8441, 8443, 8445, 8447, 8449, 8451, 8453, 8455, 8457, 8459, 8461, 8463, 8465, 8467, 8469, 8471, 8473, 8475, 8477, 8479, 8481, 8483, 8485, 8487, 8489, 8491, 8493, 8495, 8497, 8499, 8501, 8503, 8505, 8507, 8509, 8511, 8513, 8515, 8517, 8519, 8521, 8523, 8525, 8527, 8529, 8531, 8533, 8535, 8537, 8539, 8541, 8543, 8545, 8547, 8549, 8551, 8553, 8555, 8557, 8559, 8561, 8563, 8565, 8567, 8569, 8571, 8573, 8575, 8577, 8579, 8581, 8583, 8585, 8587, 8589, 8591, 8593, 8595, 8597, 8599, 8601, 8603, 8605, 8607, 8609, 8611, 8613, 8615, 8617, 8619, 8621, 8623, 8625, 8627, 8629, 8631, 8633, 8635, 8637, 8639, 8641, 8643, 8645, 8647, 8649, 8651, 8653, 8655, 8657, 8659, 8661, 8663, 8665, 8667, 8669, 8671, 8673, 8675, 8677, 8679, 8681, 8683, 8685, 8687, 8689, 8691, 8693, 8695, 8697, 8699, 8701, 8703, 8705, 8707, 8709, 8711, 8713, 8715, 8717, 8719, 8721, 8723, 8725, 8727, 8729, 8731, 8733, 8735, 8737, 8739, 8741, 8743, 8745, 8747, 8749, 8751, 8753, 8755, 8757, 8759, 8761, 8763, 8765, 8767, 8769, 8771, 8773, 8775, 8777, 8779, 8781, 8783, 8785, 8787, 8789, 8791, 8793, 8795, 8797, 8799, 8801, 8803, 8805, 8807, 8809, 8811, 8813, 8815, 8817, 8819, 8821, 8823, 8825, 8827, 8829, 8831, 8833, 8835, 8837, 8839, 8841, 8843, 8845, 8847, 8849, 8851, 8853, 8855, 8857, 8859, 8861, 8863, 8865, 8867, 8869, 8871, 8873, 8875, 8877, 8879, 8881, 8883, 8885, 8887, 8889, 8891, 8893, 8895, 8897, 8899, 8901, 8903, 8905, 8907, 8909, 8911, 8913, 8915, 8917, 8919, 8921, 8923, 8925, 8927, 8929, 8931, 8933, 8935, 8937, 8939, 8941, 8943, 8945, 8947, 8949, 8951, 8953, 8955, 8957, 8959, 8961, 8963, 8965, 8967, 8969, 8971, 8973, 8975, 8977, 8979, 8981, 8983, 8985, 8987, 8989, 8991, 8993, 8995, 8997, 8999, 9001, 9003, 9005, 9007, 9009, 9011, 9013, 9015, 9017, 9019, 9021, 9023, 9025, 9027, 9029, 9031, 9033, 9035, 9037, 9039, 9041, 9043, 9045, 9047, 9049, 9051, 9053, 9055, 9057, 9059, 9061, 9063, 9065, 9067, 9069, 9071, 9073, 9075, 9077, 9079, 9081, 9083, 9085, 9087, 9089, 9091, 9093, 9095, 9097, 9099, 9101, 9103, 9105, 9107, 9109, 9111, 9113, 9115, 9117, 9119, 9121, 9123, 9125, 9127, 9129, 9131, 9133, 9135, 9137, 9139, 9141, 9143, 9145, 9147, 9149, 9151, 9153, 9155, 9157, 9159, 9161, 9163, 9165, 9167, 9169, 9171, 9173, 9175, 9177, 9179, 9181, 9183, 9185, 9187, 9189, 9191, 9193, 9195, 9197, 9199, 9201, 9203, 9205, 9207, 9209, 9211, 9213, 9215, 9217, 9219, 9221, 9223, 9225, 9227, 9229, 9231, 9233, 9235, 9237, 9239, 9241, 9243, 9245, 9247, 9249, 9251, 9253, 9255, 9257, 9259, 9261, 9263, 9265, 9267, 9269, 9271, 9273, 9275, 9277, 9279, 9281, 9283, 9285, 9287, 9289, 9291, 9293, 9295, 9297, 9299, 9301, 9303, 9305, 9307, 9309, 9311, 9313, 9315, 9317, 9319, 9321, 9323, 9325, 9327, 9329, 9331, 9333, 9335, 9337, 9339, 9341, 9343, 9345, 9347, 9349, 9351, 9353, 9355, 9357, 9359, 9361, 9363, 9365, 9367, 9369, 9371, 9373, 9375, 9377, 9379, 9381, 9383, 9385, 9387, 9389, 9391, 9393, 9395, 9397, 9399, 9401, 9403, 9405, 9407, 9409, 9411, 9413, 9415, 9417, 9419, 9421, 9423, 9425, 9427, 9429, 9431, 9433, 9435, 9437, 9439, 9441, 9443, 9445, 9447, 9449, 9451, 9453, 9455, 9457, 9459, 9461, 9463, 9465, 9467, 9469, 9471, 9473, 9475, 9477, 9479, 9481, 9483, 9485, 9487, 9489, 9491, 9493, 9495, 9497, 9499, 9501, 9503, 9505, 9507, 9509, 9511, 9513, 9515, 9517, 9519, 9521, 9523, 9525, 9527, 9529, 9531, 9533, 9535, 9537, 9539, 9541, 9543, 9545, 9547, 9549, 9551, 9553, 9555, 9557, 9559, 9561, 9563, 9565, 9567, 9569, 9571, 9573, 9575, 9577, 9579, 9581, 9583, 9585, 9587, 9589, 9591, 9593, 9595, 9597, 9599, 9601, 9603, 9605, 9607, 9609, 9611, 9613, 9615, 9617, 9619, 9621, 9623, 9625, 9627, 9629, 9631, 9633, 9635, 9637, 9639, 9641, 9643, 9645, 9647, 9649, 9651, 9653, 9655, 9657, 9659, 9661, 9663, 9665, 9667, 9669, 9671, 9673, 9675, 9677, 9679, 9681, 9683, 9685, 9687, 9689, 9691, 9693, 9695, 9697, 9699, 9701, 9703, 9705, 9707, 9709, 9711, 9713, 9715, 9717, 9719, 9721, 9723, 9725, 9727, 9729, 9731, 9733, 9735, 9737, 9739, 9741, 9743, 9745, 9747, 9749, 9751, 9753, 9755, 9757, 9759, 9761, 9763, 9765, 9767, 9769, 9771, 9773, 9775, 9777, 9779, 9781, 9783, 9785, 9787, 9789, 9791, 9793, 9795, 9797, 9799, 9801, 9803, 9805, 9807, 9809, 9811, 9813, 9815, 9817, 9819, 9821, 9823, 9825, 9827, 9829, 9831, 9833, 9835, 9837, 9839, 9841, 9843, 9845, 9847, 9849, 9851, 9853, 9855, 9857, 9859, 9861, 9863, 9865, 9867, 9869, 9871, 9873, 9875, 9877, 9879, 9881, 9883, 9885, 9887, 9889, 9891, 9893, 9895, 9897, 9899, 9901, 9903, 9905, 9907, 9909, 9911, 9913, 9915, 9917, 9919, 9921, 9923, 9925, 9927, 9929, 9931, 9933, 9935, 9937, 9939, 9941, 9943, 9945, 9947, 9949, 9951, 9953, 9955, 9957, 9959, 9961, 9963, 9965, 9967, 9969, 9971, 9973, 9975, 9977, 9979, 9981, 9983, 9985, 9987, 9989, 9991, 9993, 9995, 9997, 9999]\n",
            "Time Taken 0.004693746566772461\n"
          ]
        }
      ]
    },
    {
      "cell_type": "code",
      "source": [
        "\n",
        "nums=list(range(1,10000))\n",
        "start_time=time.time()\n",
        "\n",
        "print('Even',[i for i in nums if i%2==0])\n",
        "print('Odd',[i for i in nums if i%2!=0])\n",
        "\n",
        "\n",
        "\n",
        "end_time=time.time()\n",
        "print('Time Taken',end_time-start_time)"
      ],
      "metadata": {
        "colab": {
          "base_uri": "https://localhost:8080/"
        },
        "id": "DqBHX2_B6Zos",
        "outputId": "126e8448-ae55-4dfe-edda-67a748781c1e"
      },
      "id": "DqBHX2_B6Zos",
      "execution_count": null,
      "outputs": [
        {
          "output_type": "stream",
          "name": "stdout",
          "text": [
            "Even [2, 4, 6, 8, 10, 12, 14, 16, 18, 20, 22, 24, 26, 28, 30, 32, 34, 36, 38, 40, 42, 44, 46, 48, 50, 52, 54, 56, 58, 60, 62, 64, 66, 68, 70, 72, 74, 76, 78, 80, 82, 84, 86, 88, 90, 92, 94, 96, 98, 100, 102, 104, 106, 108, 110, 112, 114, 116, 118, 120, 122, 124, 126, 128, 130, 132, 134, 136, 138, 140, 142, 144, 146, 148, 150, 152, 154, 156, 158, 160, 162, 164, 166, 168, 170, 172, 174, 176, 178, 180, 182, 184, 186, 188, 190, 192, 194, 196, 198, 200, 202, 204, 206, 208, 210, 212, 214, 216, 218, 220, 222, 224, 226, 228, 230, 232, 234, 236, 238, 240, 242, 244, 246, 248, 250, 252, 254, 256, 258, 260, 262, 264, 266, 268, 270, 272, 274, 276, 278, 280, 282, 284, 286, 288, 290, 292, 294, 296, 298, 300, 302, 304, 306, 308, 310, 312, 314, 316, 318, 320, 322, 324, 326, 328, 330, 332, 334, 336, 338, 340, 342, 344, 346, 348, 350, 352, 354, 356, 358, 360, 362, 364, 366, 368, 370, 372, 374, 376, 378, 380, 382, 384, 386, 388, 390, 392, 394, 396, 398, 400, 402, 404, 406, 408, 410, 412, 414, 416, 418, 420, 422, 424, 426, 428, 430, 432, 434, 436, 438, 440, 442, 444, 446, 448, 450, 452, 454, 456, 458, 460, 462, 464, 466, 468, 470, 472, 474, 476, 478, 480, 482, 484, 486, 488, 490, 492, 494, 496, 498, 500, 502, 504, 506, 508, 510, 512, 514, 516, 518, 520, 522, 524, 526, 528, 530, 532, 534, 536, 538, 540, 542, 544, 546, 548, 550, 552, 554, 556, 558, 560, 562, 564, 566, 568, 570, 572, 574, 576, 578, 580, 582, 584, 586, 588, 590, 592, 594, 596, 598, 600, 602, 604, 606, 608, 610, 612, 614, 616, 618, 620, 622, 624, 626, 628, 630, 632, 634, 636, 638, 640, 642, 644, 646, 648, 650, 652, 654, 656, 658, 660, 662, 664, 666, 668, 670, 672, 674, 676, 678, 680, 682, 684, 686, 688, 690, 692, 694, 696, 698, 700, 702, 704, 706, 708, 710, 712, 714, 716, 718, 720, 722, 724, 726, 728, 730, 732, 734, 736, 738, 740, 742, 744, 746, 748, 750, 752, 754, 756, 758, 760, 762, 764, 766, 768, 770, 772, 774, 776, 778, 780, 782, 784, 786, 788, 790, 792, 794, 796, 798, 800, 802, 804, 806, 808, 810, 812, 814, 816, 818, 820, 822, 824, 826, 828, 830, 832, 834, 836, 838, 840, 842, 844, 846, 848, 850, 852, 854, 856, 858, 860, 862, 864, 866, 868, 870, 872, 874, 876, 878, 880, 882, 884, 886, 888, 890, 892, 894, 896, 898, 900, 902, 904, 906, 908, 910, 912, 914, 916, 918, 920, 922, 924, 926, 928, 930, 932, 934, 936, 938, 940, 942, 944, 946, 948, 950, 952, 954, 956, 958, 960, 962, 964, 966, 968, 970, 972, 974, 976, 978, 980, 982, 984, 986, 988, 990, 992, 994, 996, 998, 1000, 1002, 1004, 1006, 1008, 1010, 1012, 1014, 1016, 1018, 1020, 1022, 1024, 1026, 1028, 1030, 1032, 1034, 1036, 1038, 1040, 1042, 1044, 1046, 1048, 1050, 1052, 1054, 1056, 1058, 1060, 1062, 1064, 1066, 1068, 1070, 1072, 1074, 1076, 1078, 1080, 1082, 1084, 1086, 1088, 1090, 1092, 1094, 1096, 1098, 1100, 1102, 1104, 1106, 1108, 1110, 1112, 1114, 1116, 1118, 1120, 1122, 1124, 1126, 1128, 1130, 1132, 1134, 1136, 1138, 1140, 1142, 1144, 1146, 1148, 1150, 1152, 1154, 1156, 1158, 1160, 1162, 1164, 1166, 1168, 1170, 1172, 1174, 1176, 1178, 1180, 1182, 1184, 1186, 1188, 1190, 1192, 1194, 1196, 1198, 1200, 1202, 1204, 1206, 1208, 1210, 1212, 1214, 1216, 1218, 1220, 1222, 1224, 1226, 1228, 1230, 1232, 1234, 1236, 1238, 1240, 1242, 1244, 1246, 1248, 1250, 1252, 1254, 1256, 1258, 1260, 1262, 1264, 1266, 1268, 1270, 1272, 1274, 1276, 1278, 1280, 1282, 1284, 1286, 1288, 1290, 1292, 1294, 1296, 1298, 1300, 1302, 1304, 1306, 1308, 1310, 1312, 1314, 1316, 1318, 1320, 1322, 1324, 1326, 1328, 1330, 1332, 1334, 1336, 1338, 1340, 1342, 1344, 1346, 1348, 1350, 1352, 1354, 1356, 1358, 1360, 1362, 1364, 1366, 1368, 1370, 1372, 1374, 1376, 1378, 1380, 1382, 1384, 1386, 1388, 1390, 1392, 1394, 1396, 1398, 1400, 1402, 1404, 1406, 1408, 1410, 1412, 1414, 1416, 1418, 1420, 1422, 1424, 1426, 1428, 1430, 1432, 1434, 1436, 1438, 1440, 1442, 1444, 1446, 1448, 1450, 1452, 1454, 1456, 1458, 1460, 1462, 1464, 1466, 1468, 1470, 1472, 1474, 1476, 1478, 1480, 1482, 1484, 1486, 1488, 1490, 1492, 1494, 1496, 1498, 1500, 1502, 1504, 1506, 1508, 1510, 1512, 1514, 1516, 1518, 1520, 1522, 1524, 1526, 1528, 1530, 1532, 1534, 1536, 1538, 1540, 1542, 1544, 1546, 1548, 1550, 1552, 1554, 1556, 1558, 1560, 1562, 1564, 1566, 1568, 1570, 1572, 1574, 1576, 1578, 1580, 1582, 1584, 1586, 1588, 1590, 1592, 1594, 1596, 1598, 1600, 1602, 1604, 1606, 1608, 1610, 1612, 1614, 1616, 1618, 1620, 1622, 1624, 1626, 1628, 1630, 1632, 1634, 1636, 1638, 1640, 1642, 1644, 1646, 1648, 1650, 1652, 1654, 1656, 1658, 1660, 1662, 1664, 1666, 1668, 1670, 1672, 1674, 1676, 1678, 1680, 1682, 1684, 1686, 1688, 1690, 1692, 1694, 1696, 1698, 1700, 1702, 1704, 1706, 1708, 1710, 1712, 1714, 1716, 1718, 1720, 1722, 1724, 1726, 1728, 1730, 1732, 1734, 1736, 1738, 1740, 1742, 1744, 1746, 1748, 1750, 1752, 1754, 1756, 1758, 1760, 1762, 1764, 1766, 1768, 1770, 1772, 1774, 1776, 1778, 1780, 1782, 1784, 1786, 1788, 1790, 1792, 1794, 1796, 1798, 1800, 1802, 1804, 1806, 1808, 1810, 1812, 1814, 1816, 1818, 1820, 1822, 1824, 1826, 1828, 1830, 1832, 1834, 1836, 1838, 1840, 1842, 1844, 1846, 1848, 1850, 1852, 1854, 1856, 1858, 1860, 1862, 1864, 1866, 1868, 1870, 1872, 1874, 1876, 1878, 1880, 1882, 1884, 1886, 1888, 1890, 1892, 1894, 1896, 1898, 1900, 1902, 1904, 1906, 1908, 1910, 1912, 1914, 1916, 1918, 1920, 1922, 1924, 1926, 1928, 1930, 1932, 1934, 1936, 1938, 1940, 1942, 1944, 1946, 1948, 1950, 1952, 1954, 1956, 1958, 1960, 1962, 1964, 1966, 1968, 1970, 1972, 1974, 1976, 1978, 1980, 1982, 1984, 1986, 1988, 1990, 1992, 1994, 1996, 1998, 2000, 2002, 2004, 2006, 2008, 2010, 2012, 2014, 2016, 2018, 2020, 2022, 2024, 2026, 2028, 2030, 2032, 2034, 2036, 2038, 2040, 2042, 2044, 2046, 2048, 2050, 2052, 2054, 2056, 2058, 2060, 2062, 2064, 2066, 2068, 2070, 2072, 2074, 2076, 2078, 2080, 2082, 2084, 2086, 2088, 2090, 2092, 2094, 2096, 2098, 2100, 2102, 2104, 2106, 2108, 2110, 2112, 2114, 2116, 2118, 2120, 2122, 2124, 2126, 2128, 2130, 2132, 2134, 2136, 2138, 2140, 2142, 2144, 2146, 2148, 2150, 2152, 2154, 2156, 2158, 2160, 2162, 2164, 2166, 2168, 2170, 2172, 2174, 2176, 2178, 2180, 2182, 2184, 2186, 2188, 2190, 2192, 2194, 2196, 2198, 2200, 2202, 2204, 2206, 2208, 2210, 2212, 2214, 2216, 2218, 2220, 2222, 2224, 2226, 2228, 2230, 2232, 2234, 2236, 2238, 2240, 2242, 2244, 2246, 2248, 2250, 2252, 2254, 2256, 2258, 2260, 2262, 2264, 2266, 2268, 2270, 2272, 2274, 2276, 2278, 2280, 2282, 2284, 2286, 2288, 2290, 2292, 2294, 2296, 2298, 2300, 2302, 2304, 2306, 2308, 2310, 2312, 2314, 2316, 2318, 2320, 2322, 2324, 2326, 2328, 2330, 2332, 2334, 2336, 2338, 2340, 2342, 2344, 2346, 2348, 2350, 2352, 2354, 2356, 2358, 2360, 2362, 2364, 2366, 2368, 2370, 2372, 2374, 2376, 2378, 2380, 2382, 2384, 2386, 2388, 2390, 2392, 2394, 2396, 2398, 2400, 2402, 2404, 2406, 2408, 2410, 2412, 2414, 2416, 2418, 2420, 2422, 2424, 2426, 2428, 2430, 2432, 2434, 2436, 2438, 2440, 2442, 2444, 2446, 2448, 2450, 2452, 2454, 2456, 2458, 2460, 2462, 2464, 2466, 2468, 2470, 2472, 2474, 2476, 2478, 2480, 2482, 2484, 2486, 2488, 2490, 2492, 2494, 2496, 2498, 2500, 2502, 2504, 2506, 2508, 2510, 2512, 2514, 2516, 2518, 2520, 2522, 2524, 2526, 2528, 2530, 2532, 2534, 2536, 2538, 2540, 2542, 2544, 2546, 2548, 2550, 2552, 2554, 2556, 2558, 2560, 2562, 2564, 2566, 2568, 2570, 2572, 2574, 2576, 2578, 2580, 2582, 2584, 2586, 2588, 2590, 2592, 2594, 2596, 2598, 2600, 2602, 2604, 2606, 2608, 2610, 2612, 2614, 2616, 2618, 2620, 2622, 2624, 2626, 2628, 2630, 2632, 2634, 2636, 2638, 2640, 2642, 2644, 2646, 2648, 2650, 2652, 2654, 2656, 2658, 2660, 2662, 2664, 2666, 2668, 2670, 2672, 2674, 2676, 2678, 2680, 2682, 2684, 2686, 2688, 2690, 2692, 2694, 2696, 2698, 2700, 2702, 2704, 2706, 2708, 2710, 2712, 2714, 2716, 2718, 2720, 2722, 2724, 2726, 2728, 2730, 2732, 2734, 2736, 2738, 2740, 2742, 2744, 2746, 2748, 2750, 2752, 2754, 2756, 2758, 2760, 2762, 2764, 2766, 2768, 2770, 2772, 2774, 2776, 2778, 2780, 2782, 2784, 2786, 2788, 2790, 2792, 2794, 2796, 2798, 2800, 2802, 2804, 2806, 2808, 2810, 2812, 2814, 2816, 2818, 2820, 2822, 2824, 2826, 2828, 2830, 2832, 2834, 2836, 2838, 2840, 2842, 2844, 2846, 2848, 2850, 2852, 2854, 2856, 2858, 2860, 2862, 2864, 2866, 2868, 2870, 2872, 2874, 2876, 2878, 2880, 2882, 2884, 2886, 2888, 2890, 2892, 2894, 2896, 2898, 2900, 2902, 2904, 2906, 2908, 2910, 2912, 2914, 2916, 2918, 2920, 2922, 2924, 2926, 2928, 2930, 2932, 2934, 2936, 2938, 2940, 2942, 2944, 2946, 2948, 2950, 2952, 2954, 2956, 2958, 2960, 2962, 2964, 2966, 2968, 2970, 2972, 2974, 2976, 2978, 2980, 2982, 2984, 2986, 2988, 2990, 2992, 2994, 2996, 2998, 3000, 3002, 3004, 3006, 3008, 3010, 3012, 3014, 3016, 3018, 3020, 3022, 3024, 3026, 3028, 3030, 3032, 3034, 3036, 3038, 3040, 3042, 3044, 3046, 3048, 3050, 3052, 3054, 3056, 3058, 3060, 3062, 3064, 3066, 3068, 3070, 3072, 3074, 3076, 3078, 3080, 3082, 3084, 3086, 3088, 3090, 3092, 3094, 3096, 3098, 3100, 3102, 3104, 3106, 3108, 3110, 3112, 3114, 3116, 3118, 3120, 3122, 3124, 3126, 3128, 3130, 3132, 3134, 3136, 3138, 3140, 3142, 3144, 3146, 3148, 3150, 3152, 3154, 3156, 3158, 3160, 3162, 3164, 3166, 3168, 3170, 3172, 3174, 3176, 3178, 3180, 3182, 3184, 3186, 3188, 3190, 3192, 3194, 3196, 3198, 3200, 3202, 3204, 3206, 3208, 3210, 3212, 3214, 3216, 3218, 3220, 3222, 3224, 3226, 3228, 3230, 3232, 3234, 3236, 3238, 3240, 3242, 3244, 3246, 3248, 3250, 3252, 3254, 3256, 3258, 3260, 3262, 3264, 3266, 3268, 3270, 3272, 3274, 3276, 3278, 3280, 3282, 3284, 3286, 3288, 3290, 3292, 3294, 3296, 3298, 3300, 3302, 3304, 3306, 3308, 3310, 3312, 3314, 3316, 3318, 3320, 3322, 3324, 3326, 3328, 3330, 3332, 3334, 3336, 3338, 3340, 3342, 3344, 3346, 3348, 3350, 3352, 3354, 3356, 3358, 3360, 3362, 3364, 3366, 3368, 3370, 3372, 3374, 3376, 3378, 3380, 3382, 3384, 3386, 3388, 3390, 3392, 3394, 3396, 3398, 3400, 3402, 3404, 3406, 3408, 3410, 3412, 3414, 3416, 3418, 3420, 3422, 3424, 3426, 3428, 3430, 3432, 3434, 3436, 3438, 3440, 3442, 3444, 3446, 3448, 3450, 3452, 3454, 3456, 3458, 3460, 3462, 3464, 3466, 3468, 3470, 3472, 3474, 3476, 3478, 3480, 3482, 3484, 3486, 3488, 3490, 3492, 3494, 3496, 3498, 3500, 3502, 3504, 3506, 3508, 3510, 3512, 3514, 3516, 3518, 3520, 3522, 3524, 3526, 3528, 3530, 3532, 3534, 3536, 3538, 3540, 3542, 3544, 3546, 3548, 3550, 3552, 3554, 3556, 3558, 3560, 3562, 3564, 3566, 3568, 3570, 3572, 3574, 3576, 3578, 3580, 3582, 3584, 3586, 3588, 3590, 3592, 3594, 3596, 3598, 3600, 3602, 3604, 3606, 3608, 3610, 3612, 3614, 3616, 3618, 3620, 3622, 3624, 3626, 3628, 3630, 3632, 3634, 3636, 3638, 3640, 3642, 3644, 3646, 3648, 3650, 3652, 3654, 3656, 3658, 3660, 3662, 3664, 3666, 3668, 3670, 3672, 3674, 3676, 3678, 3680, 3682, 3684, 3686, 3688, 3690, 3692, 3694, 3696, 3698, 3700, 3702, 3704, 3706, 3708, 3710, 3712, 3714, 3716, 3718, 3720, 3722, 3724, 3726, 3728, 3730, 3732, 3734, 3736, 3738, 3740, 3742, 3744, 3746, 3748, 3750, 3752, 3754, 3756, 3758, 3760, 3762, 3764, 3766, 3768, 3770, 3772, 3774, 3776, 3778, 3780, 3782, 3784, 3786, 3788, 3790, 3792, 3794, 3796, 3798, 3800, 3802, 3804, 3806, 3808, 3810, 3812, 3814, 3816, 3818, 3820, 3822, 3824, 3826, 3828, 3830, 3832, 3834, 3836, 3838, 3840, 3842, 3844, 3846, 3848, 3850, 3852, 3854, 3856, 3858, 3860, 3862, 3864, 3866, 3868, 3870, 3872, 3874, 3876, 3878, 3880, 3882, 3884, 3886, 3888, 3890, 3892, 3894, 3896, 3898, 3900, 3902, 3904, 3906, 3908, 3910, 3912, 3914, 3916, 3918, 3920, 3922, 3924, 3926, 3928, 3930, 3932, 3934, 3936, 3938, 3940, 3942, 3944, 3946, 3948, 3950, 3952, 3954, 3956, 3958, 3960, 3962, 3964, 3966, 3968, 3970, 3972, 3974, 3976, 3978, 3980, 3982, 3984, 3986, 3988, 3990, 3992, 3994, 3996, 3998, 4000, 4002, 4004, 4006, 4008, 4010, 4012, 4014, 4016, 4018, 4020, 4022, 4024, 4026, 4028, 4030, 4032, 4034, 4036, 4038, 4040, 4042, 4044, 4046, 4048, 4050, 4052, 4054, 4056, 4058, 4060, 4062, 4064, 4066, 4068, 4070, 4072, 4074, 4076, 4078, 4080, 4082, 4084, 4086, 4088, 4090, 4092, 4094, 4096, 4098, 4100, 4102, 4104, 4106, 4108, 4110, 4112, 4114, 4116, 4118, 4120, 4122, 4124, 4126, 4128, 4130, 4132, 4134, 4136, 4138, 4140, 4142, 4144, 4146, 4148, 4150, 4152, 4154, 4156, 4158, 4160, 4162, 4164, 4166, 4168, 4170, 4172, 4174, 4176, 4178, 4180, 4182, 4184, 4186, 4188, 4190, 4192, 4194, 4196, 4198, 4200, 4202, 4204, 4206, 4208, 4210, 4212, 4214, 4216, 4218, 4220, 4222, 4224, 4226, 4228, 4230, 4232, 4234, 4236, 4238, 4240, 4242, 4244, 4246, 4248, 4250, 4252, 4254, 4256, 4258, 4260, 4262, 4264, 4266, 4268, 4270, 4272, 4274, 4276, 4278, 4280, 4282, 4284, 4286, 4288, 4290, 4292, 4294, 4296, 4298, 4300, 4302, 4304, 4306, 4308, 4310, 4312, 4314, 4316, 4318, 4320, 4322, 4324, 4326, 4328, 4330, 4332, 4334, 4336, 4338, 4340, 4342, 4344, 4346, 4348, 4350, 4352, 4354, 4356, 4358, 4360, 4362, 4364, 4366, 4368, 4370, 4372, 4374, 4376, 4378, 4380, 4382, 4384, 4386, 4388, 4390, 4392, 4394, 4396, 4398, 4400, 4402, 4404, 4406, 4408, 4410, 4412, 4414, 4416, 4418, 4420, 4422, 4424, 4426, 4428, 4430, 4432, 4434, 4436, 4438, 4440, 4442, 4444, 4446, 4448, 4450, 4452, 4454, 4456, 4458, 4460, 4462, 4464, 4466, 4468, 4470, 4472, 4474, 4476, 4478, 4480, 4482, 4484, 4486, 4488, 4490, 4492, 4494, 4496, 4498, 4500, 4502, 4504, 4506, 4508, 4510, 4512, 4514, 4516, 4518, 4520, 4522, 4524, 4526, 4528, 4530, 4532, 4534, 4536, 4538, 4540, 4542, 4544, 4546, 4548, 4550, 4552, 4554, 4556, 4558, 4560, 4562, 4564, 4566, 4568, 4570, 4572, 4574, 4576, 4578, 4580, 4582, 4584, 4586, 4588, 4590, 4592, 4594, 4596, 4598, 4600, 4602, 4604, 4606, 4608, 4610, 4612, 4614, 4616, 4618, 4620, 4622, 4624, 4626, 4628, 4630, 4632, 4634, 4636, 4638, 4640, 4642, 4644, 4646, 4648, 4650, 4652, 4654, 4656, 4658, 4660, 4662, 4664, 4666, 4668, 4670, 4672, 4674, 4676, 4678, 4680, 4682, 4684, 4686, 4688, 4690, 4692, 4694, 4696, 4698, 4700, 4702, 4704, 4706, 4708, 4710, 4712, 4714, 4716, 4718, 4720, 4722, 4724, 4726, 4728, 4730, 4732, 4734, 4736, 4738, 4740, 4742, 4744, 4746, 4748, 4750, 4752, 4754, 4756, 4758, 4760, 4762, 4764, 4766, 4768, 4770, 4772, 4774, 4776, 4778, 4780, 4782, 4784, 4786, 4788, 4790, 4792, 4794, 4796, 4798, 4800, 4802, 4804, 4806, 4808, 4810, 4812, 4814, 4816, 4818, 4820, 4822, 4824, 4826, 4828, 4830, 4832, 4834, 4836, 4838, 4840, 4842, 4844, 4846, 4848, 4850, 4852, 4854, 4856, 4858, 4860, 4862, 4864, 4866, 4868, 4870, 4872, 4874, 4876, 4878, 4880, 4882, 4884, 4886, 4888, 4890, 4892, 4894, 4896, 4898, 4900, 4902, 4904, 4906, 4908, 4910, 4912, 4914, 4916, 4918, 4920, 4922, 4924, 4926, 4928, 4930, 4932, 4934, 4936, 4938, 4940, 4942, 4944, 4946, 4948, 4950, 4952, 4954, 4956, 4958, 4960, 4962, 4964, 4966, 4968, 4970, 4972, 4974, 4976, 4978, 4980, 4982, 4984, 4986, 4988, 4990, 4992, 4994, 4996, 4998, 5000, 5002, 5004, 5006, 5008, 5010, 5012, 5014, 5016, 5018, 5020, 5022, 5024, 5026, 5028, 5030, 5032, 5034, 5036, 5038, 5040, 5042, 5044, 5046, 5048, 5050, 5052, 5054, 5056, 5058, 5060, 5062, 5064, 5066, 5068, 5070, 5072, 5074, 5076, 5078, 5080, 5082, 5084, 5086, 5088, 5090, 5092, 5094, 5096, 5098, 5100, 5102, 5104, 5106, 5108, 5110, 5112, 5114, 5116, 5118, 5120, 5122, 5124, 5126, 5128, 5130, 5132, 5134, 5136, 5138, 5140, 5142, 5144, 5146, 5148, 5150, 5152, 5154, 5156, 5158, 5160, 5162, 5164, 5166, 5168, 5170, 5172, 5174, 5176, 5178, 5180, 5182, 5184, 5186, 5188, 5190, 5192, 5194, 5196, 5198, 5200, 5202, 5204, 5206, 5208, 5210, 5212, 5214, 5216, 5218, 5220, 5222, 5224, 5226, 5228, 5230, 5232, 5234, 5236, 5238, 5240, 5242, 5244, 5246, 5248, 5250, 5252, 5254, 5256, 5258, 5260, 5262, 5264, 5266, 5268, 5270, 5272, 5274, 5276, 5278, 5280, 5282, 5284, 5286, 5288, 5290, 5292, 5294, 5296, 5298, 5300, 5302, 5304, 5306, 5308, 5310, 5312, 5314, 5316, 5318, 5320, 5322, 5324, 5326, 5328, 5330, 5332, 5334, 5336, 5338, 5340, 5342, 5344, 5346, 5348, 5350, 5352, 5354, 5356, 5358, 5360, 5362, 5364, 5366, 5368, 5370, 5372, 5374, 5376, 5378, 5380, 5382, 5384, 5386, 5388, 5390, 5392, 5394, 5396, 5398, 5400, 5402, 5404, 5406, 5408, 5410, 5412, 5414, 5416, 5418, 5420, 5422, 5424, 5426, 5428, 5430, 5432, 5434, 5436, 5438, 5440, 5442, 5444, 5446, 5448, 5450, 5452, 5454, 5456, 5458, 5460, 5462, 5464, 5466, 5468, 5470, 5472, 5474, 5476, 5478, 5480, 5482, 5484, 5486, 5488, 5490, 5492, 5494, 5496, 5498, 5500, 5502, 5504, 5506, 5508, 5510, 5512, 5514, 5516, 5518, 5520, 5522, 5524, 5526, 5528, 5530, 5532, 5534, 5536, 5538, 5540, 5542, 5544, 5546, 5548, 5550, 5552, 5554, 5556, 5558, 5560, 5562, 5564, 5566, 5568, 5570, 5572, 5574, 5576, 5578, 5580, 5582, 5584, 5586, 5588, 5590, 5592, 5594, 5596, 5598, 5600, 5602, 5604, 5606, 5608, 5610, 5612, 5614, 5616, 5618, 5620, 5622, 5624, 5626, 5628, 5630, 5632, 5634, 5636, 5638, 5640, 5642, 5644, 5646, 5648, 5650, 5652, 5654, 5656, 5658, 5660, 5662, 5664, 5666, 5668, 5670, 5672, 5674, 5676, 5678, 5680, 5682, 5684, 5686, 5688, 5690, 5692, 5694, 5696, 5698, 5700, 5702, 5704, 5706, 5708, 5710, 5712, 5714, 5716, 5718, 5720, 5722, 5724, 5726, 5728, 5730, 5732, 5734, 5736, 5738, 5740, 5742, 5744, 5746, 5748, 5750, 5752, 5754, 5756, 5758, 5760, 5762, 5764, 5766, 5768, 5770, 5772, 5774, 5776, 5778, 5780, 5782, 5784, 5786, 5788, 5790, 5792, 5794, 5796, 5798, 5800, 5802, 5804, 5806, 5808, 5810, 5812, 5814, 5816, 5818, 5820, 5822, 5824, 5826, 5828, 5830, 5832, 5834, 5836, 5838, 5840, 5842, 5844, 5846, 5848, 5850, 5852, 5854, 5856, 5858, 5860, 5862, 5864, 5866, 5868, 5870, 5872, 5874, 5876, 5878, 5880, 5882, 5884, 5886, 5888, 5890, 5892, 5894, 5896, 5898, 5900, 5902, 5904, 5906, 5908, 5910, 5912, 5914, 5916, 5918, 5920, 5922, 5924, 5926, 5928, 5930, 5932, 5934, 5936, 5938, 5940, 5942, 5944, 5946, 5948, 5950, 5952, 5954, 5956, 5958, 5960, 5962, 5964, 5966, 5968, 5970, 5972, 5974, 5976, 5978, 5980, 5982, 5984, 5986, 5988, 5990, 5992, 5994, 5996, 5998, 6000, 6002, 6004, 6006, 6008, 6010, 6012, 6014, 6016, 6018, 6020, 6022, 6024, 6026, 6028, 6030, 6032, 6034, 6036, 6038, 6040, 6042, 6044, 6046, 6048, 6050, 6052, 6054, 6056, 6058, 6060, 6062, 6064, 6066, 6068, 6070, 6072, 6074, 6076, 6078, 6080, 6082, 6084, 6086, 6088, 6090, 6092, 6094, 6096, 6098, 6100, 6102, 6104, 6106, 6108, 6110, 6112, 6114, 6116, 6118, 6120, 6122, 6124, 6126, 6128, 6130, 6132, 6134, 6136, 6138, 6140, 6142, 6144, 6146, 6148, 6150, 6152, 6154, 6156, 6158, 6160, 6162, 6164, 6166, 6168, 6170, 6172, 6174, 6176, 6178, 6180, 6182, 6184, 6186, 6188, 6190, 6192, 6194, 6196, 6198, 6200, 6202, 6204, 6206, 6208, 6210, 6212, 6214, 6216, 6218, 6220, 6222, 6224, 6226, 6228, 6230, 6232, 6234, 6236, 6238, 6240, 6242, 6244, 6246, 6248, 6250, 6252, 6254, 6256, 6258, 6260, 6262, 6264, 6266, 6268, 6270, 6272, 6274, 6276, 6278, 6280, 6282, 6284, 6286, 6288, 6290, 6292, 6294, 6296, 6298, 6300, 6302, 6304, 6306, 6308, 6310, 6312, 6314, 6316, 6318, 6320, 6322, 6324, 6326, 6328, 6330, 6332, 6334, 6336, 6338, 6340, 6342, 6344, 6346, 6348, 6350, 6352, 6354, 6356, 6358, 6360, 6362, 6364, 6366, 6368, 6370, 6372, 6374, 6376, 6378, 6380, 6382, 6384, 6386, 6388, 6390, 6392, 6394, 6396, 6398, 6400, 6402, 6404, 6406, 6408, 6410, 6412, 6414, 6416, 6418, 6420, 6422, 6424, 6426, 6428, 6430, 6432, 6434, 6436, 6438, 6440, 6442, 6444, 6446, 6448, 6450, 6452, 6454, 6456, 6458, 6460, 6462, 6464, 6466, 6468, 6470, 6472, 6474, 6476, 6478, 6480, 6482, 6484, 6486, 6488, 6490, 6492, 6494, 6496, 6498, 6500, 6502, 6504, 6506, 6508, 6510, 6512, 6514, 6516, 6518, 6520, 6522, 6524, 6526, 6528, 6530, 6532, 6534, 6536, 6538, 6540, 6542, 6544, 6546, 6548, 6550, 6552, 6554, 6556, 6558, 6560, 6562, 6564, 6566, 6568, 6570, 6572, 6574, 6576, 6578, 6580, 6582, 6584, 6586, 6588, 6590, 6592, 6594, 6596, 6598, 6600, 6602, 6604, 6606, 6608, 6610, 6612, 6614, 6616, 6618, 6620, 6622, 6624, 6626, 6628, 6630, 6632, 6634, 6636, 6638, 6640, 6642, 6644, 6646, 6648, 6650, 6652, 6654, 6656, 6658, 6660, 6662, 6664, 6666, 6668, 6670, 6672, 6674, 6676, 6678, 6680, 6682, 6684, 6686, 6688, 6690, 6692, 6694, 6696, 6698, 6700, 6702, 6704, 6706, 6708, 6710, 6712, 6714, 6716, 6718, 6720, 6722, 6724, 6726, 6728, 6730, 6732, 6734, 6736, 6738, 6740, 6742, 6744, 6746, 6748, 6750, 6752, 6754, 6756, 6758, 6760, 6762, 6764, 6766, 6768, 6770, 6772, 6774, 6776, 6778, 6780, 6782, 6784, 6786, 6788, 6790, 6792, 6794, 6796, 6798, 6800, 6802, 6804, 6806, 6808, 6810, 6812, 6814, 6816, 6818, 6820, 6822, 6824, 6826, 6828, 6830, 6832, 6834, 6836, 6838, 6840, 6842, 6844, 6846, 6848, 6850, 6852, 6854, 6856, 6858, 6860, 6862, 6864, 6866, 6868, 6870, 6872, 6874, 6876, 6878, 6880, 6882, 6884, 6886, 6888, 6890, 6892, 6894, 6896, 6898, 6900, 6902, 6904, 6906, 6908, 6910, 6912, 6914, 6916, 6918, 6920, 6922, 6924, 6926, 6928, 6930, 6932, 6934, 6936, 6938, 6940, 6942, 6944, 6946, 6948, 6950, 6952, 6954, 6956, 6958, 6960, 6962, 6964, 6966, 6968, 6970, 6972, 6974, 6976, 6978, 6980, 6982, 6984, 6986, 6988, 6990, 6992, 6994, 6996, 6998, 7000, 7002, 7004, 7006, 7008, 7010, 7012, 7014, 7016, 7018, 7020, 7022, 7024, 7026, 7028, 7030, 7032, 7034, 7036, 7038, 7040, 7042, 7044, 7046, 7048, 7050, 7052, 7054, 7056, 7058, 7060, 7062, 7064, 7066, 7068, 7070, 7072, 7074, 7076, 7078, 7080, 7082, 7084, 7086, 7088, 7090, 7092, 7094, 7096, 7098, 7100, 7102, 7104, 7106, 7108, 7110, 7112, 7114, 7116, 7118, 7120, 7122, 7124, 7126, 7128, 7130, 7132, 7134, 7136, 7138, 7140, 7142, 7144, 7146, 7148, 7150, 7152, 7154, 7156, 7158, 7160, 7162, 7164, 7166, 7168, 7170, 7172, 7174, 7176, 7178, 7180, 7182, 7184, 7186, 7188, 7190, 7192, 7194, 7196, 7198, 7200, 7202, 7204, 7206, 7208, 7210, 7212, 7214, 7216, 7218, 7220, 7222, 7224, 7226, 7228, 7230, 7232, 7234, 7236, 7238, 7240, 7242, 7244, 7246, 7248, 7250, 7252, 7254, 7256, 7258, 7260, 7262, 7264, 7266, 7268, 7270, 7272, 7274, 7276, 7278, 7280, 7282, 7284, 7286, 7288, 7290, 7292, 7294, 7296, 7298, 7300, 7302, 7304, 7306, 7308, 7310, 7312, 7314, 7316, 7318, 7320, 7322, 7324, 7326, 7328, 7330, 7332, 7334, 7336, 7338, 7340, 7342, 7344, 7346, 7348, 7350, 7352, 7354, 7356, 7358, 7360, 7362, 7364, 7366, 7368, 7370, 7372, 7374, 7376, 7378, 7380, 7382, 7384, 7386, 7388, 7390, 7392, 7394, 7396, 7398, 7400, 7402, 7404, 7406, 7408, 7410, 7412, 7414, 7416, 7418, 7420, 7422, 7424, 7426, 7428, 7430, 7432, 7434, 7436, 7438, 7440, 7442, 7444, 7446, 7448, 7450, 7452, 7454, 7456, 7458, 7460, 7462, 7464, 7466, 7468, 7470, 7472, 7474, 7476, 7478, 7480, 7482, 7484, 7486, 7488, 7490, 7492, 7494, 7496, 7498, 7500, 7502, 7504, 7506, 7508, 7510, 7512, 7514, 7516, 7518, 7520, 7522, 7524, 7526, 7528, 7530, 7532, 7534, 7536, 7538, 7540, 7542, 7544, 7546, 7548, 7550, 7552, 7554, 7556, 7558, 7560, 7562, 7564, 7566, 7568, 7570, 7572, 7574, 7576, 7578, 7580, 7582, 7584, 7586, 7588, 7590, 7592, 7594, 7596, 7598, 7600, 7602, 7604, 7606, 7608, 7610, 7612, 7614, 7616, 7618, 7620, 7622, 7624, 7626, 7628, 7630, 7632, 7634, 7636, 7638, 7640, 7642, 7644, 7646, 7648, 7650, 7652, 7654, 7656, 7658, 7660, 7662, 7664, 7666, 7668, 7670, 7672, 7674, 7676, 7678, 7680, 7682, 7684, 7686, 7688, 7690, 7692, 7694, 7696, 7698, 7700, 7702, 7704, 7706, 7708, 7710, 7712, 7714, 7716, 7718, 7720, 7722, 7724, 7726, 7728, 7730, 7732, 7734, 7736, 7738, 7740, 7742, 7744, 7746, 7748, 7750, 7752, 7754, 7756, 7758, 7760, 7762, 7764, 7766, 7768, 7770, 7772, 7774, 7776, 7778, 7780, 7782, 7784, 7786, 7788, 7790, 7792, 7794, 7796, 7798, 7800, 7802, 7804, 7806, 7808, 7810, 7812, 7814, 7816, 7818, 7820, 7822, 7824, 7826, 7828, 7830, 7832, 7834, 7836, 7838, 7840, 7842, 7844, 7846, 7848, 7850, 7852, 7854, 7856, 7858, 7860, 7862, 7864, 7866, 7868, 7870, 7872, 7874, 7876, 7878, 7880, 7882, 7884, 7886, 7888, 7890, 7892, 7894, 7896, 7898, 7900, 7902, 7904, 7906, 7908, 7910, 7912, 7914, 7916, 7918, 7920, 7922, 7924, 7926, 7928, 7930, 7932, 7934, 7936, 7938, 7940, 7942, 7944, 7946, 7948, 7950, 7952, 7954, 7956, 7958, 7960, 7962, 7964, 7966, 7968, 7970, 7972, 7974, 7976, 7978, 7980, 7982, 7984, 7986, 7988, 7990, 7992, 7994, 7996, 7998, 8000, 8002, 8004, 8006, 8008, 8010, 8012, 8014, 8016, 8018, 8020, 8022, 8024, 8026, 8028, 8030, 8032, 8034, 8036, 8038, 8040, 8042, 8044, 8046, 8048, 8050, 8052, 8054, 8056, 8058, 8060, 8062, 8064, 8066, 8068, 8070, 8072, 8074, 8076, 8078, 8080, 8082, 8084, 8086, 8088, 8090, 8092, 8094, 8096, 8098, 8100, 8102, 8104, 8106, 8108, 8110, 8112, 8114, 8116, 8118, 8120, 8122, 8124, 8126, 8128, 8130, 8132, 8134, 8136, 8138, 8140, 8142, 8144, 8146, 8148, 8150, 8152, 8154, 8156, 8158, 8160, 8162, 8164, 8166, 8168, 8170, 8172, 8174, 8176, 8178, 8180, 8182, 8184, 8186, 8188, 8190, 8192, 8194, 8196, 8198, 8200, 8202, 8204, 8206, 8208, 8210, 8212, 8214, 8216, 8218, 8220, 8222, 8224, 8226, 8228, 8230, 8232, 8234, 8236, 8238, 8240, 8242, 8244, 8246, 8248, 8250, 8252, 8254, 8256, 8258, 8260, 8262, 8264, 8266, 8268, 8270, 8272, 8274, 8276, 8278, 8280, 8282, 8284, 8286, 8288, 8290, 8292, 8294, 8296, 8298, 8300, 8302, 8304, 8306, 8308, 8310, 8312, 8314, 8316, 8318, 8320, 8322, 8324, 8326, 8328, 8330, 8332, 8334, 8336, 8338, 8340, 8342, 8344, 8346, 8348, 8350, 8352, 8354, 8356, 8358, 8360, 8362, 8364, 8366, 8368, 8370, 8372, 8374, 8376, 8378, 8380, 8382, 8384, 8386, 8388, 8390, 8392, 8394, 8396, 8398, 8400, 8402, 8404, 8406, 8408, 8410, 8412, 8414, 8416, 8418, 8420, 8422, 8424, 8426, 8428, 8430, 8432, 8434, 8436, 8438, 8440, 8442, 8444, 8446, 8448, 8450, 8452, 8454, 8456, 8458, 8460, 8462, 8464, 8466, 8468, 8470, 8472, 8474, 8476, 8478, 8480, 8482, 8484, 8486, 8488, 8490, 8492, 8494, 8496, 8498, 8500, 8502, 8504, 8506, 8508, 8510, 8512, 8514, 8516, 8518, 8520, 8522, 8524, 8526, 8528, 8530, 8532, 8534, 8536, 8538, 8540, 8542, 8544, 8546, 8548, 8550, 8552, 8554, 8556, 8558, 8560, 8562, 8564, 8566, 8568, 8570, 8572, 8574, 8576, 8578, 8580, 8582, 8584, 8586, 8588, 8590, 8592, 8594, 8596, 8598, 8600, 8602, 8604, 8606, 8608, 8610, 8612, 8614, 8616, 8618, 8620, 8622, 8624, 8626, 8628, 8630, 8632, 8634, 8636, 8638, 8640, 8642, 8644, 8646, 8648, 8650, 8652, 8654, 8656, 8658, 8660, 8662, 8664, 8666, 8668, 8670, 8672, 8674, 8676, 8678, 8680, 8682, 8684, 8686, 8688, 8690, 8692, 8694, 8696, 8698, 8700, 8702, 8704, 8706, 8708, 8710, 8712, 8714, 8716, 8718, 8720, 8722, 8724, 8726, 8728, 8730, 8732, 8734, 8736, 8738, 8740, 8742, 8744, 8746, 8748, 8750, 8752, 8754, 8756, 8758, 8760, 8762, 8764, 8766, 8768, 8770, 8772, 8774, 8776, 8778, 8780, 8782, 8784, 8786, 8788, 8790, 8792, 8794, 8796, 8798, 8800, 8802, 8804, 8806, 8808, 8810, 8812, 8814, 8816, 8818, 8820, 8822, 8824, 8826, 8828, 8830, 8832, 8834, 8836, 8838, 8840, 8842, 8844, 8846, 8848, 8850, 8852, 8854, 8856, 8858, 8860, 8862, 8864, 8866, 8868, 8870, 8872, 8874, 8876, 8878, 8880, 8882, 8884, 8886, 8888, 8890, 8892, 8894, 8896, 8898, 8900, 8902, 8904, 8906, 8908, 8910, 8912, 8914, 8916, 8918, 8920, 8922, 8924, 8926, 8928, 8930, 8932, 8934, 8936, 8938, 8940, 8942, 8944, 8946, 8948, 8950, 8952, 8954, 8956, 8958, 8960, 8962, 8964, 8966, 8968, 8970, 8972, 8974, 8976, 8978, 8980, 8982, 8984, 8986, 8988, 8990, 8992, 8994, 8996, 8998, 9000, 9002, 9004, 9006, 9008, 9010, 9012, 9014, 9016, 9018, 9020, 9022, 9024, 9026, 9028, 9030, 9032, 9034, 9036, 9038, 9040, 9042, 9044, 9046, 9048, 9050, 9052, 9054, 9056, 9058, 9060, 9062, 9064, 9066, 9068, 9070, 9072, 9074, 9076, 9078, 9080, 9082, 9084, 9086, 9088, 9090, 9092, 9094, 9096, 9098, 9100, 9102, 9104, 9106, 9108, 9110, 9112, 9114, 9116, 9118, 9120, 9122, 9124, 9126, 9128, 9130, 9132, 9134, 9136, 9138, 9140, 9142, 9144, 9146, 9148, 9150, 9152, 9154, 9156, 9158, 9160, 9162, 9164, 9166, 9168, 9170, 9172, 9174, 9176, 9178, 9180, 9182, 9184, 9186, 9188, 9190, 9192, 9194, 9196, 9198, 9200, 9202, 9204, 9206, 9208, 9210, 9212, 9214, 9216, 9218, 9220, 9222, 9224, 9226, 9228, 9230, 9232, 9234, 9236, 9238, 9240, 9242, 9244, 9246, 9248, 9250, 9252, 9254, 9256, 9258, 9260, 9262, 9264, 9266, 9268, 9270, 9272, 9274, 9276, 9278, 9280, 9282, 9284, 9286, 9288, 9290, 9292, 9294, 9296, 9298, 9300, 9302, 9304, 9306, 9308, 9310, 9312, 9314, 9316, 9318, 9320, 9322, 9324, 9326, 9328, 9330, 9332, 9334, 9336, 9338, 9340, 9342, 9344, 9346, 9348, 9350, 9352, 9354, 9356, 9358, 9360, 9362, 9364, 9366, 9368, 9370, 9372, 9374, 9376, 9378, 9380, 9382, 9384, 9386, 9388, 9390, 9392, 9394, 9396, 9398, 9400, 9402, 9404, 9406, 9408, 9410, 9412, 9414, 9416, 9418, 9420, 9422, 9424, 9426, 9428, 9430, 9432, 9434, 9436, 9438, 9440, 9442, 9444, 9446, 9448, 9450, 9452, 9454, 9456, 9458, 9460, 9462, 9464, 9466, 9468, 9470, 9472, 9474, 9476, 9478, 9480, 9482, 9484, 9486, 9488, 9490, 9492, 9494, 9496, 9498, 9500, 9502, 9504, 9506, 9508, 9510, 9512, 9514, 9516, 9518, 9520, 9522, 9524, 9526, 9528, 9530, 9532, 9534, 9536, 9538, 9540, 9542, 9544, 9546, 9548, 9550, 9552, 9554, 9556, 9558, 9560, 9562, 9564, 9566, 9568, 9570, 9572, 9574, 9576, 9578, 9580, 9582, 9584, 9586, 9588, 9590, 9592, 9594, 9596, 9598, 9600, 9602, 9604, 9606, 9608, 9610, 9612, 9614, 9616, 9618, 9620, 9622, 9624, 9626, 9628, 9630, 9632, 9634, 9636, 9638, 9640, 9642, 9644, 9646, 9648, 9650, 9652, 9654, 9656, 9658, 9660, 9662, 9664, 9666, 9668, 9670, 9672, 9674, 9676, 9678, 9680, 9682, 9684, 9686, 9688, 9690, 9692, 9694, 9696, 9698, 9700, 9702, 9704, 9706, 9708, 9710, 9712, 9714, 9716, 9718, 9720, 9722, 9724, 9726, 9728, 9730, 9732, 9734, 9736, 9738, 9740, 9742, 9744, 9746, 9748, 9750, 9752, 9754, 9756, 9758, 9760, 9762, 9764, 9766, 9768, 9770, 9772, 9774, 9776, 9778, 9780, 9782, 9784, 9786, 9788, 9790, 9792, 9794, 9796, 9798, 9800, 9802, 9804, 9806, 9808, 9810, 9812, 9814, 9816, 9818, 9820, 9822, 9824, 9826, 9828, 9830, 9832, 9834, 9836, 9838, 9840, 9842, 9844, 9846, 9848, 9850, 9852, 9854, 9856, 9858, 9860, 9862, 9864, 9866, 9868, 9870, 9872, 9874, 9876, 9878, 9880, 9882, 9884, 9886, 9888, 9890, 9892, 9894, 9896, 9898, 9900, 9902, 9904, 9906, 9908, 9910, 9912, 9914, 9916, 9918, 9920, 9922, 9924, 9926, 9928, 9930, 9932, 9934, 9936, 9938, 9940, 9942, 9944, 9946, 9948, 9950, 9952, 9954, 9956, 9958, 9960, 9962, 9964, 9966, 9968, 9970, 9972, 9974, 9976, 9978, 9980, 9982, 9984, 9986, 9988, 9990, 9992, 9994, 9996, 9998]\n",
            "Odd [1, 3, 5, 7, 9, 11, 13, 15, 17, 19, 21, 23, 25, 27, 29, 31, 33, 35, 37, 39, 41, 43, 45, 47, 49, 51, 53, 55, 57, 59, 61, 63, 65, 67, 69, 71, 73, 75, 77, 79, 81, 83, 85, 87, 89, 91, 93, 95, 97, 99, 101, 103, 105, 107, 109, 111, 113, 115, 117, 119, 121, 123, 125, 127, 129, 131, 133, 135, 137, 139, 141, 143, 145, 147, 149, 151, 153, 155, 157, 159, 161, 163, 165, 167, 169, 171, 173, 175, 177, 179, 181, 183, 185, 187, 189, 191, 193, 195, 197, 199, 201, 203, 205, 207, 209, 211, 213, 215, 217, 219, 221, 223, 225, 227, 229, 231, 233, 235, 237, 239, 241, 243, 245, 247, 249, 251, 253, 255, 257, 259, 261, 263, 265, 267, 269, 271, 273, 275, 277, 279, 281, 283, 285, 287, 289, 291, 293, 295, 297, 299, 301, 303, 305, 307, 309, 311, 313, 315, 317, 319, 321, 323, 325, 327, 329, 331, 333, 335, 337, 339, 341, 343, 345, 347, 349, 351, 353, 355, 357, 359, 361, 363, 365, 367, 369, 371, 373, 375, 377, 379, 381, 383, 385, 387, 389, 391, 393, 395, 397, 399, 401, 403, 405, 407, 409, 411, 413, 415, 417, 419, 421, 423, 425, 427, 429, 431, 433, 435, 437, 439, 441, 443, 445, 447, 449, 451, 453, 455, 457, 459, 461, 463, 465, 467, 469, 471, 473, 475, 477, 479, 481, 483, 485, 487, 489, 491, 493, 495, 497, 499, 501, 503, 505, 507, 509, 511, 513, 515, 517, 519, 521, 523, 525, 527, 529, 531, 533, 535, 537, 539, 541, 543, 545, 547, 549, 551, 553, 555, 557, 559, 561, 563, 565, 567, 569, 571, 573, 575, 577, 579, 581, 583, 585, 587, 589, 591, 593, 595, 597, 599, 601, 603, 605, 607, 609, 611, 613, 615, 617, 619, 621, 623, 625, 627, 629, 631, 633, 635, 637, 639, 641, 643, 645, 647, 649, 651, 653, 655, 657, 659, 661, 663, 665, 667, 669, 671, 673, 675, 677, 679, 681, 683, 685, 687, 689, 691, 693, 695, 697, 699, 701, 703, 705, 707, 709, 711, 713, 715, 717, 719, 721, 723, 725, 727, 729, 731, 733, 735, 737, 739, 741, 743, 745, 747, 749, 751, 753, 755, 757, 759, 761, 763, 765, 767, 769, 771, 773, 775, 777, 779, 781, 783, 785, 787, 789, 791, 793, 795, 797, 799, 801, 803, 805, 807, 809, 811, 813, 815, 817, 819, 821, 823, 825, 827, 829, 831, 833, 835, 837, 839, 841, 843, 845, 847, 849, 851, 853, 855, 857, 859, 861, 863, 865, 867, 869, 871, 873, 875, 877, 879, 881, 883, 885, 887, 889, 891, 893, 895, 897, 899, 901, 903, 905, 907, 909, 911, 913, 915, 917, 919, 921, 923, 925, 927, 929, 931, 933, 935, 937, 939, 941, 943, 945, 947, 949, 951, 953, 955, 957, 959, 961, 963, 965, 967, 969, 971, 973, 975, 977, 979, 981, 983, 985, 987, 989, 991, 993, 995, 997, 999, 1001, 1003, 1005, 1007, 1009, 1011, 1013, 1015, 1017, 1019, 1021, 1023, 1025, 1027, 1029, 1031, 1033, 1035, 1037, 1039, 1041, 1043, 1045, 1047, 1049, 1051, 1053, 1055, 1057, 1059, 1061, 1063, 1065, 1067, 1069, 1071, 1073, 1075, 1077, 1079, 1081, 1083, 1085, 1087, 1089, 1091, 1093, 1095, 1097, 1099, 1101, 1103, 1105, 1107, 1109, 1111, 1113, 1115, 1117, 1119, 1121, 1123, 1125, 1127, 1129, 1131, 1133, 1135, 1137, 1139, 1141, 1143, 1145, 1147, 1149, 1151, 1153, 1155, 1157, 1159, 1161, 1163, 1165, 1167, 1169, 1171, 1173, 1175, 1177, 1179, 1181, 1183, 1185, 1187, 1189, 1191, 1193, 1195, 1197, 1199, 1201, 1203, 1205, 1207, 1209, 1211, 1213, 1215, 1217, 1219, 1221, 1223, 1225, 1227, 1229, 1231, 1233, 1235, 1237, 1239, 1241, 1243, 1245, 1247, 1249, 1251, 1253, 1255, 1257, 1259, 1261, 1263, 1265, 1267, 1269, 1271, 1273, 1275, 1277, 1279, 1281, 1283, 1285, 1287, 1289, 1291, 1293, 1295, 1297, 1299, 1301, 1303, 1305, 1307, 1309, 1311, 1313, 1315, 1317, 1319, 1321, 1323, 1325, 1327, 1329, 1331, 1333, 1335, 1337, 1339, 1341, 1343, 1345, 1347, 1349, 1351, 1353, 1355, 1357, 1359, 1361, 1363, 1365, 1367, 1369, 1371, 1373, 1375, 1377, 1379, 1381, 1383, 1385, 1387, 1389, 1391, 1393, 1395, 1397, 1399, 1401, 1403, 1405, 1407, 1409, 1411, 1413, 1415, 1417, 1419, 1421, 1423, 1425, 1427, 1429, 1431, 1433, 1435, 1437, 1439, 1441, 1443, 1445, 1447, 1449, 1451, 1453, 1455, 1457, 1459, 1461, 1463, 1465, 1467, 1469, 1471, 1473, 1475, 1477, 1479, 1481, 1483, 1485, 1487, 1489, 1491, 1493, 1495, 1497, 1499, 1501, 1503, 1505, 1507, 1509, 1511, 1513, 1515, 1517, 1519, 1521, 1523, 1525, 1527, 1529, 1531, 1533, 1535, 1537, 1539, 1541, 1543, 1545, 1547, 1549, 1551, 1553, 1555, 1557, 1559, 1561, 1563, 1565, 1567, 1569, 1571, 1573, 1575, 1577, 1579, 1581, 1583, 1585, 1587, 1589, 1591, 1593, 1595, 1597, 1599, 1601, 1603, 1605, 1607, 1609, 1611, 1613, 1615, 1617, 1619, 1621, 1623, 1625, 1627, 1629, 1631, 1633, 1635, 1637, 1639, 1641, 1643, 1645, 1647, 1649, 1651, 1653, 1655, 1657, 1659, 1661, 1663, 1665, 1667, 1669, 1671, 1673, 1675, 1677, 1679, 1681, 1683, 1685, 1687, 1689, 1691, 1693, 1695, 1697, 1699, 1701, 1703, 1705, 1707, 1709, 1711, 1713, 1715, 1717, 1719, 1721, 1723, 1725, 1727, 1729, 1731, 1733, 1735, 1737, 1739, 1741, 1743, 1745, 1747, 1749, 1751, 1753, 1755, 1757, 1759, 1761, 1763, 1765, 1767, 1769, 1771, 1773, 1775, 1777, 1779, 1781, 1783, 1785, 1787, 1789, 1791, 1793, 1795, 1797, 1799, 1801, 1803, 1805, 1807, 1809, 1811, 1813, 1815, 1817, 1819, 1821, 1823, 1825, 1827, 1829, 1831, 1833, 1835, 1837, 1839, 1841, 1843, 1845, 1847, 1849, 1851, 1853, 1855, 1857, 1859, 1861, 1863, 1865, 1867, 1869, 1871, 1873, 1875, 1877, 1879, 1881, 1883, 1885, 1887, 1889, 1891, 1893, 1895, 1897, 1899, 1901, 1903, 1905, 1907, 1909, 1911, 1913, 1915, 1917, 1919, 1921, 1923, 1925, 1927, 1929, 1931, 1933, 1935, 1937, 1939, 1941, 1943, 1945, 1947, 1949, 1951, 1953, 1955, 1957, 1959, 1961, 1963, 1965, 1967, 1969, 1971, 1973, 1975, 1977, 1979, 1981, 1983, 1985, 1987, 1989, 1991, 1993, 1995, 1997, 1999, 2001, 2003, 2005, 2007, 2009, 2011, 2013, 2015, 2017, 2019, 2021, 2023, 2025, 2027, 2029, 2031, 2033, 2035, 2037, 2039, 2041, 2043, 2045, 2047, 2049, 2051, 2053, 2055, 2057, 2059, 2061, 2063, 2065, 2067, 2069, 2071, 2073, 2075, 2077, 2079, 2081, 2083, 2085, 2087, 2089, 2091, 2093, 2095, 2097, 2099, 2101, 2103, 2105, 2107, 2109, 2111, 2113, 2115, 2117, 2119, 2121, 2123, 2125, 2127, 2129, 2131, 2133, 2135, 2137, 2139, 2141, 2143, 2145, 2147, 2149, 2151, 2153, 2155, 2157, 2159, 2161, 2163, 2165, 2167, 2169, 2171, 2173, 2175, 2177, 2179, 2181, 2183, 2185, 2187, 2189, 2191, 2193, 2195, 2197, 2199, 2201, 2203, 2205, 2207, 2209, 2211, 2213, 2215, 2217, 2219, 2221, 2223, 2225, 2227, 2229, 2231, 2233, 2235, 2237, 2239, 2241, 2243, 2245, 2247, 2249, 2251, 2253, 2255, 2257, 2259, 2261, 2263, 2265, 2267, 2269, 2271, 2273, 2275, 2277, 2279, 2281, 2283, 2285, 2287, 2289, 2291, 2293, 2295, 2297, 2299, 2301, 2303, 2305, 2307, 2309, 2311, 2313, 2315, 2317, 2319, 2321, 2323, 2325, 2327, 2329, 2331, 2333, 2335, 2337, 2339, 2341, 2343, 2345, 2347, 2349, 2351, 2353, 2355, 2357, 2359, 2361, 2363, 2365, 2367, 2369, 2371, 2373, 2375, 2377, 2379, 2381, 2383, 2385, 2387, 2389, 2391, 2393, 2395, 2397, 2399, 2401, 2403, 2405, 2407, 2409, 2411, 2413, 2415, 2417, 2419, 2421, 2423, 2425, 2427, 2429, 2431, 2433, 2435, 2437, 2439, 2441, 2443, 2445, 2447, 2449, 2451, 2453, 2455, 2457, 2459, 2461, 2463, 2465, 2467, 2469, 2471, 2473, 2475, 2477, 2479, 2481, 2483, 2485, 2487, 2489, 2491, 2493, 2495, 2497, 2499, 2501, 2503, 2505, 2507, 2509, 2511, 2513, 2515, 2517, 2519, 2521, 2523, 2525, 2527, 2529, 2531, 2533, 2535, 2537, 2539, 2541, 2543, 2545, 2547, 2549, 2551, 2553, 2555, 2557, 2559, 2561, 2563, 2565, 2567, 2569, 2571, 2573, 2575, 2577, 2579, 2581, 2583, 2585, 2587, 2589, 2591, 2593, 2595, 2597, 2599, 2601, 2603, 2605, 2607, 2609, 2611, 2613, 2615, 2617, 2619, 2621, 2623, 2625, 2627, 2629, 2631, 2633, 2635, 2637, 2639, 2641, 2643, 2645, 2647, 2649, 2651, 2653, 2655, 2657, 2659, 2661, 2663, 2665, 2667, 2669, 2671, 2673, 2675, 2677, 2679, 2681, 2683, 2685, 2687, 2689, 2691, 2693, 2695, 2697, 2699, 2701, 2703, 2705, 2707, 2709, 2711, 2713, 2715, 2717, 2719, 2721, 2723, 2725, 2727, 2729, 2731, 2733, 2735, 2737, 2739, 2741, 2743, 2745, 2747, 2749, 2751, 2753, 2755, 2757, 2759, 2761, 2763, 2765, 2767, 2769, 2771, 2773, 2775, 2777, 2779, 2781, 2783, 2785, 2787, 2789, 2791, 2793, 2795, 2797, 2799, 2801, 2803, 2805, 2807, 2809, 2811, 2813, 2815, 2817, 2819, 2821, 2823, 2825, 2827, 2829, 2831, 2833, 2835, 2837, 2839, 2841, 2843, 2845, 2847, 2849, 2851, 2853, 2855, 2857, 2859, 2861, 2863, 2865, 2867, 2869, 2871, 2873, 2875, 2877, 2879, 2881, 2883, 2885, 2887, 2889, 2891, 2893, 2895, 2897, 2899, 2901, 2903, 2905, 2907, 2909, 2911, 2913, 2915, 2917, 2919, 2921, 2923, 2925, 2927, 2929, 2931, 2933, 2935, 2937, 2939, 2941, 2943, 2945, 2947, 2949, 2951, 2953, 2955, 2957, 2959, 2961, 2963, 2965, 2967, 2969, 2971, 2973, 2975, 2977, 2979, 2981, 2983, 2985, 2987, 2989, 2991, 2993, 2995, 2997, 2999, 3001, 3003, 3005, 3007, 3009, 3011, 3013, 3015, 3017, 3019, 3021, 3023, 3025, 3027, 3029, 3031, 3033, 3035, 3037, 3039, 3041, 3043, 3045, 3047, 3049, 3051, 3053, 3055, 3057, 3059, 3061, 3063, 3065, 3067, 3069, 3071, 3073, 3075, 3077, 3079, 3081, 3083, 3085, 3087, 3089, 3091, 3093, 3095, 3097, 3099, 3101, 3103, 3105, 3107, 3109, 3111, 3113, 3115, 3117, 3119, 3121, 3123, 3125, 3127, 3129, 3131, 3133, 3135, 3137, 3139, 3141, 3143, 3145, 3147, 3149, 3151, 3153, 3155, 3157, 3159, 3161, 3163, 3165, 3167, 3169, 3171, 3173, 3175, 3177, 3179, 3181, 3183, 3185, 3187, 3189, 3191, 3193, 3195, 3197, 3199, 3201, 3203, 3205, 3207, 3209, 3211, 3213, 3215, 3217, 3219, 3221, 3223, 3225, 3227, 3229, 3231, 3233, 3235, 3237, 3239, 3241, 3243, 3245, 3247, 3249, 3251, 3253, 3255, 3257, 3259, 3261, 3263, 3265, 3267, 3269, 3271, 3273, 3275, 3277, 3279, 3281, 3283, 3285, 3287, 3289, 3291, 3293, 3295, 3297, 3299, 3301, 3303, 3305, 3307, 3309, 3311, 3313, 3315, 3317, 3319, 3321, 3323, 3325, 3327, 3329, 3331, 3333, 3335, 3337, 3339, 3341, 3343, 3345, 3347, 3349, 3351, 3353, 3355, 3357, 3359, 3361, 3363, 3365, 3367, 3369, 3371, 3373, 3375, 3377, 3379, 3381, 3383, 3385, 3387, 3389, 3391, 3393, 3395, 3397, 3399, 3401, 3403, 3405, 3407, 3409, 3411, 3413, 3415, 3417, 3419, 3421, 3423, 3425, 3427, 3429, 3431, 3433, 3435, 3437, 3439, 3441, 3443, 3445, 3447, 3449, 3451, 3453, 3455, 3457, 3459, 3461, 3463, 3465, 3467, 3469, 3471, 3473, 3475, 3477, 3479, 3481, 3483, 3485, 3487, 3489, 3491, 3493, 3495, 3497, 3499, 3501, 3503, 3505, 3507, 3509, 3511, 3513, 3515, 3517, 3519, 3521, 3523, 3525, 3527, 3529, 3531, 3533, 3535, 3537, 3539, 3541, 3543, 3545, 3547, 3549, 3551, 3553, 3555, 3557, 3559, 3561, 3563, 3565, 3567, 3569, 3571, 3573, 3575, 3577, 3579, 3581, 3583, 3585, 3587, 3589, 3591, 3593, 3595, 3597, 3599, 3601, 3603, 3605, 3607, 3609, 3611, 3613, 3615, 3617, 3619, 3621, 3623, 3625, 3627, 3629, 3631, 3633, 3635, 3637, 3639, 3641, 3643, 3645, 3647, 3649, 3651, 3653, 3655, 3657, 3659, 3661, 3663, 3665, 3667, 3669, 3671, 3673, 3675, 3677, 3679, 3681, 3683, 3685, 3687, 3689, 3691, 3693, 3695, 3697, 3699, 3701, 3703, 3705, 3707, 3709, 3711, 3713, 3715, 3717, 3719, 3721, 3723, 3725, 3727, 3729, 3731, 3733, 3735, 3737, 3739, 3741, 3743, 3745, 3747, 3749, 3751, 3753, 3755, 3757, 3759, 3761, 3763, 3765, 3767, 3769, 3771, 3773, 3775, 3777, 3779, 3781, 3783, 3785, 3787, 3789, 3791, 3793, 3795, 3797, 3799, 3801, 3803, 3805, 3807, 3809, 3811, 3813, 3815, 3817, 3819, 3821, 3823, 3825, 3827, 3829, 3831, 3833, 3835, 3837, 3839, 3841, 3843, 3845, 3847, 3849, 3851, 3853, 3855, 3857, 3859, 3861, 3863, 3865, 3867, 3869, 3871, 3873, 3875, 3877, 3879, 3881, 3883, 3885, 3887, 3889, 3891, 3893, 3895, 3897, 3899, 3901, 3903, 3905, 3907, 3909, 3911, 3913, 3915, 3917, 3919, 3921, 3923, 3925, 3927, 3929, 3931, 3933, 3935, 3937, 3939, 3941, 3943, 3945, 3947, 3949, 3951, 3953, 3955, 3957, 3959, 3961, 3963, 3965, 3967, 3969, 3971, 3973, 3975, 3977, 3979, 3981, 3983, 3985, 3987, 3989, 3991, 3993, 3995, 3997, 3999, 4001, 4003, 4005, 4007, 4009, 4011, 4013, 4015, 4017, 4019, 4021, 4023, 4025, 4027, 4029, 4031, 4033, 4035, 4037, 4039, 4041, 4043, 4045, 4047, 4049, 4051, 4053, 4055, 4057, 4059, 4061, 4063, 4065, 4067, 4069, 4071, 4073, 4075, 4077, 4079, 4081, 4083, 4085, 4087, 4089, 4091, 4093, 4095, 4097, 4099, 4101, 4103, 4105, 4107, 4109, 4111, 4113, 4115, 4117, 4119, 4121, 4123, 4125, 4127, 4129, 4131, 4133, 4135, 4137, 4139, 4141, 4143, 4145, 4147, 4149, 4151, 4153, 4155, 4157, 4159, 4161, 4163, 4165, 4167, 4169, 4171, 4173, 4175, 4177, 4179, 4181, 4183, 4185, 4187, 4189, 4191, 4193, 4195, 4197, 4199, 4201, 4203, 4205, 4207, 4209, 4211, 4213, 4215, 4217, 4219, 4221, 4223, 4225, 4227, 4229, 4231, 4233, 4235, 4237, 4239, 4241, 4243, 4245, 4247, 4249, 4251, 4253, 4255, 4257, 4259, 4261, 4263, 4265, 4267, 4269, 4271, 4273, 4275, 4277, 4279, 4281, 4283, 4285, 4287, 4289, 4291, 4293, 4295, 4297, 4299, 4301, 4303, 4305, 4307, 4309, 4311, 4313, 4315, 4317, 4319, 4321, 4323, 4325, 4327, 4329, 4331, 4333, 4335, 4337, 4339, 4341, 4343, 4345, 4347, 4349, 4351, 4353, 4355, 4357, 4359, 4361, 4363, 4365, 4367, 4369, 4371, 4373, 4375, 4377, 4379, 4381, 4383, 4385, 4387, 4389, 4391, 4393, 4395, 4397, 4399, 4401, 4403, 4405, 4407, 4409, 4411, 4413, 4415, 4417, 4419, 4421, 4423, 4425, 4427, 4429, 4431, 4433, 4435, 4437, 4439, 4441, 4443, 4445, 4447, 4449, 4451, 4453, 4455, 4457, 4459, 4461, 4463, 4465, 4467, 4469, 4471, 4473, 4475, 4477, 4479, 4481, 4483, 4485, 4487, 4489, 4491, 4493, 4495, 4497, 4499, 4501, 4503, 4505, 4507, 4509, 4511, 4513, 4515, 4517, 4519, 4521, 4523, 4525, 4527, 4529, 4531, 4533, 4535, 4537, 4539, 4541, 4543, 4545, 4547, 4549, 4551, 4553, 4555, 4557, 4559, 4561, 4563, 4565, 4567, 4569, 4571, 4573, 4575, 4577, 4579, 4581, 4583, 4585, 4587, 4589, 4591, 4593, 4595, 4597, 4599, 4601, 4603, 4605, 4607, 4609, 4611, 4613, 4615, 4617, 4619, 4621, 4623, 4625, 4627, 4629, 4631, 4633, 4635, 4637, 4639, 4641, 4643, 4645, 4647, 4649, 4651, 4653, 4655, 4657, 4659, 4661, 4663, 4665, 4667, 4669, 4671, 4673, 4675, 4677, 4679, 4681, 4683, 4685, 4687, 4689, 4691, 4693, 4695, 4697, 4699, 4701, 4703, 4705, 4707, 4709, 4711, 4713, 4715, 4717, 4719, 4721, 4723, 4725, 4727, 4729, 4731, 4733, 4735, 4737, 4739, 4741, 4743, 4745, 4747, 4749, 4751, 4753, 4755, 4757, 4759, 4761, 4763, 4765, 4767, 4769, 4771, 4773, 4775, 4777, 4779, 4781, 4783, 4785, 4787, 4789, 4791, 4793, 4795, 4797, 4799, 4801, 4803, 4805, 4807, 4809, 4811, 4813, 4815, 4817, 4819, 4821, 4823, 4825, 4827, 4829, 4831, 4833, 4835, 4837, 4839, 4841, 4843, 4845, 4847, 4849, 4851, 4853, 4855, 4857, 4859, 4861, 4863, 4865, 4867, 4869, 4871, 4873, 4875, 4877, 4879, 4881, 4883, 4885, 4887, 4889, 4891, 4893, 4895, 4897, 4899, 4901, 4903, 4905, 4907, 4909, 4911, 4913, 4915, 4917, 4919, 4921, 4923, 4925, 4927, 4929, 4931, 4933, 4935, 4937, 4939, 4941, 4943, 4945, 4947, 4949, 4951, 4953, 4955, 4957, 4959, 4961, 4963, 4965, 4967, 4969, 4971, 4973, 4975, 4977, 4979, 4981, 4983, 4985, 4987, 4989, 4991, 4993, 4995, 4997, 4999, 5001, 5003, 5005, 5007, 5009, 5011, 5013, 5015, 5017, 5019, 5021, 5023, 5025, 5027, 5029, 5031, 5033, 5035, 5037, 5039, 5041, 5043, 5045, 5047, 5049, 5051, 5053, 5055, 5057, 5059, 5061, 5063, 5065, 5067, 5069, 5071, 5073, 5075, 5077, 5079, 5081, 5083, 5085, 5087, 5089, 5091, 5093, 5095, 5097, 5099, 5101, 5103, 5105, 5107, 5109, 5111, 5113, 5115, 5117, 5119, 5121, 5123, 5125, 5127, 5129, 5131, 5133, 5135, 5137, 5139, 5141, 5143, 5145, 5147, 5149, 5151, 5153, 5155, 5157, 5159, 5161, 5163, 5165, 5167, 5169, 5171, 5173, 5175, 5177, 5179, 5181, 5183, 5185, 5187, 5189, 5191, 5193, 5195, 5197, 5199, 5201, 5203, 5205, 5207, 5209, 5211, 5213, 5215, 5217, 5219, 5221, 5223, 5225, 5227, 5229, 5231, 5233, 5235, 5237, 5239, 5241, 5243, 5245, 5247, 5249, 5251, 5253, 5255, 5257, 5259, 5261, 5263, 5265, 5267, 5269, 5271, 5273, 5275, 5277, 5279, 5281, 5283, 5285, 5287, 5289, 5291, 5293, 5295, 5297, 5299, 5301, 5303, 5305, 5307, 5309, 5311, 5313, 5315, 5317, 5319, 5321, 5323, 5325, 5327, 5329, 5331, 5333, 5335, 5337, 5339, 5341, 5343, 5345, 5347, 5349, 5351, 5353, 5355, 5357, 5359, 5361, 5363, 5365, 5367, 5369, 5371, 5373, 5375, 5377, 5379, 5381, 5383, 5385, 5387, 5389, 5391, 5393, 5395, 5397, 5399, 5401, 5403, 5405, 5407, 5409, 5411, 5413, 5415, 5417, 5419, 5421, 5423, 5425, 5427, 5429, 5431, 5433, 5435, 5437, 5439, 5441, 5443, 5445, 5447, 5449, 5451, 5453, 5455, 5457, 5459, 5461, 5463, 5465, 5467, 5469, 5471, 5473, 5475, 5477, 5479, 5481, 5483, 5485, 5487, 5489, 5491, 5493, 5495, 5497, 5499, 5501, 5503, 5505, 5507, 5509, 5511, 5513, 5515, 5517, 5519, 5521, 5523, 5525, 5527, 5529, 5531, 5533, 5535, 5537, 5539, 5541, 5543, 5545, 5547, 5549, 5551, 5553, 5555, 5557, 5559, 5561, 5563, 5565, 5567, 5569, 5571, 5573, 5575, 5577, 5579, 5581, 5583, 5585, 5587, 5589, 5591, 5593, 5595, 5597, 5599, 5601, 5603, 5605, 5607, 5609, 5611, 5613, 5615, 5617, 5619, 5621, 5623, 5625, 5627, 5629, 5631, 5633, 5635, 5637, 5639, 5641, 5643, 5645, 5647, 5649, 5651, 5653, 5655, 5657, 5659, 5661, 5663, 5665, 5667, 5669, 5671, 5673, 5675, 5677, 5679, 5681, 5683, 5685, 5687, 5689, 5691, 5693, 5695, 5697, 5699, 5701, 5703, 5705, 5707, 5709, 5711, 5713, 5715, 5717, 5719, 5721, 5723, 5725, 5727, 5729, 5731, 5733, 5735, 5737, 5739, 5741, 5743, 5745, 5747, 5749, 5751, 5753, 5755, 5757, 5759, 5761, 5763, 5765, 5767, 5769, 5771, 5773, 5775, 5777, 5779, 5781, 5783, 5785, 5787, 5789, 5791, 5793, 5795, 5797, 5799, 5801, 5803, 5805, 5807, 5809, 5811, 5813, 5815, 5817, 5819, 5821, 5823, 5825, 5827, 5829, 5831, 5833, 5835, 5837, 5839, 5841, 5843, 5845, 5847, 5849, 5851, 5853, 5855, 5857, 5859, 5861, 5863, 5865, 5867, 5869, 5871, 5873, 5875, 5877, 5879, 5881, 5883, 5885, 5887, 5889, 5891, 5893, 5895, 5897, 5899, 5901, 5903, 5905, 5907, 5909, 5911, 5913, 5915, 5917, 5919, 5921, 5923, 5925, 5927, 5929, 5931, 5933, 5935, 5937, 5939, 5941, 5943, 5945, 5947, 5949, 5951, 5953, 5955, 5957, 5959, 5961, 5963, 5965, 5967, 5969, 5971, 5973, 5975, 5977, 5979, 5981, 5983, 5985, 5987, 5989, 5991, 5993, 5995, 5997, 5999, 6001, 6003, 6005, 6007, 6009, 6011, 6013, 6015, 6017, 6019, 6021, 6023, 6025, 6027, 6029, 6031, 6033, 6035, 6037, 6039, 6041, 6043, 6045, 6047, 6049, 6051, 6053, 6055, 6057, 6059, 6061, 6063, 6065, 6067, 6069, 6071, 6073, 6075, 6077, 6079, 6081, 6083, 6085, 6087, 6089, 6091, 6093, 6095, 6097, 6099, 6101, 6103, 6105, 6107, 6109, 6111, 6113, 6115, 6117, 6119, 6121, 6123, 6125, 6127, 6129, 6131, 6133, 6135, 6137, 6139, 6141, 6143, 6145, 6147, 6149, 6151, 6153, 6155, 6157, 6159, 6161, 6163, 6165, 6167, 6169, 6171, 6173, 6175, 6177, 6179, 6181, 6183, 6185, 6187, 6189, 6191, 6193, 6195, 6197, 6199, 6201, 6203, 6205, 6207, 6209, 6211, 6213, 6215, 6217, 6219, 6221, 6223, 6225, 6227, 6229, 6231, 6233, 6235, 6237, 6239, 6241, 6243, 6245, 6247, 6249, 6251, 6253, 6255, 6257, 6259, 6261, 6263, 6265, 6267, 6269, 6271, 6273, 6275, 6277, 6279, 6281, 6283, 6285, 6287, 6289, 6291, 6293, 6295, 6297, 6299, 6301, 6303, 6305, 6307, 6309, 6311, 6313, 6315, 6317, 6319, 6321, 6323, 6325, 6327, 6329, 6331, 6333, 6335, 6337, 6339, 6341, 6343, 6345, 6347, 6349, 6351, 6353, 6355, 6357, 6359, 6361, 6363, 6365, 6367, 6369, 6371, 6373, 6375, 6377, 6379, 6381, 6383, 6385, 6387, 6389, 6391, 6393, 6395, 6397, 6399, 6401, 6403, 6405, 6407, 6409, 6411, 6413, 6415, 6417, 6419, 6421, 6423, 6425, 6427, 6429, 6431, 6433, 6435, 6437, 6439, 6441, 6443, 6445, 6447, 6449, 6451, 6453, 6455, 6457, 6459, 6461, 6463, 6465, 6467, 6469, 6471, 6473, 6475, 6477, 6479, 6481, 6483, 6485, 6487, 6489, 6491, 6493, 6495, 6497, 6499, 6501, 6503, 6505, 6507, 6509, 6511, 6513, 6515, 6517, 6519, 6521, 6523, 6525, 6527, 6529, 6531, 6533, 6535, 6537, 6539, 6541, 6543, 6545, 6547, 6549, 6551, 6553, 6555, 6557, 6559, 6561, 6563, 6565, 6567, 6569, 6571, 6573, 6575, 6577, 6579, 6581, 6583, 6585, 6587, 6589, 6591, 6593, 6595, 6597, 6599, 6601, 6603, 6605, 6607, 6609, 6611, 6613, 6615, 6617, 6619, 6621, 6623, 6625, 6627, 6629, 6631, 6633, 6635, 6637, 6639, 6641, 6643, 6645, 6647, 6649, 6651, 6653, 6655, 6657, 6659, 6661, 6663, 6665, 6667, 6669, 6671, 6673, 6675, 6677, 6679, 6681, 6683, 6685, 6687, 6689, 6691, 6693, 6695, 6697, 6699, 6701, 6703, 6705, 6707, 6709, 6711, 6713, 6715, 6717, 6719, 6721, 6723, 6725, 6727, 6729, 6731, 6733, 6735, 6737, 6739, 6741, 6743, 6745, 6747, 6749, 6751, 6753, 6755, 6757, 6759, 6761, 6763, 6765, 6767, 6769, 6771, 6773, 6775, 6777, 6779, 6781, 6783, 6785, 6787, 6789, 6791, 6793, 6795, 6797, 6799, 6801, 6803, 6805, 6807, 6809, 6811, 6813, 6815, 6817, 6819, 6821, 6823, 6825, 6827, 6829, 6831, 6833, 6835, 6837, 6839, 6841, 6843, 6845, 6847, 6849, 6851, 6853, 6855, 6857, 6859, 6861, 6863, 6865, 6867, 6869, 6871, 6873, 6875, 6877, 6879, 6881, 6883, 6885, 6887, 6889, 6891, 6893, 6895, 6897, 6899, 6901, 6903, 6905, 6907, 6909, 6911, 6913, 6915, 6917, 6919, 6921, 6923, 6925, 6927, 6929, 6931, 6933, 6935, 6937, 6939, 6941, 6943, 6945, 6947, 6949, 6951, 6953, 6955, 6957, 6959, 6961, 6963, 6965, 6967, 6969, 6971, 6973, 6975, 6977, 6979, 6981, 6983, 6985, 6987, 6989, 6991, 6993, 6995, 6997, 6999, 7001, 7003, 7005, 7007, 7009, 7011, 7013, 7015, 7017, 7019, 7021, 7023, 7025, 7027, 7029, 7031, 7033, 7035, 7037, 7039, 7041, 7043, 7045, 7047, 7049, 7051, 7053, 7055, 7057, 7059, 7061, 7063, 7065, 7067, 7069, 7071, 7073, 7075, 7077, 7079, 7081, 7083, 7085, 7087, 7089, 7091, 7093, 7095, 7097, 7099, 7101, 7103, 7105, 7107, 7109, 7111, 7113, 7115, 7117, 7119, 7121, 7123, 7125, 7127, 7129, 7131, 7133, 7135, 7137, 7139, 7141, 7143, 7145, 7147, 7149, 7151, 7153, 7155, 7157, 7159, 7161, 7163, 7165, 7167, 7169, 7171, 7173, 7175, 7177, 7179, 7181, 7183, 7185, 7187, 7189, 7191, 7193, 7195, 7197, 7199, 7201, 7203, 7205, 7207, 7209, 7211, 7213, 7215, 7217, 7219, 7221, 7223, 7225, 7227, 7229, 7231, 7233, 7235, 7237, 7239, 7241, 7243, 7245, 7247, 7249, 7251, 7253, 7255, 7257, 7259, 7261, 7263, 7265, 7267, 7269, 7271, 7273, 7275, 7277, 7279, 7281, 7283, 7285, 7287, 7289, 7291, 7293, 7295, 7297, 7299, 7301, 7303, 7305, 7307, 7309, 7311, 7313, 7315, 7317, 7319, 7321, 7323, 7325, 7327, 7329, 7331, 7333, 7335, 7337, 7339, 7341, 7343, 7345, 7347, 7349, 7351, 7353, 7355, 7357, 7359, 7361, 7363, 7365, 7367, 7369, 7371, 7373, 7375, 7377, 7379, 7381, 7383, 7385, 7387, 7389, 7391, 7393, 7395, 7397, 7399, 7401, 7403, 7405, 7407, 7409, 7411, 7413, 7415, 7417, 7419, 7421, 7423, 7425, 7427, 7429, 7431, 7433, 7435, 7437, 7439, 7441, 7443, 7445, 7447, 7449, 7451, 7453, 7455, 7457, 7459, 7461, 7463, 7465, 7467, 7469, 7471, 7473, 7475, 7477, 7479, 7481, 7483, 7485, 7487, 7489, 7491, 7493, 7495, 7497, 7499, 7501, 7503, 7505, 7507, 7509, 7511, 7513, 7515, 7517, 7519, 7521, 7523, 7525, 7527, 7529, 7531, 7533, 7535, 7537, 7539, 7541, 7543, 7545, 7547, 7549, 7551, 7553, 7555, 7557, 7559, 7561, 7563, 7565, 7567, 7569, 7571, 7573, 7575, 7577, 7579, 7581, 7583, 7585, 7587, 7589, 7591, 7593, 7595, 7597, 7599, 7601, 7603, 7605, 7607, 7609, 7611, 7613, 7615, 7617, 7619, 7621, 7623, 7625, 7627, 7629, 7631, 7633, 7635, 7637, 7639, 7641, 7643, 7645, 7647, 7649, 7651, 7653, 7655, 7657, 7659, 7661, 7663, 7665, 7667, 7669, 7671, 7673, 7675, 7677, 7679, 7681, 7683, 7685, 7687, 7689, 7691, 7693, 7695, 7697, 7699, 7701, 7703, 7705, 7707, 7709, 7711, 7713, 7715, 7717, 7719, 7721, 7723, 7725, 7727, 7729, 7731, 7733, 7735, 7737, 7739, 7741, 7743, 7745, 7747, 7749, 7751, 7753, 7755, 7757, 7759, 7761, 7763, 7765, 7767, 7769, 7771, 7773, 7775, 7777, 7779, 7781, 7783, 7785, 7787, 7789, 7791, 7793, 7795, 7797, 7799, 7801, 7803, 7805, 7807, 7809, 7811, 7813, 7815, 7817, 7819, 7821, 7823, 7825, 7827, 7829, 7831, 7833, 7835, 7837, 7839, 7841, 7843, 7845, 7847, 7849, 7851, 7853, 7855, 7857, 7859, 7861, 7863, 7865, 7867, 7869, 7871, 7873, 7875, 7877, 7879, 7881, 7883, 7885, 7887, 7889, 7891, 7893, 7895, 7897, 7899, 7901, 7903, 7905, 7907, 7909, 7911, 7913, 7915, 7917, 7919, 7921, 7923, 7925, 7927, 7929, 7931, 7933, 7935, 7937, 7939, 7941, 7943, 7945, 7947, 7949, 7951, 7953, 7955, 7957, 7959, 7961, 7963, 7965, 7967, 7969, 7971, 7973, 7975, 7977, 7979, 7981, 7983, 7985, 7987, 7989, 7991, 7993, 7995, 7997, 7999, 8001, 8003, 8005, 8007, 8009, 8011, 8013, 8015, 8017, 8019, 8021, 8023, 8025, 8027, 8029, 8031, 8033, 8035, 8037, 8039, 8041, 8043, 8045, 8047, 8049, 8051, 8053, 8055, 8057, 8059, 8061, 8063, 8065, 8067, 8069, 8071, 8073, 8075, 8077, 8079, 8081, 8083, 8085, 8087, 8089, 8091, 8093, 8095, 8097, 8099, 8101, 8103, 8105, 8107, 8109, 8111, 8113, 8115, 8117, 8119, 8121, 8123, 8125, 8127, 8129, 8131, 8133, 8135, 8137, 8139, 8141, 8143, 8145, 8147, 8149, 8151, 8153, 8155, 8157, 8159, 8161, 8163, 8165, 8167, 8169, 8171, 8173, 8175, 8177, 8179, 8181, 8183, 8185, 8187, 8189, 8191, 8193, 8195, 8197, 8199, 8201, 8203, 8205, 8207, 8209, 8211, 8213, 8215, 8217, 8219, 8221, 8223, 8225, 8227, 8229, 8231, 8233, 8235, 8237, 8239, 8241, 8243, 8245, 8247, 8249, 8251, 8253, 8255, 8257, 8259, 8261, 8263, 8265, 8267, 8269, 8271, 8273, 8275, 8277, 8279, 8281, 8283, 8285, 8287, 8289, 8291, 8293, 8295, 8297, 8299, 8301, 8303, 8305, 8307, 8309, 8311, 8313, 8315, 8317, 8319, 8321, 8323, 8325, 8327, 8329, 8331, 8333, 8335, 8337, 8339, 8341, 8343, 8345, 8347, 8349, 8351, 8353, 8355, 8357, 8359, 8361, 8363, 8365, 8367, 8369, 8371, 8373, 8375, 8377, 8379, 8381, 8383, 8385, 8387, 8389, 8391, 8393, 8395, 8397, 8399, 8401, 8403, 8405, 8407, 8409, 8411, 8413, 8415, 8417, 8419, 8421, 8423, 8425, 8427, 8429, 8431, 8433, 8435, 8437, 8439, 8441, 8443, 8445, 8447, 8449, 8451, 8453, 8455, 8457, 8459, 8461, 8463, 8465, 8467, 8469, 8471, 8473, 8475, 8477, 8479, 8481, 8483, 8485, 8487, 8489, 8491, 8493, 8495, 8497, 8499, 8501, 8503, 8505, 8507, 8509, 8511, 8513, 8515, 8517, 8519, 8521, 8523, 8525, 8527, 8529, 8531, 8533, 8535, 8537, 8539, 8541, 8543, 8545, 8547, 8549, 8551, 8553, 8555, 8557, 8559, 8561, 8563, 8565, 8567, 8569, 8571, 8573, 8575, 8577, 8579, 8581, 8583, 8585, 8587, 8589, 8591, 8593, 8595, 8597, 8599, 8601, 8603, 8605, 8607, 8609, 8611, 8613, 8615, 8617, 8619, 8621, 8623, 8625, 8627, 8629, 8631, 8633, 8635, 8637, 8639, 8641, 8643, 8645, 8647, 8649, 8651, 8653, 8655, 8657, 8659, 8661, 8663, 8665, 8667, 8669, 8671, 8673, 8675, 8677, 8679, 8681, 8683, 8685, 8687, 8689, 8691, 8693, 8695, 8697, 8699, 8701, 8703, 8705, 8707, 8709, 8711, 8713, 8715, 8717, 8719, 8721, 8723, 8725, 8727, 8729, 8731, 8733, 8735, 8737, 8739, 8741, 8743, 8745, 8747, 8749, 8751, 8753, 8755, 8757, 8759, 8761, 8763, 8765, 8767, 8769, 8771, 8773, 8775, 8777, 8779, 8781, 8783, 8785, 8787, 8789, 8791, 8793, 8795, 8797, 8799, 8801, 8803, 8805, 8807, 8809, 8811, 8813, 8815, 8817, 8819, 8821, 8823, 8825, 8827, 8829, 8831, 8833, 8835, 8837, 8839, 8841, 8843, 8845, 8847, 8849, 8851, 8853, 8855, 8857, 8859, 8861, 8863, 8865, 8867, 8869, 8871, 8873, 8875, 8877, 8879, 8881, 8883, 8885, 8887, 8889, 8891, 8893, 8895, 8897, 8899, 8901, 8903, 8905, 8907, 8909, 8911, 8913, 8915, 8917, 8919, 8921, 8923, 8925, 8927, 8929, 8931, 8933, 8935, 8937, 8939, 8941, 8943, 8945, 8947, 8949, 8951, 8953, 8955, 8957, 8959, 8961, 8963, 8965, 8967, 8969, 8971, 8973, 8975, 8977, 8979, 8981, 8983, 8985, 8987, 8989, 8991, 8993, 8995, 8997, 8999, 9001, 9003, 9005, 9007, 9009, 9011, 9013, 9015, 9017, 9019, 9021, 9023, 9025, 9027, 9029, 9031, 9033, 9035, 9037, 9039, 9041, 9043, 9045, 9047, 9049, 9051, 9053, 9055, 9057, 9059, 9061, 9063, 9065, 9067, 9069, 9071, 9073, 9075, 9077, 9079, 9081, 9083, 9085, 9087, 9089, 9091, 9093, 9095, 9097, 9099, 9101, 9103, 9105, 9107, 9109, 9111, 9113, 9115, 9117, 9119, 9121, 9123, 9125, 9127, 9129, 9131, 9133, 9135, 9137, 9139, 9141, 9143, 9145, 9147, 9149, 9151, 9153, 9155, 9157, 9159, 9161, 9163, 9165, 9167, 9169, 9171, 9173, 9175, 9177, 9179, 9181, 9183, 9185, 9187, 9189, 9191, 9193, 9195, 9197, 9199, 9201, 9203, 9205, 9207, 9209, 9211, 9213, 9215, 9217, 9219, 9221, 9223, 9225, 9227, 9229, 9231, 9233, 9235, 9237, 9239, 9241, 9243, 9245, 9247, 9249, 9251, 9253, 9255, 9257, 9259, 9261, 9263, 9265, 9267, 9269, 9271, 9273, 9275, 9277, 9279, 9281, 9283, 9285, 9287, 9289, 9291, 9293, 9295, 9297, 9299, 9301, 9303, 9305, 9307, 9309, 9311, 9313, 9315, 9317, 9319, 9321, 9323, 9325, 9327, 9329, 9331, 9333, 9335, 9337, 9339, 9341, 9343, 9345, 9347, 9349, 9351, 9353, 9355, 9357, 9359, 9361, 9363, 9365, 9367, 9369, 9371, 9373, 9375, 9377, 9379, 9381, 9383, 9385, 9387, 9389, 9391, 9393, 9395, 9397, 9399, 9401, 9403, 9405, 9407, 9409, 9411, 9413, 9415, 9417, 9419, 9421, 9423, 9425, 9427, 9429, 9431, 9433, 9435, 9437, 9439, 9441, 9443, 9445, 9447, 9449, 9451, 9453, 9455, 9457, 9459, 9461, 9463, 9465, 9467, 9469, 9471, 9473, 9475, 9477, 9479, 9481, 9483, 9485, 9487, 9489, 9491, 9493, 9495, 9497, 9499, 9501, 9503, 9505, 9507, 9509, 9511, 9513, 9515, 9517, 9519, 9521, 9523, 9525, 9527, 9529, 9531, 9533, 9535, 9537, 9539, 9541, 9543, 9545, 9547, 9549, 9551, 9553, 9555, 9557, 9559, 9561, 9563, 9565, 9567, 9569, 9571, 9573, 9575, 9577, 9579, 9581, 9583, 9585, 9587, 9589, 9591, 9593, 9595, 9597, 9599, 9601, 9603, 9605, 9607, 9609, 9611, 9613, 9615, 9617, 9619, 9621, 9623, 9625, 9627, 9629, 9631, 9633, 9635, 9637, 9639, 9641, 9643, 9645, 9647, 9649, 9651, 9653, 9655, 9657, 9659, 9661, 9663, 9665, 9667, 9669, 9671, 9673, 9675, 9677, 9679, 9681, 9683, 9685, 9687, 9689, 9691, 9693, 9695, 9697, 9699, 9701, 9703, 9705, 9707, 9709, 9711, 9713, 9715, 9717, 9719, 9721, 9723, 9725, 9727, 9729, 9731, 9733, 9735, 9737, 9739, 9741, 9743, 9745, 9747, 9749, 9751, 9753, 9755, 9757, 9759, 9761, 9763, 9765, 9767, 9769, 9771, 9773, 9775, 9777, 9779, 9781, 9783, 9785, 9787, 9789, 9791, 9793, 9795, 9797, 9799, 9801, 9803, 9805, 9807, 9809, 9811, 9813, 9815, 9817, 9819, 9821, 9823, 9825, 9827, 9829, 9831, 9833, 9835, 9837, 9839, 9841, 9843, 9845, 9847, 9849, 9851, 9853, 9855, 9857, 9859, 9861, 9863, 9865, 9867, 9869, 9871, 9873, 9875, 9877, 9879, 9881, 9883, 9885, 9887, 9889, 9891, 9893, 9895, 9897, 9899, 9901, 9903, 9905, 9907, 9909, 9911, 9913, 9915, 9917, 9919, 9921, 9923, 9925, 9927, 9929, 9931, 9933, 9935, 9937, 9939, 9941, 9943, 9945, 9947, 9949, 9951, 9953, 9955, 9957, 9959, 9961, 9963, 9965, 9967, 9969, 9971, 9973, 9975, 9977, 9979, 9981, 9983, 9985, 9987, 9989, 9991, 9993, 9995, 9997, 9999]\n",
            "Time Taken 0.0035948753356933594\n"
          ]
        }
      ]
    },
    {
      "cell_type": "code",
      "source": [
        "nums=[10,20,32,98,76,56,45,126,56,89,33,45,6,7,8,9,0,10,27,35,36,76,56,45,126,56,89,33,45,6,7,8,9,0,10,27,35,36]\n",
        "\n",
        "Div_5=[i for i in nums if i%5==0]\n",
        "Div_5"
      ],
      "metadata": {
        "colab": {
          "base_uri": "https://localhost:8080/"
        },
        "id": "XokZhjop7ox6",
        "outputId": "7f13ee94-7115-416c-bddd-fced6c2f3ee1"
      },
      "id": "XokZhjop7ox6",
      "execution_count": null,
      "outputs": [
        {
          "output_type": "execute_result",
          "data": {
            "text/plain": [
              "[10, 20, 45, 45, 0, 10, 35, 45, 45, 0, 10, 35]"
            ]
          },
          "metadata": {},
          "execution_count": 123
        }
      ]
    },
    {
      "cell_type": "code",
      "source": [
        "odd_even=[None if i%2==0 else 'odd' for i in nums]\n",
        "print(odd_even)"
      ],
      "metadata": {
        "colab": {
          "base_uri": "https://localhost:8080/"
        },
        "id": "q42rL-SP8s-g",
        "outputId": "16e0dd19-f9eb-4af7-fff0-8502d5f884b2"
      },
      "id": "q42rL-SP8s-g",
      "execution_count": null,
      "outputs": [
        {
          "output_type": "stream",
          "name": "stdout",
          "text": [
            "[None, None, None, None, None, None, 'odd', None, None, 'odd', 'odd', 'odd', None, 'odd', None, 'odd', None, None, 'odd', 'odd', None, None, None, 'odd', None, None, 'odd', 'odd', 'odd', None, 'odd', None, 'odd', None, None, 'odd', 'odd', None]\n"
          ]
        }
      ]
    },
    {
      "cell_type": "code",
      "source": [
        "odd_even=[i if i%2==0 else 'odd' for i in nums]\n",
        "print(odd_even)"
      ],
      "metadata": {
        "colab": {
          "base_uri": "https://localhost:8080/"
        },
        "id": "8knxcigo9EdF",
        "outputId": "6141fc3d-c7a2-456d-dfda-441d979c13a3"
      },
      "id": "8knxcigo9EdF",
      "execution_count": null,
      "outputs": [
        {
          "output_type": "stream",
          "name": "stdout",
          "text": [
            "[10, 20, 32, 98, 76, 56, 'odd', 126, 56, 'odd', 'odd', 'odd', 6, 'odd', 8, 'odd', 0, 10, 'odd', 'odd', 36, 76, 56, 'odd', 126, 56, 'odd', 'odd', 'odd', 6, 'odd', 8, 'odd', 0, 10, 'odd', 'odd', 36]\n"
          ]
        }
      ]
    },
    {
      "cell_type": "code",
      "source": [
        "\n",
        "start_time=time.time()\n",
        "start_time"
      ],
      "metadata": {
        "colab": {
          "base_uri": "https://localhost:8080/"
        },
        "id": "V2T1nkjb4NHc",
        "outputId": "97e1d875-813a-47af-af94-6e806bf7051c"
      },
      "id": "V2T1nkjb4NHc",
      "execution_count": null,
      "outputs": [
        {
          "output_type": "execute_result",
          "data": {
            "text/plain": [
              "1746271753.8842483"
            ]
          },
          "metadata": {},
          "execution_count": 94
        }
      ]
    },
    {
      "cell_type": "code",
      "source": [],
      "metadata": {
        "id": "v6njuIwp4NEL"
      },
      "id": "v6njuIwp4NEL",
      "execution_count": null,
      "outputs": []
    },
    {
      "cell_type": "markdown",
      "source": [
        "### File Handling (3/5/2025)"
      ],
      "metadata": {
        "id": "1OyOUGQAT4Ak"
      },
      "id": "1OyOUGQAT4Ak"
    },
    {
      "cell_type": "markdown",
      "source": [
        "| **Aspect**                  | **Description**                                                  | **Example Code**                                               | **Result / Action**                     |\n",
        "|-------------------------------|------------------------------------------------------------------|----------------------------------------------------------------|------------------------------------------|\n",
        "| **Definition**                | File handling means reading, writing, creating, and managing files in Python | — | Working with `.txt`, `.csv`, `.json`, etc. files |\n",
        "| **Opening a File**            | `open(file_path, mode)` to access a file                        | `f = open('data.txt', 'r')`                                    | Opens `data.txt` in **read** mode         |\n",
        "| **Common Modes**              | - `'r'` : Read<br>- `'w'` : Write (overwrite)<br>- `'a'` : Append<br>- `'x'` : Create new<br>- `'b'` : Binary<br>- `'t'` : Text | `open('file.txt', 'w')`                                       | Write mode — creates or overwrites file  |\n",
        "| **Reading a File**            | Read contents from a file                                        | `content = f.read()`<br>`lines = f.readlines()`                | Gets all file data into a string or list |\n",
        "| **Writing to a File**         | Write data into a file                                           | `f.write(\"Hello World!\")`                                      | Writes text inside the file              |\n",
        "| **Appending to a File**       | Add data at the end without overwriting                         | `f = open('data.txt', 'a')`<br>`f.write(\"\\nNew Line\")`          | Adds new line to existing file           |\n",
        "| **Closing a File**            | Always close after operations to free resources                | `f.close()`                                                    | Properly closes the file                 |\n",
        "| **Using `with` Statement**    | Best practice: Auto-handles open and close                      | `with open('data.txt', 'r') as f:`<br>`    content = f.read()`  | No need to manually call `f.close()`     |\n",
        "| **Creating a New File**       | Create new file only if it doesn’t exist                        | `open('newfile.txt', 'x')`                                     | Creates a new file, error if it exists   |\n",
        "| **Error Handling**            | Catch file errors like missing file using `try-except`          | `try: open('no.txt') except FileNotFoundError: print(\"Missing\")`| Prevents crash if file not found         |\n",
        "| **Deleting a File**           | Use `os.remove()` after importing `os` module                   | `import os`<br>`os.remove('data.txt')`                         | Deletes specified file                  |\n",
        "| **Checking if File Exists**   | Check before deleting or opening                                | `import os`<br>`os.path.exists('data.txt')`                    | Returns `True` or `False`                |"
      ],
      "metadata": {
        "id": "kc-kQD4IUj_a"
      },
      "id": "kc-kQD4IUj_a"
    },
    {
      "cell_type": "code",
      "source": [
        "file=open('maths2.txt','r')\n",
        "for i in file.readlines():\n",
        "  print(i)"
      ],
      "metadata": {
        "colab": {
          "base_uri": "https://localhost:8080/",
          "height": 176
        },
        "id": "BIzimRXGT5HJ",
        "outputId": "63ba5b90-53ee-4535-afcb-4b6ed626d085"
      },
      "id": "BIzimRXGT5HJ",
      "execution_count": null,
      "outputs": [
        {
          "output_type": "error",
          "ename": "FileNotFoundError",
          "evalue": "[Errno 2] No such file or directory: 'maths2.txt'",
          "traceback": [
            "\u001b[0;31m---------------------------------------------------------------------------\u001b[0m",
            "\u001b[0;31mFileNotFoundError\u001b[0m                         Traceback (most recent call last)",
            "\u001b[0;32m<ipython-input-130-c0867955b01a>\u001b[0m in \u001b[0;36m<cell line: 0>\u001b[0;34m()\u001b[0m\n\u001b[0;32m----> 1\u001b[0;31m \u001b[0mfile\u001b[0m\u001b[0;34m=\u001b[0m\u001b[0mopen\u001b[0m\u001b[0;34m(\u001b[0m\u001b[0;34m'maths2.txt'\u001b[0m\u001b[0;34m,\u001b[0m\u001b[0;34m'r'\u001b[0m\u001b[0;34m)\u001b[0m\u001b[0;34m\u001b[0m\u001b[0;34m\u001b[0m\u001b[0m\n\u001b[0m\u001b[1;32m      2\u001b[0m \u001b[0;32mfor\u001b[0m \u001b[0mi\u001b[0m \u001b[0;32min\u001b[0m \u001b[0mfile\u001b[0m\u001b[0;34m.\u001b[0m\u001b[0mreadlines\u001b[0m\u001b[0;34m(\u001b[0m\u001b[0;34m)\u001b[0m\u001b[0;34m:\u001b[0m\u001b[0;34m\u001b[0m\u001b[0;34m\u001b[0m\u001b[0m\n\u001b[1;32m      3\u001b[0m   \u001b[0mprint\u001b[0m\u001b[0;34m(\u001b[0m\u001b[0mi\u001b[0m\u001b[0;34m)\u001b[0m\u001b[0;34m\u001b[0m\u001b[0;34m\u001b[0m\u001b[0m\n",
            "\u001b[0;31mFileNotFoundError\u001b[0m: [Errno 2] No such file or directory: 'maths2.txt'"
          ]
        }
      ]
    },
    {
      "cell_type": "code",
      "source": [
        "file2=open('sample.txt','w')\n",
        "file2.write('Hello World Guvi 123')\n",
        "file2.close()"
      ],
      "metadata": {
        "id": "WnGtCDC4bjRd"
      },
      "id": "WnGtCDC4bjRd",
      "execution_count": null,
      "outputs": []
    },
    {
      "cell_type": "code",
      "source": [
        "file2=open('sample.txt','r')\n",
        "for i in file2.readlines():\n",
        "  print(i)\n",
        "file2.close()"
      ],
      "metadata": {
        "colab": {
          "base_uri": "https://localhost:8080/"
        },
        "id": "MF2p-Ognj-_s",
        "outputId": "d41ad2d3-f086-4229-c6e3-be1873264a85"
      },
      "id": "MF2p-Ognj-_s",
      "execution_count": null,
      "outputs": [
        {
          "output_type": "stream",
          "name": "stdout",
          "text": [
            "Hello World Guvi 123\n"
          ]
        }
      ]
    },
    {
      "cell_type": "code",
      "source": [
        "file3=open('/content/Testing/guvi.txt','r') # File path , Mode\n",
        "for i in file3.readlines():\n",
        "  print(i)\n",
        "file3.close()"
      ],
      "metadata": {
        "colab": {
          "base_uri": "https://localhost:8080/"
        },
        "id": "dnUcMubbj-9I",
        "outputId": "6625a4dd-ae12-4f84-b00b-a1baaad5572b"
      },
      "id": "dnUcMubbj-9I",
      "execution_count": null,
      "outputs": [
        {
          "output_type": "stream",
          "name": "stdout",
          "text": [
            "Hi Guvi\n"
          ]
        }
      ]
    },
    {
      "cell_type": "code",
      "source": [
        "with open('/content/Testing/guvi.txt','r') as guvi_file:\n",
        "  for i in guvi_file.readlines():\n",
        "    print(i)\n"
      ],
      "metadata": {
        "colab": {
          "base_uri": "https://localhost:8080/"
        },
        "id": "R9SwkOviCPJw",
        "outputId": "3453f7de-a807-4ebe-f1dc-d8acfea7ceba"
      },
      "id": "R9SwkOviCPJw",
      "execution_count": null,
      "outputs": [
        {
          "output_type": "stream",
          "name": "stdout",
          "text": [
            "Hi Guvi\n",
            "\n",
            "Hi Everyone\n"
          ]
        }
      ]
    },
    {
      "cell_type": "code",
      "source": [
        "with open('/content/Testing/guvi.txt','w') as guvi_file: # 'w' will overwrite the file\n",
        "  guvi_file.write('Hello Guvi')"
      ],
      "metadata": {
        "id": "yEbt5lF-DeY2"
      },
      "id": "yEbt5lF-DeY2",
      "execution_count": null,
      "outputs": []
    },
    {
      "cell_type": "code",
      "source": [
        "with open('/content/Testing/guvi.txt','a') as guvi_file:\n",
        "  guvi_file.write('HI MDT51')"
      ],
      "metadata": {
        "id": "i2lLkXHLDeWd"
      },
      "id": "i2lLkXHLDeWd",
      "execution_count": null,
      "outputs": []
    },
    {
      "cell_type": "code",
      "source": [
        "with open('/content/Testing/guvi.txt','a') as guvi_file:\n",
        "  guvi_file.write('\\nHI MDT51')"
      ],
      "metadata": {
        "id": "SOV4u7_CDeUD"
      },
      "id": "SOV4u7_CDeUD",
      "execution_count": null,
      "outputs": []
    },
    {
      "cell_type": "code",
      "source": [
        "with open('/content/Testing/guvi.txt','a') as guvi_file:\n",
        "  guvi_file.write('\\twelcome to the session')"
      ],
      "metadata": {
        "id": "HWQli38oEhRd"
      },
      "id": "HWQli38oEhRd",
      "execution_count": null,
      "outputs": []
    },
    {
      "cell_type": "code",
      "source": [
        "with open('/content/Testing/guvi.txt','r') as guvi_file:\n",
        "  for i in guvi_file.readlines():\n",
        "    print(i)"
      ],
      "metadata": {
        "colab": {
          "base_uri": "https://localhost:8080/"
        },
        "id": "TldnHShqE8GY",
        "outputId": "5e8e88fa-17e5-4c53-cb66-d7462588d8a1"
      },
      "id": "TldnHShqE8GY",
      "execution_count": null,
      "outputs": [
        {
          "output_type": "stream",
          "name": "stdout",
          "text": [
            "Hello GuviHI MDT51/nHI MDT51\n",
            "\n",
            "HI MDT51\twelcome to the session\n",
            "\n",
            "cjkabakjb\n",
            "\n",
            "ajhafakhfwk\n",
            "\n",
            "ahfvfq\n"
          ]
        }
      ]
    },
    {
      "cell_type": "code",
      "source": [
        "with open('/content/Testing/guvi.txt','r') as guvi_file:\n",
        "  lines=guvi_file.readlines()\n",
        "  print(lines)\n",
        "  lines=lines[:2]\n",
        "  print(lines)\n"
      ],
      "metadata": {
        "colab": {
          "base_uri": "https://localhost:8080/"
        },
        "id": "jcsb0gJCE8EA",
        "outputId": "fb649620-ca61-442c-b24e-b4754b233161"
      },
      "id": "jcsb0gJCE8EA",
      "execution_count": null,
      "outputs": [
        {
          "output_type": "stream",
          "name": "stdout",
          "text": [
            "['Hello GuviHI MDT51/nHI MDT51\\n', 'HI MDT51\\twelcome to the session\\n', 'cjkabakjb\\n', 'ajhafakhfwk\\n', 'ahfvfq']\n",
            "['Hello GuviHI MDT51/nHI MDT51\\n', 'HI MDT51\\twelcome to the session\\n']\n"
          ]
        }
      ]
    },
    {
      "cell_type": "code",
      "source": [
        "with open('/content/Testing/guvi.txt','w') as guvi_file:\n",
        "  guvi_file.writelines(lines)"
      ],
      "metadata": {
        "id": "Dfy0sju7E8By"
      },
      "id": "Dfy0sju7E8By",
      "execution_count": null,
      "outputs": []
    },
    {
      "cell_type": "code",
      "source": [],
      "metadata": {
        "id": "w-j5rwzdE74N"
      },
      "id": "w-j5rwzdE74N",
      "execution_count": null,
      "outputs": []
    },
    {
      "cell_type": "markdown",
      "source": [
        "#### Task"
      ],
      "metadata": {
        "id": "pfGb9vXtHFVF"
      },
      "id": "pfGb9vXtHFVF"
    },
    {
      "cell_type": "code",
      "source": [
        "math_operations=[]\n",
        "with open('/content/maths.txt','r') as maths_file:\n",
        "  for i in maths_file.readlines():\n",
        "    print(i)\n",
        "    math_operations.append(i)\n",
        "\n"
      ],
      "metadata": {
        "colab": {
          "base_uri": "https://localhost:8080/"
        },
        "id": "E12s-ui1HCYz",
        "outputId": "971fd892-1974-44b9-920d-419c5e62cccc"
      },
      "id": "E12s-ui1HCYz",
      "execution_count": null,
      "outputs": [
        {
          "output_type": "stream",
          "name": "stdout",
          "text": [
            "5 + 6\n",
            "\n",
            "3 - 9\n",
            "\n",
            "5 sqr\n",
            "\n",
            "10 log\n",
            "\n",
            "1.5567 floor\n",
            "\n",
            "35\n"
          ]
        }
      ]
    },
    {
      "cell_type": "code",
      "source": [
        "math_operations"
      ],
      "metadata": {
        "colab": {
          "base_uri": "https://localhost:8080/"
        },
        "id": "HRECDInfHCWq",
        "outputId": "6281cec3-857f-46f3-cbb0-f390224cc420"
      },
      "id": "HRECDInfHCWq",
      "execution_count": null,
      "outputs": [
        {
          "output_type": "execute_result",
          "data": {
            "text/plain": [
              "['5 + 6\\n', '3 - 9\\n', '5 sqr\\n', '10 log\\n', '1.5567 floor\\n', '35']"
            ]
          },
          "metadata": {},
          "execution_count": 152
        }
      ]
    },
    {
      "cell_type": "code",
      "source": [
        "dir(str)"
      ],
      "metadata": {
        "colab": {
          "base_uri": "https://localhost:8080/"
        },
        "id": "p1B9ZSmpHCUZ",
        "outputId": "1cf1574c-72e1-4b3e-f81b-89eedebdf167"
      },
      "id": "p1B9ZSmpHCUZ",
      "execution_count": null,
      "outputs": [
        {
          "output_type": "execute_result",
          "data": {
            "text/plain": [
              "['__add__',\n",
              " '__class__',\n",
              " '__contains__',\n",
              " '__delattr__',\n",
              " '__dir__',\n",
              " '__doc__',\n",
              " '__eq__',\n",
              " '__format__',\n",
              " '__ge__',\n",
              " '__getattribute__',\n",
              " '__getitem__',\n",
              " '__getnewargs__',\n",
              " '__getstate__',\n",
              " '__gt__',\n",
              " '__hash__',\n",
              " '__init__',\n",
              " '__init_subclass__',\n",
              " '__iter__',\n",
              " '__le__',\n",
              " '__len__',\n",
              " '__lt__',\n",
              " '__mod__',\n",
              " '__mul__',\n",
              " '__ne__',\n",
              " '__new__',\n",
              " '__reduce__',\n",
              " '__reduce_ex__',\n",
              " '__repr__',\n",
              " '__rmod__',\n",
              " '__rmul__',\n",
              " '__setattr__',\n",
              " '__sizeof__',\n",
              " '__str__',\n",
              " '__subclasshook__',\n",
              " 'capitalize',\n",
              " 'casefold',\n",
              " 'center',\n",
              " 'count',\n",
              " 'encode',\n",
              " 'endswith',\n",
              " 'expandtabs',\n",
              " 'find',\n",
              " 'format',\n",
              " 'format_map',\n",
              " 'index',\n",
              " 'isalnum',\n",
              " 'isalpha',\n",
              " 'isascii',\n",
              " 'isdecimal',\n",
              " 'isdigit',\n",
              " 'isidentifier',\n",
              " 'islower',\n",
              " 'isnumeric',\n",
              " 'isprintable',\n",
              " 'isspace',\n",
              " 'istitle',\n",
              " 'isupper',\n",
              " 'join',\n",
              " 'ljust',\n",
              " 'lower',\n",
              " 'lstrip',\n",
              " 'maketrans',\n",
              " 'partition',\n",
              " 'removeprefix',\n",
              " 'removesuffix',\n",
              " 'replace',\n",
              " 'rfind',\n",
              " 'rindex',\n",
              " 'rjust',\n",
              " 'rpartition',\n",
              " 'rsplit',\n",
              " 'rstrip',\n",
              " 'split',\n",
              " 'splitlines',\n",
              " 'startswith',\n",
              " 'strip',\n",
              " 'swapcase',\n",
              " 'title',\n",
              " 'translate',\n",
              " 'upper',\n",
              " 'zfill']"
            ]
          },
          "metadata": {},
          "execution_count": 153
        }
      ]
    },
    {
      "cell_type": "code",
      "source": [
        "math_operations"
      ],
      "metadata": {
        "colab": {
          "base_uri": "https://localhost:8080/"
        },
        "id": "6mR9GkXXHCSD",
        "outputId": "8a8e2820-d075-495e-df89-0d500eaa1689"
      },
      "id": "6mR9GkXXHCSD",
      "execution_count": null,
      "outputs": [
        {
          "output_type": "execute_result",
          "data": {
            "text/plain": [
              "['5 + 6\\n', '3 - 9\\n', '5 sqr\\n', '10 log\\n', '1.5567 floor\\n', '35']"
            ]
          },
          "metadata": {},
          "execution_count": 154
        }
      ]
    },
    {
      "cell_type": "code",
      "source": [
        "math_operations=[i.strip() for i in math_operations]"
      ],
      "metadata": {
        "id": "u9pHK39dHCO8"
      },
      "id": "u9pHK39dHCO8",
      "execution_count": null,
      "outputs": []
    },
    {
      "cell_type": "code",
      "source": [
        "math_operations"
      ],
      "metadata": {
        "colab": {
          "base_uri": "https://localhost:8080/"
        },
        "id": "eyU3RJ10HCNA",
        "outputId": "69019129-1836-4a80-bdd1-293a5dce0351"
      },
      "id": "eyU3RJ10HCNA",
      "execution_count": null,
      "outputs": [
        {
          "output_type": "execute_result",
          "data": {
            "text/plain": [
              "['5 + 6', '3 - 9', '5 sqr', '10 log', '1.5567 floor', '35']"
            ]
          },
          "metadata": {},
          "execution_count": 159
        }
      ]
    },
    {
      "cell_type": "code",
      "source": [
        "A='d/b/g'\n",
        "A.split('/')"
      ],
      "metadata": {
        "colab": {
          "base_uri": "https://localhost:8080/"
        },
        "id": "fPvsgOyAHCJ2",
        "outputId": "295b45d7-b59d-4939-b659-a90bf9247d6d"
      },
      "id": "fPvsgOyAHCJ2",
      "execution_count": null,
      "outputs": [
        {
          "output_type": "execute_result",
          "data": {
            "text/plain": [
              "['d', 'b', 'g']"
            ]
          },
          "metadata": {},
          "execution_count": 164
        }
      ]
    },
    {
      "cell_type": "code",
      "source": [
        "math_operations=[i.split() for i in math_operations]\n",
        "math_operations"
      ],
      "metadata": {
        "colab": {
          "base_uri": "https://localhost:8080/"
        },
        "id": "HOH2y31hI68b",
        "outputId": "87882f32-bb62-47be-d944-2aa6c27045fa"
      },
      "id": "HOH2y31hI68b",
      "execution_count": null,
      "outputs": [
        {
          "output_type": "execute_result",
          "data": {
            "text/plain": [
              "[['5', '+', '6'],\n",
              " ['3', '-', '9'],\n",
              " ['5', 'sqr'],\n",
              " ['10', 'log'],\n",
              " ['1.5567', 'floor'],\n",
              " ['35']]"
            ]
          },
          "metadata": {},
          "execution_count": 165
        }
      ]
    },
    {
      "cell_type": "code",
      "source": [
        "def Calc(**maths):\n",
        "  if maths['operation']=='+':\n",
        "    return float(maths['a'])+float(maths['b'])\n",
        "  elif maths['operation']=='-':\n",
        "    return float(maths['a'])-float(maths['b'])\n",
        "  elif maths['operation']=='sqr':\n",
        "    return int(maths['a'])**2\n"
      ],
      "metadata": {
        "id": "05EtSZemJMIR"
      },
      "id": "05EtSZemJMIR",
      "execution_count": null,
      "outputs": []
    },
    {
      "cell_type": "code",
      "source": [
        "Calc(a=10.68,operation='+',b=20)"
      ],
      "metadata": {
        "colab": {
          "base_uri": "https://localhost:8080/"
        },
        "id": "UPojBjA7N9J0",
        "outputId": "6c6d03c5-3a9a-4a33-f740-4161c8533c2c"
      },
      "id": "UPojBjA7N9J0",
      "execution_count": null,
      "outputs": [
        {
          "output_type": "execute_result",
          "data": {
            "text/plain": [
              "30.68"
            ]
          },
          "metadata": {},
          "execution_count": 65
        }
      ]
    },
    {
      "cell_type": "code",
      "source": [
        "with open('/content/maths.txt','r') as maths_file:\n",
        "    for i in maths_file.readlines():\n",
        "      print(i)"
      ],
      "metadata": {
        "colab": {
          "base_uri": "https://localhost:8080/"
        },
        "id": "JNqGswjYN9HC",
        "outputId": "735efbf2-6fdd-44cb-d575-95a5b8ccc365"
      },
      "id": "JNqGswjYN9HC",
      "execution_count": null,
      "outputs": [
        {
          "output_type": "stream",
          "name": "stdout",
          "text": [
            "5 + 6\n",
            "\n",
            "3 - 8\n",
            "\n",
            "6 sqr\n"
          ]
        }
      ]
    },
    {
      "cell_type": "code",
      "source": [
        "def new_maths(file_name):\n",
        "  math_operations=[]\n",
        "  with open(file_name,'r') as maths_file:\n",
        "    for i in maths_file.readlines():\n",
        "      math_operations.append(i)\n",
        "  math_operations=[i.strip() for i in math_operations]\n",
        "  math_operations=[i.split() for i in math_operations]\n",
        "\n",
        "  for i,val in enumerate(math_operations):\n",
        "\n",
        "      if len(val)==3:\n",
        "        res=Calc(a=val[0],operation=val[1],b=val[2])\n",
        "        val.append('= '+str(res))\n",
        "      elif len(val)==2:\n",
        "        res=Calc(a=val[0],operation=val[1])\n",
        "        val.append('= '+str(res))\n",
        "\n",
        "\n",
        "  return math_operations\n",
        "\n",
        "\n",
        "\n",
        "\n"
      ],
      "metadata": {
        "id": "iwQ_d-2uLyyk"
      },
      "id": "iwQ_d-2uLyyk",
      "execution_count": null,
      "outputs": []
    },
    {
      "cell_type": "code",
      "source": [
        "new_maths('maths.txt')"
      ],
      "metadata": {
        "colab": {
          "base_uri": "https://localhost:8080/"
        },
        "id": "grAs1840LysX",
        "outputId": "b41c3308-a08a-40b4-82fc-a1f089911174"
      },
      "id": "grAs1840LysX",
      "execution_count": null,
      "outputs": [
        {
          "output_type": "execute_result",
          "data": {
            "text/plain": [
              "[['5', '+', '6', '= 11.0'], ['3', '-', '8', '= -5.0'], ['6', 'sqr', '= 36']]"
            ]
          },
          "metadata": {},
          "execution_count": 68
        }
      ]
    },
    {
      "cell_type": "code",
      "source": [
        "Results=new_maths('maths.txt')\n",
        "Results"
      ],
      "metadata": {
        "colab": {
          "base_uri": "https://localhost:8080/"
        },
        "id": "tA5smbsBUvO1",
        "outputId": "90fd233b-7cdc-444b-dbb8-512c2a7a87e0"
      },
      "id": "tA5smbsBUvO1",
      "execution_count": null,
      "outputs": [
        {
          "output_type": "execute_result",
          "data": {
            "text/plain": [
              "[['5', '+', '6', '= 11.0'], ['3', '-', '8', '= -5.0'], ['6', 'sqr', '= 36']]"
            ]
          },
          "metadata": {},
          "execution_count": 69
        }
      ]
    },
    {
      "cell_type": "code",
      "source": [
        "with open('maths.txt','w') as maths_file:\n",
        "    for i in Results:\n",
        "      s=\" \".join(i)\n",
        "      maths_file.write(str(s)+'\\n')"
      ],
      "metadata": {
        "id": "ns-Y1RprLyfK"
      },
      "id": "ns-Y1RprLyfK",
      "execution_count": null,
      "outputs": []
    },
    {
      "cell_type": "code",
      "source": [
        "A=['5', '+', '6', '= 11.0']\n",
        "\n",
        "' '.join(A)"
      ],
      "metadata": {
        "colab": {
          "base_uri": "https://localhost:8080/",
          "height": 35
        },
        "id": "3h3pMKaMLybl",
        "outputId": "cbb28a18-4fc3-455a-e78f-d2b00443b291"
      },
      "id": "3h3pMKaMLybl",
      "execution_count": null,
      "outputs": [
        {
          "output_type": "execute_result",
          "data": {
            "text/plain": [
              "'5 + 6 = 11.0'"
            ],
            "application/vnd.google.colaboratory.intrinsic+json": {
              "type": "string"
            }
          },
          "metadata": {},
          "execution_count": 71
        }
      ]
    },
    {
      "cell_type": "markdown",
      "source": [
        "Take Home Task To Calculate the numbers by reading from file and update the result:\n",
        "\n",
        "5 + 8\n",
        "\n",
        "12 - 4\n",
        "\n",
        "6 * 7\n",
        "\n",
        "49 / 7\n",
        "\n",
        "9 sqr\n",
        "\n",
        "16 sqrt\n",
        "\n",
        "100 log\n",
        "\n",
        "2 ** 8\n",
        "\n",
        "15 + 6\n",
        "\n",
        "25 - 10\n",
        "\n",
        "11 * 3\n",
        "\n",
        "81 sqrt\n",
        "\n",
        "64 log\n",
        "\n",
        "7 ** 2\n",
        "\n",
        "9 + 14\n",
        "\n",
        "18 - 3\n",
        "\n",
        "5 log\n",
        "\n",
        "36 sqrt\n",
        "\n",
        "6 * 12\n",
        "\n",
        "144 / 12"
      ],
      "metadata": {
        "id": "dFTEl2dFYEUH"
      },
      "id": "dFTEl2dFYEUH"
    },
    {
      "cell_type": "markdown",
      "source": [
        "## Debugging in Python (4/5/2025)"
      ],
      "metadata": {
        "id": "PInMA4VATh6w"
      },
      "id": "PInMA4VATh6w"
    },
    {
      "cell_type": "markdown",
      "source": [
        "| Method        | What It Does                             | Example Code                         |\n",
        "|---------------|-------------------------------------------|--------------------------------------|\n",
        "| `print()`     | Shows variable values or messages         | `print(\"x =\", x)`                    |\n",
        "| Error Message | Python tells you what went wrong          | `TypeError: unsupported operand`     |\n",
        "| `assert`      | Stops code if a condition is not true     | `assert age > 0, \"Age must be +ve\"` |\n",
        "| Commenting    | Temporarily disable parts of your code    | `# print(\"debug this\")`              |\n",
        "| Step by step  | Run your code line by line (in IDEs)      | Use \"Run by line\" in VS Code         |"
      ],
      "metadata": {
        "id": "sag4xk6lj_XI"
      },
      "id": "sag4xk6lj_XI"
    },
    {
      "cell_type": "code",
      "source": [
        "10+78\n",
        "\n"
      ],
      "metadata": {
        "colab": {
          "base_uri": "https://localhost:8080/"
        },
        "id": "s3w-Oeowmg4L",
        "outputId": "140b1e05-65d9-440b-af7d-d079e21dbdd0"
      },
      "id": "s3w-Oeowmg4L",
      "execution_count": null,
      "outputs": [
        {
          "output_type": "execute_result",
          "data": {
            "text/plain": [
              "88"
            ]
          },
          "metadata": {},
          "execution_count": 1
        }
      ]
    },
    {
      "cell_type": "code",
      "source": [
        "'10'+'78'"
      ],
      "metadata": {
        "colab": {
          "base_uri": "https://localhost:8080/",
          "height": 36
        },
        "id": "ATsyzLxlycre",
        "outputId": "e390d78a-3ddb-43f2-d7b4-67c7bb3077d5"
      },
      "id": "ATsyzLxlycre",
      "execution_count": null,
      "outputs": [
        {
          "output_type": "execute_result",
          "data": {
            "text/plain": [
              "'1078'"
            ],
            "application/vnd.google.colaboratory.intrinsic+json": {
              "type": "string"
            }
          },
          "metadata": {},
          "execution_count": 2
        }
      ]
    },
    {
      "cell_type": "code",
      "source": [
        "10*'w'"
      ],
      "metadata": {
        "colab": {
          "base_uri": "https://localhost:8080/",
          "height": 36
        },
        "id": "Qe5cZCFryiJh",
        "outputId": "17b2ee87-cb3c-4ea6-850b-8ed992194d87"
      },
      "id": "Qe5cZCFryiJh",
      "execution_count": null,
      "outputs": [
        {
          "output_type": "execute_result",
          "data": {
            "text/plain": [
              "'wwwwwwwwww'"
            ],
            "application/vnd.google.colaboratory.intrinsic+json": {
              "type": "string"
            }
          },
          "metadata": {},
          "execution_count": 5
        }
      ]
    },
    {
      "cell_type": "code",
      "source": [
        "10*5"
      ],
      "metadata": {
        "colab": {
          "base_uri": "https://localhost:8080/"
        },
        "id": "SRwjInJAyiCv",
        "outputId": "a4c6245a-2c7a-45ac-ad71-5e572339671f"
      },
      "id": "SRwjInJAyiCv",
      "execution_count": null,
      "outputs": [
        {
          "output_type": "execute_result",
          "data": {
            "text/plain": [
              "50"
            ]
          },
          "metadata": {},
          "execution_count": 4
        }
      ]
    },
    {
      "cell_type": "markdown",
      "source": [
        "#### Error Handling"
      ],
      "metadata": {
        "id": "ya-HlrdoJCMf"
      },
      "id": "ya-HlrdoJCMf"
    },
    {
      "cell_type": "code",
      "source": [
        "with open('maths.txt','r') as maths_file:\n",
        "  for i in maths_file.readlines():\n",
        "    print(i)"
      ],
      "metadata": {
        "colab": {
          "base_uri": "https://localhost:8080/",
          "height": 176
        },
        "id": "iHkRTK0rJBtl",
        "outputId": "3b9a31ae-25fc-495c-dfb0-76129603bc0f"
      },
      "id": "iHkRTK0rJBtl",
      "execution_count": null,
      "outputs": [
        {
          "output_type": "error",
          "ename": "FileNotFoundError",
          "evalue": "[Errno 2] No such file or directory: 'maths.txt'",
          "traceback": [
            "\u001b[0;31m---------------------------------------------------------------------------\u001b[0m",
            "\u001b[0;31mFileNotFoundError\u001b[0m                         Traceback (most recent call last)",
            "\u001b[0;32m<ipython-input-76-abf58324163e>\u001b[0m in \u001b[0;36m<cell line: 0>\u001b[0;34m()\u001b[0m\n\u001b[0;32m----> 1\u001b[0;31m \u001b[0;32mwith\u001b[0m \u001b[0mopen\u001b[0m\u001b[0;34m(\u001b[0m\u001b[0;34m'maths.txt'\u001b[0m\u001b[0;34m,\u001b[0m\u001b[0;34m'r'\u001b[0m\u001b[0;34m)\u001b[0m \u001b[0;32mas\u001b[0m \u001b[0mmaths_file\u001b[0m\u001b[0;34m:\u001b[0m\u001b[0;34m\u001b[0m\u001b[0;34m\u001b[0m\u001b[0m\n\u001b[0m\u001b[1;32m      2\u001b[0m   \u001b[0;32mfor\u001b[0m \u001b[0mi\u001b[0m \u001b[0;32min\u001b[0m \u001b[0mmaths_file\u001b[0m\u001b[0;34m.\u001b[0m\u001b[0mreadlines\u001b[0m\u001b[0;34m(\u001b[0m\u001b[0;34m)\u001b[0m\u001b[0;34m:\u001b[0m\u001b[0;34m\u001b[0m\u001b[0;34m\u001b[0m\u001b[0m\n\u001b[1;32m      3\u001b[0m     \u001b[0mprint\u001b[0m\u001b[0;34m(\u001b[0m\u001b[0mi\u001b[0m\u001b[0;34m)\u001b[0m\u001b[0;34m\u001b[0m\u001b[0;34m\u001b[0m\u001b[0m\n",
            "\u001b[0;31mFileNotFoundError\u001b[0m: [Errno 2] No such file or directory: 'maths.txt'"
          ]
        }
      ]
    },
    {
      "cell_type": "code",
      "source": [
        "try:\n",
        "  with open('maths2.txt','r') as maths_file:\n",
        "    for i in maths_file.readlines():\n",
        "      print(i)\n",
        "except :\n",
        "  print('File Not Found')"
      ],
      "metadata": {
        "colab": {
          "base_uri": "https://localhost:8080/"
        },
        "id": "JhtTXjsdJBrX",
        "outputId": "cd00cb2a-8f39-4f3d-ad99-dbc471ac46e4"
      },
      "id": "JhtTXjsdJBrX",
      "execution_count": null,
      "outputs": [
        {
          "output_type": "stream",
          "name": "stdout",
          "text": [
            "File Not Found\n"
          ]
        }
      ]
    },
    {
      "cell_type": "code",
      "source": [
        "try:\n",
        "  with open('maths2.txt','r') as maths_file:\n",
        "    for i in maths_file.readlines():\n",
        "      print(i)\n",
        "except FileNotFoundError as eerror:\n",
        "  print(f'File Not Found : {eerror}')\n",
        "\n",
        "except Exception as e:\n",
        "  print(f'Exception : {e}')"
      ],
      "metadata": {
        "colab": {
          "base_uri": "https://localhost:8080/"
        },
        "id": "clkVWtpEJBpc",
        "outputId": "0f85aa31-f867-4e7d-80fd-5ed8adbddc71"
      },
      "id": "clkVWtpEJBpc",
      "execution_count": null,
      "outputs": [
        {
          "output_type": "stream",
          "name": "stdout",
          "text": [
            "File Not Found : [Errno 2] No such file or directory: 'maths2.txt'\n"
          ]
        }
      ]
    },
    {
      "cell_type": "code",
      "source": [
        "try:\n",
        "  with open('maths2.txt','r') as maths_file:\n",
        "    for i in maths_file.readlines():\n",
        "      print(i)\n",
        "\n",
        "\n",
        "except Exception as e:\n",
        "  print(f'Exception : {e}')"
      ],
      "metadata": {
        "colab": {
          "base_uri": "https://localhost:8080/"
        },
        "id": "sRdJlIJSJBng",
        "outputId": "911c2aaf-57ed-4bab-c9c3-eefd9e82d52a"
      },
      "id": "sRdJlIJSJBng",
      "execution_count": null,
      "outputs": [
        {
          "output_type": "stream",
          "name": "stdout",
          "text": [
            "Exception : [Errno 2] No such file or directory: 'maths2.txt'\n"
          ]
        }
      ]
    },
    {
      "cell_type": "code",
      "source": [],
      "metadata": {
        "id": "gwUzsulhJBlN"
      },
      "id": "gwUzsulhJBlN",
      "execution_count": null,
      "outputs": []
    },
    {
      "cell_type": "markdown",
      "source": [
        "## OOPS - Object Oriented Programming System (Class And Object)--(4/5/2025)"
      ],
      "metadata": {
        "id": "uQGUJ25hVH-A"
      },
      "id": "uQGUJ25hVH-A"
    },
    {
      "cell_type": "markdown",
      "source": [
        "\n",
        " ![](https://essinstitute.in/wp-content/uploads/2023/09/oop-concepts-in-c-1024x576.jpg)"
      ],
      "metadata": {
        "id": "3O3f18k8Wdfo"
      },
      "id": "3O3f18k8Wdfo"
    },
    {
      "cell_type": "markdown",
      "source": [
        "**Class And Boject**"
      ],
      "metadata": {
        "id": "B6V6Xv19rWwf"
      },
      "id": "B6V6Xv19rWwf"
    },
    {
      "cell_type": "markdown",
      "source": [
        "![](https://intellipaat.com/mediaFiles/2019/03/python10.png)"
      ],
      "metadata": {
        "id": "RVeR_7f2q_Lo"
      },
      "id": "RVeR_7f2q_Lo"
    },
    {
      "cell_type": "markdown",
      "source": [
        "**Attributes and Functions**"
      ],
      "metadata": {
        "id": "YhyFS2BSrcWA"
      },
      "id": "YhyFS2BSrcWA"
    },
    {
      "cell_type": "markdown",
      "source": [
        "![](https://media.licdn.com/dms/image/v2/D4D12AQGVtxUoo98S9w/article-inline_image-shrink_1000_1488/article-inline_image-shrink_1000_1488/0/1700419902935?e=1750291200&v=beta&t=f6B91Cz7BdtLS3ABfxWWofsS-v_gmkDYa_WIwjXy2No)"
      ],
      "metadata": {
        "id": "Eogbj9G6qiqn"
      },
      "id": "Eogbj9G6qiqn"
    },
    {
      "cell_type": "markdown",
      "source": [
        "\n",
        "\n",
        "\n",
        "\n",
        "\n",
        " 🧑‍🏫 Python OOPs – All-in-One Detailed Table\n",
        "\n",
        "| **Concept**          | **Description**                                                                 | **Python Syntax / Keyword**                                    | **Example / Explanation**                                                                                      |\n",
        "|----------------------|----------------------------------------------------------------------------------|----------------------------------------------------------------|------------------------------------------------------------------------------------------------------------------|\n",
        "| **Class**            | A blueprint for creating user-defined objects                                    | `class ClassName:`                                             | `class Person:` defines a class to represent people                                                              |\n",
        "| **Object**           | An instance of a class, with actual data                                         | `obj = ClassName()`                                            | `p1 = Person()` creates an object `p1` of class `Person`                                                        |\n",
        "| **Constructor**      | Special method that runs when an object is created                               | `def __init__(self):`                                          | Used to set default values for object attributes                                                                 |\n",
        "| **`self` Keyword**   | Refers to the current instance of the class                                      | `self.attribute = value`                                       | Needed in all class methods to access the object's data                                                         |\n",
        "| **Attribute**        | Variable stored in object; defines its data                                      | `self.name = \"Ram\"`                                            | Object attribute accessed using `obj.name`                                                                      |\n",
        "| **Method**           | Function defined inside a class                                                  | `def greet(self):`                                             | Behaviors like `walk()`, `speak()` defined inside the class                                                     |\n",
        "\n",
        "![](https://media.licdn.com/dms/image/v2/C5612AQG77xNiemJQjQ/article-cover_image-shrink_600_2000/article-cover_image-shrink_600_2000/0/1549825687414?e=2147483647&v=beta&t=EqEgvE5dnY8_eV80B37BYEj4T3i8SKAlYBiMM9WWh14)\n",
        "---\n",
        "\n",
        " 🔐 Encapsulation\n",
        "\n",
        "| **What**                      | **Description**                                                     | **Python Feature**                   | **Example / Benefit**                                                                 |\n",
        "|-------------------------------|----------------------------------------------------------------------|--------------------------------------|----------------------------------------------------------------------------------------|\n",
        "| **Encapsulation**             | Binding of data and methods in a single unit                        | Class + private variables            | `__balance` hides data; only accessed via methods                                     |\n",
        "| **Private Attributes**        | Data hidden from outside access                                     | Prefix variable with `__`            | `self.__salary` cannot be accessed directly from outside                             |\n",
        "| **Getter/Setter Methods**     | Methods used to access/update private data                         | `get_value()` / `set_value()`        | Controlled access — secure and validated changes                                      |\n",
        "\n",
        "---\n",
        "\n",
        " 📦 Abstraction\n",
        "\n",
        "| **What**                | **Description**                                                   | **Python Technique**                     | **Example / Benefit**                                                             |\n",
        "|-------------------------|--------------------------------------------------------------------|------------------------------------------|------------------------------------------------------------------------------------|\n",
        "| **Abstraction**         | Hiding complex internal logic, showing only important features     | Abstract base classes / function hiding  | ATM: You use `withdraw()`, not how it works inside                                 |\n",
        "| **Abstract Class**      | Class that can't be instantiated, only inherited                  | `from abc import ABC, abstractmethod`    | Defines interface/contract for subclasses                                         |\n",
        "| **abstractmethod**      | Forces subclasses to implement the method                         | `@abstractmethod`                        | Forces each subclass to implement its own version                                 |\n",
        "\n",
        "---\n",
        "\n",
        " 👪 Inheritance\n",
        "\n",
        "| **What**                 | **Description**                                                  | **Python Syntax**                          | **Example / Use**                                                                 |\n",
        "|--------------------------|-------------------------------------------------------------------|---------------------------------------------|------------------------------------------------------------------------------------|\n",
        "| **Inheritance**          | One class inherits features from another                         | `class Child(Parent):`                      | `class Dog(Animal):` means `Dog` inherits from `Animal`                          |\n",
        "| **Single Inheritance**   | One parent, one child class                                       | `class B(A):`                               | `class Student(Person):`                                                         |\n",
        "| **Multiple Inheritance** | Child class inherits from more than one parent                   | `class C(A, B):`                            | `class Manager(Employee, Admin):`                                                |\n",
        "| **Multilevel Inheritance**| Inheritance of a class from a child class                        | `class C(B):` where `B` inherits `A`        | `class A → B → C` chain                                                          |\n",
        "| **Overriding**           | Redefining parent class method in child class                    | Same method name in child                   | `def show():` defined differently in both parent and child                        |\n",
        "| **`super()` Function**   | Call the parent class’s method or constructor                    | `super().__init__()`                        | Used to avoid code duplication                                                   |\n",
        "\n",
        "![](https://media.licdn.com/dms/image/v2/D5622AQHVYK023xVK7Q/feedshare-shrink_800/feedshare-shrink_800/0/1716288296384?e=2147483647&v=beta&t=fjfjFpoxbE_HxL2nyXvtwHUR0RTqF7rNP198fhOYPBg)\n",
        "---\n",
        "\n",
        " 🔁 Polymorphism\n",
        "\n",
        "| **What**                     | **Description**                                                  | **Python Example**                              | **Why It’s Useful**                                                                |\n",
        "|------------------------------|-------------------------------------------------------------------|--------------------------------------------------|-------------------------------------------------------------------------------------|\n",
        "| **Polymorphism**             | Same function behaves differently in different classes           | `def speak():` in both `Dog` and `Cat` classes  | One function name, different behaviors                                             |\n",
        "| **Method Overriding**        | Child class redefines method from parent                         | `class Dog(Animal): def sound():`               | Custom behavior in subclasses                                                      |\n",
        "| **Duck Typing**              | Python’s flexible typing — “If it walks like a duck...”          | `for animal in animals: animal.speak()`         | No need to check object type                                                       |\n",
        "| **Operator Overloading**     | Redefining how operators work for user-defined types             | `def __add__(self, other):`                     | Custom logic for `+`, `-`, etc. between objects                                    |\n",
        "\n",
        "![](https://i.stechies.com/userfiles/images/polymorphism-python.webp)\n",
        "\n",
        "---\n",
        "\n",
        " 🧠 OOPs Summary & Benefits\n",
        "\n",
        "| **Principle**     | **Helps You...**                                            | **Real-Life Analogy**                     |\n",
        "|--------------------|-------------------------------------------------------------|--------------------------------------------|\n",
        "| Encapsulation      | Keep data safe and hidden from direct access               | Medicine bottle has a cap                  |\n",
        "| Abstraction        | Hide complexity and show only necessary details             | ATM shows interface, hides backend logic   |\n",
        "| Inheritance        | Reuse code and build on existing logic                      | Child inherits traits from parent          |\n",
        "| Polymorphism       | Use same interface with different behaviors                 | One remote, many devices                    |\n",
        "\n",
        "---\n"
      ],
      "metadata": {
        "id": "eqcxzF7NU6rc"
      },
      "id": "eqcxzF7NU6rc"
    },
    {
      "cell_type": "markdown",
      "source": [
        "**Syntax**\n",
        "```\n",
        "class ClassName:\n",
        "    # Class attributes (shared by all instances)\n",
        "    class_attribute = value\n",
        "    \n",
        "    # Constructor method (initializes object)\n",
        "    def __init__(self, param1, param2):\n",
        "        # Instance attributes (unique to each instance)\n",
        "        self.attribute1 = param1\n",
        "        self.attribute2 = param2\n",
        "    \n",
        "    # Instance methods\n",
        "    def method_name(self, parameters):\n",
        "        # Method body\n",
        "        return something\n",
        "```\n",
        "\n",
        "\n",
        "```\n",
        "# Create an object by calling the class name like a function\n",
        "object_name = ClassName(argument1, argument2)\n",
        "\n",
        "# Access attributes\n",
        "print(object_name.attribute1)\n",
        "\n",
        "# Call methods\n",
        "object_name.method_name(arguments)\n",
        "```"
      ],
      "metadata": {
        "id": "dINS4ptGU--L"
      },
      "id": "dINS4ptGU--L"
    },
    {
      "cell_type": "markdown",
      "source": [
        "##### OOPS Theory\n",
        "\n",
        "https://wbd.ms/share/v2/aHR0cHM6Ly93aGl0ZWJvYXJkLm1pY3Jvc29mdC5jb20vYXBpL3YxLjAvd2hpdGVib2FyZHMvcmVkZWVtLzFkZWQzYWRmNTBlZDQ2ZWJiNjNmNzUyYzUwOGY0NTMyX0JCQTcxNzYyLTEyRTAtNDJFMS1CMzI0LTVCMTMxRjQyNEUzRF82NDZlNTcxNS03OGRiLTQwMTktYmM1ZC02NWU3ZWE0ZjllOWU="
      ],
      "metadata": {
        "id": "H3tlD9B8HlAW"
      },
      "id": "H3tlD9B8HlAW"
    },
    {
      "cell_type": "code",
      "source": [],
      "metadata": {
        "id": "FeruhzNmHktY"
      },
      "id": "FeruhzNmHktY",
      "execution_count": null,
      "outputs": []
    },
    {
      "cell_type": "markdown",
      "source": [
        "#### Hands-on Exercise For Class and Objects"
      ],
      "metadata": {
        "id": "prKlOWUfEYe4"
      },
      "id": "prKlOWUfEYe4"
    },
    {
      "cell_type": "code",
      "source": [
        "class employee:\n",
        "  bonus=20000\n",
        "  def __init__(self,Emp_id,Name,Dpt,Salary,Designation): # Constructor\n",
        "    self.Emp=Emp_id\n",
        "    self.Name=Name\n",
        "    self.Dpt=Dpt\n",
        "    self.Salary=Salary\n",
        "    self.Designation=Designation\n",
        "    self.company='Guvi'\n",
        "\n",
        "  def emp_info(self): # Method\n",
        "    print(f'Name is {self.Name}')\n",
        "    print(f'Emp_id is {self.Emp}')\n",
        "    print(f'Dpt is {self.Dpt}')\n",
        "    print(f'Salary is {self.Salary}')\n",
        "    print(f'Designation is {self.Designation}')\n",
        "    print(f'Company is {self.company}')"
      ],
      "metadata": {
        "id": "8KTCwR8X0M6s"
      },
      "id": "8KTCwR8X0M6s",
      "execution_count": null,
      "outputs": []
    },
    {
      "cell_type": "code",
      "source": [
        "emp_1=employee('E001','Suresh','IT',50000,'Manager')"
      ],
      "metadata": {
        "id": "x6u-RGtVEmMg"
      },
      "id": "x6u-RGtVEmMg",
      "execution_count": null,
      "outputs": []
    },
    {
      "cell_type": "code",
      "source": [
        "Amount=1000\n",
        "print(type(Amount))"
      ],
      "metadata": {
        "colab": {
          "base_uri": "https://localhost:8080/"
        },
        "id": "uEjQbEdK8xkR",
        "outputId": "abbed1b3-c77a-4030-acdd-fd8e97d633f8"
      },
      "id": "uEjQbEdK8xkR",
      "execution_count": null,
      "outputs": [
        {
          "output_type": "stream",
          "name": "stdout",
          "text": [
            "<class 'int'>\n"
          ]
        }
      ]
    },
    {
      "cell_type": "code",
      "source": [
        "emp_1.emp_info()"
      ],
      "metadata": {
        "colab": {
          "base_uri": "https://localhost:8080/"
        },
        "id": "QK9WwuwUEmB3",
        "outputId": "8dcc77ed-a75e-4b7d-e252-1a3af825c652"
      },
      "id": "QK9WwuwUEmB3",
      "execution_count": null,
      "outputs": [
        {
          "output_type": "stream",
          "name": "stdout",
          "text": [
            "Name is Suresh\n",
            "Emp_id is E001\n",
            "Dpt is IT\n",
            "Salary is 50000\n",
            "Designation is Manager\n",
            "Company is Guvi\n"
          ]
        }
      ]
    },
    {
      "cell_type": "code",
      "source": [
        "emp_1.Salary"
      ],
      "metadata": {
        "colab": {
          "base_uri": "https://localhost:8080/"
        },
        "id": "_4d0kcA0El-8",
        "outputId": "ac453dff-0458-4a38-a082-8f30e02f445d"
      },
      "id": "_4d0kcA0El-8",
      "execution_count": null,
      "outputs": [
        {
          "output_type": "execute_result",
          "data": {
            "text/plain": [
              "50000"
            ]
          },
          "metadata": {},
          "execution_count": 9
        }
      ]
    },
    {
      "cell_type": "code",
      "source": [
        "emp_1.Salary=100000"
      ],
      "metadata": {
        "id": "8KmzwNDj5yf7"
      },
      "id": "8KmzwNDj5yf7",
      "execution_count": null,
      "outputs": []
    },
    {
      "cell_type": "code",
      "source": [
        "emp_1.emp_info()"
      ],
      "metadata": {
        "colab": {
          "base_uri": "https://localhost:8080/"
        },
        "id": "aOqCqtcp5ydC",
        "outputId": "5bac2450-5e05-47d2-a686-baae4be0a29e"
      },
      "id": "aOqCqtcp5ydC",
      "execution_count": null,
      "outputs": [
        {
          "output_type": "stream",
          "name": "stdout",
          "text": [
            "Name is Suresh\n",
            "Emp_id is E001\n",
            "Dpt is IT\n",
            "Salary is 100000\n",
            "Designation is Manager\n",
            "Company is Guvi\n"
          ]
        }
      ]
    },
    {
      "cell_type": "code",
      "source": [
        "emp_1.company='TCS'"
      ],
      "metadata": {
        "id": "ahCbGqDU7y6c"
      },
      "id": "ahCbGqDU7y6c",
      "execution_count": null,
      "outputs": []
    },
    {
      "cell_type": "code",
      "source": [
        "emp_1.emp_info()"
      ],
      "metadata": {
        "colab": {
          "base_uri": "https://localhost:8080/"
        },
        "id": "ES2-M_8F72pM",
        "outputId": "bdad0a88-c555-4b65-8081-0b3523c6ea4e"
      },
      "id": "ES2-M_8F72pM",
      "execution_count": null,
      "outputs": [
        {
          "output_type": "stream",
          "name": "stdout",
          "text": [
            "Name is Suresh\n",
            "Emp_id is E001\n",
            "Dpt is IT\n",
            "Salary is 100000\n",
            "Designation is Manager\n",
            "Company is TCS\n"
          ]
        }
      ]
    },
    {
      "cell_type": "code",
      "source": [
        "emp_2=employee('E002','Prakas','Dev',10000,'Developer')"
      ],
      "metadata": {
        "id": "bOH68D9A5yZt"
      },
      "id": "bOH68D9A5yZt",
      "execution_count": null,
      "outputs": []
    },
    {
      "cell_type": "code",
      "source": [
        "emp_2.emp_info()"
      ],
      "metadata": {
        "colab": {
          "base_uri": "https://localhost:8080/"
        },
        "id": "8sqeoSI35yXJ",
        "outputId": "c930029f-e64d-402c-cc94-4a97becf3a3d"
      },
      "id": "8sqeoSI35yXJ",
      "execution_count": null,
      "outputs": [
        {
          "output_type": "stream",
          "name": "stdout",
          "text": [
            "Name is Prakas\n",
            "Emp_id is E002\n",
            "Dpt is Dev\n",
            "Salary is 10000\n",
            "Designation is Developer\n",
            "Company is Guvi\n"
          ]
        }
      ]
    },
    {
      "cell_type": "code",
      "source": [
        "class employee:\n",
        "\n",
        "  def __init__(self,Emp_id,Name,Dpt,Salary,Designation): # Constructor\n",
        "    self.Emp=Emp_id\n",
        "    self.Name=Name\n",
        "    self.Dpt=Dpt\n",
        "    self.Salary=Salary\n",
        "    self.Designation=Designation\n",
        "    self.company='Guvi'\n",
        "\n",
        "  def emp_info(self): # Method\n",
        "    print(f'Name is {self.Name}')\n",
        "    print(f'Emp_id is {self.Emp}')\n",
        "    print(f'Dpt is {self.Dpt}')\n",
        "    print(f'Salary is {self.Salary}')\n",
        "    print(f'Designation is {self.Designation}')\n",
        "    print(f'Company is {self.company}')\n",
        "\n",
        "  def bonus_cal(self,percentage):\n",
        "    self.bonus=percentage*self.Salary\n",
        "    return self.bonus\n",
        "\n",
        "  def Yearly_Salary(self):\n",
        "    return self.Salary*12"
      ],
      "metadata": {
        "id": "Rb1qkJzc5yU1"
      },
      "id": "Rb1qkJzc5yU1",
      "execution_count": null,
      "outputs": []
    },
    {
      "cell_type": "code",
      "source": [
        "emp_1=employee('E001','Suresh','IT',50000,'Manager')\n",
        "emp_2=employee('E002','Prakas','Dev',10000,'Developer')\n",
        "emp_3=employee('E003','Divya','Testing',30000,'Tester')"
      ],
      "metadata": {
        "id": "GKGO2gjG5ySu"
      },
      "id": "GKGO2gjG5ySu",
      "execution_count": null,
      "outputs": []
    },
    {
      "cell_type": "code",
      "source": [
        "emp_1.emp_info()"
      ],
      "metadata": {
        "colab": {
          "base_uri": "https://localhost:8080/"
        },
        "id": "3dl3BbKE-dYv",
        "outputId": "f7d52eef-f944-4724-adb9-18af58d6f3c3"
      },
      "id": "3dl3BbKE-dYv",
      "execution_count": null,
      "outputs": [
        {
          "output_type": "stream",
          "name": "stdout",
          "text": [
            "Name is Suresh\n",
            "Emp_id is E001\n",
            "Dpt is IT\n",
            "Salary is 50000\n",
            "Designation is Manager\n",
            "Company is Guvi\n"
          ]
        }
      ]
    },
    {
      "cell_type": "code",
      "source": [
        "emp_1.bonus_cal(0.2)"
      ],
      "metadata": {
        "colab": {
          "base_uri": "https://localhost:8080/"
        },
        "id": "pKv_huaS-dW0",
        "outputId": "dc8ea3f5-605e-415b-c537-e4a3cc6523fa"
      },
      "id": "pKv_huaS-dW0",
      "execution_count": null,
      "outputs": [
        {
          "output_type": "execute_result",
          "data": {
            "text/plain": [
              "10000.0"
            ]
          },
          "metadata": {},
          "execution_count": 44
        }
      ]
    },
    {
      "cell_type": "code",
      "source": [
        "emp_1.bonus"
      ],
      "metadata": {
        "colab": {
          "base_uri": "https://localhost:8080/"
        },
        "id": "lSOtOf0T-dUn",
        "outputId": "a8209f87-8578-4ac0-e6b2-b7ad4d5d5241"
      },
      "id": "lSOtOf0T-dUn",
      "execution_count": null,
      "outputs": [
        {
          "output_type": "execute_result",
          "data": {
            "text/plain": [
              "10000.0"
            ]
          },
          "metadata": {},
          "execution_count": 45
        }
      ]
    },
    {
      "cell_type": "code",
      "source": [
        "emp_2.bonus_cal(0.1)"
      ],
      "metadata": {
        "colab": {
          "base_uri": "https://localhost:8080/"
        },
        "id": "AAPHLGdT-dSX",
        "outputId": "ddad6275-621a-41de-f4e6-86a3c7023dd3"
      },
      "id": "AAPHLGdT-dSX",
      "execution_count": null,
      "outputs": [
        {
          "output_type": "execute_result",
          "data": {
            "text/plain": [
              "1000.0"
            ]
          },
          "metadata": {},
          "execution_count": 47
        }
      ]
    },
    {
      "cell_type": "code",
      "source": [
        "emp_2.bonus"
      ],
      "metadata": {
        "colab": {
          "base_uri": "https://localhost:8080/"
        },
        "id": "Ce_lNMdG-dQS",
        "outputId": "22f2d9d4-d481-4066-d68c-cec1bf447f9b"
      },
      "id": "Ce_lNMdG-dQS",
      "execution_count": null,
      "outputs": [
        {
          "output_type": "execute_result",
          "data": {
            "text/plain": [
              "1000.0"
            ]
          },
          "metadata": {},
          "execution_count": 48
        }
      ]
    },
    {
      "cell_type": "code",
      "source": [
        "# Simple/Single Inheritance\n",
        "class parent:\n",
        "  def parent_method(self):\n",
        "    print('This is a Parent Method')\n",
        "\n",
        "class child(parent):\n",
        "  def child_method(self):\n",
        "    print('This is a Child Method')"
      ],
      "metadata": {
        "id": "-xoH9vJe_XaC"
      },
      "id": "-xoH9vJe_XaC",
      "execution_count": null,
      "outputs": []
    },
    {
      "cell_type": "code",
      "source": [
        "C1=child()\n",
        "C1.child_method()\n"
      ],
      "metadata": {
        "colab": {
          "base_uri": "https://localhost:8080/"
        },
        "id": "gmUH4mvUANQx",
        "outputId": "c5cf3550-1df0-442e-9369-e3f1725a0d23"
      },
      "id": "gmUH4mvUANQx",
      "execution_count": null,
      "outputs": [
        {
          "output_type": "stream",
          "name": "stdout",
          "text": [
            "This is a Child Method\n"
          ]
        }
      ]
    },
    {
      "cell_type": "code",
      "source": [
        "C1.parent_method()"
      ],
      "metadata": {
        "colab": {
          "base_uri": "https://localhost:8080/"
        },
        "id": "vaa3_NjAANOj",
        "outputId": "194205f8-b8ae-4682-b346-ed96bdaca07f"
      },
      "id": "vaa3_NjAANOj",
      "execution_count": null,
      "outputs": [
        {
          "output_type": "stream",
          "name": "stdout",
          "text": [
            "This is a Parent Method\n"
          ]
        }
      ]
    },
    {
      "cell_type": "code",
      "source": [
        "# Multi Level Inheritance\n",
        "class grandparent:\n",
        "  def grandparent_method(self):\n",
        "    print('This is a Grandparent Method')\n",
        "\n",
        "class parent(grandparent):\n",
        "  def parent_method(self):\n",
        "    print('This is a Parent Method')\n",
        "\n",
        "class child(parent):\n",
        "  def child_method(self):\n",
        "    print('This is a Child Method')"
      ],
      "metadata": {
        "id": "wNIHQWhGANL6"
      },
      "id": "wNIHQWhGANL6",
      "execution_count": null,
      "outputs": []
    },
    {
      "cell_type": "code",
      "source": [
        "gp=grandparent()\n",
        "gp.grandparent_method()"
      ],
      "metadata": {
        "colab": {
          "base_uri": "https://localhost:8080/"
        },
        "id": "K1Ux-aV2BBYY",
        "outputId": "cc43d92c-89ef-4f42-81ce-407326c5f430"
      },
      "id": "K1Ux-aV2BBYY",
      "execution_count": null,
      "outputs": [
        {
          "output_type": "stream",
          "name": "stdout",
          "text": [
            "This is a Grandparent Method\n"
          ]
        }
      ]
    },
    {
      "cell_type": "code",
      "source": [
        "c1=child()\n",
        "c1.child_method()"
      ],
      "metadata": {
        "colab": {
          "base_uri": "https://localhost:8080/"
        },
        "id": "AkHemwfu_XVm",
        "outputId": "1a3b9409-beea-46dd-9cb6-4689719b9d8c"
      },
      "id": "AkHemwfu_XVm",
      "execution_count": null,
      "outputs": [
        {
          "output_type": "stream",
          "name": "stdout",
          "text": [
            "This is a Child Method\n"
          ]
        }
      ]
    },
    {
      "cell_type": "code",
      "source": [
        "c1.parent_method()\n",
        "c1.grandparent_method()"
      ],
      "metadata": {
        "colab": {
          "base_uri": "https://localhost:8080/"
        },
        "id": "ewk_Z0tv_XTR",
        "outputId": "043483bb-928e-4297-e78c-7267656ff509"
      },
      "id": "ewk_Z0tv_XTR",
      "execution_count": null,
      "outputs": [
        {
          "output_type": "stream",
          "name": "stdout",
          "text": [
            "This is a Parent Method\n",
            "This is a Grandparent Method\n"
          ]
        }
      ]
    },
    {
      "cell_type": "markdown",
      "source": [
        "### Class And Object Take Home Task\n",
        "\n",
        "https://drive.google.com/file/d/1n3aVT81R6dOFqgjvzAsHTs9XwMG7ncea/view?usp=drive_link"
      ],
      "metadata": {
        "id": "Mw5g-gvtBovl"
      },
      "id": "Mw5g-gvtBovl"
    },
    {
      "cell_type": "code",
      "source": [],
      "metadata": {
        "id": "RAo5sQv6_XRO"
      },
      "id": "RAo5sQv6_XRO",
      "execution_count": null,
      "outputs": []
    },
    {
      "cell_type": "markdown",
      "source": [
        "## Lambda, Filters and Map --(4/5/2025)"
      ],
      "metadata": {
        "id": "rBONlz7MEsk5"
      },
      "id": "rBONlz7MEsk5"
    },
    {
      "cell_type": "markdown",
      "source": [
        "| **Aspect**             | **Description**                                                        | **Example Code**                                                             | **Result / Action**                                |\n",
        "| ---------------------- | ---------------------------------------------------------------------- | ---------------------------------------------------------------------------- | -------------------------------------------------- |\n",
        "| **Lambda Function**    | Anonymous (unnamed) function using `lambda` keyword                    | `square = lambda x: x * x`<br>`square(5)`                                    | Returns `25` — same as `def square(x): return x*x` |\n",
        "| **Syntax**             | Format is `lambda arguments: expression`                               | `add = lambda a, b: a + b`<br>`add(2, 3)`                                    | Returns `5`                                        |\n",
        "| **Use Case**           | Used for short functions passed to `map()`, `filter()`, etc.           | —                                                                            | Compact alternative to full function definitions   |\n",
        "| **map() Function**     | Applies a function to each item of an iterable                         | `nums = [1, 2, 3]`<br>`squares = list(map(lambda x: x**2, nums))`            | `[1, 4, 9]` — squares each number                  |\n",
        "| **filter() Function**  | Filters elements based on a condition (returns `True`/`False`)         | `nums = [1, 2, 3, 4]`<br>`evens = list(filter(lambda x: x % 2 == 0, nums))`  | `[2, 4]` — keeps only even numbers                 |\n",
        "| **Multiple Arguments** | Lambda can accept more than one input                                  | `mul = lambda x, y: x * y`<br>`mul(2, 4)`                                    | Returns `8`                                        |\n",
        "| **Result as List**     | `map()` and `filter()` return iterators — use `list()` to view results | `list(map(...))`, `list(filter(...))`                                        | Converts result to a list                          |\n",
        "| **Combined Example**   | Lambda + map/filter used together                                      | `names = ['Alice', 'Bob']`<br>`lengths = list(map(lambda x: len(x), names))` | `[5, 3]` — length of each name                     |\n",
        "| **Best Practice**      | Use for simple expressions only                                        | —                                                                            | Keeps code concise and readable                    |\n"
      ],
      "metadata": {
        "id": "UGcsY1agE61b"
      },
      "id": "UGcsY1agE61b"
    },
    {
      "cell_type": "markdown",
      "source": [
        "#### Hands-on Exercise"
      ],
      "metadata": {
        "id": "b3TB5JPKE2mD"
      },
      "id": "b3TB5JPKE2mD"
    },
    {
      "cell_type": "code",
      "source": [
        "2**0.5"
      ],
      "metadata": {
        "colab": {
          "base_uri": "https://localhost:8080/"
        },
        "id": "3oFAE4yJCa9U",
        "outputId": "b3f2727d-5e60-4f57-aa9b-5ef2744748c9"
      },
      "id": "3oFAE4yJCa9U",
      "execution_count": null,
      "outputs": [
        {
          "output_type": "execute_result",
          "data": {
            "text/plain": [
              "1.4142135623730951"
            ]
          },
          "metadata": {},
          "execution_count": 57
        }
      ]
    },
    {
      "cell_type": "code",
      "source": [
        "# Lambda Function\n",
        "\n",
        "Sqrt= lambda num: num**0.5\n",
        "\n"
      ],
      "metadata": {
        "id": "xcRAvV5KEx2a"
      },
      "id": "xcRAvV5KEx2a",
      "execution_count": null,
      "outputs": []
    },
    {
      "cell_type": "code",
      "source": [
        "Add= lambda num1,num2: num1+num2"
      ],
      "metadata": {
        "id": "KSfGITNUE-nY"
      },
      "id": "KSfGITNUE-nY",
      "execution_count": null,
      "outputs": []
    },
    {
      "cell_type": "code",
      "source": [
        "Add(10,20)"
      ],
      "metadata": {
        "colab": {
          "base_uri": "https://localhost:8080/"
        },
        "id": "-LZE9h2rFGOa",
        "outputId": "bb18a4f4-8954-4d28-e280-f943187361d9"
      },
      "id": "-LZE9h2rFGOa",
      "execution_count": null,
      "outputs": [
        {
          "output_type": "execute_result",
          "data": {
            "text/plain": [
              "30"
            ]
          },
          "metadata": {},
          "execution_count": 70
        }
      ]
    },
    {
      "cell_type": "code",
      "source": [
        "Sqrt(8)"
      ],
      "metadata": {
        "colab": {
          "base_uri": "https://localhost:8080/"
        },
        "id": "ATwxNFYWFQu9",
        "outputId": "5eb644da-fcfb-44c4-f9ee-3fdc6b26acf1"
      },
      "id": "ATwxNFYWFQu9",
      "execution_count": null,
      "outputs": [
        {
          "output_type": "execute_result",
          "data": {
            "text/plain": [
              "2.8284271247461903"
            ]
          },
          "metadata": {},
          "execution_count": 59
        }
      ]
    },
    {
      "cell_type": "code",
      "source": [
        "L=[34,25,5,6,7,8,9]\n",
        "\n",
        "SQRT_LC=[i**0.5 for i in L]\n",
        "SQRT_LC"
      ],
      "metadata": {
        "colab": {
          "base_uri": "https://localhost:8080/"
        },
        "id": "mmPfrXkQFQrh",
        "outputId": "d658c04c-d4a2-439f-ea7b-e9dd519a4448"
      },
      "id": "mmPfrXkQFQrh",
      "execution_count": null,
      "outputs": [
        {
          "output_type": "execute_result",
          "data": {
            "text/plain": [
              "[5.830951894845301,\n",
              " 5.0,\n",
              " 2.23606797749979,\n",
              " 2.449489742783178,\n",
              " 2.6457513110645907,\n",
              " 2.8284271247461903,\n",
              " 3.0]"
            ]
          },
          "metadata": {},
          "execution_count": 60
        }
      ]
    },
    {
      "cell_type": "code",
      "source": [
        "L=[34,25,5,6,7,8,9]\n",
        "\n",
        "SQRT_LM_MAP=map(Sqrt,L)\n",
        "SQRT_LM_MAP"
      ],
      "metadata": {
        "colab": {
          "base_uri": "https://localhost:8080/"
        },
        "id": "HqjOXffPFQpS",
        "outputId": "290a1c59-68e9-46a1-ae18-5aeecab0d339"
      },
      "id": "HqjOXffPFQpS",
      "execution_count": null,
      "outputs": [
        {
          "output_type": "execute_result",
          "data": {
            "text/plain": [
              "<map at 0x7f470e70c070>"
            ]
          },
          "metadata": {},
          "execution_count": 61
        }
      ]
    },
    {
      "cell_type": "code",
      "source": [
        "SQRT_LM_MAP=list(map(Sqrt,L))\n",
        "SQRT_LM_MAP"
      ],
      "metadata": {
        "colab": {
          "base_uri": "https://localhost:8080/"
        },
        "id": "oNCVloXyFQjz",
        "outputId": "f867232c-96b2-45af-e17e-58824fe734de"
      },
      "id": "oNCVloXyFQjz",
      "execution_count": null,
      "outputs": [
        {
          "output_type": "execute_result",
          "data": {
            "text/plain": [
              "[5.830951894845301,\n",
              " 5.0,\n",
              " 2.23606797749979,\n",
              " 2.449489742783178,\n",
              " 2.6457513110645907,\n",
              " 2.8284271247461903,\n",
              " 3.0]"
            ]
          },
          "metadata": {},
          "execution_count": 62
        }
      ]
    },
    {
      "cell_type": "code",
      "source": [
        "L1=input()"
      ],
      "metadata": {
        "colab": {
          "base_uri": "https://localhost:8080/"
        },
        "id": "yXJe__dVDvhl",
        "outputId": "a1f2aad4-2a39-4b30-d15e-90a8b39e85b3"
      },
      "id": "yXJe__dVDvhl",
      "execution_count": null,
      "outputs": [
        {
          "name": "stdout",
          "output_type": "stream",
          "text": [
            "10 20 30 40\n"
          ]
        }
      ]
    },
    {
      "cell_type": "code",
      "source": [
        "L1"
      ],
      "metadata": {
        "colab": {
          "base_uri": "https://localhost:8080/",
          "height": 36
        },
        "id": "xx-QNa_IDvc5",
        "outputId": "abcecd15-add0-4cfa-e7dc-9d01fbd91935"
      },
      "id": "xx-QNa_IDvc5",
      "execution_count": null,
      "outputs": [
        {
          "output_type": "execute_result",
          "data": {
            "text/plain": [
              "'10 20 30 40'"
            ],
            "application/vnd.google.colaboratory.intrinsic+json": {
              "type": "string"
            }
          },
          "metadata": {},
          "execution_count": 64
        }
      ]
    },
    {
      "cell_type": "code",
      "source": [
        "L1.split()"
      ],
      "metadata": {
        "colab": {
          "base_uri": "https://localhost:8080/"
        },
        "id": "aPt7ujuzEQh7",
        "outputId": "654f9202-c545-4074-b9ee-ef97d498c4b2"
      },
      "id": "aPt7ujuzEQh7",
      "execution_count": null,
      "outputs": [
        {
          "output_type": "execute_result",
          "data": {
            "text/plain": [
              "['10', '20', '30', '40']"
            ]
          },
          "metadata": {},
          "execution_count": 66
        }
      ]
    },
    {
      "cell_type": "code",
      "source": [
        "Num_L=list(map(int,L1.split()))\n",
        "Num_L"
      ],
      "metadata": {
        "colab": {
          "base_uri": "https://localhost:8080/"
        },
        "id": "VsYgYC-aDvQp",
        "outputId": "118d9378-3e00-43af-bb3b-ef08d08a8ce5"
      },
      "id": "VsYgYC-aDvQp",
      "execution_count": null,
      "outputs": [
        {
          "output_type": "execute_result",
          "data": {
            "text/plain": [
              "[10, 20, 30, 40]"
            ]
          },
          "metadata": {},
          "execution_count": 68
        }
      ]
    },
    {
      "cell_type": "code",
      "source": [
        "# filter\n",
        "\n",
        "L=[1,2,3,4,5,6,7,8]\n",
        "\n",
        "even=list(filter(lambda num: num%2==0,L))\n",
        "even"
      ],
      "metadata": {
        "colab": {
          "base_uri": "https://localhost:8080/"
        },
        "id": "vKIeI7NmDvOG",
        "outputId": "00617434-4696-48e4-d2c9-fc31767c798f"
      },
      "id": "vKIeI7NmDvOG",
      "execution_count": null,
      "outputs": [
        {
          "output_type": "execute_result",
          "data": {
            "text/plain": [
              "[2, 4, 6, 8]"
            ]
          },
          "metadata": {},
          "execution_count": 71
        }
      ]
    },
    {
      "cell_type": "code",
      "source": [
        "def is_even(num):\n",
        "  if num%2==0:\n",
        "    return True\n",
        "  else:\n",
        "    return False\n"
      ],
      "metadata": {
        "id": "CNKQ7Ln8GEvC"
      },
      "id": "CNKQ7Ln8GEvC",
      "execution_count": null,
      "outputs": []
    },
    {
      "cell_type": "code",
      "source": [
        "L=[1,2,3,4,5,6,7,8]\n",
        "\n",
        "even=list(map(is_even,L))\n",
        "even"
      ],
      "metadata": {
        "colab": {
          "base_uri": "https://localhost:8080/"
        },
        "id": "CtBIV35cGEsT",
        "outputId": "1fa92294-632a-4760-98eb-ae29d841d702"
      },
      "id": "CtBIV35cGEsT",
      "execution_count": null,
      "outputs": [
        {
          "output_type": "execute_result",
          "data": {
            "text/plain": [
              "[False, True, False, True, False, True, False, True]"
            ]
          },
          "metadata": {},
          "execution_count": 74
        }
      ]
    },
    {
      "cell_type": "code",
      "source": [
        "L=[1,2,3,4,5,6,7,8]\n",
        "\n",
        "even=list(filter(is_even,L))\n",
        "even"
      ],
      "metadata": {
        "colab": {
          "base_uri": "https://localhost:8080/"
        },
        "id": "iXQyVUfDGEot",
        "outputId": "1c05ca66-2cca-47bf-9d61-dfdf1b89ff8f"
      },
      "id": "iXQyVUfDGEot",
      "execution_count": null,
      "outputs": [
        {
          "output_type": "execute_result",
          "data": {
            "text/plain": [
              "[2, 4, 6, 8]"
            ]
          },
          "metadata": {},
          "execution_count": 75
        }
      ]
    },
    {
      "cell_type": "code",
      "source": [
        "FRUITS=['apple','banana','mango','orange','kiwi']"
      ],
      "metadata": {
        "id": "X5UrOqhFDvLQ"
      },
      "id": "X5UrOqhFDvLQ",
      "execution_count": null,
      "outputs": []
    },
    {
      "cell_type": "code",
      "source": [
        "# Class Task Filter the Furits which has i in one list and o in another list"
      ],
      "metadata": {
        "id": "sP0iMYTbDvFx"
      },
      "id": "sP0iMYTbDvFx",
      "execution_count": null,
      "outputs": []
    },
    {
      "cell_type": "code",
      "source": [],
      "metadata": {
        "id": "tOrdVnwRDvDF"
      },
      "id": "tOrdVnwRDvDF",
      "execution_count": null,
      "outputs": []
    },
    {
      "cell_type": "markdown",
      "source": [
        "#### Lambda, Filter and Map Take Home Task\n",
        "\n",
        "https://drive.google.com/file/d/1PLFPgDqExPjYwm9PwqaqwGPtrh6Y2ABE/view?usp=sharing"
      ],
      "metadata": {
        "id": "kFXaE-d9HHuw"
      },
      "id": "kFXaE-d9HHuw"
    },
    {
      "cell_type": "code",
      "source": [],
      "metadata": {
        "id": "URwMw9HEI3HX"
      },
      "id": "URwMw9HEI3HX",
      "execution_count": null,
      "outputs": []
    },
    {
      "cell_type": "code",
      "source": [],
      "metadata": {
        "id": "L1N1x1wxI3A0"
      },
      "id": "L1N1x1wxI3A0",
      "execution_count": null,
      "outputs": []
    },
    {
      "cell_type": "markdown",
      "source": [
        "## Regular Expressions --(10/5/2025)"
      ],
      "metadata": {
        "id": "byZ2hU84FRoB"
      },
      "id": "byZ2hU84FRoB"
    },
    {
      "cell_type": "markdown",
      "source": [
        "#### Python Regex Cheatsheet\n",
        "\n",
        "## Basic Syntax\n",
        "\n",
        "| Pattern | Description | Example |\n",
        "|---------|-------------|---------|\n",
        "| `a` | Matches exact character \"a\" | `\"Chennai\"` matches \"Chennai\" |\n",
        "| `.` | Matches any character except newline | `\"C.ennai\"` matches \"Chennai\" |\n",
        "| `^` | Matches start of string | `\"^Chennai\"` matches \"Chennai is...\" but not \"Visit Chennai\" |\n",
        "| `$` | Matches end of string | `\"Chennai$\"` matches \"...is Chennai\" but not \"Chennai is...\" |\n",
        "| `*` | 0 or more repetitions | `\"Co*l\"` matches \"Cl\", \"Col\", \"Coool\" |\n",
        "| `+` | 1 or more repetitions | `\"Co+l\"` matches \"Col\", \"Coool\" but not \"Cl\" |\n",
        "| `?` | 0 or 1 repetition | `\"Bangal?ore\"` matches \"Bangalore\" and \"Bangaore\" |\n",
        "| `\\` | Escapes special characters | `\"Rs\\.\"` matches \"Rs.\" |\n",
        "\n",
        "## Character Classes\n",
        "\n",
        "| Pattern | Description | Example |\n",
        "|---------|-------------|---------|\n",
        "| `[abc]` | Matches any character in brackets | `\"[MB]umbai\"` matches \"Mumbai\" and \"Bumbai\" |\n",
        "| `[^abc]` | Matches any character NOT in brackets | `\"[^K]olkata\"` matches \"Xolkata\" but not \"Kolkata\" |\n",
        "| `[a-z]` | Matches any character in range | `\"[A-M]adurai\"` matches \"Madurai\" but not \"Sadurai\" |\n",
        "| `\\d` | Matches any digit (same as `[0-9]`) | `\"\\d{6}\"` matches Indian PIN codes like \"600001\" |\n",
        "| `\\w` | Matches word character `[A-Za-z0-9_]` | `\"\\w+\"` matches \"Chennai600042\" |\n",
        "| `\\s` | Matches whitespace | `\"Chennai\\sCity\"` matches \"Chennai City\" |\n",
        "| `\\D`,`\\W`,`\\S` | Matches non-digits, non-word, non-whitespace | `\"\\D+\"` matches \"Chennai\" but not \"600001\" |\n",
        "\n",
        "## Quantifiers\n",
        "\n",
        "| Pattern | Description | Example |\n",
        "|---------|-------------|---------|\n",
        "| `{n}` | Exactly n occurrences | `\"\\d{6}\"` matches exactly 6 digits (Indian PIN code) |\n",
        "| `{n,}` | n or more occurrences | `\"\\d{10,}\"` matches Indian phone numbers (10+ digits) |\n",
        "| `{n,m}` | Between n and m occurrences | `\"\\d{2,4}\"` matches 2-4 digit numbers |\n",
        "\n",
        "## Grouping and Alternation\n",
        "\n",
        "| Pattern | Description | Example |\n",
        "|---------|-------------|---------|\n",
        "| `(...)` | Groups patterns and captures matches | `\"(Chennai\\|Madurai)\"` captures either city name |\n",
        "| `\\|` | Alternation (OR) | `\"Chennai\\|Madurai\"` matches either \"Chennai\" or \"Madurai\" |\n",
        "| `(?:...)` | Non-capturing group | `\"(?:Mr\\|Mrs)\\. Patel\"` matches \"Mr. Patel\" or \"Mrs. Patel\" |\n",
        "\n",
        "## Common Python Regex Functions\n",
        "\n",
        "```python\n",
        "import re\n",
        "\n",
        "# Search for a pattern\n",
        "result = re.search(r\"Chennai\", \"Chennai is a city\")  # Returns match object or None\n",
        "\n",
        "# Find all occurrences\n",
        "matches = re.findall(r\"\\d+\", \"Chennai 600042, Madurai 625001\")  # Returns ['600042', '625001']\n",
        "\n",
        "# Replace matches\n",
        "new_text = re.sub(r\"Chennai\", \"Madras\", \"Chennai was a smart City\")\n",
        "\n",
        "# Split string by pattern\n",
        "parts = re.split(r\",\\s*\", \"Chennai, Madurai, Coimbatore\")  # Returns ['Chennai', 'Madurai', 'Coimbatore']\n",
        "\n",
        "# Check if full string matches pattern\n",
        "is_match = bool(re.match(r\"^[A-Z]{5}\\d{4}[A-Z]$\", \"ABCDE1234F\"))  # PAN card check\n",
        "```\n",
        "\n",
        "## Practical Examples\n",
        "\n",
        "### 1. Indian Mobile Number Validation\n",
        "```python\n",
        "# Valid formats: +91 9876543210, 09876543210, 9876543210\n",
        "pattern = r\"^(?:\\+91|0)?[6-9]\\d{9}$\"\n",
        "```\n",
        "\n",
        "### 2. Indian PAN Card Validation\n",
        "```python\n",
        "# Format: ABCDE1234F (5 uppercase letters, 4 digits, 1 uppercase letter)\n",
        "pattern = r\"^[A-Z]{5}\\d{4}[A-Z]$\"\n",
        "```\n",
        "\n",
        "### 3. Indian Vehicle Registration Number\n",
        "```python\n",
        "# Format: TN 01 AB 1234\n",
        "pattern = r\"^[A-Z]{2}\\s\\d{2}\\s[A-Z]{1,2}\\s\\d{1,4}$\"\n",
        "```\n",
        "\n",
        "### 4. Aadhaar Number Validation\n",
        "```python\n",
        "# 12 digits, often space or dash separated\n",
        "pattern = r\"^\\d{4}[\\s-]?\\d{4}[\\s-]?\\d{4}$\"\n",
        "```\n",
        "\n",
        "### 5. Indian Date Format (DD/MM/YYYY)\n",
        "```python\n",
        "# Valid dates in DD/MM/YYYY format\n",
        "pattern = r\"^(0[1-9]|[12][0-9]|3[01])/(0[1-9]|1[0-2])/\\d{4}$\"\n",
        "```\n",
        "\n",
        "### 6. Indian Postal PIN Code\n",
        "```python\n",
        "# 6 digits postal code\n",
        "pattern = r\"^[1-9][0-9]{5}$\"\n",
        "```\n",
        "\n",
        "### 7. Extract Email Addresses\n",
        "```python\n",
        "pattern = r\"[a-zA-Z0-9._%+-]+@[a-zA-Z0-9.-]+\\.[a-zA-Z]{2,}\"\n",
        "```\n",
        "\n",
        "### 8. Extract Indian Railway PNR Numbers\n",
        "```python\n",
        "# 10-digit PNR number\n",
        "pattern = r\"\\b\\d{10}\\b\"\n",
        "```\n",
        "\n",
        "## Tips for Using Regex in Python\n",
        "1. Always use raw strings (`r\"pattern\"`) for regex patterns\n",
        "2. Test patterns on small examples first\n",
        "3. Use online tools like regex101.com to debug complex patterns\n",
        "4. Break complex patterns into smaller, manageable parts\n",
        "5. Remember to escape special characters with `\\`\n",
        "\n",
        "Reference Links:\n",
        "1. https://developers.google.com/edu/python/regular-expressions\n",
        "2. https://docs.python.org/3/howto/regex.html"
      ],
      "metadata": {
        "id": "2a_ezY28G7p8"
      },
      "id": "2a_ezY28G7p8"
    },
    {
      "cell_type": "markdown",
      "source": [
        "#### Hands-on Exercise"
      ],
      "metadata": {
        "id": "9VRaYIVHKaMv"
      },
      "id": "9VRaYIVHKaMv"
    },
    {
      "cell_type": "code",
      "source": [
        "import re"
      ],
      "metadata": {
        "id": "XHOsLqH1G5Ud"
      },
      "id": "XHOsLqH1G5Ud",
      "execution_count": null,
      "outputs": []
    },
    {
      "cell_type": "code",
      "source": [
        "dir(re)"
      ],
      "metadata": {
        "id": "Xz2r4BO2DgK8",
        "colab": {
          "base_uri": "https://localhost:8080/"
        },
        "outputId": "cab24e27-3c5d-4653-9fc3-224912f7627e"
      },
      "id": "Xz2r4BO2DgK8",
      "execution_count": null,
      "outputs": [
        {
          "output_type": "execute_result",
          "data": {
            "text/plain": [
              "['A',\n",
              " 'ASCII',\n",
              " 'DEBUG',\n",
              " 'DOTALL',\n",
              " 'I',\n",
              " 'IGNORECASE',\n",
              " 'L',\n",
              " 'LOCALE',\n",
              " 'M',\n",
              " 'MULTILINE',\n",
              " 'Match',\n",
              " 'NOFLAG',\n",
              " 'Pattern',\n",
              " 'RegexFlag',\n",
              " 'S',\n",
              " 'Scanner',\n",
              " 'T',\n",
              " 'TEMPLATE',\n",
              " 'U',\n",
              " 'UNICODE',\n",
              " 'VERBOSE',\n",
              " 'X',\n",
              " '_MAXCACHE',\n",
              " '__all__',\n",
              " '__builtins__',\n",
              " '__cached__',\n",
              " '__doc__',\n",
              " '__file__',\n",
              " '__loader__',\n",
              " '__name__',\n",
              " '__package__',\n",
              " '__path__',\n",
              " '__spec__',\n",
              " '__version__',\n",
              " '_cache',\n",
              " '_casefix',\n",
              " '_compile',\n",
              " '_compile_repl',\n",
              " '_compiler',\n",
              " '_constants',\n",
              " '_expand',\n",
              " '_parser',\n",
              " '_pickle',\n",
              " '_special_chars_map',\n",
              " '_subx',\n",
              " 'compile',\n",
              " 'copyreg',\n",
              " 'enum',\n",
              " 'error',\n",
              " 'escape',\n",
              " 'findall',\n",
              " 'finditer',\n",
              " 'fullmatch',\n",
              " 'functools',\n",
              " 'match',\n",
              " 'purge',\n",
              " 'search',\n",
              " 'split',\n",
              " 'sub',\n",
              " 'subn',\n",
              " 'template']"
            ]
          },
          "metadata": {},
          "execution_count": 2
        }
      ]
    },
    {
      "cell_type": "code",
      "source": [
        "Message=\"I Am Learning in Guvi\"\n",
        "Pattern='Guvi'\n",
        "\n",
        "search_result=re.search(Pattern,Message)\n",
        "search_result"
      ],
      "metadata": {
        "id": "QNfeIYXJDgJW",
        "colab": {
          "base_uri": "https://localhost:8080/"
        },
        "outputId": "e4d2827d-1bfe-42c2-bb7e-58b2465c9fe9"
      },
      "id": "QNfeIYXJDgJW",
      "execution_count": null,
      "outputs": [
        {
          "output_type": "execute_result",
          "data": {
            "text/plain": [
              "<re.Match object; span=(17, 21), match='Guvi'>"
            ]
          },
          "metadata": {},
          "execution_count": 3
        }
      ]
    },
    {
      "cell_type": "code",
      "source": [
        "search_result.group()"
      ],
      "metadata": {
        "id": "MFTBGzqcDgG8",
        "colab": {
          "base_uri": "https://localhost:8080/",
          "height": 36
        },
        "outputId": "0ec6e1ee-b297-42e0-ec75-ba7038ef6fbf"
      },
      "id": "MFTBGzqcDgG8",
      "execution_count": null,
      "outputs": [
        {
          "output_type": "execute_result",
          "data": {
            "text/plain": [
              "'Guvi'"
            ],
            "application/vnd.google.colaboratory.intrinsic+json": {
              "type": "string"
            }
          },
          "metadata": {},
          "execution_count": 4
        }
      ]
    },
    {
      "cell_type": "code",
      "source": [
        "Message=\"I am Santhosh Am Living In Coimbatore And Pincode is 641101 And Am working in Chennai  And Pincode is 600001\"\n",
        "Pattern=r\"\\d{6}\"\n",
        "search_result=re.search(Pattern,Message)\n",
        "search_result"
      ],
      "metadata": {
        "id": "SPcaClJZDgDG",
        "colab": {
          "base_uri": "https://localhost:8080/"
        },
        "outputId": "c97f7a33-ce2e-4c0c-a403-5e780c0c113c"
      },
      "id": "SPcaClJZDgDG",
      "execution_count": null,
      "outputs": [
        {
          "output_type": "execute_result",
          "data": {
            "text/plain": [
              "<re.Match object; span=(53, 59), match='641101'>"
            ]
          },
          "metadata": {},
          "execution_count": 5
        }
      ]
    },
    {
      "cell_type": "code",
      "source": [
        "search_result.group()"
      ],
      "metadata": {
        "id": "4I8RFh4SDgA7",
        "colab": {
          "base_uri": "https://localhost:8080/",
          "height": 36
        },
        "outputId": "69afe369-9f9f-4caf-e011-4c8c71393f9a"
      },
      "id": "4I8RFh4SDgA7",
      "execution_count": null,
      "outputs": [
        {
          "output_type": "execute_result",
          "data": {
            "text/plain": [
              "'641101'"
            ],
            "application/vnd.google.colaboratory.intrinsic+json": {
              "type": "string"
            }
          },
          "metadata": {},
          "execution_count": 6
        }
      ]
    },
    {
      "cell_type": "code",
      "source": [
        "Message=\"641105 I am Santhosh Am Living In Coimbatore And Pincode is 641101 And Am working in Chennai  And Pincode is 600001\"\n",
        "Pattern=r\"\\d{6}\"\n",
        "find_result=re.findall(Pattern,Message)\n",
        "find_result"
      ],
      "metadata": {
        "colab": {
          "base_uri": "https://localhost:8080/"
        },
        "id": "CYupLshor9PO",
        "outputId": "72f9126e-9719-475e-e318-cc72d7b7be46"
      },
      "id": "CYupLshor9PO",
      "execution_count": null,
      "outputs": [
        {
          "output_type": "execute_result",
          "data": {
            "text/plain": [
              "['641105', '641101', '600001']"
            ]
          },
          "metadata": {},
          "execution_count": 15
        }
      ]
    },
    {
      "cell_type": "code",
      "source": [
        "Message=\"I Have Send Mail to asdfgh@sample.com and asdfgh@sample1.com in the last week\"\n",
        "replace='***********'\n",
        "mail_pattern=r\"[a-zA-Z0-9._%+-]+@[a-zA-Z0-9.-]+\\.[a-zA-Z]{2,}\"\n",
        "\n",
        "replace_result=re.sub(mail_pattern,replace,Message)\n",
        "replace_result\n"
      ],
      "metadata": {
        "colab": {
          "base_uri": "https://localhost:8080/",
          "height": 36
        },
        "id": "RuTjIg7or9D-",
        "outputId": "e95f90ba-29af-49fc-e5ea-22868ea41b30"
      },
      "id": "RuTjIg7or9D-",
      "execution_count": null,
      "outputs": [
        {
          "output_type": "execute_result",
          "data": {
            "text/plain": [
              "'I Have Send Mail to *********** and *********** in the last week'"
            ],
            "application/vnd.google.colaboratory.intrinsic+json": {
              "type": "string"
            }
          },
          "metadata": {},
          "execution_count": 8
        }
      ]
    },
    {
      "cell_type": "code",
      "source": [
        "# ATYI 6753 TI 678 A"
      ],
      "metadata": {
        "id": "3pty3ZSUr9B4"
      },
      "id": "3pty3ZSUr9B4",
      "execution_count": null,
      "outputs": []
    },
    {
      "cell_type": "code",
      "source": [
        "r\"^[A-Z]{4}\\s\\d{4}\\s[A-Z]{2}\\s\\d{3}\\s[A-Z]{1}$\""
      ],
      "metadata": {
        "id": "ElvX4f4dr8-p"
      },
      "id": "ElvX4f4dr8-p",
      "execution_count": null,
      "outputs": []
    },
    {
      "cell_type": "code",
      "source": [
        "Message=\"I am Santhosh Am Living In Coimbatore And Pincode is 641101 And Am working in Chennai  And Pincode is 600001 And An traveling To Madurai\"\n",
        "Pattern=r\"\\s\\d{6}\\s\"\n",
        "split_result=re.split(Pattern,Message)\n",
        "split_result"
      ],
      "metadata": {
        "colab": {
          "base_uri": "https://localhost:8080/"
        },
        "id": "Q23yhAk_r87I",
        "outputId": "8f7cc0dc-5904-4345-df2a-7d3476bb9730"
      },
      "id": "Q23yhAk_r87I",
      "execution_count": null,
      "outputs": [
        {
          "output_type": "execute_result",
          "data": {
            "text/plain": [
              "['I am Santhosh Am Living In Coimbatore And Pincode is',\n",
              " 'And Am working in Chennai  And Pincode is',\n",
              " 'And An traveling To Madurai']"
            ]
          },
          "metadata": {},
          "execution_count": 17
        }
      ]
    },
    {
      "cell_type": "code",
      "source": [
        "print(\"The Result of Slit is\",split_result)"
      ],
      "metadata": {
        "colab": {
          "base_uri": "https://localhost:8080/"
        },
        "id": "0yhgkNqf0t1v",
        "outputId": "22308d43-a901-44c7-92dd-e79afa66f5b6"
      },
      "id": "0yhgkNqf0t1v",
      "execution_count": null,
      "outputs": [
        {
          "output_type": "stream",
          "name": "stdout",
          "text": [
            "The Result of Slit is ['I am Santhosh Am Living In Coimbatore And Pincode is', 'And Am working in Chennai  And Pincode is', 'And An traveling To Madurai']\n"
          ]
        }
      ]
    },
    {
      "cell_type": "code",
      "source": [
        "Message.split(' ')"
      ],
      "metadata": {
        "colab": {
          "base_uri": "https://localhost:8080/"
        },
        "id": "MsphZ02xr84D",
        "outputId": "062e836e-9bd9-42d3-8b29-d112261f290e"
      },
      "id": "MsphZ02xr84D",
      "execution_count": null,
      "outputs": [
        {
          "output_type": "execute_result",
          "data": {
            "text/plain": [
              "['I',\n",
              " 'am',\n",
              " 'Santhosh',\n",
              " 'Am',\n",
              " 'Living',\n",
              " 'In',\n",
              " 'Coimbatore',\n",
              " 'And',\n",
              " 'Pincode',\n",
              " 'is',\n",
              " '641101',\n",
              " 'And',\n",
              " 'Am',\n",
              " 'working',\n",
              " 'in',\n",
              " 'Chennai',\n",
              " '',\n",
              " 'And',\n",
              " 'Pincode',\n",
              " 'is',\n",
              " '600001',\n",
              " 'And',\n",
              " 'An',\n",
              " 'traveling',\n",
              " 'To',\n",
              " 'Madurai']"
            ]
          },
          "metadata": {},
          "execution_count": 21
        }
      ]
    },
    {
      "cell_type": "code",
      "source": [],
      "metadata": {
        "id": "5K0RQRCGzOpJ"
      },
      "id": "5K0RQRCGzOpJ",
      "execution_count": null,
      "outputs": []
    },
    {
      "cell_type": "code",
      "source": [
        "user_Pan=input('Enter your PAN Number: ')\n",
        "n_Pattern=r\"^[A-Z]{5}[0-9]{4}[A-Z]$\"\n",
        "\n",
        "if re.match(n_Pattern,user_Pan):\n",
        "  print('Valid PAN Number')\n",
        "else:\n",
        "  print('Invalid PAN Number')"
      ],
      "metadata": {
        "colab": {
          "base_uri": "https://localhost:8080/"
        },
        "id": "ocYBmq_hr81p",
        "outputId": "31885c93-1a55-4070-a4cb-edae1f65ac20"
      },
      "id": "ocYBmq_hr81p",
      "execution_count": null,
      "outputs": [
        {
          "output_type": "stream",
          "name": "stdout",
          "text": [
            "Enter your PAN Number: ERTYU6543Y\n",
            "Valid PAN Number\n"
          ]
        }
      ]
    },
    {
      "cell_type": "markdown",
      "source": [
        "#### Take Home Task:\n",
        "https://drive.google.com/file/d/1k73LCCk56dNlklJN8POhzGjhfxoTl694/view?usp=drive_link"
      ],
      "metadata": {
        "id": "UtWZTfgdEkuB"
      },
      "id": "UtWZTfgdEkuB"
    },
    {
      "cell_type": "code",
      "source": [],
      "metadata": {
        "id": "vg4IDTYMyiZE"
      },
      "id": "vg4IDTYMyiZE",
      "execution_count": null,
      "outputs": []
    },
    {
      "cell_type": "code",
      "source": [],
      "metadata": {
        "id": "jZEgdB5-yiWV"
      },
      "id": "jZEgdB5-yiWV",
      "execution_count": null,
      "outputs": []
    },
    {
      "cell_type": "code",
      "source": [],
      "metadata": {
        "id": "1zigP_VDyiLc"
      },
      "id": "1zigP_VDyiLc",
      "execution_count": null,
      "outputs": []
    },
    {
      "cell_type": "code",
      "source": [],
      "metadata": {
        "id": "G_cmhuNzyiHC"
      },
      "id": "G_cmhuNzyiHC",
      "execution_count": null,
      "outputs": []
    },
    {
      "cell_type": "markdown",
      "source": [
        "## Python PIP"
      ],
      "metadata": {
        "id": "JvZIO03EDgjO"
      },
      "id": "JvZIO03EDgjO"
    },
    {
      "cell_type": "markdown",
      "source": [
        "\n",
        "\n",
        "| **Aspect**            | **Description**                                                              | **Example**                                                 | **Result**                      |\n",
        "|------------------------|-------------------------------------------------------------------------------|--------------------------------------------------------------|----------------------------------|\n",
        "| **Definition**         | PIP stands for \"Package Installer for Python\" - it's the standard package manager that allows you to install and manage additional libraries | `pip --version` | Shows your installed PIP version |\n",
        "| **Installation**       | PIP comes with Python 3.4+ and Python 2.7.9+, but can be manually installed if needed | `python -m ensurepip --upgrade` | Installs or upgrades PIP |\n",
        "| **Basic Installation** | Install packages from PyPI (Python Package Index) | `pip install numpy` | Installs the NumPy package |\n",
        "| **Version Specific Installation** | Install a specific version of a package | `pip install pandas==1.3.0` | Installs pandas version 1.3.0 exactly |\n",
        "| **Version Constraints** | Control which versions are acceptable | `pip install requests>=2.20.0,<3.0.0` | Installs requests ≥2.20.0 but <3.0.0 |\n",
        "| **Listing Packages** | View all installed packages | `pip list` | Displays all installed packages and versions |\n",
        "| **Package Information** | Get detailed info about an installed package | `pip show matplotlib` | Shows version, location, dependencies, etc. |\n",
        "| **Uninstalling** | Remove packages | `pip uninstall requests` | Removes the requests package |\n",
        "| **Upgrading Packages** | Update packages to newer versions | `pip install --upgrade tensorflow` | Updates tensorflow to the latest version |\n",
        "| **Requirements Files** | Manage multiple dependencies in a single file | `pip install -r requirements.txt` | Installs all packages listed in requirements.txt |\n",
        "| **Creating Requirements** | Generate a requirements file from current environment | `pip freeze > requirements.txt` | Creates a file with all installed packages |\n",
        "| **Virtual Environments** | Isolated environments for different projects | `python -m venv myproject` | Creates a virtual environment named \"myproject\" |\n",
        "| **Activating Virtual Environments** | Start using a virtual environment | Windows: `myproject\\Scripts\\activate`<br>Unix: `source myproject/bin/activate` | Command prompt changes to show active environment |\n",
        "| **Installing in Dev Mode** | Install a package for development | `pip install -e .` | Installs the current directory as an editable package |\n",
        "| **Installing from GitHub** | Install directly from a repository | `pip install git+https://github.com/user/repo.git` | Installs the package from the GitHub repository |\n",
        "| **Installing Local Files** | Install from a downloaded package | `pip install ./package.tar.gz` | Installs from a local archive file |\n",
        "| **Using Different Index** | Use an alternative to PyPI | `pip install --index-url https://alternative-index.org/simple/ package_name` | Installs from the specified index server |\n",
        "| **Caching** | PIP caches downloaded packages | `pip cache purge` | Clears the package cache |\n",
        "| **Permission Issues** | Handle permission errors | `pip install --user package_name` | Installs to user directory instead of system |\n",
        "| **Common Errors** | Connection timeouts | `pip install --timeout=100 package_name` | Increases connection timeout to 100 seconds |\n",
        "| **Dependency Conflicts** | Handle package incompatibilities | `pip check` | Verifies installed packages have compatible dependencies |\n",
        "| **Best Practices** | Always use virtual environments | `python -m venv env && source env/bin/activate` | Creates isolated environment for project dependencies |\n",
        "| **Security** | Keep packages updated for security | `pip list --outdated` | Shows packages with available updates |\n",
        "| **Advanced Tools** | More sophisticated package managers | Consider `pipenv`, `poetry`, or `conda` for complex projects | Provides additional features beyond basic PIP |"
      ],
      "metadata": {
        "id": "3SQgJMqLECcp"
      },
      "id": "3SQgJMqLECcp"
    },
    {
      "cell_type": "code",
      "source": [
        "!python --version"
      ],
      "metadata": {
        "id": "UUPOYofrDh9C",
        "colab": {
          "base_uri": "https://localhost:8080/"
        },
        "outputId": "46c70453-2b77-4567-dd5a-9a008491ae60"
      },
      "id": "UUPOYofrDh9C",
      "execution_count": null,
      "outputs": [
        {
          "output_type": "stream",
          "name": "stdout",
          "text": [
            "Python 3.11.12\n"
          ]
        }
      ]
    },
    {
      "cell_type": "code",
      "source": [
        "!pip --version"
      ],
      "metadata": {
        "id": "ziezvJBlEW6q",
        "colab": {
          "base_uri": "https://localhost:8080/"
        },
        "outputId": "a73e38fb-0335-437c-fd35-ca888a982d28"
      },
      "id": "ziezvJBlEW6q",
      "execution_count": null,
      "outputs": [
        {
          "output_type": "stream",
          "name": "stdout",
          "text": [
            "pip 24.1.2 from /usr/local/lib/python3.11/dist-packages/pip (python 3.11)\n"
          ]
        }
      ]
    },
    {
      "cell_type": "code",
      "source": [
        "!pip list"
      ],
      "metadata": {
        "id": "kYa5-EN-EWxt",
        "colab": {
          "base_uri": "https://localhost:8080/"
        },
        "outputId": "8ed0166d-a12b-4207-8c3d-b1068939172a"
      },
      "id": "kYa5-EN-EWxt",
      "execution_count": null,
      "outputs": [
        {
          "output_type": "stream",
          "name": "stdout",
          "text": [
            "Package                               Version\n",
            "------------------------------------- -------------------\n",
            "absl-py                               1.4.0\n",
            "accelerate                            1.6.0\n",
            "aiohappyeyeballs                      2.6.1\n",
            "aiohttp                               3.11.15\n",
            "aiosignal                             1.3.2\n",
            "alabaster                             1.0.0\n",
            "albucore                              0.0.24\n",
            "albumentations                        2.0.6\n",
            "ale-py                                0.11.0\n",
            "altair                                5.5.0\n",
            "annotated-types                       0.7.0\n",
            "anyio                                 4.9.0\n",
            "argon2-cffi                           23.1.0\n",
            "argon2-cffi-bindings                  21.2.0\n",
            "array_record                          0.7.2\n",
            "arviz                                 0.21.0\n",
            "astropy                               7.0.1\n",
            "astropy-iers-data                     0.2025.4.28.0.37.27\n",
            "astunparse                            1.6.3\n",
            "atpublic                              5.1\n",
            "attrs                                 25.3.0\n",
            "audioread                             3.0.1\n",
            "autograd                              1.7.0\n",
            "babel                                 2.17.0\n",
            "backcall                              0.2.0\n",
            "backports.tarfile                     1.2.0\n",
            "beautifulsoup4                        4.13.4\n",
            "betterproto                           2.0.0b6\n",
            "bigframes                             2.1.0\n",
            "bigquery-magics                       0.9.0\n",
            "bleach                                6.2.0\n",
            "blinker                               1.9.0\n",
            "blis                                  1.3.0\n",
            "blosc2                                3.3.2\n",
            "bokeh                                 3.7.2\n",
            "Bottleneck                            1.4.2\n",
            "bqplot                                0.12.44\n",
            "branca                                0.8.1\n",
            "build                                 1.2.2.post1\n",
            "CacheControl                          0.14.3\n",
            "cachetools                            5.5.2\n",
            "catalogue                             2.0.10\n",
            "certifi                               2025.4.26\n",
            "cffi                                  1.17.1\n",
            "chardet                               5.2.0\n",
            "charset-normalizer                    3.4.1\n",
            "chex                                  0.1.89\n",
            "clarabel                              0.10.0\n",
            "click                                 8.1.8\n",
            "cloudpathlib                          0.21.0\n",
            "cloudpickle                           3.1.1\n",
            "cmake                                 3.31.6\n",
            "cmdstanpy                             1.2.5\n",
            "colorcet                              3.1.0\n",
            "colorlover                            0.3.0\n",
            "colour                                0.1.5\n",
            "community                             1.0.0b1\n",
            "confection                            0.1.5\n",
            "cons                                  0.4.6\n",
            "contourpy                             1.3.2\n",
            "cramjam                               2.10.0\n",
            "cryptography                          43.0.3\n",
            "cuda-python                           12.6.2.post1\n",
            "cudf-cu12                             25.2.1\n",
            "cudf-polars-cu12                      25.2.2\n",
            "cufflinks                             0.17.3\n",
            "cuml-cu12                             25.2.1\n",
            "cupy-cuda12x                          13.3.0\n",
            "cuvs-cu12                             25.2.1\n",
            "cvxopt                                1.3.2\n",
            "cvxpy                                 1.6.5\n",
            "cycler                                0.12.1\n",
            "cyipopt                               1.5.0\n",
            "cymem                                 2.0.11\n",
            "Cython                                3.0.12\n",
            "dask                                  2024.12.1\n",
            "dask-cuda                             25.2.0\n",
            "dask-cudf-cu12                        25.2.2\n",
            "dask-expr                             1.1.21\n",
            "dataproc-spark-connect                0.7.2\n",
            "datascience                           0.17.6\n",
            "db-dtypes                             1.4.2\n",
            "dbus-python                           1.2.18\n",
            "debugpy                               1.8.0\n",
            "decorator                             4.4.2\n",
            "defusedxml                            0.7.1\n",
            "Deprecated                            1.2.18\n",
            "diffusers                             0.33.1\n",
            "distributed                           2024.12.1\n",
            "distributed-ucxx-cu12                 0.42.0\n",
            "distro                                1.9.0\n",
            "dlib                                  19.24.6\n",
            "dm-tree                               0.1.9\n",
            "docker-pycreds                        0.4.0\n",
            "docstring_parser                      0.16\n",
            "docutils                              0.21.2\n",
            "dopamine_rl                           4.1.2\n",
            "duckdb                                1.2.2\n",
            "earthengine-api                       1.5.13\n",
            "easydict                              1.13\n",
            "editdistance                          0.8.1\n",
            "eerepr                                0.1.1\n",
            "einops                                0.8.1\n",
            "en_core_web_sm                        3.8.0\n",
            "entrypoints                           0.4\n",
            "et_xmlfile                            2.0.0\n",
            "etils                                 1.12.2\n",
            "etuples                               0.3.9\n",
            "Farama-Notifications                  0.0.4\n",
            "fastai                                2.7.19\n",
            "fastcore                              1.7.29\n",
            "fastdownload                          0.0.7\n",
            "fastjsonschema                        2.21.1\n",
            "fastprogress                          1.0.3\n",
            "fastrlock                             0.8.3\n",
            "filelock                              3.18.0\n",
            "firebase-admin                        6.8.0\n",
            "Flask                                 3.1.0\n",
            "flatbuffers                           25.2.10\n",
            "flax                                  0.10.6\n",
            "folium                                0.19.5\n",
            "fonttools                             4.57.0\n",
            "frozendict                            2.4.6\n",
            "frozenlist                            1.6.0\n",
            "fsspec                                2025.3.2\n",
            "future                                1.0.0\n",
            "gast                                  0.6.0\n",
            "gcsfs                                 2025.3.2\n",
            "GDAL                                  3.6.4\n",
            "gdown                                 5.2.0\n",
            "geemap                                0.35.3\n",
            "geocoder                              1.38.1\n",
            "geographiclib                         2.0\n",
            "geopandas                             1.0.1\n",
            "geopy                                 2.4.1\n",
            "gin-config                            0.5.0\n",
            "gitdb                                 4.0.12\n",
            "GitPython                             3.1.44\n",
            "glob2                                 0.7\n",
            "google                                2.0.3\n",
            "google-ai-generativelanguage          0.6.15\n",
            "google-api-core                       2.24.2\n",
            "google-api-python-client              2.169.0\n",
            "google-auth                           2.38.0\n",
            "google-auth-httplib2                  0.2.0\n",
            "google-auth-oauthlib                  1.2.2\n",
            "google-cloud-aiplatform               1.91.0\n",
            "google-cloud-bigquery                 3.31.0\n",
            "google-cloud-bigquery-connection      1.18.2\n",
            "google-cloud-bigquery-storage         2.31.0\n",
            "google-cloud-bigtable                 2.30.1\n",
            "google-cloud-core                     2.4.3\n",
            "google-cloud-dataproc                 5.18.1\n",
            "google-cloud-datastore                2.21.0\n",
            "google-cloud-firestore                2.20.2\n",
            "google-cloud-functions                1.20.3\n",
            "google-cloud-iam                      2.19.0\n",
            "google-cloud-language                 2.17.1\n",
            "google-cloud-pubsub                   2.25.0\n",
            "google-cloud-resource-manager         1.14.2\n",
            "google-cloud-spanner                  3.54.0\n",
            "google-cloud-storage                  2.19.0\n",
            "google-cloud-translate                3.20.2\n",
            "google-colab                          1.0.0\n",
            "google-crc32c                         1.7.1\n",
            "google-genai                          1.13.0\n",
            "google-generativeai                   0.8.5\n",
            "google-pasta                          0.2.0\n",
            "google-resumable-media                2.7.2\n",
            "googleapis-common-protos              1.70.0\n",
            "googledrivedownloader                 1.1.0\n",
            "graphviz                              0.20.3\n",
            "greenlet                              3.2.1\n",
            "grpc-google-iam-v1                    0.14.2\n",
            "grpc-interceptor                      0.15.4\n",
            "grpcio                                1.71.0\n",
            "grpcio-status                         1.71.0\n",
            "grpclib                               0.4.7\n",
            "gspread                               6.2.0\n",
            "gspread-dataframe                     4.0.0\n",
            "gym                                   0.25.2\n",
            "gym-notices                           0.0.8\n",
            "gymnasium                             1.1.1\n",
            "h11                                   0.16.0\n",
            "h2                                    4.2.0\n",
            "h5netcdf                              1.6.1\n",
            "h5py                                  3.13.0\n",
            "hdbscan                               0.8.40\n",
            "highspy                               1.10.0\n",
            "holidays                              0.71\n",
            "holoviews                             1.20.2\n",
            "hpack                                 4.1.0\n",
            "html5lib                              1.1\n",
            "httpcore                              1.0.9\n",
            "httpimport                            1.4.1\n",
            "httplib2                              0.22.0\n",
            "httpx                                 0.28.1\n",
            "huggingface-hub                       0.30.2\n",
            "humanize                              4.12.3\n",
            "hyperframe                            6.1.0\n",
            "hyperopt                              0.2.7\n",
            "ibis-framework                        9.5.0\n",
            "idna                                  3.10\n",
            "imageio                               2.37.0\n",
            "imageio-ffmpeg                        0.6.0\n",
            "imagesize                             1.4.1\n",
            "imbalanced-learn                      0.13.0\n",
            "immutabledict                         4.2.1\n",
            "importlib_metadata                    8.7.0\n",
            "importlib_resources                   6.5.2\n",
            "imutils                               0.5.4\n",
            "inflect                               7.5.0\n",
            "iniconfig                             2.1.0\n",
            "intel-cmplr-lib-ur                    2025.1.1\n",
            "intel-openmp                          2025.1.1\n",
            "ipyevents                             2.0.2\n",
            "ipyfilechooser                        0.6.0\n",
            "ipykernel                             6.17.1\n",
            "ipyleaflet                            0.19.2\n",
            "ipyparallel                           8.8.0\n",
            "ipython                               7.34.0\n",
            "ipython-genutils                      0.2.0\n",
            "ipython-sql                           0.5.0\n",
            "ipytree                               0.2.2\n",
            "ipywidgets                            7.7.1\n",
            "itsdangerous                          2.2.0\n",
            "jaraco.classes                        3.4.0\n",
            "jaraco.context                        6.0.1\n",
            "jaraco.functools                      4.1.0\n",
            "jax                                   0.5.2\n",
            "jax-cuda12-pjrt                       0.5.1\n",
            "jax-cuda12-plugin                     0.5.1\n",
            "jaxlib                                0.5.1\n",
            "jeepney                               0.9.0\n",
            "jieba                                 0.42.1\n",
            "Jinja2                                3.1.6\n",
            "jiter                                 0.9.0\n",
            "joblib                                1.4.2\n",
            "jsonpatch                             1.33\n",
            "jsonpickle                            4.0.5\n",
            "jsonpointer                           3.0.0\n",
            "jsonschema                            4.23.0\n",
            "jsonschema-specifications             2025.4.1\n",
            "jupyter-client                        6.1.12\n",
            "jupyter-console                       6.1.0\n",
            "jupyter_core                          5.7.2\n",
            "jupyter_kernel_gateway                2.5.2\n",
            "jupyter-leaflet                       0.19.2\n",
            "jupyter-server                        1.16.0\n",
            "jupyterlab_pygments                   0.3.0\n",
            "jupyterlab_widgets                    3.0.14\n",
            "kaggle                                1.7.4.2\n",
            "kagglehub                             0.3.12\n",
            "keras                                 3.8.0\n",
            "keras-hub                             0.18.1\n",
            "keras-nlp                             0.18.1\n",
            "keyring                               25.6.0\n",
            "keyrings.google-artifactregistry-auth 1.1.2\n",
            "kiwisolver                            1.4.8\n",
            "langchain                             0.3.24\n",
            "langchain-core                        0.3.56\n",
            "langchain-text-splitters              0.3.8\n",
            "langcodes                             3.5.0\n",
            "langsmith                             0.3.39\n",
            "language_data                         1.3.0\n",
            "launchpadlib                          1.10.16\n",
            "lazr.restfulclient                    0.14.4\n",
            "lazr.uri                              1.0.6\n",
            "lazy_loader                           0.4\n",
            "libclang                              18.1.1\n",
            "libcudf-cu12                          25.2.1\n",
            "libcugraph-cu12                       25.2.0\n",
            "libcuml-cu12                          25.2.1\n",
            "libcuvs-cu12                          25.2.1\n",
            "libkvikio-cu12                        25.2.1\n",
            "libraft-cu12                          25.2.0\n",
            "librosa                               0.11.0\n",
            "libucx-cu12                           1.18.1\n",
            "libucxx-cu12                          0.42.0\n",
            "lightgbm                              4.5.0\n",
            "linkify-it-py                         2.0.3\n",
            "llvmlite                              0.43.0\n",
            "locket                                1.0.0\n",
            "logical-unification                   0.4.6\n",
            "lxml                                  5.4.0\n",
            "Mako                                  1.1.3\n",
            "marisa-trie                           1.2.1\n",
            "Markdown                              3.8\n",
            "markdown-it-py                        3.0.0\n",
            "MarkupSafe                            3.0.2\n",
            "matplotlib                            3.10.0\n",
            "matplotlib-inline                     0.1.7\n",
            "matplotlib-venn                       1.1.2\n",
            "mdit-py-plugins                       0.4.2\n",
            "mdurl                                 0.1.2\n",
            "miniKanren                            1.0.3\n",
            "missingno                             0.5.2\n",
            "mistune                               3.1.3\n",
            "mizani                                0.13.3\n",
            "mkl                                   2025.0.1\n",
            "ml-dtypes                             0.4.1\n",
            "mlxtend                               0.23.4\n",
            "more-itertools                        10.7.0\n",
            "moviepy                               1.0.3\n",
            "mpmath                                1.3.0\n",
            "msgpack                               1.1.0\n",
            "multidict                             6.4.3\n",
            "multipledispatch                      1.0.0\n",
            "multitasking                          0.0.11\n",
            "murmurhash                            1.0.12\n",
            "music21                               9.3.0\n",
            "namex                                 0.0.9\n",
            "narwhals                              1.37.1\n",
            "natsort                               8.4.0\n",
            "nbclassic                             1.3.0\n",
            "nbclient                              0.10.2\n",
            "nbconvert                             7.16.6\n",
            "nbformat                              5.10.4\n",
            "ndindex                               1.9.2\n",
            "nest-asyncio                          1.6.0\n",
            "networkx                              3.4.2\n",
            "nibabel                               5.3.2\n",
            "nltk                                  3.9.1\n",
            "notebook                              6.5.7\n",
            "notebook_shim                         0.2.4\n",
            "numba                                 0.60.0\n",
            "numba-cuda                            0.2.0\n",
            "numexpr                               2.10.2\n",
            "numpy                                 2.0.2\n",
            "nvidia-cublas-cu12                    12.5.3.2\n",
            "nvidia-cuda-cupti-cu12                12.5.82\n",
            "nvidia-cuda-nvcc-cu12                 12.5.82\n",
            "nvidia-cuda-nvrtc-cu12                12.5.82\n",
            "nvidia-cuda-runtime-cu12              12.5.82\n",
            "nvidia-cudnn-cu12                     9.3.0.75\n",
            "nvidia-cufft-cu12                     11.2.3.61\n",
            "nvidia-curand-cu12                    10.3.6.82\n",
            "nvidia-cusolver-cu12                  11.6.3.83\n",
            "nvidia-cusparse-cu12                  12.5.1.3\n",
            "nvidia-cusparselt-cu12                0.6.2\n",
            "nvidia-ml-py                          12.570.86\n",
            "nvidia-nccl-cu12                      2.21.5\n",
            "nvidia-nvcomp-cu12                    4.2.0.11\n",
            "nvidia-nvjitlink-cu12                 12.5.82\n",
            "nvidia-nvtx-cu12                      12.4.127\n",
            "nvtx                                  0.2.11\n",
            "nx-cugraph-cu12                       25.2.0\n",
            "oauth2client                          4.1.3\n",
            "oauthlib                              3.2.2\n",
            "openai                                1.76.2\n",
            "opencv-contrib-python                 4.11.0.86\n",
            "opencv-python                         4.11.0.86\n",
            "opencv-python-headless                4.11.0.86\n",
            "openpyxl                              3.1.5\n",
            "opentelemetry-api                     1.16.0\n",
            "opentelemetry-sdk                     1.16.0\n",
            "opentelemetry-semantic-conventions    0.37b0\n",
            "opt_einsum                            3.4.0\n",
            "optax                                 0.2.4\n",
            "optree                                0.15.0\n",
            "orbax-checkpoint                      0.11.13\n",
            "orjson                                3.10.18\n",
            "osqp                                  1.0.3\n",
            "packaging                             24.2\n",
            "pandas                                2.2.2\n",
            "pandas-datareader                     0.10.0\n",
            "pandas-gbq                            0.28.0\n",
            "pandas-stubs                          2.2.2.240909\n",
            "pandocfilters                         1.5.1\n",
            "panel                                 1.6.3\n",
            "param                                 2.2.0\n",
            "parso                                 0.8.4\n",
            "parsy                                 2.1\n",
            "partd                                 1.4.2\n",
            "pathlib                               1.0.1\n",
            "patsy                                 1.0.1\n",
            "peewee                                3.18.1\n",
            "peft                                  0.15.2\n",
            "pexpect                               4.9.0\n",
            "pickleshare                           0.7.5\n",
            "pillow                                11.2.1\n",
            "pip                                   24.1.2\n",
            "platformdirs                          4.3.7\n",
            "plotly                                5.24.1\n",
            "plotnine                              0.14.5\n",
            "pluggy                                1.5.0\n",
            "ply                                   3.11\n",
            "polars                                1.21.0\n",
            "pooch                                 1.8.2\n",
            "portpicker                            1.5.2\n",
            "preshed                               3.0.9\n",
            "prettytable                           3.16.0\n",
            "proglog                               0.1.11\n",
            "progressbar2                          4.5.0\n",
            "prometheus_client                     0.21.1\n",
            "promise                               2.3\n",
            "prompt_toolkit                        3.0.51\n",
            "propcache                             0.3.1\n",
            "prophet                               1.1.6\n",
            "proto-plus                            1.26.1\n",
            "protobuf                              5.29.4\n",
            "psutil                                5.9.5\n",
            "psycopg2                              2.9.10\n",
            "ptyprocess                            0.7.0\n",
            "py-cpuinfo                            9.0.0\n",
            "py4j                                  0.10.9.7\n",
            "pyarrow                               18.1.0\n",
            "pyasn1                                0.6.1\n",
            "pyasn1_modules                        0.4.2\n",
            "pycairo                               1.28.0\n",
            "pycocotools                           2.0.8\n",
            "pycparser                             2.22\n",
            "pydantic                              2.11.4\n",
            "pydantic_core                         2.33.2\n",
            "pydata-google-auth                    1.9.1\n",
            "pydot                                 3.0.4\n",
            "pydotplus                             2.0.2\n",
            "PyDrive                               1.3.1\n",
            "PyDrive2                              1.21.3\n",
            "pyerfa                                2.0.1.5\n",
            "pygame                                2.6.1\n",
            "pygit2                                1.18.0\n",
            "Pygments                              2.19.1\n",
            "PyGObject                             3.42.0\n",
            "PyJWT                                 2.10.1\n",
            "pylibcudf-cu12                        25.2.1\n",
            "pylibcugraph-cu12                     25.2.0\n",
            "pylibraft-cu12                        25.2.0\n",
            "pymc                                  5.22.0\n",
            "pymystem3                             0.2.0\n",
            "pynndescent                           0.5.13\n",
            "pynvjitlink-cu12                      0.5.2\n",
            "pynvml                                12.0.0\n",
            "pyogrio                               0.10.0\n",
            "pyomo                                 6.9.2\n",
            "PyOpenGL                              3.1.9\n",
            "pyOpenSSL                             24.2.1\n",
            "pyparsing                             3.2.3\n",
            "pyperclip                             1.9.0\n",
            "pyproj                                3.7.1\n",
            "pyproject_hooks                       1.2.0\n",
            "pyshp                                 2.3.1\n",
            "PySocks                               1.7.1\n",
            "pyspark                               3.5.1\n",
            "pytensor                              2.30.3\n",
            "pytest                                8.3.5\n",
            "python-apt                            0.0.0\n",
            "python-box                            7.3.2\n",
            "python-dateutil                       2.9.0.post0\n",
            "python-louvain                        0.16\n",
            "python-slugify                        8.0.4\n",
            "python-snappy                         0.7.3\n",
            "python-utils                          3.9.1\n",
            "pytz                                  2025.2\n",
            "pyviz_comms                           3.0.4\n",
            "PyYAML                                6.0.2\n",
            "pyzmq                                 24.0.1\n",
            "raft-dask-cu12                        25.2.0\n",
            "rapids-dask-dependency                25.2.0\n",
            "ratelim                               0.1.6\n",
            "referencing                           0.36.2\n",
            "regex                                 2024.11.6\n",
            "requests                              2.32.3\n",
            "requests-oauthlib                     2.0.0\n",
            "requests-toolbelt                     1.0.0\n",
            "requirements-parser                   0.9.0\n",
            "rich                                  13.9.4\n",
            "rmm-cu12                              25.2.0\n",
            "roman-numerals-py                     3.1.0\n",
            "rpds-py                               0.24.0\n",
            "rpy2                                  3.5.17\n",
            "rsa                                   4.9.1\n",
            "safetensors                           0.5.3\n",
            "scikit-image                          0.25.2\n",
            "scikit-learn                          1.6.1\n",
            "scipy                                 1.15.2\n",
            "scooby                                0.10.1\n",
            "scs                                   3.2.7.post2\n",
            "seaborn                               0.13.2\n",
            "SecretStorage                         3.3.3\n",
            "Send2Trash                            1.8.3\n",
            "sentence-transformers                 3.4.1\n",
            "sentencepiece                         0.2.0\n",
            "sentry-sdk                            2.27.0\n",
            "setproctitle                          1.3.6\n",
            "setuptools                            75.2.0\n",
            "shap                                  0.47.2\n",
            "shapely                               2.1.0\n",
            "shellingham                           1.5.4\n",
            "simple-parsing                        0.1.7\n",
            "simplejson                            3.20.1\n",
            "simsimd                               6.2.1\n",
            "six                                   1.17.0\n",
            "sklearn-compat                        0.1.3\n",
            "sklearn-pandas                        2.2.0\n",
            "slicer                                0.0.8\n",
            "smart-open                            7.1.0\n",
            "smmap                                 5.0.2\n",
            "sniffio                               1.3.1\n",
            "snowballstemmer                       2.2.0\n",
            "sortedcontainers                      2.4.0\n",
            "soundfile                             0.13.1\n",
            "soupsieve                             2.7\n",
            "soxr                                  0.5.0.post1\n",
            "spacy                                 3.8.5\n",
            "spacy-legacy                          3.0.12\n",
            "spacy-loggers                         1.0.5\n",
            "spanner-graph-notebook                1.1.6\n",
            "Sphinx                                8.2.3\n",
            "sphinxcontrib-applehelp               2.0.0\n",
            "sphinxcontrib-devhelp                 2.0.0\n",
            "sphinxcontrib-htmlhelp                2.1.0\n",
            "sphinxcontrib-jsmath                  1.0.1\n",
            "sphinxcontrib-qthelp                  2.0.0\n",
            "sphinxcontrib-serializinghtml         2.0.0\n",
            "SQLAlchemy                            2.0.40\n",
            "sqlglot                               25.20.2\n",
            "sqlparse                              0.5.3\n",
            "srsly                                 2.5.1\n",
            "stanio                                0.5.1\n",
            "statsmodels                           0.14.4\n",
            "stringzilla                           3.12.5\n",
            "sympy                                 1.13.1\n",
            "tables                                3.10.2\n",
            "tabulate                              0.9.0\n",
            "tbb                                   2022.1.0\n",
            "tblib                                 3.1.0\n",
            "tcmlib                                1.3.0\n",
            "tenacity                              9.1.2\n",
            "tensorboard                           2.18.0\n",
            "tensorboard-data-server               0.7.2\n",
            "tensorflow                            2.18.0\n",
            "tensorflow-datasets                   4.9.8\n",
            "tensorflow_decision_forests           1.11.0\n",
            "tensorflow-hub                        0.16.1\n",
            "tensorflow-io-gcs-filesystem          0.37.1\n",
            "tensorflow-metadata                   1.17.1\n",
            "tensorflow-probability                0.25.0\n",
            "tensorflow-text                       2.18.1\n",
            "tensorstore                           0.1.74\n",
            "termcolor                             3.1.0\n",
            "terminado                             0.18.1\n",
            "text-unidecode                        1.3\n",
            "textblob                              0.19.0\n",
            "tf_keras                              2.18.0\n",
            "tf-slim                               1.1.0\n",
            "thinc                                 8.3.6\n",
            "threadpoolctl                         3.6.0\n",
            "tifffile                              2025.3.30\n",
            "timm                                  1.0.15\n",
            "tinycss2                              1.4.0\n",
            "tokenizers                            0.21.1\n",
            "toml                                  0.10.2\n",
            "toolz                                 0.12.1\n",
            "torch                                 2.6.0+cu124\n",
            "torchaudio                            2.6.0+cu124\n",
            "torchsummary                          1.5.1\n",
            "torchvision                           0.21.0+cu124\n",
            "tornado                               6.4.2\n",
            "tqdm                                  4.67.1\n",
            "traitlets                             5.7.1\n",
            "traittypes                            0.2.1\n",
            "transformers                          4.51.3\n",
            "treelite                              4.4.1\n",
            "treescope                             0.1.9\n",
            "triton                                3.2.0\n",
            "tweepy                                4.15.0\n",
            "typeguard                             4.4.2\n",
            "typer                                 0.15.3\n",
            "types-pytz                            2025.2.0.20250326\n",
            "types-setuptools                      80.3.0.20250505\n",
            "typing_extensions                     4.13.2\n",
            "typing-inspection                     0.4.0\n",
            "tzdata                                2025.2\n",
            "tzlocal                               5.3.1\n",
            "uc-micro-py                           1.0.3\n",
            "ucx-py-cu12                           0.42.0\n",
            "ucxx-cu12                             0.42.0\n",
            "umap-learn                            0.5.7\n",
            "umf                                   0.10.0\n",
            "uritemplate                           4.1.1\n",
            "urllib3                               2.4.0\n",
            "vega-datasets                         0.9.0\n",
            "wadllib                               1.3.6\n",
            "wandb                                 0.19.10\n",
            "wasabi                                1.1.3\n",
            "wcwidth                               0.2.13\n",
            "weasel                                0.4.1\n",
            "webcolors                             24.11.1\n",
            "webencodings                          0.5.1\n",
            "websocket-client                      1.8.0\n",
            "websockets                            15.0.1\n",
            "Werkzeug                              3.1.3\n",
            "wheel                                 0.45.1\n",
            "widgetsnbextension                    3.6.10\n",
            "wordcloud                             1.9.4\n",
            "wrapt                                 1.17.2\n",
            "wurlitzer                             3.1.1\n",
            "xarray                                2025.3.1\n",
            "xarray-einstats                       0.8.0\n",
            "xgboost                               2.1.4\n",
            "xlrd                                  2.0.1\n",
            "xyzservices                           2025.4.0\n",
            "yarl                                  1.20.0\n",
            "ydf                                   0.11.0\n",
            "yellowbrick                           1.5\n",
            "yfinance                              0.2.57\n",
            "zict                                  3.0.0\n",
            "zipp                                  3.21.0\n",
            "zstandard                             0.23.0\n"
          ]
        }
      ]
    },
    {
      "cell_type": "code",
      "source": [
        "!pip install pandas"
      ],
      "metadata": {
        "id": "IFnUUUuvEWu4",
        "colab": {
          "base_uri": "https://localhost:8080/"
        },
        "outputId": "3c966be1-8973-4ea4-857b-698f49c50006"
      },
      "id": "IFnUUUuvEWu4",
      "execution_count": null,
      "outputs": [
        {
          "output_type": "stream",
          "name": "stdout",
          "text": [
            "Requirement already satisfied: pandas in /usr/local/lib/python3.11/dist-packages (2.2.2)\n",
            "Requirement already satisfied: numpy>=1.23.2 in /usr/local/lib/python3.11/dist-packages (from pandas) (2.0.2)\n",
            "Requirement already satisfied: python-dateutil>=2.8.2 in /usr/local/lib/python3.11/dist-packages (from pandas) (2.9.0.post0)\n",
            "Requirement already satisfied: pytz>=2020.1 in /usr/local/lib/python3.11/dist-packages (from pandas) (2025.2)\n",
            "Requirement already satisfied: tzdata>=2022.7 in /usr/local/lib/python3.11/dist-packages (from pandas) (2025.2)\n",
            "Requirement already satisfied: six>=1.5 in /usr/local/lib/python3.11/dist-packages (from python-dateutil>=2.8.2->pandas) (1.17.0)\n"
          ]
        }
      ]
    },
    {
      "cell_type": "code",
      "source": [
        "!pip install transformers"
      ],
      "metadata": {
        "id": "2BIWIbKcEWst",
        "colab": {
          "base_uri": "https://localhost:8080/"
        },
        "outputId": "38a541a5-0323-417f-865e-152de16221fd"
      },
      "id": "2BIWIbKcEWst",
      "execution_count": null,
      "outputs": [
        {
          "output_type": "stream",
          "name": "stdout",
          "text": [
            "Requirement already satisfied: transformers in /usr/local/lib/python3.11/dist-packages (4.51.3)\n",
            "Requirement already satisfied: filelock in /usr/local/lib/python3.11/dist-packages (from transformers) (3.18.0)\n",
            "Requirement already satisfied: huggingface-hub<1.0,>=0.30.0 in /usr/local/lib/python3.11/dist-packages (from transformers) (0.30.2)\n",
            "Requirement already satisfied: numpy>=1.17 in /usr/local/lib/python3.11/dist-packages (from transformers) (2.0.2)\n",
            "Requirement already satisfied: packaging>=20.0 in /usr/local/lib/python3.11/dist-packages (from transformers) (24.2)\n",
            "Requirement already satisfied: pyyaml>=5.1 in /usr/local/lib/python3.11/dist-packages (from transformers) (6.0.2)\n",
            "Requirement already satisfied: regex!=2019.12.17 in /usr/local/lib/python3.11/dist-packages (from transformers) (2024.11.6)\n",
            "Requirement already satisfied: requests in /usr/local/lib/python3.11/dist-packages (from transformers) (2.32.3)\n",
            "Requirement already satisfied: tokenizers<0.22,>=0.21 in /usr/local/lib/python3.11/dist-packages (from transformers) (0.21.1)\n",
            "Requirement already satisfied: safetensors>=0.4.3 in /usr/local/lib/python3.11/dist-packages (from transformers) (0.5.3)\n",
            "Requirement already satisfied: tqdm>=4.27 in /usr/local/lib/python3.11/dist-packages (from transformers) (4.67.1)\n",
            "Requirement already satisfied: fsspec>=2023.5.0 in /usr/local/lib/python3.11/dist-packages (from huggingface-hub<1.0,>=0.30.0->transformers) (2025.3.2)\n",
            "Requirement already satisfied: typing-extensions>=3.7.4.3 in /usr/local/lib/python3.11/dist-packages (from huggingface-hub<1.0,>=0.30.0->transformers) (4.13.2)\n",
            "Requirement already satisfied: charset-normalizer<4,>=2 in /usr/local/lib/python3.11/dist-packages (from requests->transformers) (3.4.1)\n",
            "Requirement already satisfied: idna<4,>=2.5 in /usr/local/lib/python3.11/dist-packages (from requests->transformers) (3.10)\n",
            "Requirement already satisfied: urllib3<3,>=1.21.1 in /usr/local/lib/python3.11/dist-packages (from requests->transformers) (2.4.0)\n",
            "Requirement already satisfied: certifi>=2017.4.17 in /usr/local/lib/python3.11/dist-packages (from requests->transformers) (2025.4.26)\n"
          ]
        }
      ]
    },
    {
      "cell_type": "code",
      "source": [
        "!pip install mysql-connector-python"
      ],
      "metadata": {
        "colab": {
          "base_uri": "https://localhost:8080/"
        },
        "id": "jUVgvn_c44Rm",
        "outputId": "72eda63e-f3d5-4895-f51f-3af4af8375bb"
      },
      "id": "jUVgvn_c44Rm",
      "execution_count": null,
      "outputs": [
        {
          "output_type": "stream",
          "name": "stdout",
          "text": [
            "Collecting mysql-connector-python\n",
            "  Downloading mysql_connector_python-9.3.0-cp311-cp311-manylinux_2_28_x86_64.whl.metadata (7.2 kB)\n",
            "Downloading mysql_connector_python-9.3.0-cp311-cp311-manylinux_2_28_x86_64.whl (33.9 MB)\n",
            "\u001b[2K   \u001b[90m━━━━━━━━━━━━━━━━━━━━━━━━━━━━━━━━━━━━━━━━\u001b[0m \u001b[32m33.9/33.9 MB\u001b[0m \u001b[31m60.9 MB/s\u001b[0m eta \u001b[36m0:00:00\u001b[0m\n",
            "\u001b[?25hInstalling collected packages: mysql-connector-python\n",
            "Successfully installed mysql-connector-python-9.3.0\n"
          ]
        }
      ]
    },
    {
      "cell_type": "code",
      "source": [
        "!pip install mysql-connector-python"
      ],
      "metadata": {
        "colab": {
          "base_uri": "https://localhost:8080/"
        },
        "id": "GFHblCUK44Pc",
        "outputId": "8d37f23b-9937-49ab-eb41-f37054c3cb4c"
      },
      "id": "GFHblCUK44Pc",
      "execution_count": null,
      "outputs": [
        {
          "output_type": "stream",
          "name": "stdout",
          "text": [
            "Requirement already satisfied: mysql-connector-python in /usr/local/lib/python3.11/dist-packages (9.3.0)\n"
          ]
        }
      ]
    },
    {
      "cell_type": "code",
      "source": [
        "!pip uninstall mysql-connector-python"
      ],
      "metadata": {
        "colab": {
          "base_uri": "https://localhost:8080/"
        },
        "id": "Xcwtzs-O44M0",
        "outputId": "287b34b7-1c97-40de-b18f-3b59d73ff370"
      },
      "id": "Xcwtzs-O44M0",
      "execution_count": null,
      "outputs": [
        {
          "output_type": "stream",
          "name": "stdout",
          "text": [
            "Found existing installation: mysql-connector-python 9.3.0\n",
            "Uninstalling mysql-connector-python-9.3.0:\n",
            "  Would remove:\n",
            "    /usr/local/lib/python3.11/dist-packages/_mysql_connector.cpython-311-x86_64-linux-gnu.so\n",
            "    /usr/local/lib/python3.11/dist-packages/mysql/*\n",
            "    /usr/local/lib/python3.11/dist-packages/mysql_connector_python-9.3.0.dist-info/*\n",
            "Proceed (Y/n)? y\n",
            "Y\n",
            "\n",
            "  Successfully uninstalled mysql-connector-python-9.3.0\n"
          ]
        }
      ]
    },
    {
      "cell_type": "code",
      "source": [
        "!pip install mysql-connector-python==9.1.0"
      ],
      "metadata": {
        "colab": {
          "base_uri": "https://localhost:8080/"
        },
        "id": "zvhd6J3844J3",
        "outputId": "a25f488b-6586-46a5-986f-9119f5d4e4ac"
      },
      "id": "zvhd6J3844J3",
      "execution_count": null,
      "outputs": [
        {
          "output_type": "stream",
          "name": "stdout",
          "text": [
            "Collecting mysql-connector-python==9.1.0\n",
            "  Downloading mysql_connector_python-9.1.0-cp311-cp311-manylinux_2_28_x86_64.whl.metadata (6.0 kB)\n",
            "Downloading mysql_connector_python-9.1.0-cp311-cp311-manylinux_2_28_x86_64.whl (34.4 MB)\n",
            "\u001b[2K   \u001b[90m━━━━━━━━━━━━━━━━━━━━━━━━━━━━━━━━━━━━━━━━\u001b[0m \u001b[32m34.4/34.4 MB\u001b[0m \u001b[31m41.1 MB/s\u001b[0m eta \u001b[36m0:00:00\u001b[0m\n",
            "\u001b[?25hInstalling collected packages: mysql-connector-python\n",
            "Successfully installed mysql-connector-python-9.1.0\n"
          ]
        }
      ]
    },
    {
      "cell_type": "code",
      "source": [
        "!pip install -r /content/requirements.txt"
      ],
      "metadata": {
        "colab": {
          "base_uri": "https://localhost:8080/"
        },
        "id": "MN1WLt1B44G3",
        "outputId": "47f15635-1295-4617-8147-1d7aa29b23da"
      },
      "id": "MN1WLt1B44G3",
      "execution_count": null,
      "outputs": [
        {
          "output_type": "stream",
          "name": "stdout",
          "text": [
            "Requirement already satisfied: pandas in /usr/local/lib/python3.11/dist-packages (from -r /content/requirements.txt (line 1)) (2.2.2)\n",
            "Requirement already satisfied: numpy in /usr/local/lib/python3.11/dist-packages (from -r /content/requirements.txt (line 2)) (2.0.2)\n",
            "Requirement already satisfied: scikit-learn in /usr/local/lib/python3.11/dist-packages (from -r /content/requirements.txt (line 3)) (1.6.1)\n",
            "Requirement already satisfied: python-dateutil>=2.8.2 in /usr/local/lib/python3.11/dist-packages (from pandas->-r /content/requirements.txt (line 1)) (2.9.0.post0)\n",
            "Requirement already satisfied: pytz>=2020.1 in /usr/local/lib/python3.11/dist-packages (from pandas->-r /content/requirements.txt (line 1)) (2025.2)\n",
            "Requirement already satisfied: tzdata>=2022.7 in /usr/local/lib/python3.11/dist-packages (from pandas->-r /content/requirements.txt (line 1)) (2025.2)\n",
            "Requirement already satisfied: scipy>=1.6.0 in /usr/local/lib/python3.11/dist-packages (from scikit-learn->-r /content/requirements.txt (line 3)) (1.15.2)\n",
            "Requirement already satisfied: joblib>=1.2.0 in /usr/local/lib/python3.11/dist-packages (from scikit-learn->-r /content/requirements.txt (line 3)) (1.4.2)\n",
            "Requirement already satisfied: threadpoolctl>=3.1.0 in /usr/local/lib/python3.11/dist-packages (from scikit-learn->-r /content/requirements.txt (line 3)) (3.6.0)\n",
            "Requirement already satisfied: six>=1.5 in /usr/local/lib/python3.11/dist-packages (from python-dateutil>=2.8.2->pandas->-r /content/requirements.txt (line 1)) (1.17.0)\n"
          ]
        }
      ]
    },
    {
      "cell_type": "code",
      "source": [],
      "metadata": {
        "id": "a8OKCTdA72el"
      },
      "id": "a8OKCTdA72el",
      "execution_count": null,
      "outputs": []
    },
    {
      "cell_type": "code",
      "source": [],
      "metadata": {
        "id": "_3LDF_lz72cO"
      },
      "id": "_3LDF_lz72cO",
      "execution_count": null,
      "outputs": []
    },
    {
      "cell_type": "code",
      "source": [],
      "metadata": {
        "id": "c2r4ITz072Zl"
      },
      "id": "c2r4ITz072Zl",
      "execution_count": null,
      "outputs": []
    },
    {
      "cell_type": "markdown",
      "source": [
        "## Iterators"
      ],
      "metadata": {
        "id": "diXsr7CIEhRP"
      },
      "id": "diXsr7CIEhRP"
    },
    {
      "cell_type": "code",
      "source": [
        "L1=['a','b','c',1,2,4,5]\n",
        "\n",
        "Iter_Var=iter(L1)\n",
        "Iter_Var"
      ],
      "metadata": {
        "id": "elv3uJDwEuDC",
        "colab": {
          "base_uri": "https://localhost:8080/"
        },
        "outputId": "719f0fd1-2934-4f3c-a3ce-6dfd1d123444"
      },
      "id": "elv3uJDwEuDC",
      "execution_count": null,
      "outputs": [
        {
          "output_type": "execute_result",
          "data": {
            "text/plain": [
              "<list_iterator at 0x79ade02a8f40>"
            ]
          },
          "metadata": {},
          "execution_count": 39
        }
      ]
    },
    {
      "cell_type": "code",
      "source": [
        "next(Iter_Var)"
      ],
      "metadata": {
        "id": "QcL104b-HZ9c",
        "colab": {
          "base_uri": "https://localhost:8080/",
          "height": 36
        },
        "outputId": "d070f48a-d603-4924-8ef3-928e3e4376c2"
      },
      "id": "QcL104b-HZ9c",
      "execution_count": null,
      "outputs": [
        {
          "output_type": "execute_result",
          "data": {
            "text/plain": [
              "'a'"
            ],
            "application/vnd.google.colaboratory.intrinsic+json": {
              "type": "string"
            }
          },
          "metadata": {},
          "execution_count": 40
        }
      ]
    },
    {
      "cell_type": "code",
      "source": [
        "next(Iter_Var)"
      ],
      "metadata": {
        "id": "_HbfWjLOHZ5z",
        "colab": {
          "base_uri": "https://localhost:8080/",
          "height": 36
        },
        "outputId": "8cdf626f-d3a5-42ce-a0d4-32409c420ff7"
      },
      "id": "_HbfWjLOHZ5z",
      "execution_count": null,
      "outputs": [
        {
          "output_type": "execute_result",
          "data": {
            "text/plain": [
              "'b'"
            ],
            "application/vnd.google.colaboratory.intrinsic+json": {
              "type": "string"
            }
          },
          "metadata": {},
          "execution_count": 41
        }
      ]
    },
    {
      "cell_type": "code",
      "source": [
        "next(Iter_Var)"
      ],
      "metadata": {
        "colab": {
          "base_uri": "https://localhost:8080/",
          "height": 36
        },
        "id": "NRF_J0Kg8ZZK",
        "outputId": "febd0e33-7f04-461c-cb7c-ee9b0a068c2c"
      },
      "id": "NRF_J0Kg8ZZK",
      "execution_count": null,
      "outputs": [
        {
          "output_type": "execute_result",
          "data": {
            "text/plain": [
              "'c'"
            ],
            "application/vnd.google.colaboratory.intrinsic+json": {
              "type": "string"
            }
          },
          "metadata": {},
          "execution_count": 42
        }
      ]
    },
    {
      "cell_type": "code",
      "source": [],
      "metadata": {
        "id": "Wg3KLxb78ZWp"
      },
      "id": "Wg3KLxb78ZWp",
      "execution_count": null,
      "outputs": []
    },
    {
      "cell_type": "code",
      "source": [],
      "metadata": {
        "id": "JT1B11Jo8ZUS"
      },
      "id": "JT1B11Jo8ZUS",
      "execution_count": null,
      "outputs": []
    },
    {
      "cell_type": "markdown",
      "source": [
        "# Algorithmic thinking with Python"
      ],
      "metadata": {
        "id": "CAWXMMI7Hhbn"
      },
      "id": "CAWXMMI7Hhbn"
    },
    {
      "cell_type": "markdown",
      "source": [
        "#### Time Complexity\n",
        "\n",
        "![](https://miro.medium.com/v2/resize:fit:1400/1*JuTeMEwPwv-TWfv3xP3h-w.png)"
      ],
      "metadata": {
        "id": "j-yIAwN3JACh"
      },
      "id": "j-yIAwN3JACh"
    },
    {
      "cell_type": "markdown",
      "source": [
        "1. O(1) - Constant time complexity means that the algorithm's runtime does not depend on the size of the input data. It performs the same number of operations regardless of the input size.\n",
        "\n",
        "2. O(n) - Linear time complexity means that the time taken by the algorithm increases linearly with the size of the input. As the size of the input increases, the number of operations also increases linearly.\n",
        "\n",
        "3. O(n^2) - Quadratic time complexity means that the time taken by the algorithm increases quadratically with the size of the input. Each increase in the input size results in a quadratic increase in the number of operations.\n",
        "4. O(log(n)) - Logarithmic time complexity means that the time taken by the algorithm increases logarithmically with the size of the input. These algorithms typically divide the input in half at each step.\n",
        "\n",
        "5. O(2^n) - Exponential time complexity means that the time taken by the algorithm doubles with each addition to the input data set."
      ],
      "metadata": {
        "id": "xaVBzJXEKdCh"
      },
      "id": "xaVBzJXEKdCh"
    },
    {
      "cell_type": "markdown",
      "source": [
        "#### Constant Time Complexity O(1)"
      ],
      "metadata": {
        "id": "bEBup-xEMXBP"
      },
      "id": "bEBup-xEMXBP"
    },
    {
      "cell_type": "code",
      "source": [],
      "metadata": {
        "id": "2mNWyVxFMEgX"
      },
      "id": "2mNWyVxFMEgX",
      "execution_count": null,
      "outputs": []
    },
    {
      "cell_type": "markdown",
      "source": [
        "#### Linear Time Complexity O(n)"
      ],
      "metadata": {
        "id": "m43R5mojMgVR"
      },
      "id": "m43R5mojMgVR"
    },
    {
      "cell_type": "code",
      "source": [],
      "metadata": {
        "id": "KpprY_x4Mxqk"
      },
      "id": "KpprY_x4Mxqk",
      "execution_count": null,
      "outputs": []
    },
    {
      "cell_type": "markdown",
      "source": [
        "#### Quadratic Time Complexity O(n^2)"
      ],
      "metadata": {
        "id": "97t1HLK9MyPA"
      },
      "id": "97t1HLK9MyPA"
    },
    {
      "cell_type": "code",
      "source": [],
      "metadata": {
        "id": "rwQT-hnmNQVq"
      },
      "id": "rwQT-hnmNQVq",
      "execution_count": null,
      "outputs": []
    },
    {
      "cell_type": "markdown",
      "source": [
        "#### Logarithmic Time Complexity O(log(n))"
      ],
      "metadata": {
        "id": "cTP8bA-xMyKL"
      },
      "id": "cTP8bA-xMyKL"
    },
    {
      "cell_type": "code",
      "source": [],
      "metadata": {
        "id": "IPLp8WJrNE4-"
      },
      "id": "IPLp8WJrNE4-",
      "execution_count": null,
      "outputs": []
    },
    {
      "cell_type": "markdown",
      "source": [
        "### Data Structures and Algorithm\n",
        "\n",
        "## Data Structure\n",
        "1. Stack\n",
        "2. Queue\n",
        "3. Heap\n",
        "4. Binary Tree\n",
        "\n",
        "Other DS Like (List, Linked List, Circular Linked List, Graph, AVL etc)\n",
        "\n",
        "## Algorithm\n",
        "\n",
        "Example Algorithms\n",
        "1. Euclid’s algorithm\n",
        "2. binary search\n"
      ],
      "metadata": {
        "id": "sDd3EMvmNgtl"
      },
      "id": "sDd3EMvmNgtl"
    },
    {
      "cell_type": "markdown",
      "source": [
        "#### Stack"
      ],
      "metadata": {
        "id": "YBgoYb66hMmL"
      },
      "id": "YBgoYb66hMmL"
    },
    {
      "cell_type": "markdown",
      "source": [
        "\n",
        "\n",
        "______________________________________________________\n",
        "![Stack](https://cdn.programiz.com/sites/tutorial2program/files/stack.png)"
      ],
      "metadata": {
        "id": "Iy15H3I_gH-W"
      },
      "id": "Iy15H3I_gH-W"
    },
    {
      "cell_type": "markdown",
      "source": [
        "Real-world example:\n",
        "\n",
        "1. Stack of plates/books: The last one placed on top is the first one removed.\n",
        "\n",
        "2. Undo feature in software (Ctrl+Z): The most recent action is undone first.\n",
        "\n",
        "3. Backtracking in maze-solving or games: Last path tried is the first one to be rolled back."
      ],
      "metadata": {
        "id": "1VTqLuwhMHBO"
      },
      "id": "1VTqLuwhMHBO"
    },
    {
      "cell_type": "code",
      "source": [],
      "metadata": {
        "id": "T9Eh-wv5OZNZ"
      },
      "id": "T9Eh-wv5OZNZ",
      "execution_count": null,
      "outputs": []
    },
    {
      "cell_type": "markdown",
      "source": [
        "#### Queue"
      ],
      "metadata": {
        "id": "W9-qvrRQhJq2"
      },
      "id": "W9-qvrRQhJq2"
    },
    {
      "cell_type": "markdown",
      "source": [
        "![](https://cdn.programiz.com/sites/tutorial2program/files/queue.png)"
      ],
      "metadata": {
        "id": "veJAhu9ZhGyR"
      },
      "id": "veJAhu9ZhGyR"
    },
    {
      "cell_type": "markdown",
      "source": [
        "Real-world example:\n",
        "\n",
        "1. Line at a ticket counter: The first person in line is served first.\n",
        "\n",
        "2. Print queue: Documents are printed in the order they are submitted.\n",
        "\n",
        "3. Customer service call center: Calls are answered in the order they arrive."
      ],
      "metadata": {
        "id": "LZM-b79tL--m"
      },
      "id": "LZM-b79tL--m"
    },
    {
      "cell_type": "code",
      "source": [],
      "metadata": {
        "id": "Ugj9l7KVhI7i"
      },
      "id": "Ugj9l7KVhI7i",
      "execution_count": null,
      "outputs": []
    },
    {
      "cell_type": "code",
      "source": [],
      "metadata": {
        "id": "5ZZv2Gbsolgu"
      },
      "id": "5ZZv2Gbsolgu",
      "execution_count": null,
      "outputs": []
    },
    {
      "cell_type": "code",
      "source": [],
      "metadata": {
        "id": "lpG0P1rpN198"
      },
      "id": "lpG0P1rpN198",
      "execution_count": null,
      "outputs": []
    },
    {
      "cell_type": "markdown",
      "source": [
        "#### Heap"
      ],
      "metadata": {
        "id": "hDaN5u_c5YlV"
      },
      "id": "hDaN5u_c5YlV"
    },
    {
      "cell_type": "markdown",
      "source": [
        "![](https://miro.medium.com/v2/resize:fit:1400/1*EU964HO0LZyypp7_MLkY8A.jpeg)"
      ],
      "metadata": {
        "id": "ZS5cJ7wfomCM"
      },
      "id": "ZS5cJ7wfomCM"
    },
    {
      "cell_type": "markdown",
      "source": [
        "![](https://media.geeksforgeeks.org/wp-content/uploads/20230323190448/minH2drawio-(3).png)"
      ],
      "metadata": {
        "id": "-cgokOrni8JQ"
      },
      "id": "-cgokOrni8JQ"
    },
    {
      "cell_type": "markdown",
      "source": [
        "Real-world example:\n",
        "\n",
        "1. Priority Queue in Operating Systems: Processes with the highest priority are executed first.\n",
        "\n",
        "2. Task scheduling in job queues: Urgent jobs (highest/lowest value) are handled first.\n",
        "\n",
        "3. Leaderboard ranking (Max-Heap): Top scores bubble to the top efficiently."
      ],
      "metadata": {
        "id": "odnrcx7rMMZz"
      },
      "id": "odnrcx7rMMZz"
    },
    {
      "cell_type": "code",
      "source": [],
      "metadata": {
        "id": "ZB4OdZ98mTnh"
      },
      "id": "ZB4OdZ98mTnh",
      "execution_count": null,
      "outputs": []
    },
    {
      "cell_type": "code",
      "source": [],
      "metadata": {
        "id": "XE9YfTCP9C_n"
      },
      "id": "XE9YfTCP9C_n",
      "execution_count": null,
      "outputs": []
    },
    {
      "cell_type": "code",
      "source": [],
      "metadata": {
        "id": "EcJhRzdX9C1g"
      },
      "id": "EcJhRzdX9C1g",
      "execution_count": null,
      "outputs": []
    },
    {
      "cell_type": "markdown",
      "source": [
        "#### Binary Tree"
      ],
      "metadata": {
        "id": "8PFN9Dhu8ocD"
      },
      "id": "8PFN9Dhu8ocD"
    },
    {
      "cell_type": "markdown",
      "source": [
        "![](https://upload.wikimedia.org/wikipedia/commons/thumb/5/5e/Binary_tree_v2.svg/640px-Binary_tree_v2.svg.png)"
      ],
      "metadata": {
        "id": "qlVdFPa28rLL"
      },
      "id": "qlVdFPa28rLL"
    },
    {
      "cell_type": "markdown",
      "source": [
        "Real-world examples:\n",
        "\n",
        "1. Decision Trees in AI/ML: Each node represents a condition or decision (e.g., \"Is salary > $50K?\") with Yes/No branches, leading to outcomes like \"Approve Loan\" or \"Reject\".\n",
        "\n",
        "2. Tournament Brackets: Sports knockout rounds like FIFA or Wimbledon, where each match has two players/teams and the winner moves up to the next round.\n",
        "\n",
        "3. Expression Parsing in Compilers: Mathematical expressions like ((a + b) * c) are parsed as binary trees with operators as internal nodes and operands as leaves."
      ],
      "metadata": {
        "id": "pXb5VpaGM4Sb"
      },
      "id": "pXb5VpaGM4Sb"
    },
    {
      "cell_type": "code",
      "source": [],
      "metadata": {
        "id": "hSQ2ZXkj9A2G"
      },
      "id": "hSQ2ZXkj9A2G",
      "execution_count": null,
      "outputs": []
    }
  ],
  "metadata": {
    "kernelspec": {
      "display_name": ".venv",
      "language": "python",
      "name": "python3"
    },
    "language_info": {
      "codemirror_mode": {
        "name": "ipython",
        "version": 3
      },
      "file_extension": ".py",
      "mimetype": "text/x-python",
      "name": "python",
      "nbconvert_exporter": "python",
      "pygments_lexer": "ipython3",
      "version": "3.9.6"
    },
    "colab": {
      "provenance": [],
      "toc_visible": true,
      "include_colab_link": true
    }
  },
  "nbformat": 4,
  "nbformat_minor": 5
}