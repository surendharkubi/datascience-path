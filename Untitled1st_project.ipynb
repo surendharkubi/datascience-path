{
  "nbformat": 4,
  "nbformat_minor": 0,
  "metadata": {
    "colab": {
      "provenance": [],
      "authorship_tag": "ABX9TyOh4XmPNL8KkQGDInhWJ1ZM",
      "include_colab_link": true
    },
    "kernelspec": {
      "name": "python3",
      "display_name": "Python 3"
    },
    "language_info": {
      "name": "python"
    }
  },
  "cells": [
    {
      "cell_type": "markdown",
      "metadata": {
        "id": "view-in-github",
        "colab_type": "text"
      },
      "source": [
        "<a href=\"https://colab.research.google.com/github/surendharkubi/datascience-path/blob/main/Untitled1st_project.ipynb\" target=\"_parent\"><img src=\"https://colab.research.google.com/assets/colab-badge.svg\" alt=\"Open In Colab\"/></a>"
      ]
    },
    {
      "cell_type": "code",
      "execution_count": null,
      "metadata": {
        "colab": {
          "base_uri": "https://localhost:8080/"
        },
        "id": "FzXkHkE7zoiJ",
        "outputId": "7f64cd89-b9cd-41de-f5be-0a052841cb49"
      },
      "outputs": [
        {
          "output_type": "stream",
          "name": "stdout",
          "text": [
            "surendhar\n"
          ]
        }
      ],
      "source": [
        "print('surendhar')"
      ]
    },
    {
      "cell_type": "code",
      "source": [
        "# values and variables"
      ],
      "metadata": {
        "id": "IWpv0N2_2BZW"
      },
      "execution_count": null,
      "outputs": []
    },
    {
      "cell_type": "code",
      "source": [
        "a=1994"
      ],
      "metadata": {
        "id": "iBklXOWq38uo"
      },
      "execution_count": null,
      "outputs": []
    },
    {
      "cell_type": "code",
      "source": [
        "a"
      ],
      "metadata": {
        "colab": {
          "base_uri": "https://localhost:8080/"
        },
        "id": "6_Bebcew4N0K",
        "outputId": "4b1ab3da-8019-46f8-ed45-97a768129878"
      },
      "execution_count": null,
      "outputs": [
        {
          "output_type": "execute_result",
          "data": {
            "text/plain": [
              "1994"
            ]
          },
          "metadata": {},
          "execution_count": 16
        }
      ]
    },
    {
      "cell_type": "code",
      "source": [
        "# values and variables"
      ],
      "metadata": {
        "id": "HJmmVoEP4XOy"
      },
      "execution_count": null,
      "outputs": []
    },
    {
      "cell_type": "code",
      "source": [
        "ramya=1"
      ],
      "metadata": {
        "id": "7g2YhCAa4rLX"
      },
      "execution_count": null,
      "outputs": []
    },
    {
      "cell_type": "code",
      "source": [
        "ramya"
      ],
      "metadata": {
        "colab": {
          "base_uri": "https://localhost:8080/"
        },
        "id": "7Ebt3wVR5DQz",
        "outputId": "71214df0-d696-487a-bd92-6dcd0dd39dec"
      },
      "execution_count": null,
      "outputs": [
        {
          "output_type": "execute_result",
          "data": {
            "text/plain": [
              "1"
            ]
          },
          "metadata": {},
          "execution_count": 25
        }
      ]
    },
    {
      "cell_type": "code",
      "source": [
        "b=2"
      ],
      "metadata": {
        "id": "tGD2L76c5z_w"
      },
      "execution_count": null,
      "outputs": []
    },
    {
      "cell_type": "code",
      "source": [
        "c=3"
      ],
      "metadata": {
        "id": "VXHto1Be55g7"
      },
      "execution_count": null,
      "outputs": []
    },
    {
      "cell_type": "code",
      "source": [
        "print(a,b,c)"
      ],
      "metadata": {
        "colab": {
          "base_uri": "https://localhost:8080/"
        },
        "id": "TSsRGsQ057ed",
        "outputId": "68c774b4-277d-41fd-c736-9102f58d46b8"
      },
      "execution_count": null,
      "outputs": [
        {
          "output_type": "stream",
          "name": "stdout",
          "text": [
            "1994 2 3\n"
          ]
        }
      ]
    },
    {
      "cell_type": "code",
      "source": [
        "print(a,b,c,ramya)"
      ],
      "metadata": {
        "colab": {
          "base_uri": "https://localhost:8080/"
        },
        "id": "J82NH3H-6GHp",
        "outputId": "351e6601-e2a8-4050-c78a-9076c3d95d10"
      },
      "execution_count": null,
      "outputs": [
        {
          "output_type": "stream",
          "name": "stdout",
          "text": [
            "1994 2 3 1\n"
          ]
        }
      ]
    },
    {
      "cell_type": "code",
      "source": [
        "import pandas as pd"
      ],
      "metadata": {
        "id": "WdQDwLW06T6t"
      },
      "execution_count": 1,
      "outputs": []
    },
    {
      "cell_type": "code",
      "source": [
        "df = pd.read_csv('/content/traffic_stops - traffic_stops_with_vehicle_number.csv')"
      ],
      "metadata": {
        "colab": {
          "base_uri": "https://localhost:8080/"
        },
        "id": "gj4DDOhPS4K4",
        "outputId": "c06883ee-4f90-4bb0-8a78-e18c7fec7222"
      },
      "execution_count": 2,
      "outputs": [
        {
          "output_type": "stream",
          "name": "stderr",
          "text": [
            "<ipython-input-2-c6495f99d002>:1: DtypeWarning: Columns (10) have mixed types. Specify dtype option on import or set low_memory=False.\n",
            "  df = pd.read_csv('/content/traffic_stops - traffic_stops_with_vehicle_number.csv')\n"
          ]
        }
      ]
    },
    {
      "cell_type": "code",
      "source": [
        "df.head(65539)"
      ],
      "metadata": {
        "colab": {
          "base_uri": "https://localhost:8080/",
          "height": 617
        },
        "id": "bzHDYP-nS4Hb",
        "outputId": "098f9998-691b-4788-db3d-d29413566153"
      },
      "execution_count": 7,
      "outputs": [
        {
          "output_type": "execute_result",
          "data": {
            "text/plain": [
              "        stop_date stop_time country_name driver_gender  driver_age_raw  \\\n",
              "0      2020-01-01   0:00:00       Canada             M              59   \n",
              "1      2020-01-01   0:01:00        India             M              35   \n",
              "2      2020-01-01   0:02:00          USA             M              26   \n",
              "3      2020-01-01   0:03:00       Canada             M              26   \n",
              "4      2020-01-01   0:04:00       Canada             M              62   \n",
              "...           ...       ...          ...           ...             ...   \n",
              "65533  2020-02-15  12:13:00        India             F              54   \n",
              "65534  2020-02-15  12:14:00       Canada             F              18   \n",
              "65535  2020-02-15  12:15:00          USA             M              27   \n",
              "65536  2020-02-15  12:16:00       Canada             F              49   \n",
              "65537  2020-02-15  12:17:00          USA             F              72   \n",
              "\n",
              "       driver_age driver_race     violation_raw violation  search_conducted  \\\n",
              "0              19       Asian     Drunk Driving  Speeding              True   \n",
              "1              58       Other             Other     Other             False   \n",
              "2              76       Black  Signal Violation  Speeding             False   \n",
              "3              76       Black          Speeding       DUI              True   \n",
              "4              75       Other          Speeding     Other             False   \n",
              "...           ...         ...               ...       ...               ...   \n",
              "65533          48       Black             Other     Other             False   \n",
              "65534          35    Hispanic          Seatbelt     Other              True   \n",
              "65535          41       Asian          Seatbelt       DUI              True   \n",
              "65536          63       Black          Seatbelt     Other             False   \n",
              "65537          32       Other          Seatbelt  Speeding              True   \n",
              "\n",
              "          search_type stop_outcome  is_arrested stop_duration  \\\n",
              "0      Vehicle Search       Ticket         True     16-30 Min   \n",
              "1      Vehicle Search       Arrest         True     16-30 Min   \n",
              "2               Frisk       Ticket         True     16-30 Min   \n",
              "3               Frisk      Warning        False      0-15 Min   \n",
              "4      Vehicle Search       Arrest         True     16-30 Min   \n",
              "...               ...          ...          ...           ...   \n",
              "65533  Vehicle Search       Arrest         True     16-30 Min   \n",
              "65534  Vehicle Search       Ticket        False     16-30 Min   \n",
              "65535           Frisk       Ticket         True       30+ Min   \n",
              "65536             NaN      Warning         True      0-15 Min   \n",
              "65537             NaN       Ticket         True     16-30 Min   \n",
              "\n",
              "       drugs_related_stop vehicle_number  \n",
              "0                    True     UP76DY3473  \n",
              "1                    True     RJ83PZ4441  \n",
              "2                    True     RJ32OM7264  \n",
              "3                    True     RJ76TI3807  \n",
              "4                   False     WB63BB8305  \n",
              "...                   ...            ...  \n",
              "65533               False     DL56GW6568  \n",
              "65534                True     TN73EO7098  \n",
              "65535                True     GJ33MX8328  \n",
              "65536                True     KA24UZ8488  \n",
              "65537               False     UP89PT2924  \n",
              "\n",
              "[65538 rows x 16 columns]"
            ],
            "text/html": [
              "\n",
              "  <div id=\"df-c70164e2-d77d-4c8f-8f37-25c6043e943f\" class=\"colab-df-container\">\n",
              "    <div>\n",
              "<style scoped>\n",
              "    .dataframe tbody tr th:only-of-type {\n",
              "        vertical-align: middle;\n",
              "    }\n",
              "\n",
              "    .dataframe tbody tr th {\n",
              "        vertical-align: top;\n",
              "    }\n",
              "\n",
              "    .dataframe thead th {\n",
              "        text-align: right;\n",
              "    }\n",
              "</style>\n",
              "<table border=\"1\" class=\"dataframe\">\n",
              "  <thead>\n",
              "    <tr style=\"text-align: right;\">\n",
              "      <th></th>\n",
              "      <th>stop_date</th>\n",
              "      <th>stop_time</th>\n",
              "      <th>country_name</th>\n",
              "      <th>driver_gender</th>\n",
              "      <th>driver_age_raw</th>\n",
              "      <th>driver_age</th>\n",
              "      <th>driver_race</th>\n",
              "      <th>violation_raw</th>\n",
              "      <th>violation</th>\n",
              "      <th>search_conducted</th>\n",
              "      <th>search_type</th>\n",
              "      <th>stop_outcome</th>\n",
              "      <th>is_arrested</th>\n",
              "      <th>stop_duration</th>\n",
              "      <th>drugs_related_stop</th>\n",
              "      <th>vehicle_number</th>\n",
              "    </tr>\n",
              "  </thead>\n",
              "  <tbody>\n",
              "    <tr>\n",
              "      <th>0</th>\n",
              "      <td>2020-01-01</td>\n",
              "      <td>0:00:00</td>\n",
              "      <td>Canada</td>\n",
              "      <td>M</td>\n",
              "      <td>59</td>\n",
              "      <td>19</td>\n",
              "      <td>Asian</td>\n",
              "      <td>Drunk Driving</td>\n",
              "      <td>Speeding</td>\n",
              "      <td>True</td>\n",
              "      <td>Vehicle Search</td>\n",
              "      <td>Ticket</td>\n",
              "      <td>True</td>\n",
              "      <td>16-30 Min</td>\n",
              "      <td>True</td>\n",
              "      <td>UP76DY3473</td>\n",
              "    </tr>\n",
              "    <tr>\n",
              "      <th>1</th>\n",
              "      <td>2020-01-01</td>\n",
              "      <td>0:01:00</td>\n",
              "      <td>India</td>\n",
              "      <td>M</td>\n",
              "      <td>35</td>\n",
              "      <td>58</td>\n",
              "      <td>Other</td>\n",
              "      <td>Other</td>\n",
              "      <td>Other</td>\n",
              "      <td>False</td>\n",
              "      <td>Vehicle Search</td>\n",
              "      <td>Arrest</td>\n",
              "      <td>True</td>\n",
              "      <td>16-30 Min</td>\n",
              "      <td>True</td>\n",
              "      <td>RJ83PZ4441</td>\n",
              "    </tr>\n",
              "    <tr>\n",
              "      <th>2</th>\n",
              "      <td>2020-01-01</td>\n",
              "      <td>0:02:00</td>\n",
              "      <td>USA</td>\n",
              "      <td>M</td>\n",
              "      <td>26</td>\n",
              "      <td>76</td>\n",
              "      <td>Black</td>\n",
              "      <td>Signal Violation</td>\n",
              "      <td>Speeding</td>\n",
              "      <td>False</td>\n",
              "      <td>Frisk</td>\n",
              "      <td>Ticket</td>\n",
              "      <td>True</td>\n",
              "      <td>16-30 Min</td>\n",
              "      <td>True</td>\n",
              "      <td>RJ32OM7264</td>\n",
              "    </tr>\n",
              "    <tr>\n",
              "      <th>3</th>\n",
              "      <td>2020-01-01</td>\n",
              "      <td>0:03:00</td>\n",
              "      <td>Canada</td>\n",
              "      <td>M</td>\n",
              "      <td>26</td>\n",
              "      <td>76</td>\n",
              "      <td>Black</td>\n",
              "      <td>Speeding</td>\n",
              "      <td>DUI</td>\n",
              "      <td>True</td>\n",
              "      <td>Frisk</td>\n",
              "      <td>Warning</td>\n",
              "      <td>False</td>\n",
              "      <td>0-15 Min</td>\n",
              "      <td>True</td>\n",
              "      <td>RJ76TI3807</td>\n",
              "    </tr>\n",
              "    <tr>\n",
              "      <th>4</th>\n",
              "      <td>2020-01-01</td>\n",
              "      <td>0:04:00</td>\n",
              "      <td>Canada</td>\n",
              "      <td>M</td>\n",
              "      <td>62</td>\n",
              "      <td>75</td>\n",
              "      <td>Other</td>\n",
              "      <td>Speeding</td>\n",
              "      <td>Other</td>\n",
              "      <td>False</td>\n",
              "      <td>Vehicle Search</td>\n",
              "      <td>Arrest</td>\n",
              "      <td>True</td>\n",
              "      <td>16-30 Min</td>\n",
              "      <td>False</td>\n",
              "      <td>WB63BB8305</td>\n",
              "    </tr>\n",
              "    <tr>\n",
              "      <th>...</th>\n",
              "      <td>...</td>\n",
              "      <td>...</td>\n",
              "      <td>...</td>\n",
              "      <td>...</td>\n",
              "      <td>...</td>\n",
              "      <td>...</td>\n",
              "      <td>...</td>\n",
              "      <td>...</td>\n",
              "      <td>...</td>\n",
              "      <td>...</td>\n",
              "      <td>...</td>\n",
              "      <td>...</td>\n",
              "      <td>...</td>\n",
              "      <td>...</td>\n",
              "      <td>...</td>\n",
              "      <td>...</td>\n",
              "    </tr>\n",
              "    <tr>\n",
              "      <th>65533</th>\n",
              "      <td>2020-02-15</td>\n",
              "      <td>12:13:00</td>\n",
              "      <td>India</td>\n",
              "      <td>F</td>\n",
              "      <td>54</td>\n",
              "      <td>48</td>\n",
              "      <td>Black</td>\n",
              "      <td>Other</td>\n",
              "      <td>Other</td>\n",
              "      <td>False</td>\n",
              "      <td>Vehicle Search</td>\n",
              "      <td>Arrest</td>\n",
              "      <td>True</td>\n",
              "      <td>16-30 Min</td>\n",
              "      <td>False</td>\n",
              "      <td>DL56GW6568</td>\n",
              "    </tr>\n",
              "    <tr>\n",
              "      <th>65534</th>\n",
              "      <td>2020-02-15</td>\n",
              "      <td>12:14:00</td>\n",
              "      <td>Canada</td>\n",
              "      <td>F</td>\n",
              "      <td>18</td>\n",
              "      <td>35</td>\n",
              "      <td>Hispanic</td>\n",
              "      <td>Seatbelt</td>\n",
              "      <td>Other</td>\n",
              "      <td>True</td>\n",
              "      <td>Vehicle Search</td>\n",
              "      <td>Ticket</td>\n",
              "      <td>False</td>\n",
              "      <td>16-30 Min</td>\n",
              "      <td>True</td>\n",
              "      <td>TN73EO7098</td>\n",
              "    </tr>\n",
              "    <tr>\n",
              "      <th>65535</th>\n",
              "      <td>2020-02-15</td>\n",
              "      <td>12:15:00</td>\n",
              "      <td>USA</td>\n",
              "      <td>M</td>\n",
              "      <td>27</td>\n",
              "      <td>41</td>\n",
              "      <td>Asian</td>\n",
              "      <td>Seatbelt</td>\n",
              "      <td>DUI</td>\n",
              "      <td>True</td>\n",
              "      <td>Frisk</td>\n",
              "      <td>Ticket</td>\n",
              "      <td>True</td>\n",
              "      <td>30+ Min</td>\n",
              "      <td>True</td>\n",
              "      <td>GJ33MX8328</td>\n",
              "    </tr>\n",
              "    <tr>\n",
              "      <th>65536</th>\n",
              "      <td>2020-02-15</td>\n",
              "      <td>12:16:00</td>\n",
              "      <td>Canada</td>\n",
              "      <td>F</td>\n",
              "      <td>49</td>\n",
              "      <td>63</td>\n",
              "      <td>Black</td>\n",
              "      <td>Seatbelt</td>\n",
              "      <td>Other</td>\n",
              "      <td>False</td>\n",
              "      <td>NaN</td>\n",
              "      <td>Warning</td>\n",
              "      <td>True</td>\n",
              "      <td>0-15 Min</td>\n",
              "      <td>True</td>\n",
              "      <td>KA24UZ8488</td>\n",
              "    </tr>\n",
              "    <tr>\n",
              "      <th>65537</th>\n",
              "      <td>2020-02-15</td>\n",
              "      <td>12:17:00</td>\n",
              "      <td>USA</td>\n",
              "      <td>F</td>\n",
              "      <td>72</td>\n",
              "      <td>32</td>\n",
              "      <td>Other</td>\n",
              "      <td>Seatbelt</td>\n",
              "      <td>Speeding</td>\n",
              "      <td>True</td>\n",
              "      <td>NaN</td>\n",
              "      <td>Ticket</td>\n",
              "      <td>True</td>\n",
              "      <td>16-30 Min</td>\n",
              "      <td>False</td>\n",
              "      <td>UP89PT2924</td>\n",
              "    </tr>\n",
              "  </tbody>\n",
              "</table>\n",
              "<p>65538 rows × 16 columns</p>\n",
              "</div>\n",
              "    <div class=\"colab-df-buttons\">\n",
              "\n",
              "  <div class=\"colab-df-container\">\n",
              "    <button class=\"colab-df-convert\" onclick=\"convertToInteractive('df-c70164e2-d77d-4c8f-8f37-25c6043e943f')\"\n",
              "            title=\"Convert this dataframe to an interactive table.\"\n",
              "            style=\"display:none;\">\n",
              "\n",
              "  <svg xmlns=\"http://www.w3.org/2000/svg\" height=\"24px\" viewBox=\"0 -960 960 960\">\n",
              "    <path d=\"M120-120v-720h720v720H120Zm60-500h600v-160H180v160Zm220 220h160v-160H400v160Zm0 220h160v-160H400v160ZM180-400h160v-160H180v160Zm440 0h160v-160H620v160ZM180-180h160v-160H180v160Zm440 0h160v-160H620v160Z\"/>\n",
              "  </svg>\n",
              "    </button>\n",
              "\n",
              "  <style>\n",
              "    .colab-df-container {\n",
              "      display:flex;\n",
              "      gap: 12px;\n",
              "    }\n",
              "\n",
              "    .colab-df-convert {\n",
              "      background-color: #E8F0FE;\n",
              "      border: none;\n",
              "      border-radius: 50%;\n",
              "      cursor: pointer;\n",
              "      display: none;\n",
              "      fill: #1967D2;\n",
              "      height: 32px;\n",
              "      padding: 0 0 0 0;\n",
              "      width: 32px;\n",
              "    }\n",
              "\n",
              "    .colab-df-convert:hover {\n",
              "      background-color: #E2EBFA;\n",
              "      box-shadow: 0px 1px 2px rgba(60, 64, 67, 0.3), 0px 1px 3px 1px rgba(60, 64, 67, 0.15);\n",
              "      fill: #174EA6;\n",
              "    }\n",
              "\n",
              "    .colab-df-buttons div {\n",
              "      margin-bottom: 4px;\n",
              "    }\n",
              "\n",
              "    [theme=dark] .colab-df-convert {\n",
              "      background-color: #3B4455;\n",
              "      fill: #D2E3FC;\n",
              "    }\n",
              "\n",
              "    [theme=dark] .colab-df-convert:hover {\n",
              "      background-color: #434B5C;\n",
              "      box-shadow: 0px 1px 3px 1px rgba(0, 0, 0, 0.15);\n",
              "      filter: drop-shadow(0px 1px 2px rgba(0, 0, 0, 0.3));\n",
              "      fill: #FFFFFF;\n",
              "    }\n",
              "  </style>\n",
              "\n",
              "    <script>\n",
              "      const buttonEl =\n",
              "        document.querySelector('#df-c70164e2-d77d-4c8f-8f37-25c6043e943f button.colab-df-convert');\n",
              "      buttonEl.style.display =\n",
              "        google.colab.kernel.accessAllowed ? 'block' : 'none';\n",
              "\n",
              "      async function convertToInteractive(key) {\n",
              "        const element = document.querySelector('#df-c70164e2-d77d-4c8f-8f37-25c6043e943f');\n",
              "        const dataTable =\n",
              "          await google.colab.kernel.invokeFunction('convertToInteractive',\n",
              "                                                    [key], {});\n",
              "        if (!dataTable) return;\n",
              "\n",
              "        const docLinkHtml = 'Like what you see? Visit the ' +\n",
              "          '<a target=\"_blank\" href=https://colab.research.google.com/notebooks/data_table.ipynb>data table notebook</a>'\n",
              "          + ' to learn more about interactive tables.';\n",
              "        element.innerHTML = '';\n",
              "        dataTable['output_type'] = 'display_data';\n",
              "        await google.colab.output.renderOutput(dataTable, element);\n",
              "        const docLink = document.createElement('div');\n",
              "        docLink.innerHTML = docLinkHtml;\n",
              "        element.appendChild(docLink);\n",
              "      }\n",
              "    </script>\n",
              "  </div>\n",
              "\n",
              "\n",
              "    <div id=\"df-c966101e-b9d1-4f09-ae56-2ab202ddf927\">\n",
              "      <button class=\"colab-df-quickchart\" onclick=\"quickchart('df-c966101e-b9d1-4f09-ae56-2ab202ddf927')\"\n",
              "                title=\"Suggest charts\"\n",
              "                style=\"display:none;\">\n",
              "\n",
              "<svg xmlns=\"http://www.w3.org/2000/svg\" height=\"24px\"viewBox=\"0 0 24 24\"\n",
              "     width=\"24px\">\n",
              "    <g>\n",
              "        <path d=\"M19 3H5c-1.1 0-2 .9-2 2v14c0 1.1.9 2 2 2h14c1.1 0 2-.9 2-2V5c0-1.1-.9-2-2-2zM9 17H7v-7h2v7zm4 0h-2V7h2v10zm4 0h-2v-4h2v4z\"/>\n",
              "    </g>\n",
              "</svg>\n",
              "      </button>\n",
              "\n",
              "<style>\n",
              "  .colab-df-quickchart {\n",
              "      --bg-color: #E8F0FE;\n",
              "      --fill-color: #1967D2;\n",
              "      --hover-bg-color: #E2EBFA;\n",
              "      --hover-fill-color: #174EA6;\n",
              "      --disabled-fill-color: #AAA;\n",
              "      --disabled-bg-color: #DDD;\n",
              "  }\n",
              "\n",
              "  [theme=dark] .colab-df-quickchart {\n",
              "      --bg-color: #3B4455;\n",
              "      --fill-color: #D2E3FC;\n",
              "      --hover-bg-color: #434B5C;\n",
              "      --hover-fill-color: #FFFFFF;\n",
              "      --disabled-bg-color: #3B4455;\n",
              "      --disabled-fill-color: #666;\n",
              "  }\n",
              "\n",
              "  .colab-df-quickchart {\n",
              "    background-color: var(--bg-color);\n",
              "    border: none;\n",
              "    border-radius: 50%;\n",
              "    cursor: pointer;\n",
              "    display: none;\n",
              "    fill: var(--fill-color);\n",
              "    height: 32px;\n",
              "    padding: 0;\n",
              "    width: 32px;\n",
              "  }\n",
              "\n",
              "  .colab-df-quickchart:hover {\n",
              "    background-color: var(--hover-bg-color);\n",
              "    box-shadow: 0 1px 2px rgba(60, 64, 67, 0.3), 0 1px 3px 1px rgba(60, 64, 67, 0.15);\n",
              "    fill: var(--button-hover-fill-color);\n",
              "  }\n",
              "\n",
              "  .colab-df-quickchart-complete:disabled,\n",
              "  .colab-df-quickchart-complete:disabled:hover {\n",
              "    background-color: var(--disabled-bg-color);\n",
              "    fill: var(--disabled-fill-color);\n",
              "    box-shadow: none;\n",
              "  }\n",
              "\n",
              "  .colab-df-spinner {\n",
              "    border: 2px solid var(--fill-color);\n",
              "    border-color: transparent;\n",
              "    border-bottom-color: var(--fill-color);\n",
              "    animation:\n",
              "      spin 1s steps(1) infinite;\n",
              "  }\n",
              "\n",
              "  @keyframes spin {\n",
              "    0% {\n",
              "      border-color: transparent;\n",
              "      border-bottom-color: var(--fill-color);\n",
              "      border-left-color: var(--fill-color);\n",
              "    }\n",
              "    20% {\n",
              "      border-color: transparent;\n",
              "      border-left-color: var(--fill-color);\n",
              "      border-top-color: var(--fill-color);\n",
              "    }\n",
              "    30% {\n",
              "      border-color: transparent;\n",
              "      border-left-color: var(--fill-color);\n",
              "      border-top-color: var(--fill-color);\n",
              "      border-right-color: var(--fill-color);\n",
              "    }\n",
              "    40% {\n",
              "      border-color: transparent;\n",
              "      border-right-color: var(--fill-color);\n",
              "      border-top-color: var(--fill-color);\n",
              "    }\n",
              "    60% {\n",
              "      border-color: transparent;\n",
              "      border-right-color: var(--fill-color);\n",
              "    }\n",
              "    80% {\n",
              "      border-color: transparent;\n",
              "      border-right-color: var(--fill-color);\n",
              "      border-bottom-color: var(--fill-color);\n",
              "    }\n",
              "    90% {\n",
              "      border-color: transparent;\n",
              "      border-bottom-color: var(--fill-color);\n",
              "    }\n",
              "  }\n",
              "</style>\n",
              "\n",
              "      <script>\n",
              "        async function quickchart(key) {\n",
              "          const quickchartButtonEl =\n",
              "            document.querySelector('#' + key + ' button');\n",
              "          quickchartButtonEl.disabled = true;  // To prevent multiple clicks.\n",
              "          quickchartButtonEl.classList.add('colab-df-spinner');\n",
              "          try {\n",
              "            const charts = await google.colab.kernel.invokeFunction(\n",
              "                'suggestCharts', [key], {});\n",
              "          } catch (error) {\n",
              "            console.error('Error during call to suggestCharts:', error);\n",
              "          }\n",
              "          quickchartButtonEl.classList.remove('colab-df-spinner');\n",
              "          quickchartButtonEl.classList.add('colab-df-quickchart-complete');\n",
              "        }\n",
              "        (() => {\n",
              "          let quickchartButtonEl =\n",
              "            document.querySelector('#df-c966101e-b9d1-4f09-ae56-2ab202ddf927 button');\n",
              "          quickchartButtonEl.style.display =\n",
              "            google.colab.kernel.accessAllowed ? 'block' : 'none';\n",
              "        })();\n",
              "      </script>\n",
              "    </div>\n",
              "\n",
              "    </div>\n",
              "  </div>\n"
            ],
            "application/vnd.google.colaboratory.intrinsic+json": {
              "type": "dataframe",
              "variable_name": "df",
              "summary": "{\n  \"name\": \"df\",\n  \"rows\": 65538,\n  \"fields\": [\n    {\n      \"column\": \"stop_date\",\n      \"properties\": {\n        \"dtype\": \"object\",\n        \"num_unique_values\": 46,\n        \"samples\": [\n          \"2020-02-09\",\n          \"2020-01-26\",\n          \"2020-01-27\"\n        ],\n        \"semantic_type\": \"\",\n        \"description\": \"\"\n      }\n    },\n    {\n      \"column\": \"stop_time\",\n      \"properties\": {\n        \"dtype\": \"object\",\n        \"num_unique_values\": 1440,\n        \"samples\": [\n          \"2:48:00\",\n          \"10:05:00\",\n          \"9:08:00\"\n        ],\n        \"semantic_type\": \"\",\n        \"description\": \"\"\n      }\n    },\n    {\n      \"column\": \"country_name\",\n      \"properties\": {\n        \"dtype\": \"category\",\n        \"num_unique_values\": 3,\n        \"samples\": [\n          \"Canada\",\n          \"India\",\n          \"USA\"\n        ],\n        \"semantic_type\": \"\",\n        \"description\": \"\"\n      }\n    },\n    {\n      \"column\": \"driver_gender\",\n      \"properties\": {\n        \"dtype\": \"category\",\n        \"num_unique_values\": 2,\n        \"samples\": [\n          \"F\",\n          \"M\"\n        ],\n        \"semantic_type\": \"\",\n        \"description\": \"\"\n      }\n    },\n    {\n      \"column\": \"driver_age_raw\",\n      \"properties\": {\n        \"dtype\": \"number\",\n        \"std\": 18,\n        \"min\": 18,\n        \"max\": 80,\n        \"num_unique_values\": 63,\n        \"samples\": [\n          78,\n          45\n        ],\n        \"semantic_type\": \"\",\n        \"description\": \"\"\n      }\n    },\n    {\n      \"column\": \"driver_age\",\n      \"properties\": {\n        \"dtype\": \"number\",\n        \"std\": 18,\n        \"min\": 18,\n        \"max\": 80,\n        \"num_unique_values\": 63,\n        \"samples\": [\n          52,\n          33\n        ],\n        \"semantic_type\": \"\",\n        \"description\": \"\"\n      }\n    },\n    {\n      \"column\": \"driver_race\",\n      \"properties\": {\n        \"dtype\": \"category\",\n        \"num_unique_values\": 5,\n        \"samples\": [\n          \"Other\",\n          \"Hispanic\"\n        ],\n        \"semantic_type\": \"\",\n        \"description\": \"\"\n      }\n    },\n    {\n      \"column\": \"violation_raw\",\n      \"properties\": {\n        \"dtype\": \"category\",\n        \"num_unique_values\": 5,\n        \"samples\": [\n          \"Other\",\n          \"Seatbelt\"\n        ],\n        \"semantic_type\": \"\",\n        \"description\": \"\"\n      }\n    },\n    {\n      \"column\": \"violation\",\n      \"properties\": {\n        \"dtype\": \"category\",\n        \"num_unique_values\": 5,\n        \"samples\": [\n          \"Other\",\n          \"Signal\"\n        ],\n        \"semantic_type\": \"\",\n        \"description\": \"\"\n      }\n    },\n    {\n      \"column\": \"search_conducted\",\n      \"properties\": {\n        \"dtype\": \"boolean\",\n        \"num_unique_values\": 2,\n        \"samples\": [\n          false,\n          true\n        ],\n        \"semantic_type\": \"\",\n        \"description\": \"\"\n      }\n    },\n    {\n      \"column\": \"search_type\",\n      \"properties\": {\n        \"dtype\": \"category\",\n        \"num_unique_values\": 2,\n        \"samples\": [\n          \"Frisk\",\n          \"Vehicle Search\"\n        ],\n        \"semantic_type\": \"\",\n        \"description\": \"\"\n      }\n    },\n    {\n      \"column\": \"stop_outcome\",\n      \"properties\": {\n        \"dtype\": \"category\",\n        \"num_unique_values\": 3,\n        \"samples\": [\n          \"Ticket\",\n          \"Arrest\"\n        ],\n        \"semantic_type\": \"\",\n        \"description\": \"\"\n      }\n    },\n    {\n      \"column\": \"is_arrested\",\n      \"properties\": {\n        \"dtype\": \"boolean\",\n        \"num_unique_values\": 2,\n        \"samples\": [\n          false,\n          true\n        ],\n        \"semantic_type\": \"\",\n        \"description\": \"\"\n      }\n    },\n    {\n      \"column\": \"stop_duration\",\n      \"properties\": {\n        \"dtype\": \"category\",\n        \"num_unique_values\": 3,\n        \"samples\": [\n          \"16-30 Min\",\n          \"0-15 Min\"\n        ],\n        \"semantic_type\": \"\",\n        \"description\": \"\"\n      }\n    },\n    {\n      \"column\": \"drugs_related_stop\",\n      \"properties\": {\n        \"dtype\": \"boolean\",\n        \"num_unique_values\": 2,\n        \"samples\": [\n          false,\n          true\n        ],\n        \"semantic_type\": \"\",\n        \"description\": \"\"\n      }\n    },\n    {\n      \"column\": \"vehicle_number\",\n      \"properties\": {\n        \"dtype\": \"string\",\n        \"num_unique_values\": 65538,\n        \"samples\": [\n          \"MH36TO4531\",\n          \"DL37QX8279\"\n        ],\n        \"semantic_type\": \"\",\n        \"description\": \"\"\n      }\n    }\n  ]\n}"
            }
          },
          "metadata": {},
          "execution_count": 7
        }
      ]
    },
    {
      "cell_type": "code",
      "source": [],
      "metadata": {
        "id": "P6-79I_uS4FS"
      },
      "execution_count": null,
      "outputs": []
    },
    {
      "cell_type": "code",
      "source": [],
      "metadata": {
        "id": "skWeib3zS4CY"
      },
      "execution_count": null,
      "outputs": []
    },
    {
      "cell_type": "code",
      "source": [],
      "metadata": {
        "id": "Dct63GhGS4Aq"
      },
      "execution_count": null,
      "outputs": []
    }
  ]
}